{
 "cells": [
  {
   "cell_type": "markdown",
   "metadata": {
    "id": "sIfNaMOxgFyK"
   },
   "source": [
    "## Исследование данных о российском кинопрокате\n",
    "\n"
   ]
  },
  {
   "cell_type": "markdown",
   "metadata": {},
   "source": [
    "**Заказчик проекта:** Министерство культуры РФ\\\n",
    "\\\n",
    "**Задача проекта:** изучить рынок российского кинопроката и выявить текущие тренды. Уделить внимание фильмам, которые получили государственную поддержку. Попробовать ответить на вопрос, насколько такие фильмы интересны зрителю."
   ]
  },
  {
   "cell_type": "markdown",
   "metadata": {},
   "source": [
    "Таблица `mkrf_movies` содержит информацию из реестра прокатных удостоверений. У одного фильма может быть несколько прокатных удостоверений.\\\n",
    "`title` — название фильма;\\\n",
    "`puNumber` — номер прокатного удостоверения;\\\n",
    "`show_start_date` — дата премьеры фильма;\\\n",
    "`type` — тип фильма;\\\n",
    "`film_studio` — студия-производитель;\\\n",
    "`production_country` — страна-производитель;\\\n",
    "`director` — режиссёр;\\\n",
    "`producer` — продюсер;\\\n",
    "`age_restriction` — возрастная категория;\\\n",
    "`refundable_support` — объём возвратных средств государственной поддержки;\\\n",
    "`nonrefundable_support` — объём невозвратных средств государственной поддержки;\\\n",
    "`financing_source` — источник государственного финансирования;\\\n",
    "`budget` — общий бюджет фильма;\\\n",
    "`ratings` — рейтинг фильма на КиноПоиске;\\\n",
    "`genres` — жанр фильма.\\\n",
    "Cтолбец `budget` уже включает в себя полный объём государственной поддержки. Данные в этом столбце указаны только для тех фильмов, которые получили государственную поддержку.\\\n",
    "Таблица `mkrf_shows` содержит сведения о показах фильмов в российских кинотеатрах.\\\n",
    "`puNumber` — номер прокатного удостоверения;\\\n",
    "`box_office` — сборы в рублях."
   ]
  },
  {
   "cell_type": "markdown",
   "metadata": {
    "id": "3bSlkCsbgFyL"
   },
   "source": [
    "### Шаг 1. Открыть файлы с данными и объединить их в один датафрейм. "
   ]
  },
  {
   "cell_type": "code",
   "execution_count": 1,
   "metadata": {},
   "outputs": [],
   "source": [
    "import pandas as pd\n",
    "import matplotlib.pyplot as plt\n",
    "import sys\n",
    "import numpy\n",
    "\n",
    "numpy.set_printoptions(threshold=sys.maxsize)\n",
    "pd.set_option('display.max_columns', 50)\n",
    "pd.set_option('display.float_format', '{:,.2f}'.format)"
   ]
  },
  {
   "cell_type": "code",
   "execution_count": 6,
   "metadata": {
    "id": "dw87FlzMgFyM"
   },
   "outputs": [
    {
     "data": {
      "text/html": [
       "<div>\n",
       "<style scoped>\n",
       "    .dataframe tbody tr th:only-of-type {\n",
       "        vertical-align: middle;\n",
       "    }\n",
       "\n",
       "    .dataframe tbody tr th {\n",
       "        vertical-align: top;\n",
       "    }\n",
       "\n",
       "    .dataframe thead th {\n",
       "        text-align: right;\n",
       "    }\n",
       "</style>\n",
       "<table border=\"1\" class=\"dataframe\">\n",
       "  <thead>\n",
       "    <tr style=\"text-align: right;\">\n",
       "      <th></th>\n",
       "      <th>title</th>\n",
       "      <th>puNumber</th>\n",
       "      <th>show_start_date</th>\n",
       "      <th>type</th>\n",
       "      <th>film_studio</th>\n",
       "      <th>production_country</th>\n",
       "      <th>director</th>\n",
       "      <th>producer</th>\n",
       "      <th>age_restriction</th>\n",
       "      <th>refundable_support</th>\n",
       "      <th>nonrefundable_support</th>\n",
       "      <th>budget</th>\n",
       "      <th>financing_source</th>\n",
       "      <th>ratings</th>\n",
       "      <th>genres</th>\n",
       "    </tr>\n",
       "  </thead>\n",
       "  <tbody>\n",
       "    <tr>\n",
       "      <th>0</th>\n",
       "      <td>Открытый простор</td>\n",
       "      <td>221048915</td>\n",
       "      <td>2015-11-27T12:00:00.000Z</td>\n",
       "      <td>Художественный</td>\n",
       "      <td>Тачстоун Пикчерз, Кобальт Пикчерз, Бикон Пикче...</td>\n",
       "      <td>США</td>\n",
       "      <td>Кевин Костнер</td>\n",
       "      <td>Дэвид Валдес, Кевин Костнер, Джейк Эбертс</td>\n",
       "      <td>«18+» - запрещено для детей</td>\n",
       "      <td>NaN</td>\n",
       "      <td>NaN</td>\n",
       "      <td>NaN</td>\n",
       "      <td>NaN</td>\n",
       "      <td>7.2</td>\n",
       "      <td>боевик,драма,мелодрама</td>\n",
       "    </tr>\n",
       "    <tr>\n",
       "      <th>1</th>\n",
       "      <td>Особо важное задание</td>\n",
       "      <td>111013716</td>\n",
       "      <td>2016-09-13T12:00:00.000Z</td>\n",
       "      <td>Художественный</td>\n",
       "      <td>Киностудия \"Мосфильм\"</td>\n",
       "      <td>СССР</td>\n",
       "      <td>Е.Матвеев</td>\n",
       "      <td>NaN</td>\n",
       "      <td>«6+» - для детей старше 6 лет</td>\n",
       "      <td>NaN</td>\n",
       "      <td>NaN</td>\n",
       "      <td>NaN</td>\n",
       "      <td>NaN</td>\n",
       "      <td>6.6</td>\n",
       "      <td>драма,военный</td>\n",
       "    </tr>\n",
       "    <tr>\n",
       "      <th>2</th>\n",
       "      <td>Особо опасен</td>\n",
       "      <td>221038416</td>\n",
       "      <td>2016-10-10T12:00:00.000Z</td>\n",
       "      <td>Художественный</td>\n",
       "      <td>Юниверсал Пикчерз, Кикстарт Продакшнз, Марк Пл...</td>\n",
       "      <td>США</td>\n",
       "      <td>Тимур Бекмамбетов</td>\n",
       "      <td>Джим Лемли, Джейсон Нетер, Марк Е.Платт, Яйн Смит</td>\n",
       "      <td>«18+» - запрещено для детей</td>\n",
       "      <td>NaN</td>\n",
       "      <td>NaN</td>\n",
       "      <td>NaN</td>\n",
       "      <td>NaN</td>\n",
       "      <td>6.8</td>\n",
       "      <td>фантастика,боевик,триллер</td>\n",
       "    </tr>\n",
       "    <tr>\n",
       "      <th>3</th>\n",
       "      <td>Особо опасен</td>\n",
       "      <td>221026916</td>\n",
       "      <td>2016-06-10T12:00:00.000Z</td>\n",
       "      <td>Художественный</td>\n",
       "      <td>Юниверсал Пикчерз, Кикстарт Продакшнз, Марк Пл...</td>\n",
       "      <td>США</td>\n",
       "      <td>Тимур Бекмамбетов</td>\n",
       "      <td>Джим Лемли, Джейсон Нетер, Марк Е.Платт, Яйн Смит</td>\n",
       "      <td>«18+» - запрещено для детей</td>\n",
       "      <td>NaN</td>\n",
       "      <td>NaN</td>\n",
       "      <td>NaN</td>\n",
       "      <td>NaN</td>\n",
       "      <td>6.8</td>\n",
       "      <td>фантастика,боевик,триллер</td>\n",
       "    </tr>\n",
       "    <tr>\n",
       "      <th>4</th>\n",
       "      <td>Особо опасен</td>\n",
       "      <td>221030815</td>\n",
       "      <td>2015-07-29T12:00:00.000Z</td>\n",
       "      <td>Художественный</td>\n",
       "      <td>Юниверсал Пикчерз, Кикстарт Продакшнз, Марк Пл...</td>\n",
       "      <td>США</td>\n",
       "      <td>Тимур Бекмамбетов</td>\n",
       "      <td>Джим Лемли, Джейсон Нетер, Марк Е.Платт, Яйн Смит</td>\n",
       "      <td>«18+» - запрещено для детей</td>\n",
       "      <td>NaN</td>\n",
       "      <td>NaN</td>\n",
       "      <td>NaN</td>\n",
       "      <td>NaN</td>\n",
       "      <td>6.8</td>\n",
       "      <td>фантастика,боевик,триллер</td>\n",
       "    </tr>\n",
       "  </tbody>\n",
       "</table>\n",
       "</div>"
      ],
      "text/plain": [
       "                  title   puNumber           show_start_date            type  \\\n",
       "0      Открытый простор  221048915  2015-11-27T12:00:00.000Z  Художественный   \n",
       "1  Особо важное задание  111013716  2016-09-13T12:00:00.000Z  Художественный   \n",
       "2          Особо опасен  221038416  2016-10-10T12:00:00.000Z  Художественный   \n",
       "3          Особо опасен  221026916  2016-06-10T12:00:00.000Z  Художественный   \n",
       "4          Особо опасен  221030815  2015-07-29T12:00:00.000Z  Художественный   \n",
       "\n",
       "                                         film_studio production_country  \\\n",
       "0  Тачстоун Пикчерз, Кобальт Пикчерз, Бикон Пикче...                США   \n",
       "1                              Киностудия \"Мосфильм\"               СССР   \n",
       "2  Юниверсал Пикчерз, Кикстарт Продакшнз, Марк Пл...                США   \n",
       "3  Юниверсал Пикчерз, Кикстарт Продакшнз, Марк Пл...                США   \n",
       "4  Юниверсал Пикчерз, Кикстарт Продакшнз, Марк Пл...                США   \n",
       "\n",
       "            director                                           producer  \\\n",
       "0      Кевин Костнер          Дэвид Валдес, Кевин Костнер, Джейк Эбертс   \n",
       "1          Е.Матвеев                                                NaN   \n",
       "2  Тимур Бекмамбетов  Джим Лемли, Джейсон Нетер, Марк Е.Платт, Яйн Смит   \n",
       "3  Тимур Бекмамбетов  Джим Лемли, Джейсон Нетер, Марк Е.Платт, Яйн Смит   \n",
       "4  Тимур Бекмамбетов  Джим Лемли, Джейсон Нетер, Марк Е.Платт, Яйн Смит   \n",
       "\n",
       "                 age_restriction  refundable_support  nonrefundable_support  \\\n",
       "0    «18+» - запрещено для детей                 NaN                    NaN   \n",
       "1  «6+» - для детей старше 6 лет                 NaN                    NaN   \n",
       "2    «18+» - запрещено для детей                 NaN                    NaN   \n",
       "3    «18+» - запрещено для детей                 NaN                    NaN   \n",
       "4    «18+» - запрещено для детей                 NaN                    NaN   \n",
       "\n",
       "   budget financing_source ratings                     genres  \n",
       "0     NaN              NaN     7.2     боевик,драма,мелодрама  \n",
       "1     NaN              NaN     6.6              драма,военный  \n",
       "2     NaN              NaN     6.8  фантастика,боевик,триллер  \n",
       "3     NaN              NaN     6.8  фантастика,боевик,триллер  \n",
       "4     NaN              NaN     6.8  фантастика,боевик,триллер  "
      ]
     },
     "metadata": {},
     "output_type": "display_data"
    }
   ],
   "source": [
    "df1 = pd.read_csv(r'C:\\Users\\2011\\practicum\\01-minkult-films/minkult-films-dataset.csv')\n",
    "display (df1.head(5))"
   ]
  },
  {
   "cell_type": "code",
   "execution_count": 7,
   "metadata": {},
   "outputs": [
    {
     "data": {
      "text/html": [
       "<div>\n",
       "<style scoped>\n",
       "    .dataframe tbody tr th:only-of-type {\n",
       "        vertical-align: middle;\n",
       "    }\n",
       "\n",
       "    .dataframe tbody tr th {\n",
       "        vertical-align: top;\n",
       "    }\n",
       "\n",
       "    .dataframe thead th {\n",
       "        text-align: right;\n",
       "    }\n",
       "</style>\n",
       "<table border=\"1\" class=\"dataframe\">\n",
       "  <thead>\n",
       "    <tr style=\"text-align: right;\">\n",
       "      <th></th>\n",
       "      <th>puNumber</th>\n",
       "      <th>box_office</th>\n",
       "    </tr>\n",
       "  </thead>\n",
       "  <tbody>\n",
       "    <tr>\n",
       "      <th>0</th>\n",
       "      <td>111000113</td>\n",
       "      <td>2,450.00</td>\n",
       "    </tr>\n",
       "    <tr>\n",
       "      <th>1</th>\n",
       "      <td>111000115</td>\n",
       "      <td>61,040.00</td>\n",
       "    </tr>\n",
       "    <tr>\n",
       "      <th>2</th>\n",
       "      <td>111000116</td>\n",
       "      <td>153,030,013.40</td>\n",
       "    </tr>\n",
       "    <tr>\n",
       "      <th>3</th>\n",
       "      <td>111000117</td>\n",
       "      <td>12,260,956.00</td>\n",
       "    </tr>\n",
       "    <tr>\n",
       "      <th>4</th>\n",
       "      <td>111000118</td>\n",
       "      <td>163,684,057.79</td>\n",
       "    </tr>\n",
       "    <tr>\n",
       "      <th>...</th>\n",
       "      <td>...</td>\n",
       "      <td>...</td>\n",
       "    </tr>\n",
       "    <tr>\n",
       "      <th>3153</th>\n",
       "      <td>224014814</td>\n",
       "      <td>1,530.00</td>\n",
       "    </tr>\n",
       "    <tr>\n",
       "      <th>3154</th>\n",
       "      <td>224021411</td>\n",
       "      <td>9,270.00</td>\n",
       "    </tr>\n",
       "    <tr>\n",
       "      <th>3155</th>\n",
       "      <td>224022410</td>\n",
       "      <td>400.00</td>\n",
       "    </tr>\n",
       "    <tr>\n",
       "      <th>3156</th>\n",
       "      <td>224023210</td>\n",
       "      <td>360.00</td>\n",
       "    </tr>\n",
       "    <tr>\n",
       "      <th>3157</th>\n",
       "      <td>224026410</td>\n",
       "      <td>400.00</td>\n",
       "    </tr>\n",
       "  </tbody>\n",
       "</table>\n",
       "<p>3158 rows × 2 columns</p>\n",
       "</div>"
      ],
      "text/plain": [
       "       puNumber     box_office\n",
       "0     111000113       2,450.00\n",
       "1     111000115      61,040.00\n",
       "2     111000116 153,030,013.40\n",
       "3     111000117  12,260,956.00\n",
       "4     111000118 163,684,057.79\n",
       "...         ...            ...\n",
       "3153  224014814       1,530.00\n",
       "3154  224021411       9,270.00\n",
       "3155  224022410         400.00\n",
       "3156  224023210         360.00\n",
       "3157  224026410         400.00\n",
       "\n",
       "[3158 rows x 2 columns]"
      ]
     },
     "metadata": {},
     "output_type": "display_data"
    }
   ],
   "source": [
    "df2 = pd.read_csv(r'C:\\Users\\2011\\practicum\\01-minkult-films/minkult-films-dataset-2.csv')\n",
    "display (df2)"
   ]
  },
  {
   "cell_type": "code",
   "execution_count": 4,
   "metadata": {},
   "outputs": [
    {
     "name": "stdout",
     "output_type": "stream",
     "text": [
      "<class 'pandas.core.frame.DataFrame'>\n",
      "RangeIndex: 7486 entries, 0 to 7485\n",
      "Data columns (total 15 columns):\n",
      " #   Column                 Non-Null Count  Dtype  \n",
      "---  ------                 --------------  -----  \n",
      " 0   title                  7486 non-null   object \n",
      " 1   puNumber               7486 non-null   object \n",
      " 2   show_start_date        7486 non-null   object \n",
      " 3   type                   7486 non-null   object \n",
      " 4   film_studio            7468 non-null   object \n",
      " 5   production_country     7484 non-null   object \n",
      " 6   director               7477 non-null   object \n",
      " 7   producer               6918 non-null   object \n",
      " 8   age_restriction        7486 non-null   object \n",
      " 9   refundable_support     332 non-null    float64\n",
      " 10  nonrefundable_support  332 non-null    float64\n",
      " 11  budget                 332 non-null    float64\n",
      " 12  financing_source       332 non-null    object \n",
      " 13  ratings                6519 non-null   object \n",
      " 14  genres                 6510 non-null   object \n",
      "dtypes: float64(3), object(12)\n",
      "memory usage: 877.4+ KB\n"
     ]
    }
   ],
   "source": [
    "df1.info()"
   ]
  },
  {
   "cell_type": "code",
   "execution_count": 5,
   "metadata": {},
   "outputs": [
    {
     "name": "stdout",
     "output_type": "stream",
     "text": [
      "<class 'pandas.core.frame.DataFrame'>\n",
      "RangeIndex: 3158 entries, 0 to 3157\n",
      "Data columns (total 2 columns):\n",
      " #   Column      Non-Null Count  Dtype  \n",
      "---  ------      --------------  -----  \n",
      " 0   puNumber    3158 non-null   int64  \n",
      " 1   box_office  3158 non-null   float64\n",
      "dtypes: float64(1), int64(1)\n",
      "memory usage: 49.5 KB\n"
     ]
    }
   ],
   "source": [
    "df2.info()"
   ]
  },
  {
   "cell_type": "markdown",
   "metadata": {},
   "source": [
    "**Планирую объединить датафреймы по столбцу puNumber, но тип данных в столбце в разных датафреймах отличается. В  df тип данных столбца puNumber - object.\\\n",
    "Привожу этот тип данных к int64.\\\n",
    "При попытке преобразовать данные столбца в int64 у меня вылезла ошибка. Вместо номера прокатного удостоверения было записано 'нет'.**"
   ]
  },
  {
   "cell_type": "markdown",
   "metadata": {},
   "source": [
    "**Выясняю в скольки строчках у меня отсутствует номер прокатного удостоверения.**"
   ]
  },
  {
   "cell_type": "code",
   "execution_count": 6,
   "metadata": {},
   "outputs": [
    {
     "data": {
      "text/html": [
       "<div>\n",
       "<style scoped>\n",
       "    .dataframe tbody tr th:only-of-type {\n",
       "        vertical-align: middle;\n",
       "    }\n",
       "\n",
       "    .dataframe tbody tr th {\n",
       "        vertical-align: top;\n",
       "    }\n",
       "\n",
       "    .dataframe thead th {\n",
       "        text-align: right;\n",
       "    }\n",
       "</style>\n",
       "<table border=\"1\" class=\"dataframe\">\n",
       "  <thead>\n",
       "    <tr style=\"text-align: right;\">\n",
       "      <th></th>\n",
       "      <th>title</th>\n",
       "      <th>puNumber</th>\n",
       "      <th>show_start_date</th>\n",
       "      <th>type</th>\n",
       "      <th>film_studio</th>\n",
       "      <th>production_country</th>\n",
       "      <th>director</th>\n",
       "      <th>producer</th>\n",
       "      <th>age_restriction</th>\n",
       "      <th>refundable_support</th>\n",
       "      <th>nonrefundable_support</th>\n",
       "      <th>budget</th>\n",
       "      <th>financing_source</th>\n",
       "      <th>ratings</th>\n",
       "      <th>genres</th>\n",
       "    </tr>\n",
       "  </thead>\n",
       "  <tbody>\n",
       "    <tr>\n",
       "      <th>1797</th>\n",
       "      <td>Курбан-роман. (История с жертвой)</td>\n",
       "      <td>нет</td>\n",
       "      <td>2014-05-15T12:00:00.000Z</td>\n",
       "      <td>Художественный</td>\n",
       "      <td>ФОНД \"ИННОВАЦИЯ\"</td>\n",
       "      <td>Россия</td>\n",
       "      <td>С.Юзеев</td>\n",
       "      <td>М.Галицкая</td>\n",
       "      <td>«12+» - для детей старше 12 лет</td>\n",
       "      <td>NaN</td>\n",
       "      <td>NaN</td>\n",
       "      <td>NaN</td>\n",
       "      <td>NaN</td>\n",
       "      <td>NaN</td>\n",
       "      <td>NaN</td>\n",
       "    </tr>\n",
       "  </tbody>\n",
       "</table>\n",
       "</div>"
      ],
      "text/plain": [
       "                                  title puNumber           show_start_date  \\\n",
       "1797  Курбан-роман. (История с жертвой)      нет  2014-05-15T12:00:00.000Z   \n",
       "\n",
       "                type       film_studio production_country director  \\\n",
       "1797  Художественный  ФОНД \"ИННОВАЦИЯ\"             Россия  С.Юзеев   \n",
       "\n",
       "        producer                  age_restriction  refundable_support  \\\n",
       "1797  М.Галицкая  «12+» - для детей старше 12 лет                 NaN   \n",
       "\n",
       "      nonrefundable_support  budget financing_source ratings genres  \n",
       "1797                    NaN     NaN              NaN     NaN    NaN  "
      ]
     },
     "metadata": {},
     "output_type": "display_data"
    },
    {
     "data": {
      "text/html": [
       "<div>\n",
       "<style scoped>\n",
       "    .dataframe tbody tr th:only-of-type {\n",
       "        vertical-align: middle;\n",
       "    }\n",
       "\n",
       "    .dataframe tbody tr th {\n",
       "        vertical-align: top;\n",
       "    }\n",
       "\n",
       "    .dataframe thead th {\n",
       "        text-align: right;\n",
       "    }\n",
       "</style>\n",
       "<table border=\"1\" class=\"dataframe\">\n",
       "  <thead>\n",
       "    <tr style=\"text-align: right;\">\n",
       "      <th></th>\n",
       "      <th>title</th>\n",
       "      <th>puNumber</th>\n",
       "      <th>show_start_date</th>\n",
       "      <th>type</th>\n",
       "      <th>film_studio</th>\n",
       "      <th>production_country</th>\n",
       "      <th>director</th>\n",
       "      <th>producer</th>\n",
       "      <th>age_restriction</th>\n",
       "      <th>refundable_support</th>\n",
       "      <th>nonrefundable_support</th>\n",
       "      <th>budget</th>\n",
       "      <th>financing_source</th>\n",
       "      <th>ratings</th>\n",
       "      <th>genres</th>\n",
       "    </tr>\n",
       "  </thead>\n",
       "  <tbody>\n",
       "    <tr>\n",
       "      <th>1797</th>\n",
       "      <td>Курбан-роман. (История с жертвой)</td>\n",
       "      <td>нет</td>\n",
       "      <td>2014-05-15T12:00:00.000Z</td>\n",
       "      <td>Художественный</td>\n",
       "      <td>ФОНД \"ИННОВАЦИЯ\"</td>\n",
       "      <td>Россия</td>\n",
       "      <td>С.Юзеев</td>\n",
       "      <td>М.Галицкая</td>\n",
       "      <td>«12+» - для детей старше 12 лет</td>\n",
       "      <td>NaN</td>\n",
       "      <td>NaN</td>\n",
       "      <td>NaN</td>\n",
       "      <td>NaN</td>\n",
       "      <td>NaN</td>\n",
       "      <td>NaN</td>\n",
       "    </tr>\n",
       "  </tbody>\n",
       "</table>\n",
       "</div>"
      ],
      "text/plain": [
       "                                  title puNumber           show_start_date  \\\n",
       "1797  Курбан-роман. (История с жертвой)      нет  2014-05-15T12:00:00.000Z   \n",
       "\n",
       "                type       film_studio production_country director  \\\n",
       "1797  Художественный  ФОНД \"ИННОВАЦИЯ\"             Россия  С.Юзеев   \n",
       "\n",
       "        producer                  age_restriction  refundable_support  \\\n",
       "1797  М.Галицкая  «12+» - для детей старше 12 лет                 NaN   \n",
       "\n",
       "      nonrefundable_support  budget financing_source ratings genres  \n",
       "1797                    NaN     NaN              NaN     NaN    NaN  "
      ]
     },
     "metadata": {},
     "output_type": "display_data"
    }
   ],
   "source": [
    "df1[df1['puNumber']=='нет']['puNumber'].count()\n",
    "display (df1.query('puNumber==\"нет\"'))\n",
    "display (df1.query('title==\"Курбан-роман. (История с жертвой)\"'))"
   ]
  },
  {
   "cell_type": "markdown",
   "metadata": {},
   "source": [
    "**Заменяю недостающий номер прокатного удостоверения нулём**"
   ]
  },
  {
   "cell_type": "code",
   "execution_count": 7,
   "metadata": {},
   "outputs": [
    {
     "data": {
      "text/html": [
       "<div>\n",
       "<style scoped>\n",
       "    .dataframe tbody tr th:only-of-type {\n",
       "        vertical-align: middle;\n",
       "    }\n",
       "\n",
       "    .dataframe tbody tr th {\n",
       "        vertical-align: top;\n",
       "    }\n",
       "\n",
       "    .dataframe thead th {\n",
       "        text-align: right;\n",
       "    }\n",
       "</style>\n",
       "<table border=\"1\" class=\"dataframe\">\n",
       "  <thead>\n",
       "    <tr style=\"text-align: right;\">\n",
       "      <th></th>\n",
       "      <th>title</th>\n",
       "      <th>puNumber</th>\n",
       "      <th>show_start_date</th>\n",
       "      <th>type</th>\n",
       "      <th>film_studio</th>\n",
       "      <th>production_country</th>\n",
       "      <th>director</th>\n",
       "      <th>producer</th>\n",
       "      <th>age_restriction</th>\n",
       "      <th>refundable_support</th>\n",
       "      <th>nonrefundable_support</th>\n",
       "      <th>budget</th>\n",
       "      <th>financing_source</th>\n",
       "      <th>ratings</th>\n",
       "      <th>genres</th>\n",
       "    </tr>\n",
       "  </thead>\n",
       "  <tbody>\n",
       "    <tr>\n",
       "      <th>1797</th>\n",
       "      <td>Курбан-роман. (История с жертвой)</td>\n",
       "      <td>0</td>\n",
       "      <td>2014-05-15T12:00:00.000Z</td>\n",
       "      <td>Художественный</td>\n",
       "      <td>ФОНД \"ИННОВАЦИЯ\"</td>\n",
       "      <td>Россия</td>\n",
       "      <td>С.Юзеев</td>\n",
       "      <td>М.Галицкая</td>\n",
       "      <td>«12+» - для детей старше 12 лет</td>\n",
       "      <td>NaN</td>\n",
       "      <td>NaN</td>\n",
       "      <td>NaN</td>\n",
       "      <td>NaN</td>\n",
       "      <td>NaN</td>\n",
       "      <td>NaN</td>\n",
       "    </tr>\n",
       "  </tbody>\n",
       "</table>\n",
       "</div>"
      ],
      "text/plain": [
       "                                  title puNumber           show_start_date  \\\n",
       "1797  Курбан-роман. (История с жертвой)        0  2014-05-15T12:00:00.000Z   \n",
       "\n",
       "                type       film_studio production_country director  \\\n",
       "1797  Художественный  ФОНД \"ИННОВАЦИЯ\"             Россия  С.Юзеев   \n",
       "\n",
       "        producer                  age_restriction  refundable_support  \\\n",
       "1797  М.Галицкая  «12+» - для детей старше 12 лет                 NaN   \n",
       "\n",
       "      nonrefundable_support  budget financing_source ratings genres  \n",
       "1797                    NaN     NaN              NaN     NaN    NaN  "
      ]
     },
     "metadata": {},
     "output_type": "display_data"
    }
   ],
   "source": [
    "df1.loc[df1['puNumber']=='нет', 'puNumber'] = 0\n",
    "display (df1.query('title==\"Курбан-роман. (История с жертвой)\"'))"
   ]
  },
  {
   "cell_type": "markdown",
   "metadata": {},
   "source": [
    "**Теперь я могу поменять тип столбца 'puNumber' на 'int64'**"
   ]
  },
  {
   "cell_type": "code",
   "execution_count": 8,
   "metadata": {},
   "outputs": [
    {
     "name": "stdout",
     "output_type": "stream",
     "text": [
      "<class 'pandas.core.frame.DataFrame'>\n",
      "RangeIndex: 7486 entries, 0 to 7485\n",
      "Data columns (total 15 columns):\n",
      " #   Column                 Non-Null Count  Dtype  \n",
      "---  ------                 --------------  -----  \n",
      " 0   title                  7486 non-null   object \n",
      " 1   puNumber               7486 non-null   int64  \n",
      " 2   show_start_date        7486 non-null   object \n",
      " 3   type                   7486 non-null   object \n",
      " 4   film_studio            7468 non-null   object \n",
      " 5   production_country     7484 non-null   object \n",
      " 6   director               7477 non-null   object \n",
      " 7   producer               6918 non-null   object \n",
      " 8   age_restriction        7486 non-null   object \n",
      " 9   refundable_support     332 non-null    float64\n",
      " 10  nonrefundable_support  332 non-null    float64\n",
      " 11  budget                 332 non-null    float64\n",
      " 12  financing_source       332 non-null    object \n",
      " 13  ratings                6519 non-null   object \n",
      " 14  genres                 6510 non-null   object \n",
      "dtypes: float64(3), int64(1), object(11)\n",
      "memory usage: 877.4+ KB\n"
     ]
    }
   ],
   "source": [
    "df1['puNumber'] = df1['puNumber'].astype('int64')\n",
    "df1.info()"
   ]
  },
  {
   "cell_type": "markdown",
   "metadata": {},
   "source": [
    "**Объединяю датафреймы df1 и df2.**"
   ]
  },
  {
   "cell_type": "code",
   "execution_count": 9,
   "metadata": {},
   "outputs": [
    {
     "name": "stdout",
     "output_type": "stream",
     "text": [
      "<class 'pandas.core.frame.DataFrame'>\n",
      "Int64Index: 7486 entries, 0 to 7485\n",
      "Data columns (total 16 columns):\n",
      " #   Column                 Non-Null Count  Dtype  \n",
      "---  ------                 --------------  -----  \n",
      " 0   title                  7486 non-null   object \n",
      " 1   puNumber               7486 non-null   int64  \n",
      " 2   show_start_date        7486 non-null   object \n",
      " 3   type                   7486 non-null   object \n",
      " 4   film_studio            7468 non-null   object \n",
      " 5   production_country     7484 non-null   object \n",
      " 6   director               7477 non-null   object \n",
      " 7   producer               6918 non-null   object \n",
      " 8   age_restriction        7486 non-null   object \n",
      " 9   refundable_support     332 non-null    float64\n",
      " 10  nonrefundable_support  332 non-null    float64\n",
      " 11  budget                 332 non-null    float64\n",
      " 12  financing_source       332 non-null    object \n",
      " 13  ratings                6519 non-null   object \n",
      " 14  genres                 6510 non-null   object \n",
      " 15  box_office             3158 non-null   float64\n",
      "dtypes: float64(4), int64(1), object(11)\n",
      "memory usage: 994.2+ KB\n"
     ]
    },
    {
     "data": {
      "text/html": [
       "<div>\n",
       "<style scoped>\n",
       "    .dataframe tbody tr th:only-of-type {\n",
       "        vertical-align: middle;\n",
       "    }\n",
       "\n",
       "    .dataframe tbody tr th {\n",
       "        vertical-align: top;\n",
       "    }\n",
       "\n",
       "    .dataframe thead th {\n",
       "        text-align: right;\n",
       "    }\n",
       "</style>\n",
       "<table border=\"1\" class=\"dataframe\">\n",
       "  <thead>\n",
       "    <tr style=\"text-align: right;\">\n",
       "      <th></th>\n",
       "      <th>title</th>\n",
       "      <th>puNumber</th>\n",
       "      <th>show_start_date</th>\n",
       "      <th>type</th>\n",
       "      <th>film_studio</th>\n",
       "      <th>production_country</th>\n",
       "      <th>director</th>\n",
       "      <th>producer</th>\n",
       "      <th>age_restriction</th>\n",
       "      <th>refundable_support</th>\n",
       "      <th>nonrefundable_support</th>\n",
       "      <th>budget</th>\n",
       "      <th>financing_source</th>\n",
       "      <th>ratings</th>\n",
       "      <th>genres</th>\n",
       "      <th>box_office</th>\n",
       "    </tr>\n",
       "  </thead>\n",
       "  <tbody>\n",
       "    <tr>\n",
       "      <th>0</th>\n",
       "      <td>Открытый простор</td>\n",
       "      <td>221048915</td>\n",
       "      <td>2015-11-27T12:00:00.000Z</td>\n",
       "      <td>Художественный</td>\n",
       "      <td>Тачстоун Пикчерз, Кобальт Пикчерз, Бикон Пикче...</td>\n",
       "      <td>США</td>\n",
       "      <td>Кевин Костнер</td>\n",
       "      <td>Дэвид Валдес, Кевин Костнер, Джейк Эбертс</td>\n",
       "      <td>«18+» - запрещено для детей</td>\n",
       "      <td>NaN</td>\n",
       "      <td>NaN</td>\n",
       "      <td>NaN</td>\n",
       "      <td>NaN</td>\n",
       "      <td>7.2</td>\n",
       "      <td>боевик,драма,мелодрама</td>\n",
       "      <td>NaN</td>\n",
       "    </tr>\n",
       "    <tr>\n",
       "      <th>1</th>\n",
       "      <td>Особо важное задание</td>\n",
       "      <td>111013716</td>\n",
       "      <td>2016-09-13T12:00:00.000Z</td>\n",
       "      <td>Художественный</td>\n",
       "      <td>Киностудия \"Мосфильм\"</td>\n",
       "      <td>СССР</td>\n",
       "      <td>Е.Матвеев</td>\n",
       "      <td>NaN</td>\n",
       "      <td>«6+» - для детей старше 6 лет</td>\n",
       "      <td>NaN</td>\n",
       "      <td>NaN</td>\n",
       "      <td>NaN</td>\n",
       "      <td>NaN</td>\n",
       "      <td>6.6</td>\n",
       "      <td>драма,военный</td>\n",
       "      <td>NaN</td>\n",
       "    </tr>\n",
       "    <tr>\n",
       "      <th>2</th>\n",
       "      <td>Особо опасен</td>\n",
       "      <td>221038416</td>\n",
       "      <td>2016-10-10T12:00:00.000Z</td>\n",
       "      <td>Художественный</td>\n",
       "      <td>Юниверсал Пикчерз, Кикстарт Продакшнз, Марк Пл...</td>\n",
       "      <td>США</td>\n",
       "      <td>Тимур Бекмамбетов</td>\n",
       "      <td>Джим Лемли, Джейсон Нетер, Марк Е.Платт, Яйн Смит</td>\n",
       "      <td>«18+» - запрещено для детей</td>\n",
       "      <td>NaN</td>\n",
       "      <td>NaN</td>\n",
       "      <td>NaN</td>\n",
       "      <td>NaN</td>\n",
       "      <td>6.8</td>\n",
       "      <td>фантастика,боевик,триллер</td>\n",
       "      <td>NaN</td>\n",
       "    </tr>\n",
       "    <tr>\n",
       "      <th>3</th>\n",
       "      <td>Особо опасен</td>\n",
       "      <td>221026916</td>\n",
       "      <td>2016-06-10T12:00:00.000Z</td>\n",
       "      <td>Художественный</td>\n",
       "      <td>Юниверсал Пикчерз, Кикстарт Продакшнз, Марк Пл...</td>\n",
       "      <td>США</td>\n",
       "      <td>Тимур Бекмамбетов</td>\n",
       "      <td>Джим Лемли, Джейсон Нетер, Марк Е.Платт, Яйн Смит</td>\n",
       "      <td>«18+» - запрещено для детей</td>\n",
       "      <td>NaN</td>\n",
       "      <td>NaN</td>\n",
       "      <td>NaN</td>\n",
       "      <td>NaN</td>\n",
       "      <td>6.8</td>\n",
       "      <td>фантастика,боевик,триллер</td>\n",
       "      <td>NaN</td>\n",
       "    </tr>\n",
       "    <tr>\n",
       "      <th>4</th>\n",
       "      <td>Особо опасен</td>\n",
       "      <td>221030815</td>\n",
       "      <td>2015-07-29T12:00:00.000Z</td>\n",
       "      <td>Художественный</td>\n",
       "      <td>Юниверсал Пикчерз, Кикстарт Продакшнз, Марк Пл...</td>\n",
       "      <td>США</td>\n",
       "      <td>Тимур Бекмамбетов</td>\n",
       "      <td>Джим Лемли, Джейсон Нетер, Марк Е.Платт, Яйн Смит</td>\n",
       "      <td>«18+» - запрещено для детей</td>\n",
       "      <td>NaN</td>\n",
       "      <td>NaN</td>\n",
       "      <td>NaN</td>\n",
       "      <td>NaN</td>\n",
       "      <td>6.8</td>\n",
       "      <td>фантастика,боевик,триллер</td>\n",
       "      <td>NaN</td>\n",
       "    </tr>\n",
       "  </tbody>\n",
       "</table>\n",
       "</div>"
      ],
      "text/plain": [
       "                  title   puNumber           show_start_date            type  \\\n",
       "0      Открытый простор  221048915  2015-11-27T12:00:00.000Z  Художественный   \n",
       "1  Особо важное задание  111013716  2016-09-13T12:00:00.000Z  Художественный   \n",
       "2          Особо опасен  221038416  2016-10-10T12:00:00.000Z  Художественный   \n",
       "3          Особо опасен  221026916  2016-06-10T12:00:00.000Z  Художественный   \n",
       "4          Особо опасен  221030815  2015-07-29T12:00:00.000Z  Художественный   \n",
       "\n",
       "                                         film_studio production_country  \\\n",
       "0  Тачстоун Пикчерз, Кобальт Пикчерз, Бикон Пикче...                США   \n",
       "1                              Киностудия \"Мосфильм\"               СССР   \n",
       "2  Юниверсал Пикчерз, Кикстарт Продакшнз, Марк Пл...                США   \n",
       "3  Юниверсал Пикчерз, Кикстарт Продакшнз, Марк Пл...                США   \n",
       "4  Юниверсал Пикчерз, Кикстарт Продакшнз, Марк Пл...                США   \n",
       "\n",
       "            director                                           producer  \\\n",
       "0      Кевин Костнер          Дэвид Валдес, Кевин Костнер, Джейк Эбертс   \n",
       "1          Е.Матвеев                                                NaN   \n",
       "2  Тимур Бекмамбетов  Джим Лемли, Джейсон Нетер, Марк Е.Платт, Яйн Смит   \n",
       "3  Тимур Бекмамбетов  Джим Лемли, Джейсон Нетер, Марк Е.Платт, Яйн Смит   \n",
       "4  Тимур Бекмамбетов  Джим Лемли, Джейсон Нетер, Марк Е.Платт, Яйн Смит   \n",
       "\n",
       "                 age_restriction  refundable_support  nonrefundable_support  \\\n",
       "0    «18+» - запрещено для детей                 NaN                    NaN   \n",
       "1  «6+» - для детей старше 6 лет                 NaN                    NaN   \n",
       "2    «18+» - запрещено для детей                 NaN                    NaN   \n",
       "3    «18+» - запрещено для детей                 NaN                    NaN   \n",
       "4    «18+» - запрещено для детей                 NaN                    NaN   \n",
       "\n",
       "   budget financing_source ratings                     genres  box_office  \n",
       "0     NaN              NaN     7.2     боевик,драма,мелодрама         NaN  \n",
       "1     NaN              NaN     6.6              драма,военный         NaN  \n",
       "2     NaN              NaN     6.8  фантастика,боевик,триллер         NaN  \n",
       "3     NaN              NaN     6.8  фантастика,боевик,триллер         NaN  \n",
       "4     NaN              NaN     6.8  фантастика,боевик,триллер         NaN  "
      ]
     },
     "metadata": {},
     "output_type": "display_data"
    }
   ],
   "source": [
    "df = pd.merge(df1, df2, on='puNumber', how='outer')\n",
    "df.info()\n",
    "display (df.head(5))"
   ]
  },
  {
   "cell_type": "markdown",
   "metadata": {
    "id": "KLDGpPG0gFyM"
   },
   "source": [
    "### Шаг 2. Предобработка данных"
   ]
  },
  {
   "cell_type": "markdown",
   "metadata": {
    "id": "ssWwKXsxgFyO"
   },
   "source": [
    "#### Шаг 2.1. Проверьте типы данных\n",
    "\n",
    "- Проверьте типы данных в датафрейме и преобразуйте их там, где это необходимо."
   ]
  },
  {
   "cell_type": "markdown",
   "metadata": {},
   "source": [
    "**Необходимо изменить тип данных в следующих столбцах:\\\n",
    "'show_start_date' из object в datetime\\\n",
    "'rating' в float**"
   ]
  },
  {
   "cell_type": "code",
   "execution_count": 10,
   "metadata": {
    "id": "8MJD_lkngFyP"
   },
   "outputs": [
    {
     "name": "stdout",
     "output_type": "stream",
     "text": [
      "<class 'pandas.core.frame.DataFrame'>\n",
      "Int64Index: 7486 entries, 0 to 7485\n",
      "Data columns (total 16 columns):\n",
      " #   Column                 Non-Null Count  Dtype              \n",
      "---  ------                 --------------  -----              \n",
      " 0   title                  7486 non-null   object             \n",
      " 1   puNumber               7486 non-null   int64              \n",
      " 2   show_start_date        7486 non-null   datetime64[ns, UTC]\n",
      " 3   type                   7486 non-null   object             \n",
      " 4   film_studio            7468 non-null   object             \n",
      " 5   production_country     7484 non-null   object             \n",
      " 6   director               7477 non-null   object             \n",
      " 7   producer               6918 non-null   object             \n",
      " 8   age_restriction        7486 non-null   object             \n",
      " 9   refundable_support     332 non-null    float64            \n",
      " 10  nonrefundable_support  332 non-null    float64            \n",
      " 11  budget                 332 non-null    float64            \n",
      " 12  financing_source       332 non-null    object             \n",
      " 13  ratings                6519 non-null   object             \n",
      " 14  genres                 6510 non-null   object             \n",
      " 15  box_office             3158 non-null   float64            \n",
      "dtypes: datetime64[ns, UTC](1), float64(4), int64(1), object(10)\n",
      "memory usage: 994.2+ KB\n"
     ]
    }
   ],
   "source": [
    "df['show_start_date'] = pd.to_datetime (df['show_start_date'], format='%Y-%m-%dT%H:%M:%S')\n",
    "df.info()"
   ]
  },
  {
   "cell_type": "markdown",
   "metadata": {},
   "source": [
    "**Не удается перевести столбец ratings в формат float. Изучаю подробнее столбец. В столбце я обнаружила рейтинг фильма в процентах. Исправляю это.**"
   ]
  },
  {
   "cell_type": "markdown",
   "metadata": {},
   "source": [
    "- Обнанаружила в столбце \"рейтинг\" значения типа \"99%\". Убираю значек процента и перевожу тип данных столбца в float."
   ]
  },
  {
   "cell_type": "code",
   "execution_count": 11,
   "metadata": {},
   "outputs": [],
   "source": [
    "df['ratings'].unique()\n",
    "df['ratings'] = df['ratings'].str.replace(\"%\", \"\")\n",
    "df['ratings'] = df['ratings'].astype('float')"
   ]
  },
  {
   "cell_type": "markdown",
   "metadata": {},
   "source": [
    "- Ниже пишу функцию, чтобы исправить некорректный рейтинг. Вместо \"99\" и подобных значений пишу \"9.9\""
   ]
  },
  {
   "cell_type": "code",
   "execution_count": 12,
   "metadata": {},
   "outputs": [
    {
     "data": {
      "text/plain": [
       "array([nan, 9.9, 2.8, 9.7, 8.3, 6.4, 9.1, 9.4, 6.2, 7.9, 9. , 1.9, 8.8,\n",
       "       8.9, 9.8])"
      ]
     },
     "execution_count": 12,
     "metadata": {},
     "output_type": "execute_result"
    }
   ],
   "source": [
    "def ratings_percent (row):\n",
    "    if row >10:\n",
    "        row = row/10\n",
    "        return row\n",
    "df['ratings'] = df['ratings'].apply(ratings_percent)\n",
    "df['ratings'].unique()"
   ]
  },
  {
   "cell_type": "markdown",
   "metadata": {},
   "source": [
    "#### Шаг 2.2. Изучите пропуски в датафрейме\n",
    "- Объясните, почему заполнили пропуски определённым образом или почему не стали это делать."
   ]
  },
  {
   "cell_type": "markdown",
   "metadata": {},
   "source": [
    "Начинаю искать пропущенные значения. Вывожу на экран сумму пропусков в каждом столбце."
   ]
  },
  {
   "cell_type": "code",
   "execution_count": 13,
   "metadata": {},
   "outputs": [
    {
     "data": {
      "text/plain": [
       "title                       0\n",
       "puNumber                    0\n",
       "show_start_date             0\n",
       "type                        0\n",
       "film_studio                18\n",
       "production_country          2\n",
       "director                    9\n",
       "producer                  568\n",
       "age_restriction             0\n",
       "refundable_support       7154\n",
       "nonrefundable_support    7154\n",
       "budget                   7154\n",
       "financing_source         7154\n",
       "ratings                  7457\n",
       "genres                    976\n",
       "box_office               4328\n",
       "dtype: int64"
      ]
     },
     "execution_count": 13,
     "metadata": {},
     "output_type": "execute_result"
    }
   ],
   "source": [
    "df.isna().sum()"
   ]
  },
  {
   "cell_type": "markdown",
   "metadata": {},
   "source": [
    "**В столбцах refundable_support, nonrefundable_support, financing_source, box_office пропуски поскольку, это были фильмы без финансовой поддержки государства. Если я заполню пропуски нулями, то данные сильно исказятся в сторону нуля.\\\n",
    "\\\n",
    "Заполняю в столбце \"бюджет\" пропуски нулями.\\\n",
    "\\\n",
    "Ниже я заполнить пропущенные значения нулями, где 0 означает отсутствие господдержки или отсутствие сведений о бюджете**"
   ]
  },
  {
   "cell_type": "code",
   "execution_count": 14,
   "metadata": {},
   "outputs": [],
   "source": [
    "df['budget'] = df['budget'].fillna(0)\n",
    "df['refundable_support'] = df['refundable_support'].fillna(0)\n",
    "df['nonrefundable_support'] = df['nonrefundable_support'].fillna(0)\n",
    "df['financing_source'] = df['financing_source'].fillna(0)\n",
    "df['box_office'] = df['box_office'].fillna(0)"
   ]
  },
  {
   "cell_type": "code",
   "execution_count": 15,
   "metadata": {},
   "outputs": [
    {
     "data": {
      "text/plain": [
       "title                       0\n",
       "puNumber                    0\n",
       "show_start_date             0\n",
       "type                        0\n",
       "film_studio                18\n",
       "production_country          2\n",
       "director                    9\n",
       "producer                  568\n",
       "age_restriction             0\n",
       "refundable_support          0\n",
       "nonrefundable_support       0\n",
       "budget                      0\n",
       "financing_source            0\n",
       "ratings                  7457\n",
       "genres                    976\n",
       "box_office                  0\n",
       "dtype: int64"
      ]
     },
     "execution_count": 15,
     "metadata": {},
     "output_type": "execute_result"
    }
   ],
   "source": [
    "df.isna().sum()"
   ]
  },
  {
   "cell_type": "markdown",
   "metadata": {},
   "source": [
    "**Пропуски в столбцах box_office, refundable_support, nonrefundable_support, budget, financing_source возникли, поскольку изначально были сведения только о части фильмов.\\\n",
    "Пропуски в столбцах film_studio, production_country, director, producer, ratings, genres - возникли, вероятно, из-за человеческого фактора. Данные сведения не были внесены в карточку фильма.\\\n",
    "\\\n",
    "Пропуски в столбцах film_studio, production_country, director, producer, genres - не заполняю. У меня нет этих сведений, я не могу их рассчитать, поэтому оставляю пропусками**"
   ]
  },
  {
   "cell_type": "markdown",
   "metadata": {
    "id": "4c6k1t9ygFyQ"
   },
   "source": [
    "#### Шаг 2.3. Изучите дубликаты в датафрейме\n",
    "- Проверьте, есть ли в данных дубликаты. Опишите причины, которые могли повлиять на появление дублей."
   ]
  },
  {
   "cell_type": "markdown",
   "metadata": {},
   "source": [
    "**Ищу явные дубликаты в данных**"
   ]
  },
  {
   "cell_type": "code",
   "execution_count": 16,
   "metadata": {
    "id": "aKck8RIdgFyQ"
   },
   "outputs": [
    {
     "name": "stdout",
     "output_type": "stream",
     "text": [
      "0\n"
     ]
    }
   ],
   "source": [
    "print (df.duplicated().sum())"
   ]
  },
  {
   "cell_type": "markdown",
   "metadata": {},
   "source": [
    "**Ищу неявные дубликаты в столбце title. Убираю пробелы в начале и конце строки.**"
   ]
  },
  {
   "cell_type": "code",
   "execution_count": 17,
   "metadata": {},
   "outputs": [],
   "source": [
    "#df['title'].unique() #закомментила, потому что вывод получается слишком длинный\n",
    "df['title'] = df['title'].str.strip()"
   ]
  },
  {
   "cell_type": "markdown",
   "metadata": {},
   "source": [
    "**Ищу и исправляю неявные дубликаты в столбце type**"
   ]
  },
  {
   "cell_type": "code",
   "execution_count": 18,
   "metadata": {},
   "outputs": [
    {
     "data": {
      "text/plain": [
       "array(['Художественный', 'Анимационный', 'Прочие', 'Документальный',\n",
       "       'Научно-популярный', 'Музыкально-развлекательный'], dtype=object)"
      ]
     },
     "execution_count": 18,
     "metadata": {},
     "output_type": "execute_result"
    }
   ],
   "source": [
    "df['type'].unique()\n",
    "df['type'] = df['type'].str.replace(\" Художественный\", \"Художественный\")\n",
    "df['type'] = df['type'].str.replace(\" Анимационный\", \"Анимационный\")\n",
    "df['type'].unique()"
   ]
  },
  {
   "cell_type": "markdown",
   "metadata": {},
   "source": [
    "**Ищу неявные дубликаты в столбце film_studio. Убираю пробелы в начале и конце строки.**"
   ]
  },
  {
   "cell_type": "code",
   "execution_count": 19,
   "metadata": {},
   "outputs": [],
   "source": [
    "#df['film_studio'].unique() #закомментила, потому что вывод получается слишком длинный\n",
    "df['film_studio'] = df['film_studio'].str.strip()"
   ]
  },
  {
   "cell_type": "markdown",
   "metadata": {},
   "source": [
    "**Ищу и исправляю неявные дубликаты в столбце production_country**"
   ]
  },
  {
   "cell_type": "code",
   "execution_count": 20,
   "metadata": {},
   "outputs": [
    {
     "data": {
      "text/plain": [
       "array(['США', 'СССР', 'Франция', 'СССР-Венгрия',\n",
       "       'Германия-Великобритания', 'Великобритания-Италия', 'Чехословакия',\n",
       "       'США-Франция-Турция', 'НоваяЗеландия', 'Канада-Франция-Испания',\n",
       "       'США-Германия', 'США-Великобритания', 'Великобритания',\n",
       "       'Франция-Мексика-США', 'Россия-Казахстан-США', 'СССР-Швеция',\n",
       "       'СССР-Франция-Англия-Куба-ГДР', 'Германия',\n",
       "       'Великобритания-США-Германия-КНР', 'СССР-ЧССР-ЗападныйБерлин-ПНР',\n",
       "       'СССР-Италия', 'Гонконг-КНР', 'США-Франция',\n",
       "       'США-Япония-Франция-Великобритания',\n",
       "       'Гонконг-Сингапур-Таиланд-Великобритания', 'США-Канада',\n",
       "       'Франция-Италия-Великобритания-США', 'Франция-США',\n",
       "       'Ирландия-Великобритания-Германия', 'Чехия', 'США-Австралия',\n",
       "       'СССР-Финляндия', 'США-Франция-Великобритания-Австрия',\n",
       "       'США-Бельгия', 'США-Ирландия-Великобритания', 'Великобритания-США',\n",
       "       'Люксембург-Нидерланды-Испания-Великобритания-США-Италия',\n",
       "       'Великобритания-Франция-США', 'НоваяЗеландия-США',\n",
       "       'США-Великобритания-Чехия', 'Канада-Франция-Великобритания',\n",
       "       'Ирландия', 'Великобритания-Германия-США',\n",
       "       'США-Франция-Великобритания', 'Япония', 'СССР-Польша',\n",
       "       'Франция-Испания', 'Канада-Франция', 'Германия-Италия-США',\n",
       "       'Аргентина-Бразилия', 'Дания-Швейцария-Бельгия-Франция',\n",
       "       'США-Испания', 'Германия-США',\n",
       "       'Франция-Австрия-Германия-Италия-США', 'Австрия',\n",
       "       'США-Канада-Германия', 'СССР-Швейцария-Франция',\n",
       "       'Россия-Казахстан', 'Гонконг', 'Италия', 'США-ОАЭ', 'Россия',\n",
       "       'США-Франция-Испания-Великобритания', 'Великобритания-Франция',\n",
       "       'США-Италия-Испания-Аргентина', 'Франция-Великобритания',\n",
       "       'КНР-Гонконг', 'Франция-Италия-Швейцария', 'США-НоваяЗеландия',\n",
       "       'Франция-Бельгия', 'КНР', 'Германия-Великобритания-Австрия',\n",
       "       'Великобритания-Израиль-Франция-Япония-США', 'Швеция', 'Испания',\n",
       "       'Дания', 'Франция-Бельгия-Люксембург', 'США-Индия-ОАЭ',\n",
       "       'Германия-Канада-Великобритания-Швейцария-Франция', 'Мексика-Чили',\n",
       "       'Аргентина', 'Бразилия', 'Чили', 'Австралия', 'Португалия-Франция',\n",
       "       'США-ЮАР', 'Исландия-Ирландия-Германия', 'США-Индонезия',\n",
       "       'ЮжнаяКорея', 'Мексика-Испания-Дания-США', 'Франция-Италия',\n",
       "       'США-Венгрия-Великобритания', 'Бельгия-Франция-Италия',\n",
       "       'Чехия-Германия', 'Германия-Франция', 'США-Нидерланды', 'Украина',\n",
       "       'Великобритания-Германия', 'США-Франция-Испания', 'Италия-Франция',\n",
       "       'Канада', 'Швеция-Франция-Дания', 'Германия-Франция-Польша',\n",
       "       'Франция-Великобритания-Германия',\n",
       "       'США-Бразилия-Франция-Австралия-Великобритания-Германия',\n",
       "       'Германия-Австрия', 'Германия-Италия-Шри-Ланка',\n",
       "       'Великобритания-Испания', 'США-Великобритания-Канада-Швеция',\n",
       "       'БоснияиГерцеговина-Франция-Великобритания-Германия-Словения-Бельгия-Сербия',\n",
       "       'Великобритания-Франция-Италия-США', 'Испания-Франция',\n",
       "       'Великобритания-Австралия-США', 'Норвегия-Швеция-Дания-Германия',\n",
       "       'Норвегия', 'Швейцария', 'Греция-Германия-Франция', 'Норвения',\n",
       "       'ЮжнаяКорея-США', 'Чили-Франция-США', 'Австрия-Германия-Франция',\n",
       "       'Швеция-Дания', 'Великобритания-Франция-Бельгия-Италия',\n",
       "       'Франция-Германия', 'Грузия-Франция-Люксембург',\n",
       "       'США-Франция-Великобритания-Бразилия', 'США-КНР',\n",
       "       'Мексика-Франция', 'США-Германия-Гонконг-Сингапур',\n",
       "       'Финляндия-Австрия-Россия', 'Испания-Куба', 'Великобритания-ЮАР',\n",
       "       'Великобритания-Ирландия', 'Израиль',\n",
       "       'Бразилия-Германия-Порртугалия-Франция', 'Франция-Канада-Бельгия',\n",
       "       'Испания-Канада-Япония', 'Иран', 'Швеция-Куба',\n",
       "       'США-Великобритания-Ирландия', 'Нидерланды', 'Испания-Канада',\n",
       "       'Япония-Великобритания', 'Великобритания-Норвегия-Дания-Германия',\n",
       "       'Финляндия-Франция-Германия',\n",
       "       'Мексика-Франция-Нидерланды-Германия', 'США-Индия',\n",
       "       'США-Великобритания-Индия', 'США-Канада-Бельгия',\n",
       "       'РеспубликаУзбекистан', 'Турция',\n",
       "       'Сербия-Словения-Хорватия-Черногория-Македония', 'Киргизия',\n",
       "       'Германия-Нидерланды-Беларусь-Россия-Латвия', 'Индия',\n",
       "       'Нидерланды-Россия-Германия',\n",
       "       'Великобритания-Нидерланды-Франция-Хорватия', 'Канада-ЮжнаяКорея',\n",
       "       'Великобритания-Польша-КНР-Индия-Норвегия',\n",
       "       'Япония-Франция-США-ЮжнаяКорея-Турция',\n",
       "       'Мексика-Аргентина-Великобритания', 'Израиль-Франция',\n",
       "       'Польша-Португалия-Франция-Великобритания', 'Австралия-США',\n",
       "       'Франция-Люксембург-Бельгия', 'Армения',\n",
       "       'Бельгия-Люксембург-Франция-Швейцария',\n",
       "       'США-Великобритания-Канада', 'Норвегия-Швеция', 'КНР-Гонконг-США',\n",
       "       'США-Сингапур-Малайзия-Индонезия', 'Германия-Россия',\n",
       "       'Япония-Канада', 'Финляндия-Дания-Германия-Ирландия',\n",
       "       'Франция-Люксембург-Германия-Бельгия-Швейцария-Великобритания',\n",
       "       'Канада-США', 'США-Италия-Испания', 'США-Швейцария-Франция',\n",
       "       'Испания-США-Колумбия', 'Канада-ЮАР', 'Франция-Россия',\n",
       "       'Германия-Финляндия-Австралия', 'Дания-Швеция', 'Бельгия',\n",
       "       'Германия-Франция-Австрия', 'Франция-Индия', 'ЮАР', 'Франция-Перу',\n",
       "       'Франция-Канада', 'РеспубликаБеларусь',\n",
       "       'Великобритания-Австрия-Франция-США', 'США-Россия',\n",
       "       'США-ЮжнаяКорея', 'Канада-КНР',\n",
       "       'Дания-Швеция-Италия-Франция-Германия',\n",
       "       'Франция-Италия-Испания-Венгрия', 'Франция-Германия-Бельгия',\n",
       "       'Франция-Великобритания-Чехия', 'Румыния-Франция-Бельгия',\n",
       "       'Болгария-Франция-Изриль',\n",
       "       'Израиль-Германия-Польша-Бельгия-Франция-Люксембург',\n",
       "       'Россия-Германия-Франция-Бельгия', 'Индонезия',\n",
       "       'Франция-Португалия', 'Великобритания-Пуэрто-Рико',\n",
       "       'СССР-ФРГ-ЗападныйБерлин', 'Россия-РеспубликаБеларусь',\n",
       "       'Франция-Австрия', 'Бельгия-Нидерланды',\n",
       "       'Великобритания-США-Индия', 'США-Великобритания-Австралия',\n",
       "       'Канада-Франция-США-ОАЭ-Великобритания', 'США-Австралия-Франция',\n",
       "       'Дания-Франция-Бельгия-Германия-Великобритания',\n",
       "       'Испания-Аргентина', 'Исландия-Финляндия',\n",
       "       'Россия-Польша-Голландия-Словакия', 'Дания-Германия-Швеция',\n",
       "       'ЮжнаяКорея-США-Канада', 'Таиланд', 'США-Мальта',\n",
       "       'Великобритания-Германия-Франция-Кипр-США', 'Мексика',\n",
       "       'США-Украина', 'США-Финляндия-Испания-Великобритания-Франция',\n",
       "       'Австралия-Великобритания',\n",
       "       'США-Канада-Афганистан-Бельгия-Франция',\n",
       "       'США-Великобритания-Германия-НоваяЗеландия-Бельгия-Франция',\n",
       "       'Ирландия-Финляндия-Бельгия-Великобритания-США-Швейцария',\n",
       "       'Малайзия-США', 'Германия-Италия', 'США-Франция-Бельгия-Италия',\n",
       "       'Франция-Ирландия-Швеция', 'Азербайджан-Россия',\n",
       "       'Великобритания-Италия-Швейцария', 'США-Германия-Великобритания',\n",
       "       'Германия-Бельгия-США-Франция', 'США-Китай', 'Чили-Испания',\n",
       "       'Франция-Швейцария', 'Канада-Испания',\n",
       "       'США-Румыния-Великобритания', 'США-Япония', 'США-Россия-Франция',\n",
       "       'Парагвай', 'Германия-Канада', 'США-Канада-Великобритания',\n",
       "       'Финляндия-Канада', 'Уругвай-Мексика-Германия', 'США-Чили',\n",
       "       'Германия-Аргентина-Нидерланды-Чили', 'США-Канада-Индонезия',\n",
       "       'Армения-Казахстан', 'Финляндия', 'Испания-Италия-Франция',\n",
       "       'Бельгия-Испания-Канада-Нидерланды',\n",
       "       'Великобритания-Франция-Швеция-Бельгия',\n",
       "       'Мексика-Эквадор-Канада-США-Франция-Малайзия-Италия-Аргентина-Германия-Индия',\n",
       "       'Франция-Бенльгия', 'Индия-Великобритания',\n",
       "       'Япония-Великобритания-Франция', 'Испания-Уругвай-Аргентина',\n",
       "       'Франция-Италия-Бельгия-Люксембург',\n",
       "       'Франция-Украина-Грузия-Армения', 'Сербия-Германия-Венгрия',\n",
       "       'Франция-Польша', 'Румыния-США', 'Россия-Азербайджан',\n",
       "       'США-Нидерланды-Бельгия-Венгрия-Греция-Канада',\n",
       "       'Германия-Франция-Люксембург', 'Великобритания-США-Франция',\n",
       "       'США-Австралия-Дания', 'Бельгия-Франция', 'США-Мексика',\n",
       "       'Норвегия-Азербайджан-Россия-Колумбия-Великобритания-Венгрия-Румыния-Франция-Грузия',\n",
       "       'СЩА', 'Бразилия-Испания', 'Россия-Франция-Латвия',\n",
       "       'Нидерланды-США-Германия-Канада-Франция-Ирландия-Великобритания',\n",
       "       'Уругвай-Колумбия', 'США-Испания-Болгария', 'Армения-Германия',\n",
       "       'США-Великобритания-Франция-Швеция', 'Австралия-Турция-США',\n",
       "       'Швеция-Германия', 'Польша-Италия-Россия', 'Франция-Бразилия',\n",
       "       'США-Канада-КНР', 'СССР-Венгрия-ЧССР-ГДР',\n",
       "       'Бельгия-Германия-Люксембург', 'Бразилия-США',\n",
       "       'США-Великобритания-Канада-КНР', 'Франция-Чили',\n",
       "       'Франция-США-Великобритания-Колумбия-Бельгия-Россия',\n",
       "       'Дания-Великобритания-ЮАР', 'Россия-США-Канада-Люксембург',\n",
       "       'Россия-РеспубликаКипр', 'Германия-США-Швеция-Франция',\n",
       "       'Великобритания-Германия-Канада-ЮАР', 'Ирландия-Канада',\n",
       "       'Япония-Великобритания-Швейцария-Ирландия-Дания-Франция-Польша-Австралия-Канада',\n",
       "       'Великобритания-Канада', 'Бельгия-США',\n",
       "       'Великобритания-США-Россия', 'Россия-Украина',\n",
       "       'Германия-США-Великобритания-Израиль', 'Канада-Германия',\n",
       "       'США-Ю.Корея', 'Индия-Мексика',\n",
       "       'Великобритания-Франция-РеспубликаКипр-Швейцария-США-Сербия',\n",
       "       'Испания-Аргентина-Индия-США',\n",
       "       'Норвегия-Исландия-США-Великобритания', 'Турция-Германя-Франция',\n",
       "       'Австралия-Германия', 'Мексика-Испания',\n",
       "       'Великобритания-США-Германия-Бельгия', 'США-Чехия-Франция',\n",
       "       'Россия-Италия', 'Норвегия-Дания-Швеция',\n",
       "       'Франция-Швейцария-Германия', 'Грузия-Украина',\n",
       "       'Россия-Эстония-Финляндия-Беларусь', 'США-Франция-ЮАР',\n",
       "       'Великобритания-США-Швейцария',\n",
       "       'Мексика-Нидерланды-Германия-Франция', 'США-Испания-Франция',\n",
       "       'США-Великобритания-КНР', 'США-Франция-Канада',\n",
       "       'Япония-Великобритания-Австрия-Германия-Ю.Корея',\n",
       "       'Великобритания-Ирландия-США', 'Бельгия-Италия-Франция',\n",
       "       'Швейцария-Германия-ЮАР', 'Великобритания-США-Германия',\n",
       "       'Германия-Исландия', 'Испания-США', 'Хорватия',\n",
       "       'Финляндия-Исландия-Швеция', 'Канада-США-Германия-Франция',\n",
       "       'США-Великобритания-Испания', 'Ирландия-Великобритания',\n",
       "       'Аргентина-Испания', 'Австрия-Германия',\n",
       "       'Германия-Швейцария-Франция-ЮжнаяКорея-США', 'Украина-Нидерланды',\n",
       "       'Венгрия-Германия-Швеция',\n",
       "       'Германия-Франция-Польша-Турция-Канада-Италия-Россия',\n",
       "       'СССР-Афганистан', 'СССР-Монголия', 'Россия-Кипр',\n",
       "       'Россия-Грузия-Испания',\n",
       "       'Великобритания-Нидерланды-Германия-Франция-Бельгия-Австрия',\n",
       "       'Испания-Великобритания-Франция', 'Дания-Норвегия-Великобритания',\n",
       "       'Бельгия-Франция-Люксембург',\n",
       "       'Италия-Франция-Швейцария-Великобритания',\n",
       "       'Франция-Бельгия-Великобритания-Испания-Германия-США',\n",
       "       'Швейцария-Израиль-Франция-Великобритания',\n",
       "       'Великобритания-США-Канада-Нидерланды-Франция', 'СССР-Албания',\n",
       "       'Россия-Украина-РеспубликаБеларусь-Литва',\n",
       "       'Финляндия-Великобритания-Германия', 'Россия-Украина-Польша',\n",
       "       'Франция-Италия-Бельгия-КНР',\n",
       "       'Германия-Бельгия-Люксембург-Ирландия', 'КНР-Сингапур',\n",
       "       'Франция-Бельгия-Великобритания-США-Нидерланды-Канада',\n",
       "       'США-Россия-Польша-Германия-ПуэртоРико', 'Франция-Бельгия-Канада',\n",
       "       'Мексика-США', 'США-Гонконг-КНР', 'Греция-Россия',\n",
       "       'Ирландия-Дания-Бельгия-Люксембург-Франция', 'Эстония-Россия',\n",
       "       'Великобритания-Исландия-Испания-Швейцария-США',\n",
       "       'Австралия-Великобритания-Бельгия-Индия',\n",
       "       'Швеция-Германия-Франция-Норвегия',\n",
       "       'Нидерланды-Бельгия-Германия-Ирландия',\n",
       "       'Нидерланды-Великобритания-Бельгия', 'США-Колумбия-Испания',\n",
       "       'Франция-Испания-Бельгия-Панама',\n",
       "       'США-Великобритания-Чехия-Румыния',\n",
       "       'Аргентина-Уругвай-Россия-Германия-Франция-Нидерланды',\n",
       "       'Швеция-Франция-Норвегия-Дания', 'Италия-Франция-Великобритания',\n",
       "       'Венесуэла',\n",
       "       'Великобритания-США-Австралия-Ирландия-Германия-Куба-Канада',\n",
       "       'ЮжнаяКорея-КНР', 'Аргентина-Мексика-Бразилия-Франция-США',\n",
       "       'Швеция-США', 'Франция-Германия-Турция-Катар', 'Франция-Китай',\n",
       "       'Россия-Германия-Великобритания', 'Великобритания-Италия-Испания',\n",
       "       'Италия-Россия', 'Япония-КНР-ЮжнаяКорея', 'Россия-Германия',\n",
       "       'Россия-Ирландия', 'Македония-Франция-Великобритания',\n",
       "       'Франция-Бразилия-Италия', 'Россия-США', 'Армения-Россия',\n",
       "       'Россия-Румыния', 'Грузия-Франция', 'ЮАР-США',\n",
       "       'Великобритания-США-Германия-Канада-Австралия', 'США-Ирландия',\n",
       "       'Германия-Люксембург-Франция', 'Россия-Франция',\n",
       "       'США-Нидерланды-Финляндия-Великобритания-Италия', 'РеспубликаКипр',\n",
       "       'Венгрия', 'Франция-США-Норвегия-Дания',\n",
       "       'Германия-Австрия-Ирландия', 'США-Финляндия',\n",
       "       'Италия-Великобритания', 'Россия-Испания',\n",
       "       'США-Великобритания-Болгария', 'Великобритания-Люксембург',\n",
       "       'Индия-США', 'США-Канада-Россия-Франция-Чили-Ирландия',\n",
       "       'Грузия-Россия',\n",
       "       'Дания-Австрия-Ирландия-Финляндия-Норвегия-Швеция-Нидерланды',\n",
       "       'Грузия', 'Австралия-Ирландия', 'Италия-Аргентина-Словения',\n",
       "       'Испания-Франция-Нидерланды-Германия-Бельгия-Великобритания-Канада',\n",
       "       'Франция-Чехия-Бельгия', 'Великобритания-Франция-Германия-США',\n",
       "       'Ирландия-Великобритания-Франция-США-Германия-Нидерланды',\n",
       "       'США-Канада-Япония-КНР', 'США-Великобритания-Исландия',\n",
       "       'Франция-Германия-Нидерланды',\n",
       "       'Франция-Германия-Швеция-США-Чехия-Словакия-Великобритания-Нидерланды',\n",
       "       'Франция-Канада-Н.Зеландия-США-Нидерланды-Германия-Швеция-Россия',\n",
       "       'Турция-США',\n",
       "       'Великобритания-США-Канада-Бельгия-Нидерланды-Австрия-Германия',\n",
       "       'Израиль-Франция-Германия-Палестина-США-Австрия-Великобритания',\n",
       "       'Аргентина-Франция-Испания', 'СССР-Россия',\n",
       "       'Великобритания-Франция-Италия-Индия-Дания-КНР-Бангладеш-Камбоджа-Гаити-Уганда',\n",
       "       'Италия-Франция-Швейцария', 'Ирландия-Великобритания-Канада',\n",
       "       'Перу', 'США-Норвегия', 'Китай-Гонконг', 'США-Германия-КНР',\n",
       "       'Великобритания-НоваяЗеландия', 'Франция-Дания-Швеция-КНР',\n",
       "       'США-Великобритания-Германия-Бельгия-Дания',\n",
       "       'США-Франция-Канада-Германия-Австралия-Индия', nan,\n",
       "       'СССР-Румыния-Франция', 'СССР-ГДР',\n",
       "       'Великобритания-Франция-Австрия-Швеция', 'Россия-Таджикистан',\n",
       "       'Нидерланды-Бельгия-Болгария', 'Великобритания-Канада-США',\n",
       "       'Франция-Бельгия-Испания', 'Китай-Гонконг-США', 'США-Вьетнам',\n",
       "       'США-Германия-Франция', 'Германия-Франция-Бельгия', 'США-Италия',\n",
       "       'Германия-Дания-Испания-Швеция-Канада-Эстония-Франция',\n",
       "       'КняжествоАндорра-Украина', 'Германия-Люксембург-Бельгия',\n",
       "       'Великобритания-Россия-Украина-США',\n",
       "       'Германия-Бельгия-Люксембург-Норвегия',\n",
       "       'США-Австралия-НоваяЗеландия-Великобритания',\n",
       "       'США-Франция-Канада-Великобритания', 'Испания-Колумбия',\n",
       "       'Великобритания-Чехия-Франция', 'Исландия',\n",
       "       'Великобритания-Франция-Венгрия',\n",
       "       'Россия-Франция-Германия-Бельгия', 'Франция-Македония',\n",
       "       'Нидерланды-Франция-Германия-Бельгия-Швеция-Великобритания',\n",
       "       'Испания-США-Великобритания-Канада', 'РеспубликаКазахстан',\n",
       "       'Франция-Испания-Дания-Венгрия-Швейцария', 'Франция-КНР',\n",
       "       'США-Пуэрто-Рико-Франция', 'Мексика-Тайвань-США',\n",
       "       'Великобритания-Испания-Непал-Индия-Венгрия-Гонконг-Германия-Дания-Бахрейн',\n",
       "       'Великобритания-Аргентина-США-Франция-Россия-Испания', 'КНР-США',\n",
       "       'Италия-США', 'Финляндия-Швеция-Германия', 'Франция-Бельгия-Чехия',\n",
       "       'Франция-Германия-США', 'США-Дания', 'Индия-КНР',\n",
       "       'Чехия-Великобритания-США', 'США-ФРГ-Россия',\n",
       "       'Ирландия-Нидерланды-Франция-США-Великобритания',\n",
       "       'Россия-Грузия-Хорватия-Испания', 'Финляндия-Швеция-Норвегия',\n",
       "       'Сербия-Великобритания-США', 'США-Великобритания-Франция-Гонконг',\n",
       "       'Швейцария-Франция', 'Швейцария-Великобритания', 'ОАЭ-США',\n",
       "       'США-Франция-Германия-Канада-Австралия', 'Германия-Австралия',\n",
       "       'Иран-Франция', 'США-Великобритания-НоваяЗеландия', 'США-Колумбия',\n",
       "       'США-Франция-Ирландия', 'Великобритания-Франция-Бельгия',\n",
       "       'США-Великобритания-Япония', 'США-Франция-Германия',\n",
       "       'Польша-Ирландия', 'Ирландия-Великобритания-Франция-США',\n",
       "       'США-Бельгия-Великобритания', 'СССР-ВНР',\n",
       "       'Испания-Франция-США-Великобритания-Бельгия', 'Франция-Дания-США',\n",
       "       'США-Гонконг', 'Бразилия-К;анада',\n",
       "       'США-Ирландия-Великобритания-Франция', 'Великобритания-США-Канада',\n",
       "       'Польша-Франция', 'Канада-США-Нидерланды-Великобритания-Аргентина',\n",
       "       'Великобритания-Дания', 'Франция-Бельгия-Япония',\n",
       "       'США-Канада-Германия-Франция', 'США-Канада-Франция',\n",
       "       'Германия-Австрия-Франция-Италия', 'США-Германия-Канада',\n",
       "       'Испания-Мексика',\n",
       "       'США-Япония-Канада-Великобритания-Германия-Франция',\n",
       "       'Россия-Украина-Германия',\n",
       "       'Израиль-Франция-Великобритания-Германия', 'Корея',\n",
       "       'Россия-Болгария', 'Германия-Канада-Франция-Бельгия',\n",
       "       'Германия-Кения', 'Франция-Монако', 'Франция-Испания-Швейцария',\n",
       "       'Австрия-Франция-Германия', 'Румыния',\n",
       "       'США-Великобритания-Франция', 'Канада-Великобритания',\n",
       "       'Канада-Бразилия-Япония', 'Германия-Дания-Норвегия',\n",
       "       'Дания-Германия', 'СССР-ГДР-Польша-Италия',\n",
       "       'США-Испания-Франция-Великобритания', 'Китай', 'Мексика-Аргентина',\n",
       "       'Германия-Великобритания-Италия-Испания',\n",
       "       'Франция-Германия-Великобритания', 'Россия-Германия-Швейцария',\n",
       "       'Франция-Австралия', 'Голландия', 'Россия-Белоруссия',\n",
       "       'Франция-Испания-Тайвань', 'США-ЮжнаяКорея-НоваяЗеландия',\n",
       "       'Великобритания-Венгрия', 'Великобритания-Франция-Германия',\n",
       "       'Франция-Германия-Италия', 'Швеция-Финляндия-Франция-Норвегия',\n",
       "       'Германия-Израиль', 'Швеция-Германия-Дания-Норвегия',\n",
       "       'Франция-Гонконг-Ирландия', 'Эстония', 'Литва-Россия-Украина',\n",
       "       'Германия-Италия-Франция', 'Великобритания-Австрия-Германия',\n",
       "       'Испания-Мальта', 'Франция-Россия-Румыния-Италия-Бельгия',\n",
       "       'Россия-Польша', 'США-Аргентина', 'Израиль-США-Франция',\n",
       "       'США-НоваяЗеландия-Япония', 'Франция-Чехия-Великобритания',\n",
       "       'Германия-Франция-Великобритания', 'США-Гонконг-Китай',\n",
       "       'США-Великобритания-Германия', 'США-Канада-Австралия',\n",
       "       'Япония-США-Франция', 'Франция-Испания-Германия',\n",
       "       'США-Хорватия-Босния-Герцеговина',\n",
       "       'Великобритания-Чехия-Франция-Италия', 'США-Германия-Нидерланды',\n",
       "       'Германия-Франция-Канада',\n",
       "       'Франция-Грузия-Германия-Россия-Украина-Бельгия',\n",
       "       'Великобритания-Франция-Италия', 'Франция-Италия-Иран', 'Греция',\n",
       "       'Дания-США', 'США-Германия-Австралия', 'США-Канада-Италия',\n",
       "       'США-Япония-Германия',\n",
       "       'Франция-Великобритания-Багамскиеострова-США',\n",
       "       'Швейцария-Люксембург', 'Швейцария-Австрия', 'Германия-Швейцария',\n",
       "       'Дания-Швеция-Франция-Германия', 'Польша', 'Бразилия-Канада-США',\n",
       "       'Нидерланды-Россия', 'Португалия', 'Франция-Аргентина',\n",
       "       'Швеция-Франция', 'Франция-Украина', 'Германия-Украина-Нидерланды',\n",
       "       'Италия-Швейцария', 'Латвия-Россия',\n",
       "       'Германия-Франция-Великобритания-США', 'Канада-Италия',\n",
       "       'США-ОбъединенныеАрабскиеЭмираты', 'США-Венгрия', 'Малайзия',\n",
       "       'Россия-Германия-Украина', 'США-Австралия-Мексика',\n",
       "       'Литва-Венгрия', 'Германия-Китай', 'Казахстан', 'РеспубликаКорея',\n",
       "       'США-Германия-Франция-Великобритания-Канада',\n",
       "       'Бельгия-Германия-Люксембург-Франция', 'Франция-Греция',\n",
       "       'Италия-Канада', 'США-Италия-Греция',\n",
       "       'Германия-США-Великобритания-Ирландия', 'Германия-Нидерланды-ЮАР',\n",
       "       'США-Япония-Германия-Великобритания-Нидерланды',\n",
       "       'США-Япония-Германия-Великобритания',\n",
       "       'Таиланд-Великобритания-Франция-Германия-Испания-Нидерланды',\n",
       "       'Германия-Италия-Швейцария',\n",
       "       'Дания-Швеция-Великобритания-Франция-Германия-Нидерланды-Норвегия-Финляндия',\n",
       "       'Франция-Великобритания-Нидерланды-Люксембург',\n",
       "       'Нидерланды-Великобритания-Франция-Италия-Япония',\n",
       "       'Великобритания-Нидерланды-Франция-США', 'Канада-Мексика',\n",
       "       'Канада-ЮжнаяКорея-США', 'Великобритания-Франция-Бельгия-США',\n",
       "       'КНР-Канада-США', 'Италия-Франция-Германия',\n",
       "       'Швеция-Германия-Франция-Дания', 'Франция-США-Бельгия',\n",
       "       'Украина-Германия-Латвия-Эстония', 'Австрия-Люксембург',\n",
       "       'Великобритания-КНР', 'Монголия', 'Франция-Дания',\n",
       "       'Швеция-Дания-Финляндия',\n",
       "       'Сингапур-Великобритания-Индонезия-Канада-США',\n",
       "       'США-Германия-Япония', 'Таиланд-США', 'Франция-Нидерланды',\n",
       "       'Великобритания-Румыния',\n",
       "       'Великобритания-Германия-Нидерланды-Дания',\n",
       "       'Франция-Германия-Литва-Нидерланды-Россия', 'США-ЮАР-Гонконг',\n",
       "       'Австралия-Колумбия', 'Великобритания-Польша',\n",
       "       'США-Великобритания-Швеция', 'Франция-Швеция-Дания-Норвегия',\n",
       "       'Болгария-США', 'СССР-ФРГ', 'Бельгия-Нидерланды-Франция',\n",
       "       'Финляндия-Германия', 'Болгария',\n",
       "       'Грузия-Россия-Украина-Хорватия-Германия', 'Франция-Люксембург',\n",
       "       'Франция-Германия-Австрия', 'Норвегия-США', 'Германия-Швеция',\n",
       "       'Дания-Латвия-Россия-США', 'Финляндия-Польша', 'Германия-Бельгия',\n",
       "       'Германия-США-Франция-Испания',\n",
       "       'Бельгия-Германия-Канада-Франция-США-Великобритания',\n",
       "       'Нидерланды-Бельгия-Люксембург', 'Люксембург-Бельгия-Франция',\n",
       "       'Бельгия-Великобритания-США', 'Великобритания-Австралия',\n",
       "       'Исландия-Бельгия',\n",
       "       'Испания-Швейцария-Великобритания-Германия-НоваяЗеландия-Нидерланды-Канада',\n",
       "       'Киргизия-Россия', 'Великобритания-США-Испания',\n",
       "       'Италия-Швейцария-Германия', 'Россия-Армения', 'Китай-Канада-США',\n",
       "       'США-Великобритания-Люксембург',\n",
       "       'Испания-Ирландия-Бельгия-Франция',\n",
       "       'Великобритания-Гонконг-Венгрия-США-Ирландия', 'США-ПуэртоРико',\n",
       "       'Аргентина-Испания-Уругвай', 'Израиль-Германия-Франция-Швейцария',\n",
       "       'Великобритания-Мексика-США', 'Испания-Болгария-США',\n",
       "       'Россия-Словакия-Чехия',\n",
       "       'Швейцария-КНР-США-Россия-РеспубликаКорея-Великобритания',\n",
       "       'Россия-Нидерланды-Финляндия',\n",
       "       'Испания-Бельгия-Франция-Португалия-Великобритания',\n",
       "       'Бразилия-Португалия-Франция', 'Швеция-Норвегия',\n",
       "       'Франция-Польша-Бельгия', 'CША', 'Китай-США',\n",
       "       'Германия-Австрия-Франция', 'Чехия-Словакия-Хорватия',\n",
       "       'Россия-Польша-Финляндия', 'Россия-Латвия-ЧешскаяРеспублика',\n",
       "       'Франция-Великобритания-Камбоджа-США-КНР', 'Чехия-Испания-США',\n",
       "       'Германия-Люксембург-Дания', 'Великобритания-Испания-Германия',\n",
       "       'Дания-Исландия',\n",
       "       'Великобритания-Испания-Италия-Латвия-Франция-Эстония',\n",
       "       'Дания-Швеция-Великобритания-Франция-Германия-Норвегия-Финляндия-Нидерланды-Италия',\n",
       "       'Польша-Франция-Великобритания', 'Дания-Норвегия-Венгрия-Чехия',\n",
       "       'Дания-Франция-Германия-Швеция', 'Великобритания-Швеция-США',\n",
       "       'Канада-Франция-Италия-Швейцария-США',\n",
       "       'США-Великобритания-Германия--Швеция-Канада',\n",
       "       'РеспубликаБеларусь-Германия-США-Россия',\n",
       "       'Италия-Швейцария-Франция-Германия',\n",
       "       'Россия-Франция-Великобритания-Латвия', 'Россия-Беларусь',\n",
       "       'Франция-Испания-Румыния-США-Бельгия', 'Россия-Австрия',\n",
       "       'Ирландия-Великобритания-США',\n",
       "       'Швейцария-Великобритания-Франция-США-Ирландия',\n",
       "       'Мексика-Франция-Германия-Дания-Швеция', 'Нидерланды-Бельгия',\n",
       "       'Швеция-Норвегия-Финляндия-Франция', 'Испания-Франция-Италия',\n",
       "       'Испания-Франция-Греция-Индия-США-Россия-Великобритания',\n",
       "       'Великобритания-Япония-США', 'Дания-Канада-Норвегия-Австралия-США',\n",
       "       'Россия-Германия-Казахстан-Польша-Китай',\n",
       "       'Португалия-Франция-Польша-США', 'США-Канада-Аргентина',\n",
       "       'Ливан-США', 'Япония-США',\n",
       "       'Франция-Россия-Швейцария-Румыния-Венгрия', 'Россия-Сербия',\n",
       "       'США-Болгария-Мексика', 'США-Великобритания-Швейцария-Франция',\n",
       "       'Таиланд-КНР-США',\n",
       "       'Великобритания-Нидерланды-Польша-Швейцария-Франция',\n",
       "       'Ирландия-США', 'Германия-Франция-Великобритания-Польша-США',\n",
       "       'США-Австралия-Индия', 'Великобритания-Израиль',\n",
       "       'Великобритания-Норвегия-Кения-Хорватия',\n",
       "       'США-Бразилия-Великобритания-Канада', 'Австралия-Канада',\n",
       "       'Кения-Германия', 'Колумбия', 'Латвия-Франция',\n",
       "       'Франция-Израиль-Германия', 'Швеция-Франция-Великобритания',\n",
       "       'Бельгия-Люксембург', 'Германия-Бельгия-Великобритания',\n",
       "       'Испания-Франция-Великобритания-Дания-Бельгия-Германия',\n",
       "       'Румыния-ЮАР-Иран-Франция-Канада-Великобритания',\n",
       "       'США-Великобритания-Ирландия-Люксембург', 'РеспубликаАрмения',\n",
       "       'США-Франция-Япония', 'РеспубликаКипр-Россия',\n",
       "       'Дания-Франция-Италия-Бельгия-Нидерланды', 'Россия-Грузия',\n",
       "       'Италия-Германия', 'Норвегия-Швеция-Дания',\n",
       "       'КНР-Индия-Гонконг-США', 'Израиль-Украина',\n",
       "       'США-КНР-Индия-Ю.Корея', 'США-Швеция', 'Россия-Китай',\n",
       "       'Канада-США-Каймановыострова',\n",
       "       'Бразилия-Уругвай-Дания-Норвегия-Чили-Швеция',\n",
       "       'Пуэрто-Рико-Великобритания-США', 'Уругвай-Аргентина-Испания',\n",
       "       'США-Великобритания-Италия-Израиль-Сербия-Индия',\n",
       "       'США-Канада-Франция-Индия', 'Великобритания-Россия-КНР',\n",
       "       'Франция-НоваяЗеландия', 'Канада-США-Норвегия', 'Италия-Испания',\n",
       "       'Испания-Германия-Нидерланды', 'Бразилия-США-КНР',\n",
       "       'Великобритания-Германия-Дания-США', '2019',\n",
       "       'Италия-Фрация-Бразилия-Германия', 'Норвегия-Швеция-Россия',\n",
       "       'Сша-Канада', 'Бельгия-Канада', 'Франция-Финляндия',\n",
       "       'Колумбия-США', 'Норвегия-Нидерланды', 'Италия-Бельгия-Франция',\n",
       "       'Россия-Бельгия-Финляндия', 'Франция-Норвегия',\n",
       "       'Великобритания-ЮжнаяКорея-Канада-США-Индия-Китай-Япония',\n",
       "       'Канада-Норвегия', 'Польша-Франция-Испания-Бразилия-Швеция',\n",
       "       'Австрия-Великобритания-Германия', 'Франция-Сенегал-Бельгия',\n",
       "       'Финляндия-Латвия', 'Пакистан', 'Германия-Франция-США',\n",
       "       'Германия-Великобритания-США', 'КНР-Франция',\n",
       "       'Дания-Норвегия-Швеция-Исландия', 'РеспубликаКипр-США-Россия',\n",
       "       'НоваяЗеландия-КНР',\n",
       "       'Дания-Канада-Швеция-Франция-Германия-Великобритания-США'],\n",
       "      dtype=object)"
      ]
     },
     "execution_count": 20,
     "metadata": {},
     "output_type": "execute_result"
    }
   ],
   "source": [
    "df['production_country'].unique()\n",
    "df['production_country'] = df['production_country'].str.replace(\" \", \"\")\n",
    "df['production_country'] = df['production_country'].str.replace(\",\", \"-\")\n",
    "df['production_country'].unique()"
   ]
  },
  {
   "cell_type": "markdown",
   "metadata": {},
   "source": [
    "**Ищу неявные дубликаты в столбце director. Убираю пробелы в начале и конце строки.**"
   ]
  },
  {
   "cell_type": "code",
   "execution_count": 21,
   "metadata": {},
   "outputs": [],
   "source": [
    "df['director'].unique()\n",
    "df['director'] = df['director'].str.replace('Николас Виндинг Рефн                                                                                                                                                                                                                             ', \"Николас Виндинг Рефн\")\n",
    "df['director'] = df['director'].str.strip()\n",
    "#df['director'].unique()"
   ]
  },
  {
   "cell_type": "markdown",
   "metadata": {},
   "source": [
    "**Ищу неявные дубликаты в столбце producer. Убираю пробелы в начале и конце строки.**"
   ]
  },
  {
   "cell_type": "code",
   "execution_count": 22,
   "metadata": {},
   "outputs": [],
   "source": [
    "#df['producer'].unique()\n",
    "df['producer'] = df['producer'].str.strip()"
   ]
  },
  {
   "cell_type": "markdown",
   "metadata": {},
   "source": [
    "**Ищу неявные дубликаты в столбце genres. Убираю пробелы в начале и конце строки.**"
   ]
  },
  {
   "cell_type": "code",
   "execution_count": 23,
   "metadata": {},
   "outputs": [],
   "source": [
    "#df['genres'].unique()\n",
    "df['genres'] = df['genres'].str.strip()"
   ]
  },
  {
   "cell_type": "code",
   "execution_count": 59,
   "metadata": {},
   "outputs": [
    {
     "data": {
      "text/html": [
       "<div>\n",
       "<style scoped>\n",
       "    .dataframe tbody tr th:only-of-type {\n",
       "        vertical-align: middle;\n",
       "    }\n",
       "\n",
       "    .dataframe tbody tr th {\n",
       "        vertical-align: top;\n",
       "    }\n",
       "\n",
       "    .dataframe thead th {\n",
       "        text-align: right;\n",
       "    }\n",
       "</style>\n",
       "<table border=\"1\" class=\"dataframe\">\n",
       "  <thead>\n",
       "    <tr style=\"text-align: right;\">\n",
       "      <th></th>\n",
       "      <th>title</th>\n",
       "      <th>puNumber</th>\n",
       "      <th>show_start_date</th>\n",
       "      <th>type</th>\n",
       "      <th>film_studio</th>\n",
       "      <th>production_country</th>\n",
       "      <th>director</th>\n",
       "      <th>producer</th>\n",
       "      <th>age_restriction</th>\n",
       "      <th>refundable_support</th>\n",
       "      <th>nonrefundable_support</th>\n",
       "      <th>budget</th>\n",
       "      <th>financing_source</th>\n",
       "      <th>ratings</th>\n",
       "      <th>genres</th>\n",
       "      <th>box_office</th>\n",
       "      <th>year_start</th>\n",
       "      <th>head_genre</th>\n",
       "      <th>head_director</th>\n",
       "      <th>share_support_%</th>\n",
       "      <th>payback_%</th>\n",
       "      <th>sum_support</th>\n",
       "    </tr>\n",
       "  </thead>\n",
       "  <tbody>\n",
       "    <tr>\n",
       "      <th>4638</th>\n",
       "      <td>Как жениться и остаться холостым</td>\n",
       "      <td>221154310</td>\n",
       "      <td>2010-12-17 12:00:00+00:00</td>\n",
       "      <td>Художественный</td>\n",
       "      <td>Ше Вам, Скрипт Ассосье, Тэ Фэ 1 Фильм Продюксь...</td>\n",
       "      <td>Франция</td>\n",
       "      <td>Эрик Лартиго</td>\n",
       "      <td>Амандин Било, Алан Шаба</td>\n",
       "      <td>«16+» - для детей старше 16 лет</td>\n",
       "      <td>0.00</td>\n",
       "      <td>0.00</td>\n",
       "      <td>NaN</td>\n",
       "      <td>0</td>\n",
       "      <td>NaN</td>\n",
       "      <td>мелодрама,комедия</td>\n",
       "      <td>0.00</td>\n",
       "      <td>2010</td>\n",
       "      <td>мелодрама</td>\n",
       "      <td>Эрик Лартиго</td>\n",
       "      <td>NaN</td>\n",
       "      <td>NaN</td>\n",
       "      <td>0.00</td>\n",
       "    </tr>\n",
       "    <tr>\n",
       "      <th>4639</th>\n",
       "      <td>Иоанна - женщина на папском престоле /По роман...</td>\n",
       "      <td>221154310</td>\n",
       "      <td>2010-12-17 12:00:00+00:00</td>\n",
       "      <td>Художественный</td>\n",
       "      <td>Константин Фильм, А Эр Ди Дегето Фильм, Дюне Ф...</td>\n",
       "      <td>Германия-Великобритания-Италия-Испания</td>\n",
       "      <td>Зенке Вортманн</td>\n",
       "      <td>Оливер Бербен, Дорис Д.Хайнце, Фарук Элтан</td>\n",
       "      <td>«16+» - для детей старше 16 лет</td>\n",
       "      <td>0.00</td>\n",
       "      <td>0.00</td>\n",
       "      <td>NaN</td>\n",
       "      <td>0</td>\n",
       "      <td>NaN</td>\n",
       "      <td>драма,мелодрама,история</td>\n",
       "      <td>0.00</td>\n",
       "      <td>2010</td>\n",
       "      <td>драма</td>\n",
       "      <td>Зенке Вортманн</td>\n",
       "      <td>NaN</td>\n",
       "      <td>NaN</td>\n",
       "      <td>0.00</td>\n",
       "    </tr>\n",
       "    <tr>\n",
       "      <th>5067</th>\n",
       "      <td>Анализируй это!</td>\n",
       "      <td>221054410</td>\n",
       "      <td>2010-05-25 12:00:00+00:00</td>\n",
       "      <td>Художественный</td>\n",
       "      <td>Уорнер Бразерс, Вилладж Роудшоу Филмз ЛТД</td>\n",
       "      <td>США-Австралия</td>\n",
       "      <td>ХЭрольд Рэмис</td>\n",
       "      <td>Джейн Розенталь, Пола Уейнстейн</td>\n",
       "      <td>«16+» - для детей старше 16 лет</td>\n",
       "      <td>0.00</td>\n",
       "      <td>0.00</td>\n",
       "      <td>NaN</td>\n",
       "      <td>0</td>\n",
       "      <td>NaN</td>\n",
       "      <td>комедия,криминал</td>\n",
       "      <td>0.00</td>\n",
       "      <td>2010</td>\n",
       "      <td>комедия</td>\n",
       "      <td>ХЭрольд Рэмис</td>\n",
       "      <td>NaN</td>\n",
       "      <td>NaN</td>\n",
       "      <td>0.00</td>\n",
       "    </tr>\n",
       "    <tr>\n",
       "      <th>5068</th>\n",
       "      <td>Анализируй то!</td>\n",
       "      <td>221054410</td>\n",
       "      <td>2010-05-25 12:00:00+00:00</td>\n",
       "      <td>Художественный</td>\n",
       "      <td>Уорнер Бразерс, Виллидж Роадшоу Пикчерз, Эн-Пи...</td>\n",
       "      <td>США</td>\n",
       "      <td>Гарольд Реймис</td>\n",
       "      <td>Джейн Розенталь, Паул Уэйнстейн</td>\n",
       "      <td>«12+» - для детей старше 12 лет</td>\n",
       "      <td>0.00</td>\n",
       "      <td>0.00</td>\n",
       "      <td>NaN</td>\n",
       "      <td>0</td>\n",
       "      <td>NaN</td>\n",
       "      <td>комедия,криминал</td>\n",
       "      <td>0.00</td>\n",
       "      <td>2010</td>\n",
       "      <td>комедия</td>\n",
       "      <td>Гарольд Реймис</td>\n",
       "      <td>NaN</td>\n",
       "      <td>NaN</td>\n",
       "      <td>0.00</td>\n",
       "    </tr>\n",
       "  </tbody>\n",
       "</table>\n",
       "</div>"
      ],
      "text/plain": [
       "                                                  title   puNumber  \\\n",
       "4638                   Как жениться и остаться холостым  221154310   \n",
       "4639  Иоанна - женщина на папском престоле /По роман...  221154310   \n",
       "5067                                    Анализируй это!  221054410   \n",
       "5068                                     Анализируй то!  221054410   \n",
       "\n",
       "               show_start_date            type  \\\n",
       "4638 2010-12-17 12:00:00+00:00  Художественный   \n",
       "4639 2010-12-17 12:00:00+00:00  Художественный   \n",
       "5067 2010-05-25 12:00:00+00:00  Художественный   \n",
       "5068 2010-05-25 12:00:00+00:00  Художественный   \n",
       "\n",
       "                                            film_studio  \\\n",
       "4638  Ше Вам, Скрипт Ассосье, Тэ Фэ 1 Фильм Продюксь...   \n",
       "4639  Константин Фильм, А Эр Ди Дегето Фильм, Дюне Ф...   \n",
       "5067          Уорнер Бразерс, Вилладж Роудшоу Филмз ЛТД   \n",
       "5068  Уорнер Бразерс, Виллидж Роадшоу Пикчерз, Эн-Пи...   \n",
       "\n",
       "                          production_country        director  \\\n",
       "4638                                 Франция    Эрик Лартиго   \n",
       "4639  Германия-Великобритания-Италия-Испания  Зенке Вортманн   \n",
       "5067                           США-Австралия   ХЭрольд Рэмис   \n",
       "5068                                     США  Гарольд Реймис   \n",
       "\n",
       "                                        producer  \\\n",
       "4638                     Амандин Било, Алан Шаба   \n",
       "4639  Оливер Бербен, Дорис Д.Хайнце, Фарук Элтан   \n",
       "5067             Джейн Розенталь, Пола Уейнстейн   \n",
       "5068             Джейн Розенталь, Паул Уэйнстейн   \n",
       "\n",
       "                      age_restriction  refundable_support  \\\n",
       "4638  «16+» - для детей старше 16 лет                0.00   \n",
       "4639  «16+» - для детей старше 16 лет                0.00   \n",
       "5067  «16+» - для детей старше 16 лет                0.00   \n",
       "5068  «12+» - для детей старше 12 лет                0.00   \n",
       "\n",
       "      nonrefundable_support  budget financing_source  ratings  \\\n",
       "4638                   0.00     NaN                0      NaN   \n",
       "4639                   0.00     NaN                0      NaN   \n",
       "5067                   0.00     NaN                0      NaN   \n",
       "5068                   0.00     NaN                0      NaN   \n",
       "\n",
       "                       genres  box_office  year_start head_genre  \\\n",
       "4638        мелодрама,комедия        0.00        2010  мелодрама   \n",
       "4639  драма,мелодрама,история        0.00        2010      драма   \n",
       "5067         комедия,криминал        0.00        2010    комедия   \n",
       "5068         комедия,криминал        0.00        2010    комедия   \n",
       "\n",
       "       head_director  share_support_%  payback_%  sum_support  \n",
       "4638    Эрик Лартиго              NaN        NaN         0.00  \n",
       "4639  Зенке Вортманн              NaN        NaN         0.00  \n",
       "5067   ХЭрольд Рэмис              NaN        NaN         0.00  \n",
       "5068  Гарольд Реймис              NaN        NaN         0.00  "
      ]
     },
     "execution_count": 59,
     "metadata": {},
     "output_type": "execute_result"
    }
   ],
   "source": [
    "#Код ревьюера\n",
    "df[df['puNumber'].duplicated(keep = False)]"
   ]
  },
  {
   "cell_type": "markdown",
   "metadata": {
    "id": "XFSN5lrEgFyR"
   },
   "source": [
    "#### Шаг 2.5. Проверяю количественные значения"
   ]
  },
  {
   "cell_type": "code",
   "execution_count": 24,
   "metadata": {
    "id": "YbzClBxagFyS",
    "scrolled": true
   },
   "outputs": [
    {
     "data": {
      "image/png": "[encoded data removed]",
      "text/plain": [
       "<Figure size 1080x504 with 1 Axes>"
      ]
     },
     "metadata": {
      "needs_background": "light"
     },
     "output_type": "display_data"
    }
   ],
   "source": [
    "df['show_start_date'].hist(figsize=(15, 7), bins=100)\n",
    "None"
   ]
  },
  {
   "cell_type": "markdown",
   "metadata": {},
   "source": [
    "- В столбце 'refundable_support' огромный пик около нуля. Я отсортировала по значениям больше нуля, чтобы рассмотреть остальные значения подробнее"
   ]
  },
  {
   "cell_type": "code",
   "execution_count": 25,
   "metadata": {},
   "outputs": [
    {
     "data": {
      "image/png": "[encoded data removed]",
      "text/plain": [
       "<Figure size 1080x504 with 1 Axes>"
      ]
     },
     "metadata": {
      "needs_background": "light"
     },
     "output_type": "display_data"
    }
   ],
   "source": [
    "df_refundable = df.query('refundable_support > 0')\n",
    "df_refundable['refundable_support'].hist(figsize=(15, 7), bins=100)\n",
    "None"
   ]
  },
  {
   "cell_type": "code",
   "execution_count": 26,
   "metadata": {},
   "outputs": [
    {
     "data": {
      "text/plain": [
       "<AxesSubplot:>"
      ]
     },
     "execution_count": 26,
     "metadata": {},
     "output_type": "execute_result"
    },
    {
     "data": {
      "image/png": "[encoded data removed]",
      "text/plain": [
       "<Figure size 1080x504 with 1 Axes>"
      ]
     },
     "metadata": {
      "needs_background": "light"
     },
     "output_type": "display_data"
    }
   ],
   "source": [
    "df_nonrefundable = df.query ('nonrefundable_support >0')\n",
    "df_nonrefundable['nonrefundable_support'].hist(figsize=(15, 7), bins=100)"
   ]
  },
  {
   "cell_type": "code",
   "execution_count": 27,
   "metadata": {},
   "outputs": [
    {
     "data": {
      "text/plain": [
       "<AxesSubplot:>"
      ]
     },
     "execution_count": 27,
     "metadata": {},
     "output_type": "execute_result"
    },
    {
     "data": {
      "image/png": "[encoded data removed]",
      "text/plain": [
       "<Figure size 1080x504 with 1 Axes>"
      ]
     },
     "metadata": {
      "needs_background": "light"
     },
     "output_type": "display_data"
    }
   ],
   "source": [
    "df_budget = df.query('budget >0')\n",
    "df_budget['budget'].hist(figsize=(15, 7), bins=100)"
   ]
  },
  {
   "cell_type": "code",
   "execution_count": 28,
   "metadata": {},
   "outputs": [
    {
     "data": {
      "text/plain": [
       "<AxesSubplot:>"
      ]
     },
     "execution_count": 28,
     "metadata": {},
     "output_type": "execute_result"
    },
    {
     "data": {
      "image/png": "[encoded data removed]",
      "text/plain": [
       "<Figure size 1080x504 with 1 Axes>"
      ]
     },
     "metadata": {
      "needs_background": "light"
     },
     "output_type": "display_data"
    }
   ],
   "source": [
    "df['ratings'].hist(figsize=(15, 7), bins=100)"
   ]
  },
  {
   "cell_type": "markdown",
   "metadata": {},
   "source": [
    "- В столбце 'box_office' огромный пик около нуля. Я отсортировала по значениям больше нуля, чтобы рассмотреть остальные значения подробнее"
   ]
  },
  {
   "cell_type": "code",
   "execution_count": 29,
   "metadata": {},
   "outputs": [
    {
     "data": {
      "text/plain": [
       "<AxesSubplot:>"
      ]
     },
     "execution_count": 29,
     "metadata": {},
     "output_type": "execute_result"
    },
    {
     "data": {
      "image/png": "[encoded data removed]",
      "text/plain": [
       "<Figure size 1080x504 with 1 Axes>"
      ]
     },
     "metadata": {
      "needs_background": "light"
     },
     "output_type": "display_data"
    }
   ],
   "source": [
    "df['box_office'].hist(figsize=(15, 7), bins=100, range=(100000000,500000000))\n",
    "#df['box_office'].hist(figsize=(15, 7), bins=100)"
   ]
  },
  {
   "cell_type": "markdown",
   "metadata": {},
   "source": [
    "Столбец **show_start_date** указывает на даты премьер фильмов. Больше всего премьер было в 2010 году, а меньше всего - между 2017 и 2018 годами.\\\n",
    "\\\n",
    "Значения столбца **refunduble_support (возвратная поддержка государства)**  колеблются между 5 млн. руб и 75 млн. руб. Есть отдельные выбросы вплоть до 200 млн. руб.\\\n",
    "\\\n",
    "Значения столбца **nonrefundable_support (не возвратная поддержка)** колеблются между 10 млн. руб и 150 млн. руб. с отдельными выбросами вплоть до 400 млн. руб. Это очень странно, что не возвратная поддержка государства больше, чем возвратная. Выглядит как откровенная коррупционная составляющая.\\\n",
    "\\\n",
    "Бюджет большинства проектов в столбце **budget** составляет примерно 50 млн. руб. Бюджет основной массы проектов колеблется между 10 млн. руб. и 500 млн. руб., с отдельными выбросами вплоть до 3 млрд. руб.\\\n",
    "\\\n",
    "Столбец **ratings** не соответствует нормальному распределению Пуассона. Пик на значении рейтинга около 10 баллов. Это выглядит странно. И почему-то практически нет значений в промежутке от 3 до 6 баллов.\\\n",
    "\\\n",
    "В диаграмме столбца **box_office (сборы в рублях)** есть пик на нуле, но это понятно, т.к. большинство значений данного столбца - нули. Где 0 - это отсутствие сведений о бюджете. Чтобы изучить столбец подробнее, я убрала нулевые значения. Основная масса сборов в рублях колеблется в промежутке до 500 млн. руб. с пиком на значении около 125 млн. руб. Есть отдельные выбросы вплоть до 3 млрд. руб."
   ]
  },
  {
   "cell_type": "markdown",
   "metadata": {},
   "source": [
    "**Изучаю подробнее столбец refundable_support**"
   ]
  },
  {
   "cell_type": "code",
   "execution_count": 30,
   "metadata": {},
   "outputs": [
    {
     "data": {
      "text/html": [
       "<div>\n",
       "<style scoped>\n",
       "    .dataframe tbody tr th:only-of-type {\n",
       "        vertical-align: middle;\n",
       "    }\n",
       "\n",
       "    .dataframe tbody tr th {\n",
       "        vertical-align: top;\n",
       "    }\n",
       "\n",
       "    .dataframe thead th {\n",
       "        text-align: right;\n",
       "    }\n",
       "</style>\n",
       "<table border=\"1\" class=\"dataframe\">\n",
       "  <thead>\n",
       "    <tr style=\"text-align: right;\">\n",
       "      <th></th>\n",
       "      <th>title</th>\n",
       "      <th>puNumber</th>\n",
       "      <th>show_start_date</th>\n",
       "      <th>type</th>\n",
       "      <th>film_studio</th>\n",
       "      <th>production_country</th>\n",
       "      <th>director</th>\n",
       "      <th>producer</th>\n",
       "      <th>age_restriction</th>\n",
       "      <th>refundable_support</th>\n",
       "      <th>nonrefundable_support</th>\n",
       "      <th>budget</th>\n",
       "      <th>financing_source</th>\n",
       "      <th>ratings</th>\n",
       "      <th>genres</th>\n",
       "      <th>box_office</th>\n",
       "    </tr>\n",
       "  </thead>\n",
       "  <tbody>\n",
       "    <tr>\n",
       "      <th>2982</th>\n",
       "      <td>Сдается дом со всеми неудобствами</td>\n",
       "      <td>111008016</td>\n",
       "      <td>2016-04-27 12:00:00+00:00</td>\n",
       "      <td>Художественный</td>\n",
       "      <td>ФГУП \"Киноконцерн \"Мосфильм\", ООО \"Киностудия ...</td>\n",
       "      <td>Россия</td>\n",
       "      <td>В.Сторожева</td>\n",
       "      <td>К.Шахназаров, С.Говорухин</td>\n",
       "      <td>«12+» - для детей старше 12 лет</td>\n",
       "      <td>3,500,000.00</td>\n",
       "      <td>20,000,000.00</td>\n",
       "      <td>69,428,728.00</td>\n",
       "      <td>Фонд кино</td>\n",
       "      <td>NaN</td>\n",
       "      <td>комедия</td>\n",
       "      <td>55,800.00</td>\n",
       "    </tr>\n",
       "    <tr>\n",
       "      <th>5932</th>\n",
       "      <td>Проводник</td>\n",
       "      <td>111006518</td>\n",
       "      <td>2018-11-29 12:00:00+00:00</td>\n",
       "      <td>Художественный</td>\n",
       "      <td>ЗАО \"Мотор фильм студия\"</td>\n",
       "      <td>Россия</td>\n",
       "      <td>И.Максимов</td>\n",
       "      <td>М.Курбатов, Г.Подземельный, Д.Фикс</td>\n",
       "      <td>«16+» - для детей старше 16 лет</td>\n",
       "      <td>5,000,000.00</td>\n",
       "      <td>35,000,000.00</td>\n",
       "      <td>62,000,000.00</td>\n",
       "      <td>Фонд кино</td>\n",
       "      <td>NaN</td>\n",
       "      <td>ужасы,триллер</td>\n",
       "      <td>22,730,244.88</td>\n",
       "    </tr>\n",
       "    <tr>\n",
       "      <th>3230</th>\n",
       "      <td>Невеста .</td>\n",
       "      <td>111016516</td>\n",
       "      <td>2016-10-25 12:00:00+00:00</td>\n",
       "      <td>Художественный</td>\n",
       "      <td>ООО \"Форс Медиа\"</td>\n",
       "      <td>Россия</td>\n",
       "      <td>С.Подгаевский</td>\n",
       "      <td>В.Северцев, Д.Литвинов, З.Болотаев</td>\n",
       "      <td>«16+» - для детей старше 16 лет</td>\n",
       "      <td>5,000,000.00</td>\n",
       "      <td>20,000,000.00</td>\n",
       "      <td>50,000,000.00</td>\n",
       "      <td>Фонд кино</td>\n",
       "      <td>NaN</td>\n",
       "      <td>ужасы,триллер</td>\n",
       "      <td>175,799,581.00</td>\n",
       "    </tr>\n",
       "    <tr>\n",
       "      <th>3041</th>\n",
       "      <td>30 свиданий</td>\n",
       "      <td>111020815</td>\n",
       "      <td>2015-12-10 12:00:00+00:00</td>\n",
       "      <td>Художественный</td>\n",
       "      <td>ООО \"Инспирейшн Филмс\"</td>\n",
       "      <td>Россия</td>\n",
       "      <td>Т.Игуменцева</td>\n",
       "      <td>Д.Литвинов, Д.Осмеркин, А.Гавриш, А.Агеев</td>\n",
       "      <td>«16+» - для детей старше 16 лет</td>\n",
       "      <td>5,000,000.00</td>\n",
       "      <td>20,000,000.00</td>\n",
       "      <td>48,661,150.00</td>\n",
       "      <td>Фонд кино</td>\n",
       "      <td>NaN</td>\n",
       "      <td>комедия,мелодрама</td>\n",
       "      <td>85,405,423.61</td>\n",
       "    </tr>\n",
       "    <tr>\n",
       "      <th>7375</th>\n",
       "      <td>Тварь</td>\n",
       "      <td>111019419</td>\n",
       "      <td>2019-11-26 12:00:00+00:00</td>\n",
       "      <td>Художественный</td>\n",
       "      <td>ООО \"СОК\"</td>\n",
       "      <td>Россия</td>\n",
       "      <td>О.Городецкая</td>\n",
       "      <td>П.Зарукин, О.Филипук, Ф.Ламшин, М.Абрамов, Н.Т...</td>\n",
       "      <td>«16+» - для детей старше 16 лет</td>\n",
       "      <td>5,000,000.00</td>\n",
       "      <td>35,000,000.00</td>\n",
       "      <td>78,422,212.00</td>\n",
       "      <td>Фонд кино</td>\n",
       "      <td>NaN</td>\n",
       "      <td>триллер,драма</td>\n",
       "      <td>18,617,156.96</td>\n",
       "    </tr>\n",
       "    <tr>\n",
       "      <th>...</th>\n",
       "      <td>...</td>\n",
       "      <td>...</td>\n",
       "      <td>...</td>\n",
       "      <td>...</td>\n",
       "      <td>...</td>\n",
       "      <td>...</td>\n",
       "      <td>...</td>\n",
       "      <td>...</td>\n",
       "      <td>...</td>\n",
       "      <td>...</td>\n",
       "      <td>...</td>\n",
       "      <td>...</td>\n",
       "      <td>...</td>\n",
       "      <td>...</td>\n",
       "      <td>...</td>\n",
       "      <td>...</td>\n",
       "    </tr>\n",
       "    <tr>\n",
       "      <th>5437</th>\n",
       "      <td>Матильда</td>\n",
       "      <td>111005717</td>\n",
       "      <td>2017-08-17 12:00:00+00:00</td>\n",
       "      <td>Художественный</td>\n",
       "      <td>ООО \"ТПО \"РОК\", ООО \"Матильда\"</td>\n",
       "      <td>Россия</td>\n",
       "      <td>А.Учитель</td>\n",
       "      <td>А.Учитель, А.Достман, В.Винокур</td>\n",
       "      <td>«16+» - для детей старше 16 лет</td>\n",
       "      <td>110,000,000.00</td>\n",
       "      <td>190,000,000.00</td>\n",
       "      <td>1,032,905,957.00</td>\n",
       "      <td>Фонд кино</td>\n",
       "      <td>NaN</td>\n",
       "      <td>фэнтези,комедия,семейный</td>\n",
       "      <td>511,775,548.00</td>\n",
       "    </tr>\n",
       "    <tr>\n",
       "      <th>3164</th>\n",
       "      <td>Герой (2015)</td>\n",
       "      <td>111000416</td>\n",
       "      <td>2016-01-22 12:00:00+00:00</td>\n",
       "      <td>Художественный</td>\n",
       "      <td>ООО \"Студия 25\", ООО \"Медиа Арт Студио\", ООО \"...</td>\n",
       "      <td>Россия</td>\n",
       "      <td>Ю.Васильев</td>\n",
       "      <td>Э.Айнулова, Н.Дорошкевич, М.Журомская</td>\n",
       "      <td>«12+» - для детей старше 12 лет</td>\n",
       "      <td>110,000,000.00</td>\n",
       "      <td>30,000,000.00</td>\n",
       "      <td>222,177,790.00</td>\n",
       "      <td>Министерство культуры, Фонд кино</td>\n",
       "      <td>NaN</td>\n",
       "      <td>мюзикл,боевик,драма</td>\n",
       "      <td>81,430,626.82</td>\n",
       "    </tr>\n",
       "    <tr>\n",
       "      <th>6472</th>\n",
       "      <td>Три богатыря и наследница престола</td>\n",
       "      <td>114008818</td>\n",
       "      <td>2018-12-15 12:00:00+00:00</td>\n",
       "      <td>Анимационный</td>\n",
       "      <td>ООО \"Студия анимационного кино \"Мельница\"</td>\n",
       "      <td>Россия</td>\n",
       "      <td>К.Бронзит</td>\n",
       "      <td>С.Сельянов, А.Боярский</td>\n",
       "      <td>«6+» - для детей старше 6 лет</td>\n",
       "      <td>115,000,000.00</td>\n",
       "      <td>0.00</td>\n",
       "      <td>185,500,705.00</td>\n",
       "      <td>Фонд кино</td>\n",
       "      <td>NaN</td>\n",
       "      <td>мультфильм,приключения,семейный</td>\n",
       "      <td>577,368,853.25</td>\n",
       "    </tr>\n",
       "    <tr>\n",
       "      <th>3351</th>\n",
       "      <td>Дуэлянт</td>\n",
       "      <td>111015416</td>\n",
       "      <td>2016-09-14 12:00:00+00:00</td>\n",
       "      <td>Художественный</td>\n",
       "      <td>ООО \"Нон-Стоп Продакшн\"</td>\n",
       "      <td>Россия</td>\n",
       "      <td>А.Мизгирев</td>\n",
       "      <td>А.Роднянский, С.Мелькумов</td>\n",
       "      <td>«16+» - для детей старше 16 лет</td>\n",
       "      <td>150,000,000.00</td>\n",
       "      <td>300,000,000.00</td>\n",
       "      <td>684,200,536.00</td>\n",
       "      <td>Фонд кино</td>\n",
       "      <td>NaN</td>\n",
       "      <td>драма</td>\n",
       "      <td>364,285,139.60</td>\n",
       "    </tr>\n",
       "    <tr>\n",
       "      <th>7114</th>\n",
       "      <td>Тайна Печати Дракона</td>\n",
       "      <td>111012819</td>\n",
       "      <td>2019-09-12 12:00:00+00:00</td>\n",
       "      <td>Художественный</td>\n",
       "      <td>ООО \"Кинокомпания \"СТВ\"; ООО \"РФГ Корп\"; ООО \"...</td>\n",
       "      <td>Россия-Китай</td>\n",
       "      <td>О.Степченко</td>\n",
       "      <td>С.Сельянов, А.Петрухин</td>\n",
       "      <td>«6+» - для детей старше 6 лет</td>\n",
       "      <td>180,000,000.00</td>\n",
       "      <td>90,000,000.00</td>\n",
       "      <td>2,305,074,303.00</td>\n",
       "      <td>Фонд кино</td>\n",
       "      <td>NaN</td>\n",
       "      <td>приключения,фэнтези</td>\n",
       "      <td>333,597,059.59</td>\n",
       "    </tr>\n",
       "  </tbody>\n",
       "</table>\n",
       "<p>111 rows × 16 columns</p>\n",
       "</div>"
      ],
      "text/plain": [
       "                                   title   puNumber           show_start_date  \\\n",
       "2982   Сдается дом со всеми неудобствами  111008016 2016-04-27 12:00:00+00:00   \n",
       "5932                           Проводник  111006518 2018-11-29 12:00:00+00:00   \n",
       "3230                           Невеста .  111016516 2016-10-25 12:00:00+00:00   \n",
       "3041                         30 свиданий  111020815 2015-12-10 12:00:00+00:00   \n",
       "7375                               Тварь  111019419 2019-11-26 12:00:00+00:00   \n",
       "...                                  ...        ...                       ...   \n",
       "5437                            Матильда  111005717 2017-08-17 12:00:00+00:00   \n",
       "3164                        Герой (2015)  111000416 2016-01-22 12:00:00+00:00   \n",
       "6472  Три богатыря и наследница престола  114008818 2018-12-15 12:00:00+00:00   \n",
       "3351                             Дуэлянт  111015416 2016-09-14 12:00:00+00:00   \n",
       "7114                Тайна Печати Дракона  111012819 2019-09-12 12:00:00+00:00   \n",
       "\n",
       "                type                                        film_studio  \\\n",
       "2982  Художественный  ФГУП \"Киноконцерн \"Мосфильм\", ООО \"Киностудия ...   \n",
       "5932  Художественный                           ЗАО \"Мотор фильм студия\"   \n",
       "3230  Художественный                                   ООО \"Форс Медиа\"   \n",
       "3041  Художественный                             ООО \"Инспирейшн Филмс\"   \n",
       "7375  Художественный                                          ООО \"СОК\"   \n",
       "...              ...                                                ...   \n",
       "5437  Художественный                     ООО \"ТПО \"РОК\", ООО \"Матильда\"   \n",
       "3164  Художественный  ООО \"Студия 25\", ООО \"Медиа Арт Студио\", ООО \"...   \n",
       "6472    Анимационный          ООО \"Студия анимационного кино \"Мельница\"   \n",
       "3351  Художественный                            ООО \"Нон-Стоп Продакшн\"   \n",
       "7114  Художественный  ООО \"Кинокомпания \"СТВ\"; ООО \"РФГ Корп\"; ООО \"...   \n",
       "\n",
       "     production_country       director  \\\n",
       "2982             Россия    В.Сторожева   \n",
       "5932             Россия     И.Максимов   \n",
       "3230             Россия  С.Подгаевский   \n",
       "3041             Россия   Т.Игуменцева   \n",
       "7375             Россия   О.Городецкая   \n",
       "...                 ...            ...   \n",
       "5437             Россия      А.Учитель   \n",
       "3164             Россия     Ю.Васильев   \n",
       "6472             Россия      К.Бронзит   \n",
       "3351             Россия     А.Мизгирев   \n",
       "7114       Россия-Китай    О.Степченко   \n",
       "\n",
       "                                               producer  \\\n",
       "2982                          К.Шахназаров, С.Говорухин   \n",
       "5932                 М.Курбатов, Г.Подземельный, Д.Фикс   \n",
       "3230                 В.Северцев, Д.Литвинов, З.Болотаев   \n",
       "3041          Д.Литвинов, Д.Осмеркин, А.Гавриш, А.Агеев   \n",
       "7375  П.Зарукин, О.Филипук, Ф.Ламшин, М.Абрамов, Н.Т...   \n",
       "...                                                 ...   \n",
       "5437                    А.Учитель, А.Достман, В.Винокур   \n",
       "3164              Э.Айнулова, Н.Дорошкевич, М.Журомская   \n",
       "6472                             С.Сельянов, А.Боярский   \n",
       "3351                          А.Роднянский, С.Мелькумов   \n",
       "7114                             С.Сельянов, А.Петрухин   \n",
       "\n",
       "                      age_restriction  refundable_support  \\\n",
       "2982  «12+» - для детей старше 12 лет        3,500,000.00   \n",
       "5932  «16+» - для детей старше 16 лет        5,000,000.00   \n",
       "3230  «16+» - для детей старше 16 лет        5,000,000.00   \n",
       "3041  «16+» - для детей старше 16 лет        5,000,000.00   \n",
       "7375  «16+» - для детей старше 16 лет        5,000,000.00   \n",
       "...                               ...                 ...   \n",
       "5437  «16+» - для детей старше 16 лет      110,000,000.00   \n",
       "3164  «12+» - для детей старше 12 лет      110,000,000.00   \n",
       "6472    «6+» - для детей старше 6 лет      115,000,000.00   \n",
       "3351  «16+» - для детей старше 16 лет      150,000,000.00   \n",
       "7114    «6+» - для детей старше 6 лет      180,000,000.00   \n",
       "\n",
       "      nonrefundable_support           budget  \\\n",
       "2982          20,000,000.00    69,428,728.00   \n",
       "5932          35,000,000.00    62,000,000.00   \n",
       "3230          20,000,000.00    50,000,000.00   \n",
       "3041          20,000,000.00    48,661,150.00   \n",
       "7375          35,000,000.00    78,422,212.00   \n",
       "...                     ...              ...   \n",
       "5437         190,000,000.00 1,032,905,957.00   \n",
       "3164          30,000,000.00   222,177,790.00   \n",
       "6472                   0.00   185,500,705.00   \n",
       "3351         300,000,000.00   684,200,536.00   \n",
       "7114          90,000,000.00 2,305,074,303.00   \n",
       "\n",
       "                      financing_source  ratings  \\\n",
       "2982                         Фонд кино      NaN   \n",
       "5932                         Фонд кино      NaN   \n",
       "3230                         Фонд кино      NaN   \n",
       "3041                         Фонд кино      NaN   \n",
       "7375                         Фонд кино      NaN   \n",
       "...                                ...      ...   \n",
       "5437                         Фонд кино      NaN   \n",
       "3164  Министерство культуры, Фонд кино      NaN   \n",
       "6472                         Фонд кино      NaN   \n",
       "3351                         Фонд кино      NaN   \n",
       "7114                         Фонд кино      NaN   \n",
       "\n",
       "                               genres     box_office  \n",
       "2982                          комедия      55,800.00  \n",
       "5932                    ужасы,триллер  22,730,244.88  \n",
       "3230                    ужасы,триллер 175,799,581.00  \n",
       "3041                комедия,мелодрама  85,405,423.61  \n",
       "7375                    триллер,драма  18,617,156.96  \n",
       "...                               ...            ...  \n",
       "5437         фэнтези,комедия,семейный 511,775,548.00  \n",
       "3164              мюзикл,боевик,драма  81,430,626.82  \n",
       "6472  мультфильм,приключения,семейный 577,368,853.25  \n",
       "3351                            драма 364,285,139.60  \n",
       "7114              приключения,фэнтези 333,597,059.59  \n",
       "\n",
       "[111 rows x 16 columns]"
      ]
     },
     "execution_count": 30,
     "metadata": {},
     "output_type": "execute_result"
    }
   ],
   "source": [
    "df.query('refundable_support > 0').sort_values(by='refundable_support')"
   ]
  },
  {
   "cell_type": "markdown",
   "metadata": {},
   "source": [
    "Минимальный размер возвратного бюджетного финансирования - 3,5 млн. рублей, а максимальный - 180 млн. рублей."
   ]
  },
  {
   "cell_type": "markdown",
   "metadata": {},
   "source": [
    "**Строю диаграмму распределения к столбцу refundable_support. Для описания данных фильтрую столбец refundable_support по значениям, которые больше нуля.**"
   ]
  },
  {
   "cell_type": "code",
   "execution_count": 31,
   "metadata": {},
   "outputs": [
    {
     "name": "stdout",
     "output_type": "stream",
     "text": [
      "            puNumber  refundable_support  nonrefundable_support  \\\n",
      "count         111.00              111.00                 111.00   \n",
      "mean  111,577,412.18       35,486,486.49          59,847,104.04   \n",
      "std     1,177,059.84       31,972,875.36          76,527,609.95   \n",
      "min   111,000,116.00        3,500,000.00                   0.00   \n",
      "25%   111,006,818.00       15,000,000.00          23,677,000.00   \n",
      "50%   111,013,619.00       25,000,000.00          35,000,000.00   \n",
      "75%   111,021,869.00       50,000,000.00          60,000,000.00   \n",
      "max   114,010,018.00      180,000,000.00         400,000,000.00   \n",
      "\n",
      "                budget  ratings       box_office  \n",
      "count           111.00     0.00           111.00  \n",
      "mean    197,157,745.51      NaN   231,479,108.01  \n",
      "std     279,235,614.53      NaN   444,844,404.83  \n",
      "min               0.00      NaN             0.00  \n",
      "25%      69,118,977.00      NaN    18,631,341.31  \n",
      "50%     120,000,000.00      NaN    72,578,317.40  \n",
      "75%     217,629,245.50      NaN   235,490,819.30  \n",
      "max   2,305,074,303.00      NaN 3,073,568,690.79  \n"
     ]
    },
    {
     "data": {
      "image/png": "[encoded data removed]",
      "text/plain": [
       "<Figure size 432x288 with 1 Axes>"
      ]
     },
     "metadata": {
      "needs_background": "light"
     },
     "output_type": "display_data"
    }
   ],
   "source": [
    "plt.ylim(0, 200000000)\n",
    "df.boxplot(column=['refundable_support'])\n",
    "#df.query('refundable_support > 0').plot(y='refundable_support', grid=True, figsize=(20, 5), style='o-')\n",
    "None\n",
    "\n",
    "print (df.query('refundable_support > 0').describe())"
   ]
  },
  {
   "cell_type": "markdown",
   "metadata": {},
   "source": [
    "Из данных видно, что медианный размер поддержки государства (столбец refundable_support) составляет 35 млн. руб. Т.е. распределение возвратной государственной поддержки: от 15 млн. до 50 млн. руб."
   ]
  },
  {
   "cell_type": "markdown",
   "metadata": {},
   "source": [
    "**Изучаю подробнее столбец nonrefunduble_support**"
   ]
  },
  {
   "cell_type": "code",
   "execution_count": 32,
   "metadata": {
    "scrolled": true
   },
   "outputs": [
    {
     "name": "stdout",
     "output_type": "stream",
     "text": [
      "            puNumber  refundable_support  nonrefundable_support  \\\n",
      "count         323.00              323.00                 323.00   \n",
      "mean  111,573,030.93       10,712,074.30          50,345,784.25   \n",
      "std     5,775,433.81       23,719,086.89          60,243,206.31   \n",
      "min   111,000,115.00                0.00           3,000,000.00   \n",
      "25%   111,004,867.00                0.00          25,000,000.00   \n",
      "50%   111,010,319.00                0.00          30,000,000.00   \n",
      "75%   111,017,367.50       10,000,000.00          45,000,000.00   \n",
      "max   214,010,116.00      180,000,000.00         400,000,000.00   \n",
      "\n",
      "                budget  ratings       box_office  \n",
      "count           323.00     2.00           323.00  \n",
      "mean    126,732,173.13     9.20   122,973,950.32  \n",
      "std     190,286,996.71     0.28   329,446,710.80  \n",
      "min               0.00     9.00             0.00  \n",
      "25%      41,999,492.00     9.10       830,673.00  \n",
      "50%      68,294,200.00     9.20    11,298,281.10  \n",
      "75%     139,454,357.00     9.30    99,256,028.49  \n",
      "max   2,305,074,303.00     9.40 3,073,568,690.79  \n"
     ]
    }
   ],
   "source": [
    "df.query('nonrefundable_support > 0').sort_values(by='nonrefundable_support')\n",
    "print (df.query('nonrefundable_support > 0').describe())"
   ]
  },
  {
   "cell_type": "markdown",
   "metadata": {},
   "source": [
    "Минимальный размер невозвратного бюджетного финансирования - 3 млн. рублей, а максимальный - 400 млн. рублей.\\\n",
    "Медианный размер невозвратного бюджетного финансирования - 30 млн. руб., и распределение колеблется от 25 млн. до 40 млн. руб."
   ]
  },
  {
   "cell_type": "markdown",
   "metadata": {},
   "source": [
    "**Изучаю подробнее столбец budget**"
   ]
  },
  {
   "cell_type": "code",
   "execution_count": 33,
   "metadata": {},
   "outputs": [
    {
     "name": "stdout",
     "output_type": "stream",
     "text": [
      "            puNumber  refundable_support  nonrefundable_support  \\\n",
      "count         315.00              315.00                 315.00   \n",
      "mean  111,568,271.31       11,603,174.60          48,107,043.96   \n",
      "std     5,844,829.21       25,151,438.82          59,886,140.86   \n",
      "min   111,000,115.00                0.00                   0.00   \n",
      "25%   111,004,815.50                0.00          25,000,000.00   \n",
      "50%   111,010,219.00                0.00          30,000,000.00   \n",
      "75%   111,017,167.50       10,000,000.00          40,000,000.00   \n",
      "max   214,010,116.00      180,000,000.00         400,000,000.00   \n",
      "\n",
      "                budget  ratings       box_office  \n",
      "count           315.00     2.00           315.00  \n",
      "mean    134,096,082.35     9.20   124,889,446.25  \n",
      "std     191,226,039.63     0.28   332,638,242.71  \n",
      "min      14,462,464.00     9.00             0.00  \n",
      "25%      46,153,866.50     9.10       770,654.00  \n",
      "50%      73,379,554.00     9.20    11,011,814.30  \n",
      "75%     150,004,286.50     9.30    96,936,417.76  \n",
      "max   2,305,074,303.00     9.40 3,073,568,690.79  \n"
     ]
    },
    {
     "data": {
      "image/png": "[encoded data removed]",
      "text/plain": [
       "<Figure size 1440x360 with 1 Axes>"
      ]
     },
     "metadata": {
      "needs_background": "light"
     },
     "output_type": "display_data"
    }
   ],
   "source": [
    "df.query('budget > 0').sort_values(by='budget')\n",
    "print (df.query('budget > 0').describe())\n",
    "df.query('budget > 0').plot(y='budget', grid=True, figsize=(20, 5), style='o-', kind='hist', xlim=(0,800000000))\n",
    "None"
   ]
  },
  {
   "cell_type": "markdown",
   "metadata": {},
   "source": [
    "Бюджет большей части фильмов колеблется от 46 млн. руб. до 150 млн. руб. Медианный размер бюджета фильма - 130 млн. руб."
   ]
  },
  {
   "cell_type": "markdown",
   "metadata": {},
   "source": [
    "**Изучаю подробнее столбец box_office (сборы в рублях)**"
   ]
  },
  {
   "cell_type": "code",
   "execution_count": 34,
   "metadata": {},
   "outputs": [
    {
     "name": "stdout",
     "output_type": "stream",
     "text": [
      "            puNumber  refundable_support  nonrefundable_support  \\\n",
      "count       3,134.00            3,134.00               3,134.00   \n",
      "mean  120,217,553.59        1,212,188.90           4,949,638.90   \n",
      "std    12,415,227.25        8,679,587.20          23,557,507.49   \n",
      "min   111,000,113.00                0.00                   0.00   \n",
      "25%   114,000,115.25                0.00                   0.00   \n",
      "50%   121,013,212.50                0.00                   0.00   \n",
      "75%   121,028,390.25                0.00                   0.00   \n",
      "max   224,026,410.00      180,000,000.00         400,000,000.00   \n",
      "\n",
      "                budget  ratings       box_office  \n",
      "count         3,134.00    14.00         3,134.00  \n",
      "mean     12,950,277.01     7.83    77,064,365.82  \n",
      "std      70,742,747.26     2.49   241,178,383.77  \n",
      "min               0.00     1.90            40.00  \n",
      "25%               0.00     8.00       101,028.75  \n",
      "50%               0.00     8.80     2,409,099.35  \n",
      "75%               0.00     9.30    24,569,794.87  \n",
      "max   2,305,074,303.00     9.90 3,073,568,690.79  \n"
     ]
    },
    {
     "data": {
      "image/png": "[encoded data removed]",
      "text/plain": [
       "<Figure size 1440x360 with 1 Axes>"
      ]
     },
     "metadata": {
      "needs_background": "light"
     },
     "output_type": "display_data"
    }
   ],
   "source": [
    "df.query('box_office > 0').sort_values(by='box_office')\n",
    "df.query('box_office > 0').plot(y='box_office', grid=True, figsize=(20, 5), style='o-', kind='hist')\n",
    "print (df.query('box_office > 0').describe())\n",
    "None"
   ]
  },
  {
   "cell_type": "markdown",
   "metadata": {},
   "source": [
    "Медианный размер сборов с показов фильма составляет 2,4 млн. руб. и колеблется от 100 тыс. до 24 млн. рублей.\\\n",
    "Сведений о размере сборов с показов фильма очень мало - около 300 строк. Необходимо больше информации для более подробных выводов.\\\n",
    "\\\n",
    "Разница между медианным и средним размером сборов с показов фильмов отличается в сотни раз. Это говорит о том, что наблюдается большой разброс значений. Что отдельные выбросы - слишком высокие значения в столбце **box_office** - искажают картину."
   ]
  },
  {
   "cell_type": "markdown",
   "metadata": {},
   "source": [
    "**Проверяю столбец budget на то, чтобы размер государственной поддержки не превышал общий бюджет проекта**"
   ]
  },
  {
   "cell_type": "code",
   "execution_count": 36,
   "metadata": {},
   "outputs": [
    {
     "data": {
      "text/html": [
       "<div>\n",
       "<style scoped>\n",
       "    .dataframe tbody tr th:only-of-type {\n",
       "        vertical-align: middle;\n",
       "    }\n",
       "\n",
       "    .dataframe tbody tr th {\n",
       "        vertical-align: top;\n",
       "    }\n",
       "\n",
       "    .dataframe thead th {\n",
       "        text-align: right;\n",
       "    }\n",
       "</style>\n",
       "<table border=\"1\" class=\"dataframe\">\n",
       "  <thead>\n",
       "    <tr style=\"text-align: right;\">\n",
       "      <th></th>\n",
       "      <th>title</th>\n",
       "      <th>puNumber</th>\n",
       "      <th>show_start_date</th>\n",
       "      <th>type</th>\n",
       "      <th>film_studio</th>\n",
       "      <th>production_country</th>\n",
       "      <th>director</th>\n",
       "      <th>producer</th>\n",
       "      <th>age_restriction</th>\n",
       "      <th>refundable_support</th>\n",
       "      <th>nonrefundable_support</th>\n",
       "      <th>budget</th>\n",
       "      <th>financing_source</th>\n",
       "      <th>ratings</th>\n",
       "      <th>genres</th>\n",
       "      <th>box_office</th>\n",
       "    </tr>\n",
       "  </thead>\n",
       "  <tbody>\n",
       "    <tr>\n",
       "      <th>2053</th>\n",
       "      <td>14+</td>\n",
       "      <td>111023614</td>\n",
       "      <td>2014-12-19 12:00:00+00:00</td>\n",
       "      <td>Художественный</td>\n",
       "      <td>ООО Киностудия  \"Сентябрь\"</td>\n",
       "      <td>Россия</td>\n",
       "      <td>А.Зайцев</td>\n",
       "      <td>О.Гранина, А.Зайцев</td>\n",
       "      <td>«16+» - для детей старше 16 лет</td>\n",
       "      <td>0.00</td>\n",
       "      <td>23,000,000.00</td>\n",
       "      <td>0.00</td>\n",
       "      <td>Министерство культуры, Фонд кино</td>\n",
       "      <td>NaN</td>\n",
       "      <td>мелодрама</td>\n",
       "      <td>10,234,016.10</td>\n",
       "    </tr>\n",
       "    <tr>\n",
       "      <th>2058</th>\n",
       "      <td>Дуxless 2</td>\n",
       "      <td>111000415</td>\n",
       "      <td>2015-01-26 12:00:00+00:00</td>\n",
       "      <td>Художественный</td>\n",
       "      <td>ООО \"Киностудия \"Слово\", ООО \"Арт Пикчерс Студия\"</td>\n",
       "      <td>Россия</td>\n",
       "      <td>Р.Прыгунов</td>\n",
       "      <td>П.Ануров, Ф.Бондарчук, Д.Рудовский</td>\n",
       "      <td>«16+» - для детей старше 16 лет</td>\n",
       "      <td>0.00</td>\n",
       "      <td>75,000,000.00</td>\n",
       "      <td>0.00</td>\n",
       "      <td>Фонд кино</td>\n",
       "      <td>NaN</td>\n",
       "      <td>драма</td>\n",
       "      <td>446,163,511.00</td>\n",
       "    </tr>\n",
       "    <tr>\n",
       "      <th>2472</th>\n",
       "      <td>Воин (2015)</td>\n",
       "      <td>111017315</td>\n",
       "      <td>2015-09-28 12:00:00+00:00</td>\n",
       "      <td>Художественный</td>\n",
       "      <td>ООО \"Форпост Продакшн\", ООО \"Арт Пикчерс Студия\"</td>\n",
       "      <td>Россия</td>\n",
       "      <td>А.Андрианов</td>\n",
       "      <td>ООО \"Арт Пикчерс Студия\"</td>\n",
       "      <td>«12+» - для детей старше 12 лет</td>\n",
       "      <td>10,000,000.00</td>\n",
       "      <td>70,000,000.00</td>\n",
       "      <td>0.00</td>\n",
       "      <td>Фонд кино</td>\n",
       "      <td>NaN</td>\n",
       "      <td>боевик,драма,криминал</td>\n",
       "      <td>196,572,438.40</td>\n",
       "    </tr>\n",
       "    <tr>\n",
       "      <th>2532</th>\n",
       "      <td>Бармен.</td>\n",
       "      <td>111009615</td>\n",
       "      <td>2015-05-26 12:00:00+00:00</td>\n",
       "      <td>Художественный</td>\n",
       "      <td>АО \"ВайТ Медиа\", ООО \"Арт Пикчерс Студия\"</td>\n",
       "      <td>Россия</td>\n",
       "      <td>Д.Штурманова</td>\n",
       "      <td>Т.Вайнштейн</td>\n",
       "      <td>«16+» - для детей старше 16 лет</td>\n",
       "      <td>20,000,000.00</td>\n",
       "      <td>0.00</td>\n",
       "      <td>0.00</td>\n",
       "      <td>Фонд кино</td>\n",
       "      <td>NaN</td>\n",
       "      <td>комедия,фэнтези</td>\n",
       "      <td>67,418,974.80</td>\n",
       "    </tr>\n",
       "    <tr>\n",
       "      <th>2615</th>\n",
       "      <td>Савва. Сердце воина</td>\n",
       "      <td>114001715</td>\n",
       "      <td>2015-07-21 12:00:00+00:00</td>\n",
       "      <td>Анимационный</td>\n",
       "      <td>ООО \"Глюкоза Продакшн\", ООО \"Арт Пикчерс Студия\"</td>\n",
       "      <td>Россия</td>\n",
       "      <td>М.Фадеев</td>\n",
       "      <td>А.Чистяков</td>\n",
       "      <td>«6+» - для детей старше 6 лет</td>\n",
       "      <td>60,000,000.00</td>\n",
       "      <td>100,000,000.00</td>\n",
       "      <td>0.00</td>\n",
       "      <td>Фонд кино</td>\n",
       "      <td>NaN</td>\n",
       "      <td>мультфильм,приключения,фэнтези</td>\n",
       "      <td>184,487,551.40</td>\n",
       "    </tr>\n",
       "    <tr>\n",
       "      <th>2684</th>\n",
       "      <td>Тряпичный союз</td>\n",
       "      <td>111010215</td>\n",
       "      <td>2015-06-08 12:00:00+00:00</td>\n",
       "      <td>Художественный</td>\n",
       "      <td>ООО \"Кинокомпания \"КОКТЕБЕЛЬ\"</td>\n",
       "      <td>Россия</td>\n",
       "      <td>М.Местецкий</td>\n",
       "      <td>Р.Борисевич, А.Кушаев</td>\n",
       "      <td>«18+» - запрещено для детей</td>\n",
       "      <td>0.00</td>\n",
       "      <td>59,000,000.00</td>\n",
       "      <td>0.00</td>\n",
       "      <td>Фонд кино</td>\n",
       "      <td>NaN</td>\n",
       "      <td>комедия,драма</td>\n",
       "      <td>1,957,738.51</td>\n",
       "    </tr>\n",
       "    <tr>\n",
       "      <th>2788</th>\n",
       "      <td>Срочно выйду замуж</td>\n",
       "      <td>111017115</td>\n",
       "      <td>2015-09-30 12:00:00+00:00</td>\n",
       "      <td>Художественный</td>\n",
       "      <td>АО \"ВайТ Медиа\", ООО \"Арт Пикчерс Студия\"</td>\n",
       "      <td>Россия</td>\n",
       "      <td>С Чекалов</td>\n",
       "      <td>Ф.Бондарчук, Т.Вайнштейн, Д.Рудовский</td>\n",
       "      <td>«16+» - для детей старше 16 лет</td>\n",
       "      <td>0.00</td>\n",
       "      <td>35,000,000.00</td>\n",
       "      <td>0.00</td>\n",
       "      <td>Фонд кино</td>\n",
       "      <td>NaN</td>\n",
       "      <td>комедия,мелодрама</td>\n",
       "      <td>72,937,783.20</td>\n",
       "    </tr>\n",
       "    <tr>\n",
       "      <th>2874</th>\n",
       "      <td>Помню - не помню!</td>\n",
       "      <td>111004916</td>\n",
       "      <td>2016-03-01 12:00:00+00:00</td>\n",
       "      <td>Художественный</td>\n",
       "      <td>ООО \"КиноФирма\"</td>\n",
       "      <td>Россия</td>\n",
       "      <td>В.Ровенский</td>\n",
       "      <td>ООО \"КиноФирма\"</td>\n",
       "      <td>«12+» - для детей старше 12 лет</td>\n",
       "      <td>0.00</td>\n",
       "      <td>6,000,000.00</td>\n",
       "      <td>0.00</td>\n",
       "      <td>Министерство культуры</td>\n",
       "      <td>NaN</td>\n",
       "      <td>комедия</td>\n",
       "      <td>15,362,931.43</td>\n",
       "    </tr>\n",
       "    <tr>\n",
       "      <th>3047</th>\n",
       "      <td>Любовь с ограничениями</td>\n",
       "      <td>111008216</td>\n",
       "      <td>2016-04-29 12:00:00+00:00</td>\n",
       "      <td>Художественный</td>\n",
       "      <td>АО \"ВайТ Медиа\", ООО \"Арт Пикчерс Студия\"</td>\n",
       "      <td>Россия</td>\n",
       "      <td>Д.Тюрин</td>\n",
       "      <td>Ф.Бондарчук, Т.Вайнштейн, Д.Рудовский</td>\n",
       "      <td>«16+» - для детей старше 16 лет</td>\n",
       "      <td>19,000,000.00</td>\n",
       "      <td>51,000,000.00</td>\n",
       "      <td>0.00</td>\n",
       "      <td>Фонд кино</td>\n",
       "      <td>NaN</td>\n",
       "      <td>комедия,мелодрама</td>\n",
       "      <td>70,299,052.00</td>\n",
       "    </tr>\n",
       "    <tr>\n",
       "      <th>3565</th>\n",
       "      <td>Притяжение (2016)</td>\n",
       "      <td>111018116</td>\n",
       "      <td>2016-12-16 12:00:00+00:00</td>\n",
       "      <td>Художественный</td>\n",
       "      <td>ООО \"Водород 2011\",  ООО \"Арт Пикчерс Студия\"</td>\n",
       "      <td>Россия</td>\n",
       "      <td>Ф.Бондарчук</td>\n",
       "      <td>ООО \"Арт Пикчерс Студия\"</td>\n",
       "      <td>«12+» - для детей старше 12 лет</td>\n",
       "      <td>0.00</td>\n",
       "      <td>250,000,000.00</td>\n",
       "      <td>0.00</td>\n",
       "      <td>Фонд кино</td>\n",
       "      <td>NaN</td>\n",
       "      <td>фантастика</td>\n",
       "      <td>1,038,321,489.00</td>\n",
       "    </tr>\n",
       "    <tr>\n",
       "      <th>3675</th>\n",
       "      <td>Чудо-юдо</td>\n",
       "      <td>114001817</td>\n",
       "      <td>2017-06-27 12:00:00+00:00</td>\n",
       "      <td>Анимационный</td>\n",
       "      <td>ООО \"КиноФирма\"</td>\n",
       "      <td>Россия</td>\n",
       "      <td>А.Лукичев</td>\n",
       "      <td>ООО \"КиноФирма\"</td>\n",
       "      <td>«6+» - для детей старше 6 лет</td>\n",
       "      <td>20,000,000.00</td>\n",
       "      <td>20,000,000.00</td>\n",
       "      <td>0.00</td>\n",
       "      <td>Фонд кино</td>\n",
       "      <td>NaN</td>\n",
       "      <td>мультфильм,фэнтези,семейный</td>\n",
       "      <td>55,108,014.76</td>\n",
       "    </tr>\n",
       "    <tr>\n",
       "      <th>3739</th>\n",
       "      <td>Мифы</td>\n",
       "      <td>111004317</td>\n",
       "      <td>2017-06-07 12:00:00+00:00</td>\n",
       "      <td>Художественный</td>\n",
       "      <td>ООО \"ХАЙПФИЛМ\", ООО \"Арт Пикчерс Студия\"</td>\n",
       "      <td>Россия</td>\n",
       "      <td>А.Молочников</td>\n",
       "      <td>Ф.Бондарчук, Д.Рудовский, И.Стюарт, М.Османн, ...</td>\n",
       "      <td>«16+» - для детей старше 16 лет</td>\n",
       "      <td>25,000,000.00</td>\n",
       "      <td>20,000,000.00</td>\n",
       "      <td>0.00</td>\n",
       "      <td>Фонд кино</td>\n",
       "      <td>NaN</td>\n",
       "      <td>комедия</td>\n",
       "      <td>50,451,949.00</td>\n",
       "    </tr>\n",
       "    <tr>\n",
       "      <th>5673</th>\n",
       "      <td>Селфи</td>\n",
       "      <td>111012117</td>\n",
       "      <td>2018-02-01 12:00:00+00:00</td>\n",
       "      <td>Художественный</td>\n",
       "      <td>ООО \"Киностудия \"Слово\", ООО \"Арт Пикчерс Студия\"</td>\n",
       "      <td>Россия</td>\n",
       "      <td>Н.Хомерики</td>\n",
       "      <td>П.Ануров, Ф.Бондарчук, Д.Рудовский</td>\n",
       "      <td>«16+» - для детей старше 16 лет</td>\n",
       "      <td>20,000,000.00</td>\n",
       "      <td>40,000,000.00</td>\n",
       "      <td>0.00</td>\n",
       "      <td>Фонд кино</td>\n",
       "      <td>NaN</td>\n",
       "      <td>триллер,драма</td>\n",
       "      <td>225,196,400.03</td>\n",
       "    </tr>\n",
       "    <tr>\n",
       "      <th>5806</th>\n",
       "      <td>Два хвоста</td>\n",
       "      <td>114001018</td>\n",
       "      <td>2018-05-31 12:00:00+00:00</td>\n",
       "      <td>Анимационный</td>\n",
       "      <td>ООО \"ЛИЦЕНЗИОННЫЕ БРЕНДЫ\"</td>\n",
       "      <td>Россия</td>\n",
       "      <td>В.Ровенский, Н.Лопато, В.Азеев</td>\n",
       "      <td>ООО \"ЛИЦЕНЗИОННЫЕ БРЕНДЫ\"</td>\n",
       "      <td>«6+» - для детей старше 6 лет</td>\n",
       "      <td>10,000,000.00</td>\n",
       "      <td>60,000,000.00</td>\n",
       "      <td>0.00</td>\n",
       "      <td>Фонд кино</td>\n",
       "      <td>NaN</td>\n",
       "      <td>мультфильм,детский</td>\n",
       "      <td>106,514,301.03</td>\n",
       "    </tr>\n",
       "    <tr>\n",
       "      <th>6008</th>\n",
       "      <td>Принцесса и дракон</td>\n",
       "      <td>114003018</td>\n",
       "      <td>2018-08-23 12:00:00+00:00</td>\n",
       "      <td>Анимационный</td>\n",
       "      <td>ООО \"ЛИЦЕНЗИОННЫЕ БРЕНДЫ\"</td>\n",
       "      <td>Россия</td>\n",
       "      <td>М.Нефедова</td>\n",
       "      <td>ООО \"ЛИЦЕНЗИОННЫЕ БРЕНДЫ\"</td>\n",
       "      <td>«6+» - для детей старше 6 лет</td>\n",
       "      <td>40,000,000.00</td>\n",
       "      <td>40,000,000.00</td>\n",
       "      <td>0.00</td>\n",
       "      <td>Фонд кино</td>\n",
       "      <td>NaN</td>\n",
       "      <td>мультфильм,фэнтези,детский</td>\n",
       "      <td>83,366,328.66</td>\n",
       "    </tr>\n",
       "    <tr>\n",
       "      <th>6323</th>\n",
       "      <td>Баба Яга</td>\n",
       "      <td>114006518</td>\n",
       "      <td>2018-11-08 12:00:00+00:00</td>\n",
       "      <td>Анимационный</td>\n",
       "      <td>ООО \"Арт Пикчерс Студия\"</td>\n",
       "      <td>Россия</td>\n",
       "      <td>В.Саков</td>\n",
       "      <td>ООО \"Арт Пикчерс Студия\", ООО \"КРИЭЙТИВ АНИМЭЙ...</td>\n",
       "      <td>«6+» - для детей старше 6 лет</td>\n",
       "      <td>0.00</td>\n",
       "      <td>138,969,465.00</td>\n",
       "      <td>0.00</td>\n",
       "      <td>Фонд кино</td>\n",
       "      <td>NaN</td>\n",
       "      <td>NaN</td>\n",
       "      <td>1,334,699.40</td>\n",
       "    </tr>\n",
       "    <tr>\n",
       "      <th>6823</th>\n",
       "      <td>Большое путешествие</td>\n",
       "      <td>114002419</td>\n",
       "      <td>2019-04-20 12:00:00+00:00</td>\n",
       "      <td>Анимационный</td>\n",
       "      <td>ООО \"ЛИЦЕНЗИОННЫЕ БРЕНДЫ\"</td>\n",
       "      <td>Россия</td>\n",
       "      <td>Н.Лопато, В.Ровенский</td>\n",
       "      <td>ООО \"ЛИЦЕНЗИОННЫЕ БРЕНДЫ\"</td>\n",
       "      <td>«6+» - для детей старше 6 лет</td>\n",
       "      <td>60,000,000.00</td>\n",
       "      <td>120,000,000.00</td>\n",
       "      <td>0.00</td>\n",
       "      <td>Фонд кино</td>\n",
       "      <td>NaN</td>\n",
       "      <td>мультфильм,комедия,приключения</td>\n",
       "      <td>147,606,826.51</td>\n",
       "    </tr>\n",
       "  </tbody>\n",
       "</table>\n",
       "</div>"
      ],
      "text/plain": [
       "                       title   puNumber           show_start_date  \\\n",
       "2053                     14+  111023614 2014-12-19 12:00:00+00:00   \n",
       "2058               Дуxless 2  111000415 2015-01-26 12:00:00+00:00   \n",
       "2472             Воин (2015)  111017315 2015-09-28 12:00:00+00:00   \n",
       "2532                 Бармен.  111009615 2015-05-26 12:00:00+00:00   \n",
       "2615     Савва. Сердце воина  114001715 2015-07-21 12:00:00+00:00   \n",
       "2684          Тряпичный союз  111010215 2015-06-08 12:00:00+00:00   \n",
       "2788      Срочно выйду замуж  111017115 2015-09-30 12:00:00+00:00   \n",
       "2874       Помню - не помню!  111004916 2016-03-01 12:00:00+00:00   \n",
       "3047  Любовь с ограничениями  111008216 2016-04-29 12:00:00+00:00   \n",
       "3565       Притяжение (2016)  111018116 2016-12-16 12:00:00+00:00   \n",
       "3675                Чудо-юдо  114001817 2017-06-27 12:00:00+00:00   \n",
       "3739                    Мифы  111004317 2017-06-07 12:00:00+00:00   \n",
       "5673                   Селфи  111012117 2018-02-01 12:00:00+00:00   \n",
       "5806              Два хвоста  114001018 2018-05-31 12:00:00+00:00   \n",
       "6008      Принцесса и дракон  114003018 2018-08-23 12:00:00+00:00   \n",
       "6323                Баба Яга  114006518 2018-11-08 12:00:00+00:00   \n",
       "6823     Большое путешествие  114002419 2019-04-20 12:00:00+00:00   \n",
       "\n",
       "                type                                        film_studio  \\\n",
       "2053  Художественный                         ООО Киностудия  \"Сентябрь\"   \n",
       "2058  Художественный  ООО \"Киностудия \"Слово\", ООО \"Арт Пикчерс Студия\"   \n",
       "2472  Художественный   ООО \"Форпост Продакшн\", ООО \"Арт Пикчерс Студия\"   \n",
       "2532  Художественный          АО \"ВайТ Медиа\", ООО \"Арт Пикчерс Студия\"   \n",
       "2615    Анимационный   ООО \"Глюкоза Продакшн\", ООО \"Арт Пикчерс Студия\"   \n",
       "2684  Художественный                      ООО \"Кинокомпания \"КОКТЕБЕЛЬ\"   \n",
       "2788  Художественный          АО \"ВайТ Медиа\", ООО \"Арт Пикчерс Студия\"   \n",
       "2874  Художественный                                    ООО \"КиноФирма\"   \n",
       "3047  Художественный          АО \"ВайТ Медиа\", ООО \"Арт Пикчерс Студия\"   \n",
       "3565  Художественный      ООО \"Водород 2011\",  ООО \"Арт Пикчерс Студия\"   \n",
       "3675    Анимационный                                    ООО \"КиноФирма\"   \n",
       "3739  Художественный           ООО \"ХАЙПФИЛМ\", ООО \"Арт Пикчерс Студия\"   \n",
       "5673  Художественный  ООО \"Киностудия \"Слово\", ООО \"Арт Пикчерс Студия\"   \n",
       "5806    Анимационный                          ООО \"ЛИЦЕНЗИОННЫЕ БРЕНДЫ\"   \n",
       "6008    Анимационный                          ООО \"ЛИЦЕНЗИОННЫЕ БРЕНДЫ\"   \n",
       "6323    Анимационный                           ООО \"Арт Пикчерс Студия\"   \n",
       "6823    Анимационный                          ООО \"ЛИЦЕНЗИОННЫЕ БРЕНДЫ\"   \n",
       "\n",
       "     production_country                        director  \\\n",
       "2053             Россия                        А.Зайцев   \n",
       "2058             Россия                      Р.Прыгунов   \n",
       "2472             Россия                     А.Андрианов   \n",
       "2532             Россия                    Д.Штурманова   \n",
       "2615             Россия                        М.Фадеев   \n",
       "2684             Россия                     М.Местецкий   \n",
       "2788             Россия                       С Чекалов   \n",
       "2874             Россия                     В.Ровенский   \n",
       "3047             Россия                         Д.Тюрин   \n",
       "3565             Россия                     Ф.Бондарчук   \n",
       "3675             Россия                       А.Лукичев   \n",
       "3739             Россия                    А.Молочников   \n",
       "5673             Россия                      Н.Хомерики   \n",
       "5806             Россия  В.Ровенский, Н.Лопато, В.Азеев   \n",
       "6008             Россия                      М.Нефедова   \n",
       "6323             Россия                         В.Саков   \n",
       "6823             Россия           Н.Лопато, В.Ровенский   \n",
       "\n",
       "                                               producer  \\\n",
       "2053                                О.Гранина, А.Зайцев   \n",
       "2058                 П.Ануров, Ф.Бондарчук, Д.Рудовский   \n",
       "2472                           ООО \"Арт Пикчерс Студия\"   \n",
       "2532                                        Т.Вайнштейн   \n",
       "2615                                         А.Чистяков   \n",
       "2684                              Р.Борисевич, А.Кушаев   \n",
       "2788              Ф.Бондарчук, Т.Вайнштейн, Д.Рудовский   \n",
       "2874                                    ООО \"КиноФирма\"   \n",
       "3047              Ф.Бондарчук, Т.Вайнштейн, Д.Рудовский   \n",
       "3565                           ООО \"Арт Пикчерс Студия\"   \n",
       "3675                                    ООО \"КиноФирма\"   \n",
       "3739  Ф.Бондарчук, Д.Рудовский, И.Стюарт, М.Османн, ...   \n",
       "5673                 П.Ануров, Ф.Бондарчук, Д.Рудовский   \n",
       "5806                          ООО \"ЛИЦЕНЗИОННЫЕ БРЕНДЫ\"   \n",
       "6008                          ООО \"ЛИЦЕНЗИОННЫЕ БРЕНДЫ\"   \n",
       "6323  ООО \"Арт Пикчерс Студия\", ООО \"КРИЭЙТИВ АНИМЭЙ...   \n",
       "6823                          ООО \"ЛИЦЕНЗИОННЫЕ БРЕНДЫ\"   \n",
       "\n",
       "                      age_restriction  refundable_support  \\\n",
       "2053  «16+» - для детей старше 16 лет                0.00   \n",
       "2058  «16+» - для детей старше 16 лет                0.00   \n",
       "2472  «12+» - для детей старше 12 лет       10,000,000.00   \n",
       "2532  «16+» - для детей старше 16 лет       20,000,000.00   \n",
       "2615    «6+» - для детей старше 6 лет       60,000,000.00   \n",
       "2684      «18+» - запрещено для детей                0.00   \n",
       "2788  «16+» - для детей старше 16 лет                0.00   \n",
       "2874  «12+» - для детей старше 12 лет                0.00   \n",
       "3047  «16+» - для детей старше 16 лет       19,000,000.00   \n",
       "3565  «12+» - для детей старше 12 лет                0.00   \n",
       "3675    «6+» - для детей старше 6 лет       20,000,000.00   \n",
       "3739  «16+» - для детей старше 16 лет       25,000,000.00   \n",
       "5673  «16+» - для детей старше 16 лет       20,000,000.00   \n",
       "5806    «6+» - для детей старше 6 лет       10,000,000.00   \n",
       "6008    «6+» - для детей старше 6 лет       40,000,000.00   \n",
       "6323    «6+» - для детей старше 6 лет                0.00   \n",
       "6823    «6+» - для детей старше 6 лет       60,000,000.00   \n",
       "\n",
       "      nonrefundable_support  budget                  financing_source  \\\n",
       "2053          23,000,000.00    0.00  Министерство культуры, Фонд кино   \n",
       "2058          75,000,000.00    0.00                         Фонд кино   \n",
       "2472          70,000,000.00    0.00                         Фонд кино   \n",
       "2532                   0.00    0.00                         Фонд кино   \n",
       "2615         100,000,000.00    0.00                         Фонд кино   \n",
       "2684          59,000,000.00    0.00                         Фонд кино   \n",
       "2788          35,000,000.00    0.00                         Фонд кино   \n",
       "2874           6,000,000.00    0.00             Министерство культуры   \n",
       "3047          51,000,000.00    0.00                         Фонд кино   \n",
       "3565         250,000,000.00    0.00                         Фонд кино   \n",
       "3675          20,000,000.00    0.00                         Фонд кино   \n",
       "3739          20,000,000.00    0.00                         Фонд кино   \n",
       "5673          40,000,000.00    0.00                         Фонд кино   \n",
       "5806          60,000,000.00    0.00                         Фонд кино   \n",
       "6008          40,000,000.00    0.00                         Фонд кино   \n",
       "6323         138,969,465.00    0.00                         Фонд кино   \n",
       "6823         120,000,000.00    0.00                         Фонд кино   \n",
       "\n",
       "      ratings                          genres       box_office  \n",
       "2053      NaN                       мелодрама    10,234,016.10  \n",
       "2058      NaN                           драма   446,163,511.00  \n",
       "2472      NaN           боевик,драма,криминал   196,572,438.40  \n",
       "2532      NaN                 комедия,фэнтези    67,418,974.80  \n",
       "2615      NaN  мультфильм,приключения,фэнтези   184,487,551.40  \n",
       "2684      NaN                   комедия,драма     1,957,738.51  \n",
       "2788      NaN               комедия,мелодрама    72,937,783.20  \n",
       "2874      NaN                         комедия    15,362,931.43  \n",
       "3047      NaN               комедия,мелодрама    70,299,052.00  \n",
       "3565      NaN                      фантастика 1,038,321,489.00  \n",
       "3675      NaN     мультфильм,фэнтези,семейный    55,108,014.76  \n",
       "3739      NaN                         комедия    50,451,949.00  \n",
       "5673      NaN                   триллер,драма   225,196,400.03  \n",
       "5806      NaN              мультфильм,детский   106,514,301.03  \n",
       "6008      NaN      мультфильм,фэнтези,детский    83,366,328.66  \n",
       "6323      NaN                             NaN     1,334,699.40  \n",
       "6823      NaN  мультфильм,комедия,приключения   147,606,826.51  "
      ]
     },
     "execution_count": 36,
     "metadata": {},
     "output_type": "execute_result"
    }
   ],
   "source": [
    "df['budget'] = df['budget'].fillna(0)\n",
    "df.query('budget < (nonrefundable_support + refundable_support)')"
   ]
  },
  {
   "cell_type": "markdown",
   "metadata": {},
   "source": [
    "- я обнаружила столбцы, в которых бюджет указан 0, но есть государственная поддержка. Ниже я пишу функцию, чтобы заполнить пропущенные столбцы с бюджетом. В пропущенные столбцы с бюджетом пишу сумму государственной поддержки."
   ]
  },
  {
   "cell_type": "code",
   "execution_count": 37,
   "metadata": {},
   "outputs": [],
   "source": [
    "def budget_pass (row):\n",
    "    nonrefundable_support = row['nonrefundable_support']\n",
    "    refundable_support = row['refundable_support']\n",
    "    budget = row['budget']\n",
    "    if budget < (nonrefundable_support + refundable_support):\n",
    "        budget = nonrefundable_support + refundable_support\n",
    "        return budget\n",
    "df['budget'] = df.apply(budget_pass, axis=1)"
   ]
  },
  {
   "cell_type": "markdown",
   "metadata": {},
   "source": [
    "- Проверяю ниже как работает функция."
   ]
  },
  {
   "cell_type": "code",
   "execution_count": 38,
   "metadata": {},
   "outputs": [
    {
     "data": {
      "text/html": [
       "<div>\n",
       "<style scoped>\n",
       "    .dataframe tbody tr th:only-of-type {\n",
       "        vertical-align: middle;\n",
       "    }\n",
       "\n",
       "    .dataframe tbody tr th {\n",
       "        vertical-align: top;\n",
       "    }\n",
       "\n",
       "    .dataframe thead th {\n",
       "        text-align: right;\n",
       "    }\n",
       "</style>\n",
       "<table border=\"1\" class=\"dataframe\">\n",
       "  <thead>\n",
       "    <tr style=\"text-align: right;\">\n",
       "      <th></th>\n",
       "      <th>title</th>\n",
       "      <th>puNumber</th>\n",
       "      <th>show_start_date</th>\n",
       "      <th>type</th>\n",
       "      <th>film_studio</th>\n",
       "      <th>production_country</th>\n",
       "      <th>director</th>\n",
       "      <th>producer</th>\n",
       "      <th>age_restriction</th>\n",
       "      <th>refundable_support</th>\n",
       "      <th>nonrefundable_support</th>\n",
       "      <th>budget</th>\n",
       "      <th>financing_source</th>\n",
       "      <th>ratings</th>\n",
       "      <th>genres</th>\n",
       "      <th>box_office</th>\n",
       "    </tr>\n",
       "  </thead>\n",
       "  <tbody>\n",
       "    <tr>\n",
       "      <th>6823</th>\n",
       "      <td>Большое путешествие</td>\n",
       "      <td>114002419</td>\n",
       "      <td>2019-04-20 12:00:00+00:00</td>\n",
       "      <td>Анимационный</td>\n",
       "      <td>ООО \"ЛИЦЕНЗИОННЫЕ БРЕНДЫ\"</td>\n",
       "      <td>Россия</td>\n",
       "      <td>Н.Лопато, В.Ровенский</td>\n",
       "      <td>ООО \"ЛИЦЕНЗИОННЫЕ БРЕНДЫ\"</td>\n",
       "      <td>«6+» - для детей старше 6 лет</td>\n",
       "      <td>60,000,000.00</td>\n",
       "      <td>120,000,000.00</td>\n",
       "      <td>180,000,000.00</td>\n",
       "      <td>Фонд кино</td>\n",
       "      <td>NaN</td>\n",
       "      <td>мультфильм,комедия,приключения</td>\n",
       "      <td>147,606,826.51</td>\n",
       "    </tr>\n",
       "  </tbody>\n",
       "</table>\n",
       "</div>"
      ],
      "text/plain": [
       "                    title   puNumber           show_start_date          type  \\\n",
       "6823  Большое путешествие  114002419 2019-04-20 12:00:00+00:00  Анимационный   \n",
       "\n",
       "                    film_studio production_country               director  \\\n",
       "6823  ООО \"ЛИЦЕНЗИОННЫЕ БРЕНДЫ\"             Россия  Н.Лопато, В.Ровенский   \n",
       "\n",
       "                       producer                age_restriction  \\\n",
       "6823  ООО \"ЛИЦЕНЗИОННЫЕ БРЕНДЫ\"  «6+» - для детей старше 6 лет   \n",
       "\n",
       "      refundable_support  nonrefundable_support         budget  \\\n",
       "6823       60,000,000.00         120,000,000.00 180,000,000.00   \n",
       "\n",
       "     financing_source  ratings                          genres     box_office  \n",
       "6823        Фонд кино      NaN  мультфильм,комедия,приключения 147,606,826.51  "
      ]
     },
     "metadata": {},
     "output_type": "display_data"
    }
   ],
   "source": [
    "display (df[df['puNumber']==114002419])"
   ]
  },
  {
   "cell_type": "markdown",
   "metadata": {},
   "source": [
    "**Вывод по разделу**\\\n",
    "\\\n",
    "В разделе я проверяла количественные значения столбцов.\\\n",
    "Минимальный размер возвратного бюджетного финансирования **refunduble_support (возвратная поддержка государства)** - 3,5 млн. рублей, а максимальный - 180 млн. рублей\\\n",
    "\\\n",
    "Из данных видно, что медианный размер поддержки государства **(столбец refundable_support)** составляет 35 млн. руб. Т.е. распределение возвратной государственной поддержки: от 15 млн. до 50 млн. руб.\\\n",
    "\\\n",
    "Минимальный размер невозвратного бюджетного финансирования **nonrefundable_support (не возвратная поддержка)** - 3 млн. рублей, а максимальный - 400 млн. рублей.\n",
    "Медианный размер невозвратного бюджетного финансирования - 30 млн. руб., и распределение колеблется от 25 млн. до 40 млн. руб. Это очень странно, что не возвратная поддержка государства больше, чем возвратная.\\\n",
    "\\\n",
    "Бюджет большей части фильмов в столбце **budget** колеблется от 46 млн. руб. до 150 млн. руб. Медианный размер бюджета фильма - 130 млн. руб.\\\n",
    "\\\n",
    "В столбце **box_office (сборы в рублях)**:\\\n",
    "Медианные сборы:  2409099.36\\\n",
    "Средние сборы:  77064365.82\\\n",
    "\\\n",
    "Медианный размер сборов с показов фильма составляет 2,4 млн. руб. и колеблется от 100 тыс. до 24 млн. рублей.\n",
    "Сведений о размере сборов с показов фильма очень мало - около 300 строк. Необходимо больше информации для более подробных выводов.\\\n",
    "\\\n",
    "Разница между медианным и средним размером сборов с показов фильмов отличается в сотни раз. Это говорит о том, что наблюдается большой разброс значений. Что отдельные выбросы - слишком высокие значения в столбце box_office - искажают картину."
   ]
  },
  {
   "cell_type": "markdown",
   "metadata": {
    "id": "Eu6oWp2CgFyS"
   },
   "source": [
    "#### Шаг 2.6. Добавьте новые столбцы\n",
    "\n",
    "\n",
    "\n"
   ]
  },
  {
   "cell_type": "markdown",
   "metadata": {
    "id": "7GgW-UpAgFyS"
   },
   "source": [
    "- Создайте столбец с информацией о годе проката. Выделите год из даты премьеры фильма."
   ]
  },
  {
   "cell_type": "code",
   "execution_count": 39,
   "metadata": {
    "id": "I-yd1DkWgFyT"
   },
   "outputs": [
    {
     "data": {
      "text/plain": [
       "0       2015\n",
       "1       2016\n",
       "2       2016\n",
       "3       2016\n",
       "4       2015\n",
       "        ... \n",
       "7481    2019\n",
       "7482    2019\n",
       "7483    2019\n",
       "7484    2019\n",
       "7485    2019\n",
       "Name: year_start, Length: 7486, dtype: int64"
      ]
     },
     "metadata": {},
     "output_type": "display_data"
    }
   ],
   "source": [
    "df['year_start'] = df['show_start_date'].dt.year\n",
    "display (df['year_start'])"
   ]
  },
  {
   "cell_type": "code",
   "execution_count": 40,
   "metadata": {
    "id": "LSbRZKbMgFyU"
   },
   "outputs": [
    {
     "data": {
      "text/html": [
       "<div>\n",
       "<style scoped>\n",
       "    .dataframe tbody tr th:only-of-type {\n",
       "        vertical-align: middle;\n",
       "    }\n",
       "\n",
       "    .dataframe tbody tr th {\n",
       "        vertical-align: top;\n",
       "    }\n",
       "\n",
       "    .dataframe thead th {\n",
       "        text-align: right;\n",
       "    }\n",
       "</style>\n",
       "<table border=\"1\" class=\"dataframe\">\n",
       "  <thead>\n",
       "    <tr style=\"text-align: right;\">\n",
       "      <th></th>\n",
       "      <th>head_genre</th>\n",
       "      <th>genres</th>\n",
       "    </tr>\n",
       "  </thead>\n",
       "  <tbody>\n",
       "    <tr>\n",
       "      <th>0</th>\n",
       "      <td>боевик</td>\n",
       "      <td>боевик,драма,мелодрама</td>\n",
       "    </tr>\n",
       "    <tr>\n",
       "      <th>1</th>\n",
       "      <td>драма</td>\n",
       "      <td>драма,военный</td>\n",
       "    </tr>\n",
       "    <tr>\n",
       "      <th>2</th>\n",
       "      <td>фантастика</td>\n",
       "      <td>фантастика,боевик,триллер</td>\n",
       "    </tr>\n",
       "    <tr>\n",
       "      <th>3</th>\n",
       "      <td>фантастика</td>\n",
       "      <td>фантастика,боевик,триллер</td>\n",
       "    </tr>\n",
       "    <tr>\n",
       "      <th>4</th>\n",
       "      <td>фантастика</td>\n",
       "      <td>фантастика,боевик,триллер</td>\n",
       "    </tr>\n",
       "  </tbody>\n",
       "</table>\n",
       "</div>"
      ],
      "text/plain": [
       "   head_genre                     genres\n",
       "0      боевик     боевик,драма,мелодрама\n",
       "1       драма              драма,военный\n",
       "2  фантастика  фантастика,боевик,триллер\n",
       "3  фантастика  фантастика,боевик,триллер\n",
       "4  фантастика  фантастика,боевик,триллер"
      ]
     },
     "metadata": {},
     "output_type": "display_data"
    },
    {
     "data": {
      "text/html": [
       "<div>\n",
       "<style scoped>\n",
       "    .dataframe tbody tr th:only-of-type {\n",
       "        vertical-align: middle;\n",
       "    }\n",
       "\n",
       "    .dataframe tbody tr th {\n",
       "        vertical-align: top;\n",
       "    }\n",
       "\n",
       "    .dataframe thead th {\n",
       "        text-align: right;\n",
       "    }\n",
       "</style>\n",
       "<table border=\"1\" class=\"dataframe\">\n",
       "  <thead>\n",
       "    <tr style=\"text-align: right;\">\n",
       "      <th></th>\n",
       "      <th>head_director</th>\n",
       "      <th>director</th>\n",
       "    </tr>\n",
       "  </thead>\n",
       "  <tbody>\n",
       "    <tr>\n",
       "      <th>0</th>\n",
       "      <td>Кевин Костнер</td>\n",
       "      <td>Кевин Костнер</td>\n",
       "    </tr>\n",
       "    <tr>\n",
       "      <th>1</th>\n",
       "      <td>Е.Матвеев</td>\n",
       "      <td>Е.Матвеев</td>\n",
       "    </tr>\n",
       "    <tr>\n",
       "      <th>2</th>\n",
       "      <td>Тимур Бекмамбетов</td>\n",
       "      <td>Тимур Бекмамбетов</td>\n",
       "    </tr>\n",
       "    <tr>\n",
       "      <th>3</th>\n",
       "      <td>Тимур Бекмамбетов</td>\n",
       "      <td>Тимур Бекмамбетов</td>\n",
       "    </tr>\n",
       "    <tr>\n",
       "      <th>4</th>\n",
       "      <td>Тимур Бекмамбетов</td>\n",
       "      <td>Тимур Бекмамбетов</td>\n",
       "    </tr>\n",
       "  </tbody>\n",
       "</table>\n",
       "</div>"
      ],
      "text/plain": [
       "       head_director           director\n",
       "0      Кевин Костнер      Кевин Костнер\n",
       "1          Е.Матвеев          Е.Матвеев\n",
       "2  Тимур Бекмамбетов  Тимур Бекмамбетов\n",
       "3  Тимур Бекмамбетов  Тимур Бекмамбетов\n",
       "4  Тимур Бекмамбетов  Тимур Бекмамбетов"
      ]
     },
     "metadata": {},
     "output_type": "display_data"
    }
   ],
   "source": [
    "df['head_genre'] = df['genres'].str.split(\",\").str[0]\n",
    "display (df[['head_genre', 'genres']].head(5))\n",
    "df['head_director'] = df['director'].str.split(\",\").str[0]\n",
    "display (df[['head_director', 'director']].head(5))"
   ]
  },
  {
   "cell_type": "markdown",
   "metadata": {
    "id": "1FsCXHwdgFyU"
   },
   "source": [
    "- Посчитайте, какую долю от общего бюджета фильма составляет государственная поддержка."
   ]
  },
  {
   "cell_type": "code",
   "execution_count": 41,
   "metadata": {
    "id": "LV6qFuZLgFyV"
   },
   "outputs": [
    {
     "data": {
      "text/html": [
       "<div>\n",
       "<style scoped>\n",
       "    .dataframe tbody tr th:only-of-type {\n",
       "        vertical-align: middle;\n",
       "    }\n",
       "\n",
       "    .dataframe tbody tr th {\n",
       "        vertical-align: top;\n",
       "    }\n",
       "\n",
       "    .dataframe thead th {\n",
       "        text-align: right;\n",
       "    }\n",
       "</style>\n",
       "<table border=\"1\" class=\"dataframe\">\n",
       "  <thead>\n",
       "    <tr style=\"text-align: right;\">\n",
       "      <th></th>\n",
       "      <th>title</th>\n",
       "      <th>puNumber</th>\n",
       "      <th>show_start_date</th>\n",
       "      <th>type</th>\n",
       "      <th>film_studio</th>\n",
       "      <th>production_country</th>\n",
       "      <th>director</th>\n",
       "      <th>producer</th>\n",
       "      <th>age_restriction</th>\n",
       "      <th>refundable_support</th>\n",
       "      <th>nonrefundable_support</th>\n",
       "      <th>budget</th>\n",
       "      <th>financing_source</th>\n",
       "      <th>ratings</th>\n",
       "      <th>genres</th>\n",
       "      <th>box_office</th>\n",
       "      <th>year_start</th>\n",
       "      <th>head_genre</th>\n",
       "      <th>head_director</th>\n",
       "      <th>share_support_%</th>\n",
       "    </tr>\n",
       "  </thead>\n",
       "  <tbody>\n",
       "    <tr>\n",
       "      <th>2053</th>\n",
       "      <td>14+</td>\n",
       "      <td>111023614</td>\n",
       "      <td>2014-12-19 12:00:00+00:00</td>\n",
       "      <td>Художественный</td>\n",
       "      <td>ООО Киностудия  \"Сентябрь\"</td>\n",
       "      <td>Россия</td>\n",
       "      <td>А.Зайцев</td>\n",
       "      <td>О.Гранина, А.Зайцев</td>\n",
       "      <td>«16+» - для детей старше 16 лет</td>\n",
       "      <td>0.00</td>\n",
       "      <td>23,000,000.00</td>\n",
       "      <td>23,000,000.00</td>\n",
       "      <td>Министерство культуры, Фонд кино</td>\n",
       "      <td>NaN</td>\n",
       "      <td>мелодрама</td>\n",
       "      <td>10,234,016.10</td>\n",
       "      <td>2014</td>\n",
       "      <td>мелодрама</td>\n",
       "      <td>А.Зайцев</td>\n",
       "      <td>100.00</td>\n",
       "    </tr>\n",
       "    <tr>\n",
       "      <th>2058</th>\n",
       "      <td>Дуxless 2</td>\n",
       "      <td>111000415</td>\n",
       "      <td>2015-01-26 12:00:00+00:00</td>\n",
       "      <td>Художественный</td>\n",
       "      <td>ООО \"Киностудия \"Слово\", ООО \"Арт Пикчерс Студия\"</td>\n",
       "      <td>Россия</td>\n",
       "      <td>Р.Прыгунов</td>\n",
       "      <td>П.Ануров, Ф.Бондарчук, Д.Рудовский</td>\n",
       "      <td>«16+» - для детей старше 16 лет</td>\n",
       "      <td>0.00</td>\n",
       "      <td>75,000,000.00</td>\n",
       "      <td>75,000,000.00</td>\n",
       "      <td>Фонд кино</td>\n",
       "      <td>NaN</td>\n",
       "      <td>драма</td>\n",
       "      <td>446,163,511.00</td>\n",
       "      <td>2015</td>\n",
       "      <td>драма</td>\n",
       "      <td>Р.Прыгунов</td>\n",
       "      <td>100.00</td>\n",
       "    </tr>\n",
       "    <tr>\n",
       "      <th>2472</th>\n",
       "      <td>Воин (2015)</td>\n",
       "      <td>111017315</td>\n",
       "      <td>2015-09-28 12:00:00+00:00</td>\n",
       "      <td>Художественный</td>\n",
       "      <td>ООО \"Форпост Продакшн\", ООО \"Арт Пикчерс Студия\"</td>\n",
       "      <td>Россия</td>\n",
       "      <td>А.Андрианов</td>\n",
       "      <td>ООО \"Арт Пикчерс Студия\"</td>\n",
       "      <td>«12+» - для детей старше 12 лет</td>\n",
       "      <td>10,000,000.00</td>\n",
       "      <td>70,000,000.00</td>\n",
       "      <td>80,000,000.00</td>\n",
       "      <td>Фонд кино</td>\n",
       "      <td>NaN</td>\n",
       "      <td>боевик,драма,криминал</td>\n",
       "      <td>196,572,438.40</td>\n",
       "      <td>2015</td>\n",
       "      <td>боевик</td>\n",
       "      <td>А.Андрианов</td>\n",
       "      <td>100.00</td>\n",
       "    </tr>\n",
       "  </tbody>\n",
       "</table>\n",
       "</div>"
      ],
      "text/plain": [
       "            title   puNumber           show_start_date            type  \\\n",
       "2053          14+  111023614 2014-12-19 12:00:00+00:00  Художественный   \n",
       "2058    Дуxless 2  111000415 2015-01-26 12:00:00+00:00  Художественный   \n",
       "2472  Воин (2015)  111017315 2015-09-28 12:00:00+00:00  Художественный   \n",
       "\n",
       "                                            film_studio production_country  \\\n",
       "2053                         ООО Киностудия  \"Сентябрь\"             Россия   \n",
       "2058  ООО \"Киностудия \"Слово\", ООО \"Арт Пикчерс Студия\"             Россия   \n",
       "2472   ООО \"Форпост Продакшн\", ООО \"Арт Пикчерс Студия\"             Россия   \n",
       "\n",
       "         director                            producer  \\\n",
       "2053     А.Зайцев                 О.Гранина, А.Зайцев   \n",
       "2058   Р.Прыгунов  П.Ануров, Ф.Бондарчук, Д.Рудовский   \n",
       "2472  А.Андрианов            ООО \"Арт Пикчерс Студия\"   \n",
       "\n",
       "                      age_restriction  refundable_support  \\\n",
       "2053  «16+» - для детей старше 16 лет                0.00   \n",
       "2058  «16+» - для детей старше 16 лет                0.00   \n",
       "2472  «12+» - для детей старше 12 лет       10,000,000.00   \n",
       "\n",
       "      nonrefundable_support        budget                  financing_source  \\\n",
       "2053          23,000,000.00 23,000,000.00  Министерство культуры, Фонд кино   \n",
       "2058          75,000,000.00 75,000,000.00                         Фонд кино   \n",
       "2472          70,000,000.00 80,000,000.00                         Фонд кино   \n",
       "\n",
       "      ratings                 genres     box_office  year_start head_genre  \\\n",
       "2053      NaN              мелодрама  10,234,016.10        2014  мелодрама   \n",
       "2058      NaN                  драма 446,163,511.00        2015      драма   \n",
       "2472      NaN  боевик,драма,криминал 196,572,438.40        2015     боевик   \n",
       "\n",
       "     head_director  share_support_%  \n",
       "2053      А.Зайцев           100.00  \n",
       "2058    Р.Прыгунов           100.00  \n",
       "2472   А.Андрианов           100.00  "
      ]
     },
     "metadata": {},
     "output_type": "display_data"
    }
   ],
   "source": [
    "df['share_support_%'] = (df['refundable_support'] + df['nonrefundable_support'])*100/df['budget']\n",
    "display (df[df['budget']>0].head(3))"
   ]
  },
  {
   "cell_type": "markdown",
   "metadata": {},
   "source": [
    "- Добавляю столбец с расчетом окупаемости фильма"
   ]
  },
  {
   "cell_type": "code",
   "execution_count": 42,
   "metadata": {},
   "outputs": [
    {
     "data": {
      "text/html": [
       "<div>\n",
       "<style scoped>\n",
       "    .dataframe tbody tr th:only-of-type {\n",
       "        vertical-align: middle;\n",
       "    }\n",
       "\n",
       "    .dataframe tbody tr th {\n",
       "        vertical-align: top;\n",
       "    }\n",
       "\n",
       "    .dataframe thead th {\n",
       "        text-align: right;\n",
       "    }\n",
       "</style>\n",
       "<table border=\"1\" class=\"dataframe\">\n",
       "  <thead>\n",
       "    <tr style=\"text-align: right;\">\n",
       "      <th></th>\n",
       "      <th>title</th>\n",
       "      <th>puNumber</th>\n",
       "      <th>show_start_date</th>\n",
       "      <th>type</th>\n",
       "      <th>film_studio</th>\n",
       "      <th>production_country</th>\n",
       "      <th>director</th>\n",
       "      <th>producer</th>\n",
       "      <th>age_restriction</th>\n",
       "      <th>refundable_support</th>\n",
       "      <th>nonrefundable_support</th>\n",
       "      <th>budget</th>\n",
       "      <th>financing_source</th>\n",
       "      <th>ratings</th>\n",
       "      <th>genres</th>\n",
       "      <th>box_office</th>\n",
       "      <th>year_start</th>\n",
       "      <th>head_genre</th>\n",
       "      <th>head_director</th>\n",
       "      <th>share_support_%</th>\n",
       "      <th>payback_%</th>\n",
       "    </tr>\n",
       "  </thead>\n",
       "  <tbody>\n",
       "    <tr>\n",
       "      <th>2053</th>\n",
       "      <td>14+</td>\n",
       "      <td>111023614</td>\n",
       "      <td>2014-12-19 12:00:00+00:00</td>\n",
       "      <td>Художественный</td>\n",
       "      <td>ООО Киностудия  \"Сентябрь\"</td>\n",
       "      <td>Россия</td>\n",
       "      <td>А.Зайцев</td>\n",
       "      <td>О.Гранина, А.Зайцев</td>\n",
       "      <td>«16+» - для детей старше 16 лет</td>\n",
       "      <td>0.00</td>\n",
       "      <td>23,000,000.00</td>\n",
       "      <td>23,000,000.00</td>\n",
       "      <td>Министерство культуры, Фонд кино</td>\n",
       "      <td>NaN</td>\n",
       "      <td>мелодрама</td>\n",
       "      <td>10,234,016.10</td>\n",
       "      <td>2014</td>\n",
       "      <td>мелодрама</td>\n",
       "      <td>А.Зайцев</td>\n",
       "      <td>100.00</td>\n",
       "      <td>44.50</td>\n",
       "    </tr>\n",
       "    <tr>\n",
       "      <th>2058</th>\n",
       "      <td>Дуxless 2</td>\n",
       "      <td>111000415</td>\n",
       "      <td>2015-01-26 12:00:00+00:00</td>\n",
       "      <td>Художественный</td>\n",
       "      <td>ООО \"Киностудия \"Слово\", ООО \"Арт Пикчерс Студия\"</td>\n",
       "      <td>Россия</td>\n",
       "      <td>Р.Прыгунов</td>\n",
       "      <td>П.Ануров, Ф.Бондарчук, Д.Рудовский</td>\n",
       "      <td>«16+» - для детей старше 16 лет</td>\n",
       "      <td>0.00</td>\n",
       "      <td>75,000,000.00</td>\n",
       "      <td>75,000,000.00</td>\n",
       "      <td>Фонд кино</td>\n",
       "      <td>NaN</td>\n",
       "      <td>драма</td>\n",
       "      <td>446,163,511.00</td>\n",
       "      <td>2015</td>\n",
       "      <td>драма</td>\n",
       "      <td>Р.Прыгунов</td>\n",
       "      <td>100.00</td>\n",
       "      <td>594.88</td>\n",
       "    </tr>\n",
       "    <tr>\n",
       "      <th>2472</th>\n",
       "      <td>Воин (2015)</td>\n",
       "      <td>111017315</td>\n",
       "      <td>2015-09-28 12:00:00+00:00</td>\n",
       "      <td>Художественный</td>\n",
       "      <td>ООО \"Форпост Продакшн\", ООО \"Арт Пикчерс Студия\"</td>\n",
       "      <td>Россия</td>\n",
       "      <td>А.Андрианов</td>\n",
       "      <td>ООО \"Арт Пикчерс Студия\"</td>\n",
       "      <td>«12+» - для детей старше 12 лет</td>\n",
       "      <td>10,000,000.00</td>\n",
       "      <td>70,000,000.00</td>\n",
       "      <td>80,000,000.00</td>\n",
       "      <td>Фонд кино</td>\n",
       "      <td>NaN</td>\n",
       "      <td>боевик,драма,криминал</td>\n",
       "      <td>196,572,438.40</td>\n",
       "      <td>2015</td>\n",
       "      <td>боевик</td>\n",
       "      <td>А.Андрианов</td>\n",
       "      <td>100.00</td>\n",
       "      <td>245.72</td>\n",
       "    </tr>\n",
       "    <tr>\n",
       "      <th>2532</th>\n",
       "      <td>Бармен.</td>\n",
       "      <td>111009615</td>\n",
       "      <td>2015-05-26 12:00:00+00:00</td>\n",
       "      <td>Художественный</td>\n",
       "      <td>АО \"ВайТ Медиа\", ООО \"Арт Пикчерс Студия\"</td>\n",
       "      <td>Россия</td>\n",
       "      <td>Д.Штурманова</td>\n",
       "      <td>Т.Вайнштейн</td>\n",
       "      <td>«16+» - для детей старше 16 лет</td>\n",
       "      <td>20,000,000.00</td>\n",
       "      <td>0.00</td>\n",
       "      <td>20,000,000.00</td>\n",
       "      <td>Фонд кино</td>\n",
       "      <td>NaN</td>\n",
       "      <td>комедия,фэнтези</td>\n",
       "      <td>67,418,974.80</td>\n",
       "      <td>2015</td>\n",
       "      <td>комедия</td>\n",
       "      <td>Д.Штурманова</td>\n",
       "      <td>100.00</td>\n",
       "      <td>337.09</td>\n",
       "    </tr>\n",
       "    <tr>\n",
       "      <th>2615</th>\n",
       "      <td>Савва. Сердце воина</td>\n",
       "      <td>114001715</td>\n",
       "      <td>2015-07-21 12:00:00+00:00</td>\n",
       "      <td>Анимационный</td>\n",
       "      <td>ООО \"Глюкоза Продакшн\", ООО \"Арт Пикчерс Студия\"</td>\n",
       "      <td>Россия</td>\n",
       "      <td>М.Фадеев</td>\n",
       "      <td>А.Чистяков</td>\n",
       "      <td>«6+» - для детей старше 6 лет</td>\n",
       "      <td>60,000,000.00</td>\n",
       "      <td>100,000,000.00</td>\n",
       "      <td>160,000,000.00</td>\n",
       "      <td>Фонд кино</td>\n",
       "      <td>NaN</td>\n",
       "      <td>мультфильм,приключения,фэнтези</td>\n",
       "      <td>184,487,551.40</td>\n",
       "      <td>2015</td>\n",
       "      <td>мультфильм</td>\n",
       "      <td>М.Фадеев</td>\n",
       "      <td>100.00</td>\n",
       "      <td>115.30</td>\n",
       "    </tr>\n",
       "  </tbody>\n",
       "</table>\n",
       "</div>"
      ],
      "text/plain": [
       "                    title   puNumber           show_start_date  \\\n",
       "2053                  14+  111023614 2014-12-19 12:00:00+00:00   \n",
       "2058            Дуxless 2  111000415 2015-01-26 12:00:00+00:00   \n",
       "2472          Воин (2015)  111017315 2015-09-28 12:00:00+00:00   \n",
       "2532              Бармен.  111009615 2015-05-26 12:00:00+00:00   \n",
       "2615  Савва. Сердце воина  114001715 2015-07-21 12:00:00+00:00   \n",
       "\n",
       "                type                                        film_studio  \\\n",
       "2053  Художественный                         ООО Киностудия  \"Сентябрь\"   \n",
       "2058  Художественный  ООО \"Киностудия \"Слово\", ООО \"Арт Пикчерс Студия\"   \n",
       "2472  Художественный   ООО \"Форпост Продакшн\", ООО \"Арт Пикчерс Студия\"   \n",
       "2532  Художественный          АО \"ВайТ Медиа\", ООО \"Арт Пикчерс Студия\"   \n",
       "2615    Анимационный   ООО \"Глюкоза Продакшн\", ООО \"Арт Пикчерс Студия\"   \n",
       "\n",
       "     production_country      director                            producer  \\\n",
       "2053             Россия      А.Зайцев                 О.Гранина, А.Зайцев   \n",
       "2058             Россия    Р.Прыгунов  П.Ануров, Ф.Бондарчук, Д.Рудовский   \n",
       "2472             Россия   А.Андрианов            ООО \"Арт Пикчерс Студия\"   \n",
       "2532             Россия  Д.Штурманова                         Т.Вайнштейн   \n",
       "2615             Россия      М.Фадеев                          А.Чистяков   \n",
       "\n",
       "                      age_restriction  refundable_support  \\\n",
       "2053  «16+» - для детей старше 16 лет                0.00   \n",
       "2058  «16+» - для детей старше 16 лет                0.00   \n",
       "2472  «12+» - для детей старше 12 лет       10,000,000.00   \n",
       "2532  «16+» - для детей старше 16 лет       20,000,000.00   \n",
       "2615    «6+» - для детей старше 6 лет       60,000,000.00   \n",
       "\n",
       "      nonrefundable_support         budget                  financing_source  \\\n",
       "2053          23,000,000.00  23,000,000.00  Министерство культуры, Фонд кино   \n",
       "2058          75,000,000.00  75,000,000.00                         Фонд кино   \n",
       "2472          70,000,000.00  80,000,000.00                         Фонд кино   \n",
       "2532                   0.00  20,000,000.00                         Фонд кино   \n",
       "2615         100,000,000.00 160,000,000.00                         Фонд кино   \n",
       "\n",
       "      ratings                          genres     box_office  year_start  \\\n",
       "2053      NaN                       мелодрама  10,234,016.10        2014   \n",
       "2058      NaN                           драма 446,163,511.00        2015   \n",
       "2472      NaN           боевик,драма,криминал 196,572,438.40        2015   \n",
       "2532      NaN                 комедия,фэнтези  67,418,974.80        2015   \n",
       "2615      NaN  мультфильм,приключения,фэнтези 184,487,551.40        2015   \n",
       "\n",
       "      head_genre head_director  share_support_%  payback_%  \n",
       "2053   мелодрама      А.Зайцев           100.00      44.50  \n",
       "2058       драма    Р.Прыгунов           100.00     594.88  \n",
       "2472      боевик   А.Андрианов           100.00     245.72  \n",
       "2532     комедия  Д.Штурманова           100.00     337.09  \n",
       "2615  мультфильм      М.Фадеев           100.00     115.30  "
      ]
     },
     "metadata": {},
     "output_type": "display_data"
    }
   ],
   "source": [
    "df['payback_%'] = df['box_office']/df['budget']*100\n",
    "display (df.query('box_office > 0 and budget >0').head(5))"
   ]
  },
  {
   "cell_type": "markdown",
   "metadata": {},
   "source": [
    "**Добавила в датафрейм новые столбцы: основной жанр, главный режиссер, год проката, доля государственной поддержки в фильме, расчет окупаемости фильма**"
   ]
  },
  {
   "cell_type": "markdown",
   "metadata": {
    "id": "6t4EukPLgFyV"
   },
   "source": [
    "### Шаг 3. Проведите исследовательский анализ данных\n"
   ]
  },
  {
   "cell_type": "markdown",
   "metadata": {
    "id": "vAH8WCzugFyV"
   },
   "source": [
    "- Посмотрите, сколько фильмов выходило в прокат каждый год. Обратите внимание, что данные о прокате в кинотеатрах известны не для всех фильмов. Посчитайте, какую долю составляют фильмы с указанной информацией о прокате в кинотеатрах."
   ]
  },
  {
   "cell_type": "markdown",
   "metadata": {
    "id": "ABeV47y7gFyW"
   },
   "source": [
    "**Cмотрю сколько фильмов выходило в прокат каждый год**"
   ]
  },
  {
   "cell_type": "code",
   "execution_count": 43,
   "metadata": {
    "scrolled": true
   },
   "outputs": [
    {
     "data": {
      "text/plain": [
       "year_start\n",
       "2017    505\n",
       "2012    593\n",
       "2011    622\n",
       "2013    630\n",
       "2015    705\n",
       "2014    807\n",
       "2016    818\n",
       "2018    891\n",
       "2019    930\n",
       "2010    985\n",
       "Name: title, dtype: int64"
      ]
     },
     "metadata": {},
     "output_type": "display_data"
    },
    {
     "data": {
      "text/plain": [
       "year_start\n",
       "2015    705\n",
       "2016    818\n",
       "2013    630\n",
       "2014    807\n",
       "2012    593\n",
       "2017    505\n",
       "2010    985\n",
       "2011    622\n",
       "2018    891\n",
       "2019    930\n",
       "Name: title, dtype: int64"
      ]
     },
     "metadata": {},
     "output_type": "display_data"
    }
   ],
   "source": [
    "df_year = df.groupby('year_start', sort=False).count()\n",
    "display (df_year['title'].sort_values())\n",
    "display (df_year['title'])"
   ]
  },
  {
   "cell_type": "markdown",
   "metadata": {},
   "source": [
    "Меньше всего фильмов выходило в 2017 году, а больше всего - в 2010 году."
   ]
  },
  {
   "cell_type": "markdown",
   "metadata": {},
   "source": [
    "**Информация о сборах фильма указана в столбце box_office. Считаю какую долю составляют фильмы с указанной информацией о сборах**"
   ]
  },
  {
   "cell_type": "code",
   "execution_count": 44,
   "metadata": {},
   "outputs": [
    {
     "name": "stdout",
     "output_type": "stream",
     "text": [
      "Информация о сборах фильма есть у 41.86 % фильмов\n"
     ]
    }
   ],
   "source": [
    "box_office = df[df['box_office']>0]['title'].count()\n",
    "title = df['title'].count()\n",
    "percent_box_office = box_office*100/title\n",
    "print ('Информация о сборах фильма есть у', round(percent_box_office, 2), '% фильмов')"
   ]
  },
  {
   "cell_type": "code",
   "execution_count": 45,
   "metadata": {},
   "outputs": [
    {
     "data": {
      "text/plain": [
       "year_start\n",
       "2010        2,428,654.00\n",
       "2012        6,955,423.00\n",
       "2011       14,102,765.00\n",
       "2013       29,799,706.20\n",
       "2014    7,444,951,859.20\n",
       "2015   39,497,365,196.40\n",
       "2016   47,866,299,741.91\n",
       "2019   48,425,708,779.59\n",
       "2017   48,563,707,217.51\n",
       "2018   49,668,403,134.32\n",
       "Name: box_office, dtype: float64"
      ]
     },
     "metadata": {},
     "output_type": "display_data"
    }
   ],
   "source": [
    "box_office = df[df['box_office']>0]\n",
    "box_office = box_office.groupby('year_start')\n",
    "box_office_sum = box_office['box_office'].sum().sort_values()\n",
    "display (box_office_sum)"
   ]
  },
  {
   "cell_type": "markdown",
   "metadata": {
    "id": "BEOdcIrIgFyW"
   },
   "source": [
    "- Изучите, как менялась динамика проката по годам. В каком году сумма сборов была минимальной? А максимальной?"
   ]
  },
  {
   "cell_type": "code",
   "execution_count": 46,
   "metadata": {
    "id": "tfEhofYvgFyX"
   },
   "outputs": [
    {
     "data": {
      "text/plain": [
       "year_start\n",
       "2010        2,428,654.00\n",
       "2012        6,955,423.00\n",
       "2011       14,102,765.00\n",
       "2013       29,799,706.20\n",
       "2014    7,444,951,859.20\n",
       "2015   39,497,365,196.40\n",
       "2016   47,866,299,741.91\n",
       "2019   48,425,708,779.59\n",
       "2017   48,563,707,217.51\n",
       "2018   49,668,403,134.32\n",
       "Name: box_office, dtype: float64"
      ]
     },
     "metadata": {},
     "output_type": "display_data"
    }
   ],
   "source": [
    "df_year_box = df.groupby('year_start')\n",
    "df_year_box_sum = df_year_box['box_office'].sum().sort_values()\n",
    "display (df_year_box_sum)"
   ]
  },
  {
   "cell_type": "markdown",
   "metadata": {},
   "source": [
    "Минимальная сумма сборов была в 2010 году, а максимальная - в 2018 году."
   ]
  },
  {
   "cell_type": "markdown",
   "metadata": {
    "id": "G-7qS-N-gFyY"
   },
   "source": [
    "- С помощью сводной таблицы посчитайте среднюю и медианную сумму сборов для каждого года."
   ]
  },
  {
   "cell_type": "markdown",
   "metadata": {},
   "source": [
    "**Считаю медианную сумму сборов для каждого года**"
   ]
  },
  {
   "cell_type": "code",
   "execution_count": 47,
   "metadata": {
    "id": "jmp-rgg9gFyY"
   },
   "outputs": [],
   "source": [
    "box_office_median_year = df.query('box_office > 0').pivot_table(index='year_start',\\\n",
    "                                                                values='box_office', aggfunc='median').reset_index()"
   ]
  },
  {
   "cell_type": "markdown",
   "metadata": {},
   "source": [
    "**Считаю среднюю сумму сборов для каждого года**"
   ]
  },
  {
   "cell_type": "code",
   "execution_count": 48,
   "metadata": {
    "scrolled": true
   },
   "outputs": [
    {
     "data": {
      "image/png": "[encoded data removed]",
      "text/plain": [
       "<Figure size 1440x360 with 1 Axes>"
      ]
     },
     "metadata": {
      "needs_background": "light"
     },
     "output_type": "display_data"
    }
   ],
   "source": [
    "box_office_mean_year = df.query('box_office > 0').pivot_table(index='year_start', \\\n",
    "                                                              values='box_office').reset_index()\n",
    "ax = box_office_median_year.plot(x='year_start', y='box_office', grid=True, figsize=(20, 5), style='o-')\n",
    "box_office_mean_year.plot(x='year_start', y='box_office', grid=True, figsize=(20, 5), style='o-', ax=ax)\n",
    "None"
   ]
  },
  {
   "cell_type": "markdown",
   "metadata": {},
   "source": [
    "Пик сборов за фильмы произошел в 2017 году и с тех пор плавно снижается."
   ]
  },
  {
   "cell_type": "markdown",
   "metadata": {},
   "source": [
    "**Вывожу сводную таблицу, в которой указываю год, медианные сборы, средние сборы**"
   ]
  },
  {
   "cell_type": "code",
   "execution_count": 49,
   "metadata": {},
   "outputs": [
    {
     "data": {
      "text/html": [
       "<div>\n",
       "<style scoped>\n",
       "    .dataframe tbody tr th:only-of-type {\n",
       "        vertical-align: middle;\n",
       "    }\n",
       "\n",
       "    .dataframe tbody tr th {\n",
       "        vertical-align: top;\n",
       "    }\n",
       "\n",
       "    .dataframe thead th {\n",
       "        text-align: right;\n",
       "    }\n",
       "</style>\n",
       "<table border=\"1\" class=\"dataframe\">\n",
       "  <thead>\n",
       "    <tr style=\"text-align: right;\">\n",
       "      <th></th>\n",
       "      <th>year_start</th>\n",
       "      <th>box_office_median</th>\n",
       "      <th>box_office_mean</th>\n",
       "    </tr>\n",
       "  </thead>\n",
       "  <tbody>\n",
       "    <tr>\n",
       "      <th>0</th>\n",
       "      <td>2010</td>\n",
       "      <td>1,710.00</td>\n",
       "      <td>24,046.08</td>\n",
       "    </tr>\n",
       "    <tr>\n",
       "      <th>1</th>\n",
       "      <td>2011</td>\n",
       "      <td>3,000.00</td>\n",
       "      <td>129,383.17</td>\n",
       "    </tr>\n",
       "    <tr>\n",
       "      <th>2</th>\n",
       "      <td>2012</td>\n",
       "      <td>6,220.00</td>\n",
       "      <td>56,548.15</td>\n",
       "    </tr>\n",
       "    <tr>\n",
       "      <th>3</th>\n",
       "      <td>2013</td>\n",
       "      <td>3,580.00</td>\n",
       "      <td>166,478.81</td>\n",
       "    </tr>\n",
       "    <tr>\n",
       "      <th>4</th>\n",
       "      <td>2014</td>\n",
       "      <td>20,400.00</td>\n",
       "      <td>27,270,885.93</td>\n",
       "    </tr>\n",
       "    <tr>\n",
       "      <th>5</th>\n",
       "      <td>2015</td>\n",
       "      <td>5,003,450.15</td>\n",
       "      <td>85,492,132.46</td>\n",
       "    </tr>\n",
       "    <tr>\n",
       "      <th>6</th>\n",
       "      <td>2016</td>\n",
       "      <td>3,915,041.02</td>\n",
       "      <td>91,173,904.27</td>\n",
       "    </tr>\n",
       "    <tr>\n",
       "      <th>7</th>\n",
       "      <td>2017</td>\n",
       "      <td>9,968,340.00</td>\n",
       "      <td>136,032,793.33</td>\n",
       "    </tr>\n",
       "    <tr>\n",
       "      <th>8</th>\n",
       "      <td>2018</td>\n",
       "      <td>8,891,102.21</td>\n",
       "      <td>104,565,059.23</td>\n",
       "    </tr>\n",
       "    <tr>\n",
       "      <th>9</th>\n",
       "      <td>2019</td>\n",
       "      <td>4,627,798.34</td>\n",
       "      <td>91,369,261.85</td>\n",
       "    </tr>\n",
       "  </tbody>\n",
       "</table>\n",
       "</div>"
      ],
      "text/plain": [
       "   year_start  box_office_median  box_office_mean\n",
       "0        2010           1,710.00        24,046.08\n",
       "1        2011           3,000.00       129,383.17\n",
       "2        2012           6,220.00        56,548.15\n",
       "3        2013           3,580.00       166,478.81\n",
       "4        2014          20,400.00    27,270,885.93\n",
       "5        2015       5,003,450.15    85,492,132.46\n",
       "6        2016       3,915,041.02    91,173,904.27\n",
       "7        2017       9,968,340.00   136,032,793.33\n",
       "8        2018       8,891,102.21   104,565,059.23\n",
       "9        2019       4,627,798.34    91,369,261.85"
      ]
     },
     "metadata": {},
     "output_type": "display_data"
    }
   ],
   "source": [
    "df_pivot3 = pd.merge(box_office_median_year, box_office_mean_year, on='year_start', how='outer')\n",
    "df_pivot3 = df_pivot3.rename(columns={'box_office_x': 'box_office_median', 'box_office_y': 'box_office_mean'}) \n",
    "display (df_pivot3)"
   ]
  },
  {
   "cell_type": "markdown",
   "metadata": {},
   "source": [
    "**Огромная разница между средним значением и медианой. На среднее значение сильно влияют экстремально высокие сборы в рублях за некоторые фильмы**"
   ]
  },
  {
   "cell_type": "markdown",
   "metadata": {
    "id": "Ok89WFwJgFyZ"
   },
   "source": [
    "- Определите, влияет ли возрастное ограничение аудитории («6+», «12+», «16+», «18+» и т. д.) на сборы фильма в прокате в период с 2015 по 2019 год? Фильмы с каким возрастным ограничением собрали больше всего денег в прокате? Меняется ли картина в зависимости от года? Если да, предположите, с чем это может быть связано."
   ]
  },
  {
   "cell_type": "markdown",
   "metadata": {
    "id": "jsSbEqfjgFya"
   },
   "source": [
    "**Строю график зависимости сборов фильма от возрастного ограничения аудитории**"
   ]
  },
  {
   "cell_type": "code",
   "execution_count": 50,
   "metadata": {
    "scrolled": true
   },
   "outputs": [
    {
     "data": {
      "image/png": "[encoded data removed]",
      "text/plain": [
       "<Figure size 1440x360 with 1 Axes>"
      ]
     },
     "metadata": {
      "needs_background": "light"
     },
     "output_type": "display_data"
    }
   ],
   "source": [
    "age_restriction_pivot = df.query('year_start >= 2015').pivot_table (index='age_restriction', values='box_office', \\\n",
    "                                                                    aggfunc='sum').reset_index()\n",
    "age_restriction_pivot.plot(x='age_restriction', y='box_office', grid=True, figsize=(20, 5), style='o-')\n",
    "None"
   ]
  },
  {
   "cell_type": "markdown",
   "metadata": {},
   "source": [
    "**Возрастное ограничение влияет на сборы фильма. Самые высокие сборы у фильмов 16+**"
   ]
  },
  {
   "cell_type": "markdown",
   "metadata": {},
   "source": [
    "**Строю график зависимости сборов фильмов категории 0+ по годам**"
   ]
  },
  {
   "cell_type": "code",
   "execution_count": 51,
   "metadata": {},
   "outputs": [
    {
     "data": {
      "image/png": "[encoded data removed]",
      "text/plain": [
       "<Figure size 1440x360 with 1 Axes>"
      ]
     },
     "metadata": {
      "needs_background": "light"
     },
     "output_type": "display_data"
    }
   ],
   "source": [
    "age_restriction_pivot0 = df.query('age_restriction == \"«0+» - для любой зрительской аудитории\" \\\n",
    "and year_start >=2015').pivot_table(index='year_start', values='box_office', aggfunc='sum').reset_index()\n",
    "age_restriction_pivot0.plot(x='year_start', y='box_office', grid=True, figsize=(20, 5), style='o-')\n",
    "None"
   ]
  },
  {
   "cell_type": "markdown",
   "metadata": {},
   "source": [
    "**Строю график зависимости сборов фильмов категории 6+ по годам**"
   ]
  },
  {
   "cell_type": "code",
   "execution_count": 52,
   "metadata": {},
   "outputs": [
    {
     "data": {
      "image/png": "[encoded data removed]",
      "text/plain": [
       "<Figure size 1440x360 with 1 Axes>"
      ]
     },
     "metadata": {
      "needs_background": "light"
     },
     "output_type": "display_data"
    }
   ],
   "source": [
    "age_restriction_pivot12 = df.query('age_restriction == \"«6+» - для детей старше 6 лет\" \\\n",
    "and year_start >=2015').pivot_table(index='year_start', values='box_office', aggfunc='sum').reset_index()\n",
    "age_restriction_pivot12.plot(x='year_start', y='box_office', grid=True, figsize=(20, 5), style='o-')\n",
    "None"
   ]
  },
  {
   "cell_type": "markdown",
   "metadata": {},
   "source": [
    "**Строю график зависимости сборов фильмов категории 12+ по годам**"
   ]
  },
  {
   "cell_type": "code",
   "execution_count": 53,
   "metadata": {},
   "outputs": [
    {
     "data": {
      "image/png": "[encoded data removed]",
      "text/plain": [
       "<Figure size 1440x360 with 1 Axes>"
      ]
     },
     "metadata": {
      "needs_background": "light"
     },
     "output_type": "display_data"
    }
   ],
   "source": [
    "age_restriction_pivot12 = df.query('age_restriction == \"«12+» - для детей старше 12 лет\" \\\n",
    "and year_start >=2015').pivot_table(index='year_start', values='box_office', aggfunc='sum').reset_index()\n",
    "age_restriction_pivot12.plot(x='year_start', y='box_office', grid=True, figsize=(20, 5), style='o-')\n",
    "None"
   ]
  },
  {
   "cell_type": "markdown",
   "metadata": {},
   "source": [
    "**Строю график зависимости сборов фильмов категории 16+ по годам**"
   ]
  },
  {
   "cell_type": "code",
   "execution_count": 54,
   "metadata": {
    "scrolled": true
   },
   "outputs": [
    {
     "data": {
      "image/png": "[encoded data removed]",
      "text/plain": [
       "<Figure size 1440x360 with 1 Axes>"
      ]
     },
     "metadata": {
      "needs_background": "light"
     },
     "output_type": "display_data"
    }
   ],
   "source": [
    "age_restriction_pivot12 = df.query('age_restriction == \"«16+» - для детей старше 16 лет\" \\\n",
    "and year_start >=2015').pivot_table(index='year_start', values='box_office', aggfunc='sum').reset_index()\n",
    "age_restriction_pivot12.plot(x='year_start', y='box_office', grid=True, figsize=(20, 5), style='o-')\n",
    "None"
   ]
  },
  {
   "cell_type": "markdown",
   "metadata": {},
   "source": [
    "**Строю график зависимости сборов фильмов категории 18+ по годам**"
   ]
  },
  {
   "cell_type": "code",
   "execution_count": 55,
   "metadata": {},
   "outputs": [
    {
     "data": {
      "image/png": "[encoded data removed]",
      "text/plain": [
       "<Figure size 1440x360 with 1 Axes>"
      ]
     },
     "metadata": {
      "needs_background": "light"
     },
     "output_type": "display_data"
    }
   ],
   "source": [
    "age_restriction_pivot12 = df.query('age_restriction == \"«18+» - запрещено для детей\" \\\n",
    "and year_start >=2015').pivot_table(index='year_start', values='box_office', aggfunc='sum').reset_index()\n",
    "age_restriction_pivot12.plot(x='year_start', y='box_office', grid=True, figsize=(20, 5), style='o-')\n",
    "None"
   ]
  },
  {
   "cell_type": "markdown",
   "metadata": {},
   "source": [
    "**Фильмы категории 16+ оказались самыми выгодными в прокате.**\\\n",
    "Из года в год сильно меняется картинка зависимости сбора фильмов от возрастного ограничения аудитории.\\\n",
    "Могу предположить, что на результат влияет общее количество выпускаемых в году фильмов.\\"
   ]
  },
  {
   "cell_type": "markdown",
   "metadata": {
    "id": "l_Kg6Ku4gFya"
   },
   "source": [
    "### Шаг 4. Исследуйте фильмы, которые получили государственную поддержку\n",
    "\n",
    "На этом этапе нет конкретных инструкций и заданий — поищите интересные закономерности в данных. Посмотрите, сколько выделяют средств на поддержку кино. Проверьте, хорошо ли окупаются такие фильмы, какой у них рейтинг."
   ]
  },
  {
   "cell_type": "markdown",
   "metadata": {
    "id": "W9QKpjUdgFyb"
   },
   "source": [
    "**Считаю объем государственного финансирования фильмов по годам**"
   ]
  },
  {
   "cell_type": "code",
   "execution_count": 56,
   "metadata": {
    "scrolled": true
   },
   "outputs": [
    {
     "data": {
      "text/html": [
       "<div>\n",
       "<style scoped>\n",
       "    .dataframe tbody tr th:only-of-type {\n",
       "        vertical-align: middle;\n",
       "    }\n",
       "\n",
       "    .dataframe tbody tr th {\n",
       "        vertical-align: top;\n",
       "    }\n",
       "\n",
       "    .dataframe thead th {\n",
       "        text-align: right;\n",
       "    }\n",
       "</style>\n",
       "<table border=\"1\" class=\"dataframe\">\n",
       "  <thead>\n",
       "    <tr style=\"text-align: right;\">\n",
       "      <th></th>\n",
       "      <th>year_start</th>\n",
       "      <th>sum_support</th>\n",
       "    </tr>\n",
       "  </thead>\n",
       "  <tbody>\n",
       "    <tr>\n",
       "      <th>0</th>\n",
       "      <td>2010</td>\n",
       "      <td>0.00</td>\n",
       "    </tr>\n",
       "    <tr>\n",
       "      <th>1</th>\n",
       "      <td>2011</td>\n",
       "      <td>0.00</td>\n",
       "    </tr>\n",
       "    <tr>\n",
       "      <th>2</th>\n",
       "      <td>2012</td>\n",
       "      <td>0.00</td>\n",
       "    </tr>\n",
       "    <tr>\n",
       "      <th>3</th>\n",
       "      <td>2013</td>\n",
       "      <td>134,347,945.00</td>\n",
       "    </tr>\n",
       "    <tr>\n",
       "      <th>4</th>\n",
       "      <td>2014</td>\n",
       "      <td>572,002,299.00</td>\n",
       "    </tr>\n",
       "    <tr>\n",
       "      <th>5</th>\n",
       "      <td>2015</td>\n",
       "      <td>3,656,241,459.00</td>\n",
       "    </tr>\n",
       "    <tr>\n",
       "      <th>6</th>\n",
       "      <td>2016</td>\n",
       "      <td>4,303,155,482.00</td>\n",
       "    </tr>\n",
       "    <tr>\n",
       "      <th>7</th>\n",
       "      <td>2017</td>\n",
       "      <td>3,183,971,662.00</td>\n",
       "    </tr>\n",
       "    <tr>\n",
       "      <th>8</th>\n",
       "      <td>2018</td>\n",
       "      <td>3,446,969,465.00</td>\n",
       "    </tr>\n",
       "    <tr>\n",
       "      <th>9</th>\n",
       "      <td>2019</td>\n",
       "      <td>4,904,000,000.00</td>\n",
       "    </tr>\n",
       "  </tbody>\n",
       "</table>\n",
       "</div>"
      ],
      "text/plain": [
       "   year_start      sum_support\n",
       "0        2010             0.00\n",
       "1        2011             0.00\n",
       "2        2012             0.00\n",
       "3        2013   134,347,945.00\n",
       "4        2014   572,002,299.00\n",
       "5        2015 3,656,241,459.00\n",
       "6        2016 4,303,155,482.00\n",
       "7        2017 3,183,971,662.00\n",
       "8        2018 3,446,969,465.00\n",
       "9        2019 4,904,000,000.00"
      ]
     },
     "metadata": {},
     "output_type": "display_data"
    },
    {
     "data": {
      "image/png": "[encoded data removed]",
      "text/plain": [
       "<Figure size 1440x360 with 1 Axes>"
      ]
     },
     "metadata": {
      "needs_background": "light"
     },
     "output_type": "display_data"
    }
   ],
   "source": [
    "df['sum_support'] = df['refundable_support'] + df['nonrefundable_support']\n",
    "sum_support_pivot = df.pivot_table(index='year_start', values='sum_support', aggfunc='sum').reset_index()\n",
    "display (sum_support_pivot)\n",
    "sum_support_pivot.plot(x='year_start', y='sum_support', grid=True, figsize=(20, 5), style='o-')\n",
    "None"
   ]
  },
  {
   "cell_type": "markdown",
   "metadata": {},
   "source": [
    "С 2015 года объем государственного финансирования фильмов стремительно растет."
   ]
  },
  {
   "cell_type": "markdown",
   "metadata": {},
   "source": [
    "**Смотрю как зависит объем государственного финансирования от возрастного ограничения аудитории. Фильмы для какой аудитории финансируют больше других**"
   ]
  },
  {
   "cell_type": "code",
   "execution_count": 57,
   "metadata": {},
   "outputs": [
    {
     "data": {
      "text/html": [
       "<div>\n",
       "<style scoped>\n",
       "    .dataframe tbody tr th:only-of-type {\n",
       "        vertical-align: middle;\n",
       "    }\n",
       "\n",
       "    .dataframe tbody tr th {\n",
       "        vertical-align: top;\n",
       "    }\n",
       "\n",
       "    .dataframe thead th {\n",
       "        text-align: right;\n",
       "    }\n",
       "</style>\n",
       "<table border=\"1\" class=\"dataframe\">\n",
       "  <thead>\n",
       "    <tr style=\"text-align: right;\">\n",
       "      <th></th>\n",
       "      <th>age_restriction</th>\n",
       "      <th>sum_support</th>\n",
       "    </tr>\n",
       "  </thead>\n",
       "  <tbody>\n",
       "    <tr>\n",
       "      <th>0</th>\n",
       "      <td>«0+» - для любой зрительской аудитории</td>\n",
       "      <td>183,520,000.00</td>\n",
       "    </tr>\n",
       "    <tr>\n",
       "      <th>3</th>\n",
       "      <td>«18+» - запрещено для детей</td>\n",
       "      <td>895,346,881.00</td>\n",
       "    </tr>\n",
       "    <tr>\n",
       "      <th>2</th>\n",
       "      <td>«16+» - для детей старше 16 лет</td>\n",
       "      <td>5,389,053,319.00</td>\n",
       "    </tr>\n",
       "    <tr>\n",
       "      <th>4</th>\n",
       "      <td>«6+» - для детей старше 6 лет</td>\n",
       "      <td>5,490,373,947.00</td>\n",
       "    </tr>\n",
       "    <tr>\n",
       "      <th>1</th>\n",
       "      <td>«12+» - для детей старше 12 лет</td>\n",
       "      <td>7,536,043,921.00</td>\n",
       "    </tr>\n",
       "  </tbody>\n",
       "</table>\n",
       "</div>"
      ],
      "text/plain": [
       "                          age_restriction      sum_support\n",
       "0  «0+» - для любой зрительской аудитории   183,520,000.00\n",
       "3             «18+» - запрещено для детей   895,346,881.00\n",
       "2         «16+» - для детей старше 16 лет 5,389,053,319.00\n",
       "4           «6+» - для детей старше 6 лет 5,490,373,947.00\n",
       "1         «12+» - для детей старше 12 лет 7,536,043,921.00"
      ]
     },
     "metadata": {},
     "output_type": "display_data"
    },
    {
     "data": {
      "image/png": "[encoded data removed]",
      "text/plain": [
       "<Figure size 1440x360 with 1 Axes>"
      ]
     },
     "metadata": {
      "needs_background": "light"
     },
     "output_type": "display_data"
    }
   ],
   "source": [
    "age_registration_support = df.query('year_start>=2015').pivot_table(index='age_restriction', \\\n",
    "                                                                    values='sum_support', aggfunc='sum').reset_index()\n",
    "display (age_registration_support.sort_values(by='sum_support'))\n",
    "ax = age_registration_support.sort_values(by='sum_support').plot(x='age_restriction', y='sum_support', \\\n",
    "                                                            grid=True, figsize=(20, 5), style='o-')\n",
    "#age_restriction_pivot.plot(x='age_restriction', y='box_office', grid=True, figsize=(20, 5), style='o-', ax=ax)\n",
    "None"
   ]
  },
  {
   "cell_type": "markdown",
   "metadata": {},
   "source": [
    "Больше всего финансируют фильмы категории 12+"
   ]
  },
  {
   "cell_type": "markdown",
   "metadata": {},
   "source": [
    "**Выделяю в отдельные датафреймы фильмы с господдержкой и фильмы без господдержки**"
   ]
  },
  {
   "cell_type": "code",
   "execution_count": 77,
   "metadata": {
    "scrolled": true
   },
   "outputs": [
    {
     "name": "stdout",
     "output_type": "stream",
     "text": [
      "Количество Российских фильмов c господдержкой 316\n"
     ]
    }
   ],
   "source": [
    "df_support_state = df.query('(refundable_support >0 or nonrefundable_support >0) \\\n",
    "and production_country==\"Россия\"') #фильмы с господдержкой\n",
    "#display (df_support_state.head(5))\n",
    "print ('Количество Российских фильмов c господдержкой', df_support_state['title'].count())"
   ]
  },
  {
   "cell_type": "code",
   "execution_count": 78,
   "metadata": {},
   "outputs": [
    {
     "name": "stdout",
     "output_type": "stream",
     "text": [
      "Количество Российских фильмов без господдержки 1505\n"
     ]
    }
   ],
   "source": [
    "df_non_support = df.query ('(refundable_support == 0 and \\\n",
    "nonrefundable_support == 0) and production_country==\"Россия\"') #Российские фильмы без господдержки\n",
    "#display (df_non_support.head(5))\n",
    "print ('Количество Российских фильмов без господдержки', df_non_support['title'].count())"
   ]
  },
  {
   "cell_type": "markdown",
   "metadata": {},
   "source": [
    "**Смотрю, насколько влияет господдержка на рейтинг фильмов**"
   ]
  },
  {
   "cell_type": "code",
   "execution_count": 79,
   "metadata": {
    "scrolled": true
   },
   "outputs": [],
   "source": [
    "ratings_pivot_support = df_support_state.pivot_table(index='ratings', values='sum_support', aggfunc='sum').reset_index()"
   ]
  },
  {
   "cell_type": "code",
   "execution_count": 80,
   "metadata": {
    "scrolled": true
   },
   "outputs": [
    {
     "data": {
      "text/html": [
       "<div>\n",
       "<style scoped>\n",
       "    .dataframe tbody tr th:only-of-type {\n",
       "        vertical-align: middle;\n",
       "    }\n",
       "\n",
       "    .dataframe tbody tr th {\n",
       "        vertical-align: top;\n",
       "    }\n",
       "\n",
       "    .dataframe thead th {\n",
       "        text-align: right;\n",
       "    }\n",
       "</style>\n",
       "<table border=\"1\" class=\"dataframe\">\n",
       "  <thead>\n",
       "    <tr style=\"text-align: right;\">\n",
       "      <th></th>\n",
       "      <th>ratings</th>\n",
       "      <th>sum_support</th>\n",
       "    </tr>\n",
       "  </thead>\n",
       "  <tbody>\n",
       "    <tr>\n",
       "      <th>0</th>\n",
       "      <td>9.00</td>\n",
       "      <td>4,700,000.00</td>\n",
       "    </tr>\n",
       "    <tr>\n",
       "      <th>1</th>\n",
       "      <td>9.40</td>\n",
       "      <td>10,000,000.00</td>\n",
       "    </tr>\n",
       "  </tbody>\n",
       "</table>\n",
       "</div>"
      ],
      "text/plain": [
       "   ratings   sum_support\n",
       "0     9.00  4,700,000.00\n",
       "1     9.40 10,000,000.00"
      ]
     },
     "execution_count": 80,
     "metadata": {},
     "output_type": "execute_result"
    }
   ],
   "source": [
    "ratings_pivot_support"
   ]
  },
  {
   "cell_type": "markdown",
   "metadata": {},
   "source": [
    "Поскольку данных о рейтинге мало, то я не буду использовать рейтинг в качестве метрики успешности/не успешности фильма."
   ]
  },
  {
   "cell_type": "markdown",
   "metadata": {},
   "source": [
    "**Смотрю, насколько влияет господдержка на сборы фильмов**"
   ]
  },
  {
   "cell_type": "markdown",
   "metadata": {},
   "source": [
    "- смотрю, как влияет господдержка на сборы российских фильмов"
   ]
  },
  {
   "cell_type": "code",
   "execution_count": 81,
   "metadata": {},
   "outputs": [
    {
     "data": {
      "image/png": "[encoded data removed]",
      "text/plain": [
       "<Figure size 1800x360 with 1 Axes>"
      ]
     },
     "metadata": {
      "needs_background": "light"
     },
     "output_type": "display_data"
    }
   ],
   "source": [
    "box_pivot_support = df_support_state.query('box_office > 0').pivot_table(index='box_office',\\\n",
    "                                                                         values='sum_support', \\\n",
    "                                                                         aggfunc='sum').reset_index()\n",
    "#box_pivot_none_support = df_non_support.query('box_office > 0').pivot_table(index='box_office', values='sum_support', aggfunc='sum').reset_index()\n",
    "box_pivot_support.plot(x='box_office', y='sum_support', kind='scatter', grid=True, figsize=(25, 5))\n",
    "None"
   ]
  },
  {
   "cell_type": "code",
   "execution_count": 82,
   "metadata": {
    "scrolled": true
   },
   "outputs": [
    {
     "name": "stdout",
     "output_type": "stream",
     "text": [
      "0.4918256028733692\n"
     ]
    }
   ],
   "source": [
    "print ((box_pivot_support['box_office'].corr(box_pivot_support['sum_support'])))"
   ]
  },
  {
   "cell_type": "markdown",
   "metadata": {},
   "source": [
    "Зависимость между размером господдержки и сборами фильма умеренная"
   ]
  },
  {
   "cell_type": "markdown",
   "metadata": {},
   "source": [
    "**Смотрю на сколько влияет господдержка на окупаемость фильмов**"
   ]
  },
  {
   "cell_type": "code",
   "execution_count": 83,
   "metadata": {},
   "outputs": [
    {
     "data": {
      "text/html": [
       "<div>\n",
       "<style scoped>\n",
       "    .dataframe tbody tr th:only-of-type {\n",
       "        vertical-align: middle;\n",
       "    }\n",
       "\n",
       "    .dataframe tbody tr th {\n",
       "        vertical-align: top;\n",
       "    }\n",
       "\n",
       "    .dataframe thead th {\n",
       "        text-align: right;\n",
       "    }\n",
       "</style>\n",
       "<table border=\"1\" class=\"dataframe\">\n",
       "  <thead>\n",
       "    <tr style=\"text-align: right;\">\n",
       "      <th></th>\n",
       "      <th>payback_%</th>\n",
       "      <th>sum_support</th>\n",
       "    </tr>\n",
       "  </thead>\n",
       "  <tbody>\n",
       "    <tr>\n",
       "      <th>0</th>\n",
       "      <td>0.96</td>\n",
       "      <td>138,969,465.00</td>\n",
       "    </tr>\n",
       "    <tr>\n",
       "      <th>1</th>\n",
       "      <td>3.32</td>\n",
       "      <td>59,000,000.00</td>\n",
       "    </tr>\n",
       "    <tr>\n",
       "      <th>2</th>\n",
       "      <td>44.50</td>\n",
       "      <td>23,000,000.00</td>\n",
       "    </tr>\n",
       "    <tr>\n",
       "      <th>3</th>\n",
       "      <td>82.00</td>\n",
       "      <td>180,000,000.00</td>\n",
       "    </tr>\n",
       "    <tr>\n",
       "      <th>4</th>\n",
       "      <td>100.43</td>\n",
       "      <td>70,000,000.00</td>\n",
       "    </tr>\n",
       "    <tr>\n",
       "      <th>5</th>\n",
       "      <td>104.21</td>\n",
       "      <td>80,000,000.00</td>\n",
       "    </tr>\n",
       "    <tr>\n",
       "      <th>6</th>\n",
       "      <td>112.12</td>\n",
       "      <td>45,000,000.00</td>\n",
       "    </tr>\n",
       "    <tr>\n",
       "      <th>7</th>\n",
       "      <td>115.30</td>\n",
       "      <td>160,000,000.00</td>\n",
       "    </tr>\n",
       "    <tr>\n",
       "      <th>8</th>\n",
       "      <td>137.77</td>\n",
       "      <td>40,000,000.00</td>\n",
       "    </tr>\n",
       "    <tr>\n",
       "      <th>9</th>\n",
       "      <td>152.16</td>\n",
       "      <td>70,000,000.00</td>\n",
       "    </tr>\n",
       "    <tr>\n",
       "      <th>10</th>\n",
       "      <td>208.39</td>\n",
       "      <td>35,000,000.00</td>\n",
       "    </tr>\n",
       "    <tr>\n",
       "      <th>11</th>\n",
       "      <td>245.72</td>\n",
       "      <td>80,000,000.00</td>\n",
       "    </tr>\n",
       "    <tr>\n",
       "      <th>12</th>\n",
       "      <td>256.05</td>\n",
       "      <td>6,000,000.00</td>\n",
       "    </tr>\n",
       "    <tr>\n",
       "      <th>13</th>\n",
       "      <td>337.09</td>\n",
       "      <td>20,000,000.00</td>\n",
       "    </tr>\n",
       "    <tr>\n",
       "      <th>14</th>\n",
       "      <td>375.33</td>\n",
       "      <td>60,000,000.00</td>\n",
       "    </tr>\n",
       "    <tr>\n",
       "      <th>15</th>\n",
       "      <td>415.33</td>\n",
       "      <td>250,000,000.00</td>\n",
       "    </tr>\n",
       "    <tr>\n",
       "      <th>16</th>\n",
       "      <td>594.88</td>\n",
       "      <td>75,000,000.00</td>\n",
       "    </tr>\n",
       "  </tbody>\n",
       "</table>\n",
       "</div>"
      ],
      "text/plain": [
       "    payback_%    sum_support\n",
       "0        0.96 138,969,465.00\n",
       "1        3.32  59,000,000.00\n",
       "2       44.50  23,000,000.00\n",
       "3       82.00 180,000,000.00\n",
       "4      100.43  70,000,000.00\n",
       "5      104.21  80,000,000.00\n",
       "6      112.12  45,000,000.00\n",
       "7      115.30 160,000,000.00\n",
       "8      137.77  40,000,000.00\n",
       "9      152.16  70,000,000.00\n",
       "10     208.39  35,000,000.00\n",
       "11     245.72  80,000,000.00\n",
       "12     256.05   6,000,000.00\n",
       "13     337.09  20,000,000.00\n",
       "14     375.33  60,000,000.00\n",
       "15     415.33 250,000,000.00\n",
       "16     594.88  75,000,000.00"
      ]
     },
     "metadata": {},
     "output_type": "display_data"
    },
    {
     "data": {
      "image/png": "[encoded data removed]",
      "text/plain": [
       "<Figure size 1800x360 with 1 Axes>"
      ]
     },
     "metadata": {
      "needs_background": "light"
     },
     "output_type": "display_data"
    }
   ],
   "source": [
    "box_budget_pivot_support = df_support_state.query('box_office > 0 and budget >0').pivot_table(index='payback_%', \\\n",
    "                                                                        values='sum_support', \\\n",
    "                                                                        aggfunc='sum').reset_index()\n",
    "display (box_budget_pivot_support.sort_values(by='payback_%'))\n",
    "box_budget_pivot_support.plot(x='payback_%', y='sum_support', kind='scatter', grid=True, figsize=(25, 5), xlim=(0,500))\n",
    "None"
   ]
  },
  {
   "cell_type": "code",
   "execution_count": 84,
   "metadata": {
    "scrolled": true
   },
   "outputs": [
    {
     "name": "stdout",
     "output_type": "stream",
     "text": [
      "0.04997584281431707\n"
     ]
    }
   ],
   "source": [
    "print ((box_budget_pivot_support['payback_%'].corr(box_budget_pivot_support['sum_support'])))"
   ]
  },
  {
   "cell_type": "markdown",
   "metadata": {},
   "source": [
    "Нет связи между окупаемостью фильмов с господдержкой и размером господдержки."
   ]
  },
  {
   "cell_type": "markdown",
   "metadata": {},
   "source": [
    "**Мне теперь интересно посмотреть, какие студии получают больше всех денег от государства**"
   ]
  },
  {
   "cell_type": "code",
   "execution_count": 85,
   "metadata": {},
   "outputs": [
    {
     "data": {
      "text/html": [
       "<div>\n",
       "<style scoped>\n",
       "    .dataframe tbody tr th:only-of-type {\n",
       "        vertical-align: middle;\n",
       "    }\n",
       "\n",
       "    .dataframe tbody tr th {\n",
       "        vertical-align: top;\n",
       "    }\n",
       "\n",
       "    .dataframe thead th {\n",
       "        text-align: right;\n",
       "    }\n",
       "</style>\n",
       "<table border=\"1\" class=\"dataframe\">\n",
       "  <thead>\n",
       "    <tr style=\"text-align: right;\">\n",
       "      <th></th>\n",
       "      <th>film_studio</th>\n",
       "      <th>sum_support</th>\n",
       "    </tr>\n",
       "  </thead>\n",
       "  <tbody>\n",
       "    <tr>\n",
       "      <th>3177</th>\n",
       "      <td>ООО \"Нон-Стоп Продакшн\"</td>\n",
       "      <td>940,000,000.00</td>\n",
       "    </tr>\n",
       "    <tr>\n",
       "      <th>3395</th>\n",
       "      <td>ООО \"Студия \"ТРИТЭ\" Никиты Михалкова\"</td>\n",
       "      <td>842,104,482.00</td>\n",
       "    </tr>\n",
       "    <tr>\n",
       "      <th>3469</th>\n",
       "      <td>ООО \"ТаББаК\"</td>\n",
       "      <td>744,000,000.00</td>\n",
       "    </tr>\n",
       "    <tr>\n",
       "      <th>3427</th>\n",
       "      <td>ООО \"Студия анимационного кино \"Мельница\"</td>\n",
       "      <td>630,000,000.00</td>\n",
       "    </tr>\n",
       "    <tr>\n",
       "      <th>2823</th>\n",
       "      <td>ООО \"ВИЗАРТ ФИЛЬМ\"</td>\n",
       "      <td>540,000,000.00</td>\n",
       "    </tr>\n",
       "    <tr>\n",
       "      <th>1416</th>\n",
       "      <td>ЗАО \"Дирекция кино\"</td>\n",
       "      <td>500,000,000.00</td>\n",
       "    </tr>\n",
       "    <tr>\n",
       "      <th>2790</th>\n",
       "      <td>ООО \"Арт Пикчерс Студия\", ООО \"Водород 2011\"</td>\n",
       "      <td>500,000,000.00</td>\n",
       "    </tr>\n",
       "    <tr>\n",
       "      <th>3236</th>\n",
       "      <td>ООО \"Продюсерская фирма Игоря Толстунова\"</td>\n",
       "      <td>355,000,000.00</td>\n",
       "    </tr>\n",
       "    <tr>\n",
       "      <th>3264</th>\n",
       "      <td>ООО \"Продюсерский центр ИВАН\"</td>\n",
       "      <td>350,000,000.00</td>\n",
       "    </tr>\n",
       "    <tr>\n",
       "      <th>3120</th>\n",
       "      <td>ООО \"ЛИЦЕНЗИОННЫЕ БРЕНДЫ\"</td>\n",
       "      <td>330,000,000.00</td>\n",
       "    </tr>\n",
       "  </tbody>\n",
       "</table>\n",
       "</div>"
      ],
      "text/plain": [
       "                                       film_studio    sum_support\n",
       "3177                       ООО \"Нон-Стоп Продакшн\" 940,000,000.00\n",
       "3395         ООО \"Студия \"ТРИТЭ\" Никиты Михалкова\" 842,104,482.00\n",
       "3469                                  ООО \"ТаББаК\" 744,000,000.00\n",
       "3427     ООО \"Студия анимационного кино \"Мельница\" 630,000,000.00\n",
       "2823                            ООО \"ВИЗАРТ ФИЛЬМ\" 540,000,000.00\n",
       "1416                           ЗАО \"Дирекция кино\" 500,000,000.00\n",
       "2790  ООО \"Арт Пикчерс Студия\", ООО \"Водород 2011\" 500,000,000.00\n",
       "3236     ООО \"Продюсерская фирма Игоря Толстунова\" 355,000,000.00\n",
       "3264                 ООО \"Продюсерский центр ИВАН\" 350,000,000.00\n",
       "3120                     ООО \"ЛИЦЕНЗИОННЫЕ БРЕНДЫ\" 330,000,000.00"
      ]
     },
     "execution_count": 85,
     "metadata": {},
     "output_type": "execute_result"
    }
   ],
   "source": [
    "producer_support = df.pivot_table(index='film_studio', values='sum_support', aggfunc='sum').reset_index()\n",
    "producer_support.sort_values(by='sum_support', ascending=False).head(10)"
   ]
  },
  {
   "cell_type": "markdown",
   "metadata": {},
   "source": [
    "**И кто самый \"поддерживаемый\" режиссер**"
   ]
  },
  {
   "cell_type": "code",
   "execution_count": 86,
   "metadata": {},
   "outputs": [
    {
     "data": {
      "text/html": [
       "<div>\n",
       "<style scoped>\n",
       "    .dataframe tbody tr th:only-of-type {\n",
       "        vertical-align: middle;\n",
       "    }\n",
       "\n",
       "    .dataframe tbody tr th {\n",
       "        vertical-align: top;\n",
       "    }\n",
       "\n",
       "    .dataframe thead th {\n",
       "        text-align: right;\n",
       "    }\n",
       "</style>\n",
       "<table border=\"1\" class=\"dataframe\">\n",
       "  <thead>\n",
       "    <tr style=\"text-align: right;\">\n",
       "      <th></th>\n",
       "      <th>director</th>\n",
       "      <th>sum_support</th>\n",
       "    </tr>\n",
       "  </thead>\n",
       "  <tbody>\n",
       "    <tr>\n",
       "      <th>4274</th>\n",
       "      <td>Ф.Бондарчук</td>\n",
       "      <td>750,000,000.00</td>\n",
       "    </tr>\n",
       "    <tr>\n",
       "      <th>3092</th>\n",
       "      <td>Н.Хомерики</td>\n",
       "      <td>660,000,000.00</td>\n",
       "    </tr>\n",
       "    <tr>\n",
       "      <th>156</th>\n",
       "      <td>А.Кравчук</td>\n",
       "      <td>500,000,000.00</td>\n",
       "    </tr>\n",
       "    <tr>\n",
       "      <th>192</th>\n",
       "      <td>А.Мизгирев</td>\n",
       "      <td>450,000,000.00</td>\n",
       "    </tr>\n",
       "    <tr>\n",
       "      <th>3057</th>\n",
       "      <td>Н.Лебедев</td>\n",
       "      <td>442,104,482.00</td>\n",
       "    </tr>\n",
       "    <tr>\n",
       "      <th>187</th>\n",
       "      <td>А.Мегердичев</td>\n",
       "      <td>400,000,000.00</td>\n",
       "    </tr>\n",
       "    <tr>\n",
       "      <th>3478</th>\n",
       "      <td>Р.Давлетьяров</td>\n",
       "      <td>352,000,000.00</td>\n",
       "    </tr>\n",
       "    <tr>\n",
       "      <th>1186</th>\n",
       "      <td>Д.Дьяченко</td>\n",
       "      <td>351,000,000.00</td>\n",
       "    </tr>\n",
       "    <tr>\n",
       "      <th>2124</th>\n",
       "      <td>И.Шурховецкий</td>\n",
       "      <td>350,000,000.00</td>\n",
       "    </tr>\n",
       "    <tr>\n",
       "      <th>3694</th>\n",
       "      <td>С.Андреасян</td>\n",
       "      <td>325,000,000.00</td>\n",
       "    </tr>\n",
       "  </tbody>\n",
       "</table>\n",
       "</div>"
      ],
      "text/plain": [
       "           director    sum_support\n",
       "4274    Ф.Бондарчук 750,000,000.00\n",
       "3092     Н.Хомерики 660,000,000.00\n",
       "156       А.Кравчук 500,000,000.00\n",
       "192      А.Мизгирев 450,000,000.00\n",
       "3057      Н.Лебедев 442,104,482.00\n",
       "187    А.Мегердичев 400,000,000.00\n",
       "3478  Р.Давлетьяров 352,000,000.00\n",
       "1186     Д.Дьяченко 351,000,000.00\n",
       "2124  И.Шурховецкий 350,000,000.00\n",
       "3694    С.Андреасян 325,000,000.00"
      ]
     },
     "execution_count": 86,
     "metadata": {},
     "output_type": "execute_result"
    }
   ],
   "source": [
    "director_support = df.pivot_table(index='director', values='sum_support', aggfunc='sum').reset_index()\n",
    "director_support.sort_values(by='sum_support', ascending=False).head(10)"
   ]
  },
  {
   "cell_type": "markdown",
   "metadata": {
    "id": "V2gYwMcPgFyd"
   },
   "source": [
    "### Шаг 5. Напишите общий вывод"
   ]
  },
  {
   "cell_type": "markdown",
   "metadata": {},
   "source": [
    "Задачей проекта было изучить рынок российского кинопроката и выявить текущие тренды. Уделить внимание фильмам, которые получили государственную поддержку. Попробовать ответить на вопрос, насколько такие фильмы интересны зрителю.\n",
    "\\\n",
    "Меньше всего фильмов выходило в 2017 году, а больше всего - в 2010 году.\\\n",
    "\\\n",
    "Информация о сборах фильма есть у 41.86 % фильмов\\\n",
    "\\\n",
    "Минимальная сумма сборов была в 2010 году, а максимальная - в 2018 году.\\\n",
    "\\\n",
    "Пик сборов за фильмы произошел в 2017 году и с тех пор плавно снижается.\\\n",
    "\\\n",
    "Из года в год сильно меняется картинка зависимости сбора фильмов от возрастного ограничения аудитории.\\\n",
    "Могу предположить, что на результат влияет общее количество выпускаемых в году фильмов.\\\n",
    "Наибольший размер сборов собрали фильмы с возрастным ограничением 16+.\\\n",
    "\\\n",
    "\\\n",
    "С 2015 года объем государственного финансирования фильмов стремительно растет.\\\n",
    "\\\n",
    "Поскольку данных о рейтинге фильмов с господдержкой мало, то я не буду использовать рейтинг как метрику успешности/не успешности фильмов с господдержкой.\\\n",
    "\\\n",
    "Зависимость между суммой сборов с фильма и размеров государственного финансирования фильмов умеренная.\\\n",
    "\\\n",
    "Нет связи между размером господдержки фильмов и их окупаемостью.\\\n",
    "\\\n",
    "**Вывод: зрителям не сильно интересны фильмы с государственным финансированием. Размер гос финансирования не влияет на  окупаемость фильма. Но есть небольшая связь между размером гос финансирования и сборами с фильма. Чем больше размер государственного финансирования, тем выше сборы.\\\n",
    "\\\n",
    "Самые большие сборы приносят фильмы с возрастным ограничением 16+, в то время как, на первом месте в плане размера государственного финансирования являются фильмы с рейтингом 12+.**"
   ]
  }
 ],
 "metadata": {
  "ExecuteTimeLog": [
   {
    "duration": 537,
    "start_time": "2021-07-07T10:12:08.634Z"
   },
   {
    "duration": 206,
    "start_time": "2021-07-07T10:12:30.191Z"
   },
   {
    "duration": 227,
    "start_time": "2021-07-07T10:12:33.078Z"
   },
   {
    "duration": 153,
    "start_time": "2021-07-07T10:13:42.146Z"
   },
   {
    "duration": 233,
    "start_time": "2021-07-07T10:30:09.252Z"
   },
   {
    "duration": 19,
    "start_time": "2021-07-07T10:30:15.577Z"
   },
   {
    "duration": 18,
    "start_time": "2021-07-07T10:30:57.348Z"
   },
   {
    "duration": 19,
    "start_time": "2021-07-07T10:31:17.452Z"
   },
   {
    "duration": 21,
    "start_time": "2021-07-07T10:31:32.227Z"
   },
   {
    "duration": 27,
    "start_time": "2021-07-07T10:32:06.588Z"
   },
   {
    "duration": 23,
    "start_time": "2021-07-07T10:32:43.645Z"
   },
   {
    "duration": 24,
    "start_time": "2021-07-07T10:33:06.948Z"
   },
   {
    "duration": 7,
    "start_time": "2021-07-07T10:33:28.558Z"
   },
   {
    "duration": 23,
    "start_time": "2021-07-07T10:33:43.761Z"
   },
   {
    "duration": 28,
    "start_time": "2021-07-07T10:34:13.466Z"
   },
   {
    "duration": 23,
    "start_time": "2021-07-07T10:35:56.187Z"
   },
   {
    "duration": 6,
    "start_time": "2021-07-07T10:36:48.182Z"
   },
   {
    "duration": 14,
    "start_time": "2021-07-07T10:37:49.641Z"
   },
   {
    "duration": 6,
    "start_time": "2021-07-07T10:38:06.694Z"
   },
   {
    "duration": 6,
    "start_time": "2021-07-07T10:38:13.493Z"
   },
   {
    "duration": 19,
    "start_time": "2021-07-07T10:38:44.056Z"
   },
   {
    "duration": 186,
    "start_time": "2021-07-07T10:48:35.618Z"
   },
   {
    "duration": 24,
    "start_time": "2021-07-07T10:48:51.498Z"
   },
   {
    "duration": 20,
    "start_time": "2021-07-07T10:48:59.415Z"
   },
   {
    "duration": 20,
    "start_time": "2021-07-07T10:53:02.195Z"
   },
   {
    "duration": 188,
    "start_time": "2021-07-07T10:54:40.486Z"
   },
   {
    "duration": 115,
    "start_time": "2021-07-07T10:54:52.552Z"
   },
   {
    "duration": 214,
    "start_time": "2021-07-07T10:54:56.354Z"
   },
   {
    "duration": 47,
    "start_time": "2021-07-07T10:54:58.282Z"
   },
   {
    "duration": 217,
    "start_time": "2021-07-07T10:59:16.075Z"
   },
   {
    "duration": 51,
    "start_time": "2021-07-07T10:59:16.243Z"
   },
   {
    "duration": 578,
    "start_time": "2021-07-07T10:59:18.774Z"
   },
   {
    "duration": 161,
    "start_time": "2021-07-07T10:59:21.238Z"
   },
   {
    "duration": 59,
    "start_time": "2021-07-07T10:59:21.453Z"
   },
   {
    "duration": 3,
    "start_time": "2021-07-07T11:02:10.786Z"
   },
   {
    "duration": 13,
    "start_time": "2021-07-07T11:07:07.722Z"
   },
   {
    "duration": 26,
    "start_time": "2021-07-07T11:07:17.958Z"
   },
   {
    "duration": 22,
    "start_time": "2021-07-07T11:08:17.939Z"
   },
   {
    "duration": 212,
    "start_time": "2021-07-07T11:08:19.665Z"
   },
   {
    "duration": 21,
    "start_time": "2021-07-07T11:08:29.945Z"
   },
   {
    "duration": 31,
    "start_time": "2021-07-07T11:08:38.899Z"
   },
   {
    "duration": 23,
    "start_time": "2021-07-07T11:08:54.527Z"
   },
   {
    "duration": 8,
    "start_time": "2021-07-07T11:18:55.974Z"
   },
   {
    "duration": 7,
    "start_time": "2021-07-07T11:19:03.639Z"
   },
   {
    "duration": 7,
    "start_time": "2021-07-07T11:19:06.444Z"
   },
   {
    "duration": 578,
    "start_time": "2021-07-07T12:09:59.576Z"
   },
   {
    "duration": 195,
    "start_time": "2021-07-07T12:10:00.156Z"
   },
   {
    "duration": 115,
    "start_time": "2021-07-07T12:10:00.353Z"
   },
   {
    "duration": 3,
    "start_time": "2021-07-07T12:10:00.470Z"
   },
   {
    "duration": 32,
    "start_time": "2021-07-07T12:10:00.474Z"
   },
   {
    "duration": 23,
    "start_time": "2021-07-07T12:10:00.508Z"
   },
   {
    "duration": 19,
    "start_time": "2021-07-07T12:10:00.533Z"
   },
   {
    "duration": 44,
    "start_time": "2021-07-07T12:10:00.553Z"
   },
   {
    "duration": 7,
    "start_time": "2021-07-07T12:10:00.600Z"
   },
   {
    "duration": 7,
    "start_time": "2021-07-07T12:19:45.761Z"
   },
   {
    "duration": 21,
    "start_time": "2021-07-07T12:21:35.482Z"
   },
   {
    "duration": 21,
    "start_time": "2021-07-07T12:29:23.569Z"
   },
   {
    "duration": 525,
    "start_time": "2021-07-07T12:29:44.542Z"
   },
   {
    "duration": 214,
    "start_time": "2021-07-07T12:29:45.069Z"
   },
   {
    "duration": 92,
    "start_time": "2021-07-07T12:29:45.285Z"
   },
   {
    "duration": 3,
    "start_time": "2021-07-07T12:29:45.379Z"
   },
   {
    "duration": 28,
    "start_time": "2021-07-07T12:29:45.384Z"
   },
   {
    "duration": 23,
    "start_time": "2021-07-07T12:29:45.413Z"
   },
   {
    "duration": 21,
    "start_time": "2021-07-07T12:29:45.437Z"
   },
   {
    "duration": 41,
    "start_time": "2021-07-07T12:29:45.460Z"
   },
   {
    "duration": 7,
    "start_time": "2021-07-07T12:29:45.502Z"
   },
   {
    "duration": 20,
    "start_time": "2021-07-07T12:29:45.511Z"
   },
   {
    "duration": 12,
    "start_time": "2021-07-07T12:34:02.800Z"
   },
   {
    "duration": 7,
    "start_time": "2021-07-07T12:35:10.479Z"
   },
   {
    "duration": 8,
    "start_time": "2021-07-07T12:35:22.440Z"
   },
   {
    "duration": 6,
    "start_time": "2021-07-07T12:35:35.649Z"
   },
   {
    "duration": 6,
    "start_time": "2021-07-07T12:35:43.107Z"
   },
   {
    "duration": 22,
    "start_time": "2021-07-07T12:38:03.029Z"
   },
   {
    "duration": 10,
    "start_time": "2021-07-07T12:38:06.592Z"
   },
   {
    "duration": 563,
    "start_time": "2021-07-07T12:38:46.493Z"
   },
   {
    "duration": 265,
    "start_time": "2021-07-07T12:38:47.058Z"
   },
   {
    "duration": 94,
    "start_time": "2021-07-07T12:38:47.325Z"
   },
   {
    "duration": 3,
    "start_time": "2021-07-07T12:38:47.422Z"
   },
   {
    "duration": 30,
    "start_time": "2021-07-07T12:38:47.427Z"
   },
   {
    "duration": 16,
    "start_time": "2021-07-07T12:38:53.305Z"
   },
   {
    "duration": 10,
    "start_time": "2021-07-07T12:38:53.499Z"
   },
   {
    "duration": 8,
    "start_time": "2021-07-07T12:39:48.161Z"
   },
   {
    "duration": 27,
    "start_time": "2021-07-07T12:41:17.629Z"
   },
   {
    "duration": 17,
    "start_time": "2021-07-07T12:41:17.867Z"
   },
   {
    "duration": 21,
    "start_time": "2021-07-07T12:41:19.310Z"
   },
   {
    "duration": 7,
    "start_time": "2021-07-07T12:41:19.544Z"
   },
   {
    "duration": 20,
    "start_time": "2021-07-07T12:41:20.504Z"
   },
   {
    "duration": 554,
    "start_time": "2021-07-07T12:56:23.696Z"
   },
   {
    "duration": 200,
    "start_time": "2021-07-07T12:56:25.234Z"
   },
   {
    "duration": 119,
    "start_time": "2021-07-07T12:56:25.480Z"
   },
   {
    "duration": 4,
    "start_time": "2021-07-07T12:56:25.762Z"
   },
   {
    "duration": 26,
    "start_time": "2021-07-07T12:56:27.172Z"
   },
   {
    "duration": 12,
    "start_time": "2021-07-07T12:56:29.051Z"
   },
   {
    "duration": 10,
    "start_time": "2021-07-07T12:56:29.291Z"
   },
   {
    "duration": 8,
    "start_time": "2021-07-07T12:56:29.623Z"
   },
   {
    "duration": 28,
    "start_time": "2021-07-07T12:56:32.137Z"
   },
   {
    "duration": 19,
    "start_time": "2021-07-07T12:56:39.785Z"
   },
   {
    "duration": 20,
    "start_time": "2021-07-07T12:56:44.297Z"
   },
   {
    "duration": 7,
    "start_time": "2021-07-07T12:56:45.392Z"
   },
   {
    "duration": 23,
    "start_time": "2021-07-07T12:56:46.615Z"
   },
   {
    "duration": 4,
    "start_time": "2021-07-07T12:57:06.625Z"
   },
   {
    "duration": 32,
    "start_time": "2021-07-07T12:57:36.690Z"
   },
   {
    "duration": 18,
    "start_time": "2021-07-07T12:58:00.149Z"
   },
   {
    "duration": 15,
    "start_time": "2021-07-07T12:59:16.793Z"
   },
   {
    "duration": 7,
    "start_time": "2021-07-07T13:19:22.624Z"
   },
   {
    "duration": 6,
    "start_time": "2021-07-07T14:17:33.527Z"
   },
   {
    "duration": 9,
    "start_time": "2021-07-07T14:17:48.409Z"
   },
   {
    "duration": 8,
    "start_time": "2021-07-07T14:20:13.060Z"
   },
   {
    "duration": 8,
    "start_time": "2021-07-07T14:20:37.957Z"
   },
   {
    "duration": 8,
    "start_time": "2021-07-07T14:20:47.470Z"
   },
   {
    "duration": 9,
    "start_time": "2021-07-07T14:20:54.503Z"
   },
   {
    "duration": 10,
    "start_time": "2021-07-07T14:28:57.763Z"
   },
   {
    "duration": 3,
    "start_time": "2021-07-07T14:30:23.377Z"
   },
   {
    "duration": 3,
    "start_time": "2021-07-07T14:30:36.489Z"
   },
   {
    "duration": 103,
    "start_time": "2021-07-07T14:30:52.351Z"
   },
   {
    "duration": 8,
    "start_time": "2021-07-07T14:30:54.763Z"
   },
   {
    "duration": 8,
    "start_time": "2021-07-07T14:31:29.301Z"
   },
   {
    "duration": 13,
    "start_time": "2021-07-07T14:31:44.516Z"
   },
   {
    "duration": 7,
    "start_time": "2021-07-07T14:33:10.972Z"
   },
   {
    "duration": 11,
    "start_time": "2021-07-07T14:33:27.780Z"
   },
   {
    "duration": 8,
    "start_time": "2021-07-07T14:34:44.588Z"
   },
   {
    "duration": 57,
    "start_time": "2021-07-07T14:35:59.042Z"
   },
   {
    "duration": 3,
    "start_time": "2021-07-07T14:36:28.168Z"
   },
   {
    "duration": 5,
    "start_time": "2021-07-07T14:36:46.254Z"
   },
   {
    "duration": 4,
    "start_time": "2021-07-07T14:36:52.714Z"
   },
   {
    "duration": 3,
    "start_time": "2021-07-07T14:36:56.612Z"
   },
   {
    "duration": 4,
    "start_time": "2021-07-07T14:36:57.049Z"
   },
   {
    "duration": 3,
    "start_time": "2021-07-07T14:39:21.214Z"
   },
   {
    "duration": 7,
    "start_time": "2021-07-07T14:39:52.406Z"
   },
   {
    "duration": 11,
    "start_time": "2021-07-07T14:39:58.576Z"
   },
   {
    "duration": 9,
    "start_time": "2021-07-07T14:40:26.301Z"
   },
   {
    "duration": 10,
    "start_time": "2021-07-07T14:40:31.704Z"
   },
   {
    "duration": 11,
    "start_time": "2021-07-07T14:40:36.249Z"
   },
   {
    "duration": 10,
    "start_time": "2021-07-07T14:40:39.783Z"
   },
   {
    "duration": 9,
    "start_time": "2021-07-07T14:40:48.558Z"
   },
   {
    "duration": 10,
    "start_time": "2021-07-07T14:40:57.143Z"
   },
   {
    "duration": 9,
    "start_time": "2021-07-07T14:41:06.074Z"
   },
   {
    "duration": 4324,
    "start_time": "2021-07-07T14:41:22.004Z"
   },
   {
    "duration": 11,
    "start_time": "2021-07-07T14:41:33.392Z"
   },
   {
    "duration": 9,
    "start_time": "2021-07-07T14:41:39.288Z"
   },
   {
    "duration": 569,
    "start_time": "2021-07-07T14:42:14.387Z"
   },
   {
    "duration": 197,
    "start_time": "2021-07-07T14:42:14.959Z"
   },
   {
    "duration": 84,
    "start_time": "2021-07-07T14:42:16.052Z"
   },
   {
    "duration": 4,
    "start_time": "2021-07-07T14:42:16.900Z"
   },
   {
    "duration": 27,
    "start_time": "2021-07-07T14:42:19.898Z"
   },
   {
    "duration": 12,
    "start_time": "2021-07-07T14:42:21.577Z"
   },
   {
    "duration": 9,
    "start_time": "2021-07-07T14:42:21.813Z"
   },
   {
    "duration": 9,
    "start_time": "2021-07-07T14:42:22.569Z"
   },
   {
    "duration": 29,
    "start_time": "2021-07-07T14:42:25.837Z"
   },
   {
    "duration": 20,
    "start_time": "2021-07-07T14:42:27.003Z"
   },
   {
    "duration": 21,
    "start_time": "2021-07-07T14:42:28.767Z"
   },
   {
    "duration": 7,
    "start_time": "2021-07-07T14:42:29.838Z"
   },
   {
    "duration": 4,
    "start_time": "2021-07-07T14:43:25.493Z"
   },
   {
    "duration": 7,
    "start_time": "2021-07-07T14:43:26.573Z"
   },
   {
    "duration": 10,
    "start_time": "2021-07-07T14:43:31.639Z"
   },
   {
    "duration": 9,
    "start_time": "2021-07-07T14:43:32.046Z"
   },
   {
    "duration": 10,
    "start_time": "2021-07-07T14:43:33.301Z"
   },
   {
    "duration": 12,
    "start_time": "2021-07-07T14:43:33.658Z"
   },
   {
    "duration": 8,
    "start_time": "2021-07-07T14:43:34.552Z"
   },
   {
    "duration": 9,
    "start_time": "2021-07-07T14:43:35.058Z"
   },
   {
    "duration": 12,
    "start_time": "2021-07-07T14:43:35.914Z"
   },
   {
    "duration": 17,
    "start_time": "2021-07-07T14:45:34.368Z"
   },
   {
    "duration": 512,
    "start_time": "2021-07-07T14:51:58.236Z"
   },
   {
    "duration": 223,
    "start_time": "2021-07-07T14:51:58.750Z"
   },
   {
    "duration": 93,
    "start_time": "2021-07-07T14:51:58.977Z"
   },
   {
    "duration": 4,
    "start_time": "2021-07-07T14:51:59.071Z"
   },
   {
    "duration": 37,
    "start_time": "2021-07-07T14:51:59.077Z"
   },
   {
    "duration": 18,
    "start_time": "2021-07-07T14:51:59.116Z"
   },
   {
    "duration": 10,
    "start_time": "2021-07-07T14:51:59.137Z"
   },
   {
    "duration": 8,
    "start_time": "2021-07-07T14:51:59.149Z"
   },
   {
    "duration": 54,
    "start_time": "2021-07-07T14:51:59.158Z"
   },
   {
    "duration": 18,
    "start_time": "2021-07-07T14:51:59.213Z"
   },
   {
    "duration": 22,
    "start_time": "2021-07-07T14:51:59.232Z"
   },
   {
    "duration": 36,
    "start_time": "2021-07-07T14:51:59.255Z"
   },
   {
    "duration": 7,
    "start_time": "2021-07-07T14:51:59.293Z"
   },
   {
    "duration": 10,
    "start_time": "2021-07-07T14:51:59.302Z"
   },
   {
    "duration": 9,
    "start_time": "2021-07-07T14:51:59.313Z"
   },
   {
    "duration": 11,
    "start_time": "2021-07-07T14:51:59.324Z"
   },
   {
    "duration": 8,
    "start_time": "2021-07-07T14:51:59.337Z"
   },
   {
    "duration": 46,
    "start_time": "2021-07-07T14:51:59.347Z"
   },
   {
    "duration": 22,
    "start_time": "2021-07-07T14:51:59.395Z"
   },
   {
    "duration": 24,
    "start_time": "2021-07-07T14:57:32.911Z"
   },
   {
    "duration": 7,
    "start_time": "2021-07-07T14:58:22.070Z"
   },
   {
    "duration": 4,
    "start_time": "2021-07-07T14:59:11.239Z"
   },
   {
    "duration": 25,
    "start_time": "2021-07-07T15:07:22.208Z"
   },
   {
    "duration": 16,
    "start_time": "2021-07-07T15:08:25.560Z"
   },
   {
    "duration": 15,
    "start_time": "2021-07-07T15:08:40.647Z"
   },
   {
    "duration": 14,
    "start_time": "2021-07-07T15:08:46.669Z"
   },
   {
    "duration": 533,
    "start_time": "2021-07-07T15:18:07.440Z"
   },
   {
    "duration": 173,
    "start_time": "2021-07-07T15:18:07.974Z"
   },
   {
    "duration": 84,
    "start_time": "2021-07-07T15:18:08.149Z"
   },
   {
    "duration": 3,
    "start_time": "2021-07-07T15:18:08.235Z"
   },
   {
    "duration": 30,
    "start_time": "2021-07-07T15:18:08.240Z"
   },
   {
    "duration": 22,
    "start_time": "2021-07-07T15:18:08.272Z"
   },
   {
    "duration": 11,
    "start_time": "2021-07-07T15:18:08.295Z"
   },
   {
    "duration": 11,
    "start_time": "2021-07-07T15:18:08.309Z"
   },
   {
    "duration": 40,
    "start_time": "2021-07-07T15:18:08.322Z"
   },
   {
    "duration": 42,
    "start_time": "2021-07-07T15:18:08.364Z"
   },
   {
    "duration": 22,
    "start_time": "2021-07-07T15:18:08.408Z"
   },
   {
    "duration": 5,
    "start_time": "2021-07-07T15:18:08.432Z"
   },
   {
    "duration": 13,
    "start_time": "2021-07-07T15:18:08.439Z"
   },
   {
    "duration": 9,
    "start_time": "2021-07-07T15:18:08.454Z"
   },
   {
    "duration": 32,
    "start_time": "2021-07-07T15:18:08.465Z"
   },
   {
    "duration": 10,
    "start_time": "2021-07-07T15:18:08.501Z"
   },
   {
    "duration": 7,
    "start_time": "2021-07-07T15:18:08.513Z"
   },
   {
    "duration": 11,
    "start_time": "2021-07-07T15:18:08.521Z"
   },
   {
    "duration": 17,
    "start_time": "2021-07-07T15:18:08.534Z"
   },
   {
    "duration": 44,
    "start_time": "2021-07-07T15:18:08.553Z"
   },
   {
    "duration": 22,
    "start_time": "2021-07-07T15:18:08.599Z"
   },
   {
    "duration": 61,
    "start_time": "2021-07-07T15:18:08.622Z"
   },
   {
    "duration": 7,
    "start_time": "2021-07-07T15:18:39.457Z"
   },
   {
    "duration": 5,
    "start_time": "2021-07-07T16:05:17.020Z"
   },
   {
    "duration": 5,
    "start_time": "2021-07-07T16:51:28.794Z"
   },
   {
    "duration": 546,
    "start_time": "2021-07-07T16:52:26.306Z"
   },
   {
    "duration": 203,
    "start_time": "2021-07-07T16:52:27.523Z"
   },
   {
    "duration": 85,
    "start_time": "2021-07-07T16:52:27.736Z"
   },
   {
    "duration": 4,
    "start_time": "2021-07-07T16:52:27.899Z"
   },
   {
    "duration": 25,
    "start_time": "2021-07-07T16:52:28.674Z"
   },
   {
    "duration": 8,
    "start_time": "2021-07-07T16:52:32.956Z"
   },
   {
    "duration": 18,
    "start_time": "2021-07-07T16:52:35.616Z"
   },
   {
    "duration": 6,
    "start_time": "2021-07-07T16:52:36.913Z"
   },
   {
    "duration": 11,
    "start_time": "2021-07-07T16:52:40.258Z"
   },
   {
    "duration": 10,
    "start_time": "2021-07-07T16:52:46.251Z"
   },
   {
    "duration": 8,
    "start_time": "2021-07-07T16:52:47.182Z"
   },
   {
    "duration": 27,
    "start_time": "2021-07-07T16:53:20.391Z"
   },
   {
    "duration": 20,
    "start_time": "2021-07-07T16:53:22.022Z"
   },
   {
    "duration": 23,
    "start_time": "2021-07-07T16:53:23.690Z"
   },
   {
    "duration": 8,
    "start_time": "2021-07-07T16:53:24.261Z"
   },
   {
    "duration": 4,
    "start_time": "2021-07-07T16:53:38.733Z"
   },
   {
    "duration": 7,
    "start_time": "2021-07-07T16:53:40.445Z"
   },
   {
    "duration": 11,
    "start_time": "2021-07-07T16:53:41.348Z"
   },
   {
    "duration": 13,
    "start_time": "2021-07-07T16:53:45.250Z"
   },
   {
    "duration": 12,
    "start_time": "2021-07-07T16:53:45.467Z"
   },
   {
    "duration": 4,
    "start_time": "2021-07-07T16:55:32.704Z"
   },
   {
    "duration": 12,
    "start_time": "2021-07-07T16:55:49.012Z"
   },
   {
    "duration": 18,
    "start_time": "2021-07-07T16:55:49.547Z"
   },
   {
    "duration": 611,
    "start_time": "2021-07-07T16:58:35.156Z"
   },
   {
    "duration": 200,
    "start_time": "2021-07-07T16:58:35.770Z"
   },
   {
    "duration": 86,
    "start_time": "2021-07-07T16:58:35.972Z"
   },
   {
    "duration": 3,
    "start_time": "2021-07-07T16:58:36.060Z"
   },
   {
    "duration": 27,
    "start_time": "2021-07-07T16:58:36.065Z"
   },
   {
    "duration": 8,
    "start_time": "2021-07-07T16:58:36.094Z"
   },
   {
    "duration": 17,
    "start_time": "2021-07-07T16:58:36.103Z"
   },
   {
    "duration": 5,
    "start_time": "2021-07-07T16:58:36.123Z"
   },
   {
    "duration": 11,
    "start_time": "2021-07-07T16:58:36.130Z"
   },
   {
    "duration": 7,
    "start_time": "2021-07-07T16:58:36.143Z"
   },
   {
    "duration": 37,
    "start_time": "2021-07-07T16:58:36.152Z"
   },
   {
    "duration": 27,
    "start_time": "2021-07-07T16:58:36.191Z"
   },
   {
    "duration": 19,
    "start_time": "2021-07-07T16:58:36.219Z"
   },
   {
    "duration": 49,
    "start_time": "2021-07-07T16:58:36.240Z"
   },
   {
    "duration": 6,
    "start_time": "2021-07-07T16:58:36.291Z"
   },
   {
    "duration": 3,
    "start_time": "2021-07-07T16:58:36.299Z"
   },
   {
    "duration": 13,
    "start_time": "2021-07-07T16:58:36.304Z"
   },
   {
    "duration": 10,
    "start_time": "2021-07-07T16:58:36.319Z"
   },
   {
    "duration": 10,
    "start_time": "2021-07-07T16:58:36.331Z"
   },
   {
    "duration": 44,
    "start_time": "2021-07-07T16:58:36.343Z"
   },
   {
    "duration": 4,
    "start_time": "2021-07-07T16:58:36.388Z"
   },
   {
    "duration": 13,
    "start_time": "2021-07-07T16:58:36.394Z"
   },
   {
    "duration": 16,
    "start_time": "2021-07-07T16:58:36.410Z"
   },
   {
    "duration": 8,
    "start_time": "2021-07-07T17:02:31.629Z"
   },
   {
    "duration": 8,
    "start_time": "2021-07-07T17:02:34.308Z"
   },
   {
    "duration": 6,
    "start_time": "2021-07-07T17:05:13.483Z"
   },
   {
    "duration": 17,
    "start_time": "2021-07-07T17:05:20.606Z"
   },
   {
    "duration": 7,
    "start_time": "2021-07-07T17:05:34.638Z"
   },
   {
    "duration": 3,
    "start_time": "2021-07-07T17:06:31.883Z"
   },
   {
    "duration": 570,
    "start_time": "2021-07-07T17:06:37.165Z"
   },
   {
    "duration": 174,
    "start_time": "2021-07-07T17:06:37.737Z"
   },
   {
    "duration": 47,
    "start_time": "2021-07-07T17:06:37.913Z"
   },
   {
    "duration": 3,
    "start_time": "2021-07-07T17:06:37.962Z"
   },
   {
    "duration": 27,
    "start_time": "2021-07-07T17:06:37.967Z"
   },
   {
    "duration": 7,
    "start_time": "2021-07-07T17:06:37.996Z"
   },
   {
    "duration": 16,
    "start_time": "2021-07-07T17:06:38.005Z"
   },
   {
    "duration": 6,
    "start_time": "2021-07-07T17:06:38.024Z"
   },
   {
    "duration": 12,
    "start_time": "2021-07-07T17:06:38.031Z"
   },
   {
    "duration": 41,
    "start_time": "2021-07-07T17:06:38.045Z"
   },
   {
    "duration": 8,
    "start_time": "2021-07-07T17:06:38.088Z"
   },
   {
    "duration": 26,
    "start_time": "2021-07-07T17:06:38.098Z"
   },
   {
    "duration": 17,
    "start_time": "2021-07-07T17:06:38.126Z"
   },
   {
    "duration": 43,
    "start_time": "2021-07-07T17:06:38.144Z"
   },
   {
    "duration": 6,
    "start_time": "2021-07-07T17:06:38.188Z"
   },
   {
    "duration": 5,
    "start_time": "2021-07-07T17:06:38.195Z"
   },
   {
    "duration": 9,
    "start_time": "2021-07-07T17:06:38.201Z"
   },
   {
    "duration": 12,
    "start_time": "2021-07-07T17:06:38.212Z"
   },
   {
    "duration": 11,
    "start_time": "2021-07-07T17:06:38.226Z"
   },
   {
    "duration": 47,
    "start_time": "2021-07-07T17:06:38.239Z"
   },
   {
    "duration": 4,
    "start_time": "2021-07-07T17:06:38.288Z"
   },
   {
    "duration": 13,
    "start_time": "2021-07-07T17:06:38.293Z"
   },
   {
    "duration": 5,
    "start_time": "2021-07-07T17:06:38.309Z"
   },
   {
    "duration": 18,
    "start_time": "2021-07-07T17:06:38.325Z"
   },
   {
    "duration": 20,
    "start_time": "2021-07-07T17:07:02.805Z"
   },
   {
    "duration": 19,
    "start_time": "2021-07-07T17:07:08.527Z"
   },
   {
    "duration": 19,
    "start_time": "2021-07-07T17:07:12.758Z"
   },
   {
    "duration": 22,
    "start_time": "2021-07-07T17:07:17.497Z"
   },
   {
    "duration": 19,
    "start_time": "2021-07-07T17:07:19.645Z"
   },
   {
    "duration": 10,
    "start_time": "2021-07-07T17:07:34.239Z"
   },
   {
    "duration": 17,
    "start_time": "2021-07-07T17:07:54.144Z"
   },
   {
    "duration": 14,
    "start_time": "2021-07-07T17:08:14.357Z"
   },
   {
    "duration": 616,
    "start_time": "2021-07-07T17:08:45.254Z"
   },
   {
    "duration": 178,
    "start_time": "2021-07-07T17:08:45.872Z"
   },
   {
    "duration": 60,
    "start_time": "2021-07-07T17:08:46.054Z"
   },
   {
    "duration": 3,
    "start_time": "2021-07-07T17:08:46.116Z"
   },
   {
    "duration": 26,
    "start_time": "2021-07-07T17:08:46.121Z"
   },
   {
    "duration": 7,
    "start_time": "2021-07-07T17:08:46.149Z"
   },
   {
    "duration": 17,
    "start_time": "2021-07-07T17:08:46.158Z"
   },
   {
    "duration": 14,
    "start_time": "2021-07-07T17:08:46.176Z"
   },
   {
    "duration": 17,
    "start_time": "2021-07-07T17:08:46.193Z"
   },
   {
    "duration": 9,
    "start_time": "2021-07-07T17:08:46.211Z"
   },
   {
    "duration": 21,
    "start_time": "2021-07-07T17:08:46.221Z"
   },
   {
    "duration": 49,
    "start_time": "2021-07-07T17:08:46.244Z"
   },
   {
    "duration": 24,
    "start_time": "2021-07-07T17:08:46.295Z"
   },
   {
    "duration": 22,
    "start_time": "2021-07-07T17:08:46.321Z"
   },
   {
    "duration": 6,
    "start_time": "2021-07-07T17:08:46.345Z"
   },
   {
    "duration": 5,
    "start_time": "2021-07-07T17:08:46.353Z"
   },
   {
    "duration": 13,
    "start_time": "2021-07-07T17:08:46.386Z"
   },
   {
    "duration": 12,
    "start_time": "2021-07-07T17:08:46.402Z"
   },
   {
    "duration": 10,
    "start_time": "2021-07-07T17:08:46.415Z"
   },
   {
    "duration": 7,
    "start_time": "2021-07-07T17:08:46.427Z"
   },
   {
    "duration": 8,
    "start_time": "2021-07-07T17:08:46.435Z"
   },
   {
    "duration": 68,
    "start_time": "2021-07-07T17:08:46.446Z"
   },
   {
    "duration": 13,
    "start_time": "2021-07-07T17:08:46.516Z"
   },
   {
    "duration": 78,
    "start_time": "2021-07-07T17:08:46.530Z"
   },
   {
    "duration": 40,
    "start_time": "2021-07-07T17:09:08.185Z"
   },
   {
    "duration": 16,
    "start_time": "2021-07-07T17:09:19.324Z"
   },
   {
    "duration": 21,
    "start_time": "2021-07-07T17:09:23.290Z"
   },
   {
    "duration": 13,
    "start_time": "2021-07-07T17:09:54.812Z"
   },
   {
    "duration": 13,
    "start_time": "2021-07-07T17:10:02.039Z"
   },
   {
    "duration": 10,
    "start_time": "2021-07-07T17:10:29.632Z"
   },
   {
    "duration": 13,
    "start_time": "2021-07-07T17:10:52.372Z"
   },
   {
    "duration": 13,
    "start_time": "2021-07-07T17:11:17.270Z"
   },
   {
    "duration": 13,
    "start_time": "2021-07-07T17:14:59.284Z"
   },
   {
    "duration": 547,
    "start_time": "2021-07-07T17:18:52.403Z"
   },
   {
    "duration": 163,
    "start_time": "2021-07-07T17:18:52.952Z"
   },
   {
    "duration": 44,
    "start_time": "2021-07-07T17:18:53.117Z"
   },
   {
    "duration": 3,
    "start_time": "2021-07-07T17:18:53.162Z"
   },
   {
    "duration": 26,
    "start_time": "2021-07-07T17:18:53.167Z"
   },
   {
    "duration": 6,
    "start_time": "2021-07-07T17:18:53.195Z"
   },
   {
    "duration": 15,
    "start_time": "2021-07-07T17:18:53.203Z"
   },
   {
    "duration": 5,
    "start_time": "2021-07-07T17:18:53.220Z"
   },
   {
    "duration": 11,
    "start_time": "2021-07-07T17:18:53.228Z"
   },
   {
    "duration": 9,
    "start_time": "2021-07-07T17:18:53.241Z"
   },
   {
    "duration": 41,
    "start_time": "2021-07-07T17:18:53.252Z"
   },
   {
    "duration": 33,
    "start_time": "2021-07-07T17:18:53.295Z"
   },
   {
    "duration": 19,
    "start_time": "2021-07-07T17:18:53.330Z"
   },
   {
    "duration": 49,
    "start_time": "2021-07-07T17:18:53.350Z"
   },
   {
    "duration": 5,
    "start_time": "2021-07-07T17:18:53.401Z"
   },
   {
    "duration": 5,
    "start_time": "2021-07-07T17:18:53.408Z"
   },
   {
    "duration": 11,
    "start_time": "2021-07-07T17:18:53.414Z"
   },
   {
    "duration": 9,
    "start_time": "2021-07-07T17:18:53.427Z"
   },
   {
    "duration": 10,
    "start_time": "2021-07-07T17:18:53.437Z"
   },
   {
    "duration": 39,
    "start_time": "2021-07-07T17:18:53.448Z"
   },
   {
    "duration": 26,
    "start_time": "2021-07-07T17:18:55.799Z"
   },
   {
    "duration": 598,
    "start_time": "2021-07-07T17:20:17.862Z"
   },
   {
    "duration": 161,
    "start_time": "2021-07-07T17:20:18.462Z"
   },
   {
    "duration": 45,
    "start_time": "2021-07-07T17:20:18.626Z"
   },
   {
    "duration": 4,
    "start_time": "2021-07-07T17:20:18.673Z"
   },
   {
    "duration": 38,
    "start_time": "2021-07-07T17:20:26.877Z"
   },
   {
    "duration": 7,
    "start_time": "2021-07-07T17:20:37.405Z"
   },
   {
    "duration": 19,
    "start_time": "2021-07-07T17:20:51.534Z"
   },
   {
    "duration": 5,
    "start_time": "2021-07-07T17:20:57.228Z"
   },
   {
    "duration": 7,
    "start_time": "2021-07-07T17:21:08.235Z"
   },
   {
    "duration": 19,
    "start_time": "2021-07-07T17:21:42.158Z"
   },
   {
    "duration": 14,
    "start_time": "2021-07-07T17:21:50.225Z"
   },
   {
    "duration": 22,
    "start_time": "2021-07-07T17:22:54.104Z"
   },
   {
    "duration": 5,
    "start_time": "2021-07-07T17:22:56.371Z"
   },
   {
    "duration": 14,
    "start_time": "2021-07-07T17:22:58.316Z"
   },
   {
    "duration": 5,
    "start_time": "2021-07-07T17:22:58.493Z"
   },
   {
    "duration": 35,
    "start_time": "2021-07-07T17:22:59.666Z"
   },
   {
    "duration": 6,
    "start_time": "2021-07-07T17:23:02.410Z"
   },
   {
    "duration": 611,
    "start_time": "2021-07-07T17:24:59.664Z"
   },
   {
    "duration": 178,
    "start_time": "2021-07-07T17:25:01.945Z"
   },
   {
    "duration": 47,
    "start_time": "2021-07-07T17:25:02.125Z"
   },
   {
    "duration": 2,
    "start_time": "2021-07-07T17:25:07.903Z"
   },
   {
    "duration": 254,
    "start_time": "2021-07-07T17:25:08.232Z"
   },
   {
    "duration": 182,
    "start_time": "2021-07-07T17:25:08.671Z"
   },
   {
    "duration": 6,
    "start_time": "2021-07-07T17:25:13.104Z"
   },
   {
    "duration": 36,
    "start_time": "2021-07-07T17:25:13.662Z"
   },
   {
    "duration": 7,
    "start_time": "2021-07-07T17:25:14.528Z"
   },
   {
    "duration": 24,
    "start_time": "2021-07-07T17:25:27.982Z"
   },
   {
    "duration": 3,
    "start_time": "2021-07-07T17:25:48.982Z"
   },
   {
    "duration": 165,
    "start_time": "2021-07-07T17:25:48.987Z"
   },
   {
    "duration": 50,
    "start_time": "2021-07-07T17:25:49.154Z"
   },
   {
    "duration": 4,
    "start_time": "2021-07-07T17:25:49.206Z"
   },
   {
    "duration": 26,
    "start_time": "2021-07-07T17:25:49.212Z"
   },
   {
    "duration": 7,
    "start_time": "2021-07-07T17:25:49.240Z"
   },
   {
    "duration": 16,
    "start_time": "2021-07-07T17:25:49.249Z"
   },
   {
    "duration": 22,
    "start_time": "2021-07-07T17:25:49.266Z"
   },
   {
    "duration": 16,
    "start_time": "2021-07-07T17:25:49.291Z"
   },
   {
    "duration": 9,
    "start_time": "2021-07-07T17:25:49.309Z"
   },
   {
    "duration": 7,
    "start_time": "2021-07-07T17:25:49.319Z"
   },
   {
    "duration": 28,
    "start_time": "2021-07-07T17:25:49.328Z"
   },
   {
    "duration": 44,
    "start_time": "2021-07-07T17:25:49.357Z"
   },
   {
    "duration": 22,
    "start_time": "2021-07-07T17:25:49.403Z"
   },
   {
    "duration": 7,
    "start_time": "2021-07-07T17:25:49.427Z"
   },
   {
    "duration": 3,
    "start_time": "2021-07-07T17:25:49.436Z"
   },
   {
    "duration": 44,
    "start_time": "2021-07-07T17:25:49.441Z"
   },
   {
    "duration": 12,
    "start_time": "2021-07-07T17:25:49.488Z"
   },
   {
    "duration": 13,
    "start_time": "2021-07-07T17:25:49.502Z"
   },
   {
    "duration": 10,
    "start_time": "2021-07-07T17:25:49.516Z"
   },
   {
    "duration": 62,
    "start_time": "2021-07-07T17:25:49.527Z"
   },
   {
    "duration": 26,
    "start_time": "2021-07-07T17:26:51.809Z"
   },
   {
    "duration": 26,
    "start_time": "2021-07-07T17:26:55.759Z"
   },
   {
    "duration": 26,
    "start_time": "2021-07-07T17:27:04.501Z"
   },
   {
    "duration": 25,
    "start_time": "2021-07-07T17:28:24.859Z"
   },
   {
    "duration": 21,
    "start_time": "2021-07-07T17:28:55.250Z"
   },
   {
    "duration": 21,
    "start_time": "2021-07-07T17:28:58.885Z"
   },
   {
    "duration": 7,
    "start_time": "2021-07-07T17:45:40.972Z"
   },
   {
    "duration": 13,
    "start_time": "2021-07-07T17:45:42.529Z"
   },
   {
    "duration": 27,
    "start_time": "2021-07-07T17:45:51.026Z"
   },
   {
    "duration": 518,
    "start_time": "2021-07-07T17:46:15.532Z"
   },
   {
    "duration": 235,
    "start_time": "2021-07-07T17:46:16.053Z"
   },
   {
    "duration": 80,
    "start_time": "2021-07-07T17:46:16.292Z"
   },
   {
    "duration": 5,
    "start_time": "2021-07-07T17:46:16.373Z"
   },
   {
    "duration": 26,
    "start_time": "2021-07-07T17:46:16.380Z"
   },
   {
    "duration": 7,
    "start_time": "2021-07-07T17:46:16.408Z"
   },
   {
    "duration": 16,
    "start_time": "2021-07-07T17:46:16.418Z"
   },
   {
    "duration": 5,
    "start_time": "2021-07-07T17:46:16.436Z"
   },
   {
    "duration": 13,
    "start_time": "2021-07-07T17:46:16.442Z"
   },
   {
    "duration": 35,
    "start_time": "2021-07-07T17:46:16.456Z"
   },
   {
    "duration": 8,
    "start_time": "2021-07-07T17:46:16.493Z"
   },
   {
    "duration": 28,
    "start_time": "2021-07-07T17:46:16.502Z"
   },
   {
    "duration": 17,
    "start_time": "2021-07-07T17:46:16.532Z"
   },
   {
    "duration": 44,
    "start_time": "2021-07-07T17:46:16.551Z"
   },
   {
    "duration": 6,
    "start_time": "2021-07-07T17:46:16.597Z"
   },
   {
    "duration": 4,
    "start_time": "2021-07-07T17:46:16.605Z"
   },
   {
    "duration": 9,
    "start_time": "2021-07-07T17:46:16.610Z"
   },
   {
    "duration": 9,
    "start_time": "2021-07-07T17:46:16.621Z"
   },
   {
    "duration": 10,
    "start_time": "2021-07-07T17:46:16.632Z"
   },
   {
    "duration": 43,
    "start_time": "2021-07-07T17:46:16.644Z"
   },
   {
    "duration": 26,
    "start_time": "2021-07-07T17:46:16.689Z"
   },
   {
    "duration": 19,
    "start_time": "2021-07-07T17:46:16.718Z"
   },
   {
    "duration": 8,
    "start_time": "2021-07-07T17:46:16.738Z"
   },
   {
    "duration": 43,
    "start_time": "2021-07-07T17:46:16.747Z"
   },
   {
    "duration": 19,
    "start_time": "2021-07-07T17:46:16.791Z"
   },
   {
    "duration": 9,
    "start_time": "2021-07-07T17:46:16.812Z"
   },
   {
    "duration": 60,
    "start_time": "2021-07-07T17:46:16.822Z"
   },
   {
    "duration": -8,
    "start_time": "2021-07-07T17:46:16.892Z"
   },
   {
    "duration": 12,
    "start_time": "2021-07-07T17:48:47.707Z"
   },
   {
    "duration": 553,
    "start_time": "2021-07-07T18:10:09.350Z"
   },
   {
    "duration": 230,
    "start_time": "2021-07-07T18:10:09.905Z"
   },
   {
    "duration": 97,
    "start_time": "2021-07-07T18:10:10.137Z"
   },
   {
    "duration": 5,
    "start_time": "2021-07-07T18:10:10.236Z"
   },
   {
    "duration": 29,
    "start_time": "2021-07-07T18:10:10.242Z"
   },
   {
    "duration": 7,
    "start_time": "2021-07-07T18:10:10.272Z"
   },
   {
    "duration": 15,
    "start_time": "2021-07-07T18:10:10.281Z"
   },
   {
    "duration": 4,
    "start_time": "2021-07-07T18:10:10.299Z"
   },
   {
    "duration": 14,
    "start_time": "2021-07-07T18:10:10.305Z"
   },
   {
    "duration": 8,
    "start_time": "2021-07-07T18:10:10.321Z"
   },
   {
    "duration": 8,
    "start_time": "2021-07-07T18:10:10.331Z"
   },
   {
    "duration": 56,
    "start_time": "2021-07-07T18:10:10.341Z"
   },
   {
    "duration": 19,
    "start_time": "2021-07-07T18:10:10.399Z"
   },
   {
    "duration": 23,
    "start_time": "2021-07-07T18:10:10.419Z"
   },
   {
    "duration": 6,
    "start_time": "2021-07-07T18:10:10.444Z"
   },
   {
    "duration": 9,
    "start_time": "2021-07-07T18:10:10.451Z"
   },
   {
    "duration": 30,
    "start_time": "2021-07-07T18:10:10.462Z"
   },
   {
    "duration": 9,
    "start_time": "2021-07-07T18:10:10.494Z"
   },
   {
    "duration": 14,
    "start_time": "2021-07-07T18:10:10.505Z"
   },
   {
    "duration": 7,
    "start_time": "2021-07-07T18:10:10.521Z"
   },
   {
    "duration": 26,
    "start_time": "2021-07-07T18:10:10.530Z"
   },
   {
    "duration": 44,
    "start_time": "2021-07-07T18:10:10.558Z"
   },
   {
    "duration": 7,
    "start_time": "2021-07-07T18:10:10.605Z"
   },
   {
    "duration": 11,
    "start_time": "2021-07-07T18:10:10.614Z"
   },
   {
    "duration": 19,
    "start_time": "2021-07-07T18:10:10.626Z"
   },
   {
    "duration": 44,
    "start_time": "2021-07-07T18:10:10.646Z"
   },
   {
    "duration": 516,
    "start_time": "2021-07-07T18:14:00.826Z"
   },
   {
    "duration": 230,
    "start_time": "2021-07-07T18:14:01.344Z"
   },
   {
    "duration": 105,
    "start_time": "2021-07-07T18:14:01.576Z"
   },
   {
    "duration": 5,
    "start_time": "2021-07-07T18:14:01.683Z"
   },
   {
    "duration": 46,
    "start_time": "2021-07-07T18:14:01.690Z"
   },
   {
    "duration": 7,
    "start_time": "2021-07-07T18:14:01.738Z"
   },
   {
    "duration": 20,
    "start_time": "2021-07-07T18:14:01.747Z"
   },
   {
    "duration": 16,
    "start_time": "2021-07-07T18:14:01.769Z"
   },
   {
    "duration": 14,
    "start_time": "2021-07-07T18:14:01.787Z"
   },
   {
    "duration": 15,
    "start_time": "2021-07-07T18:14:01.803Z"
   },
   {
    "duration": 12,
    "start_time": "2021-07-07T18:14:01.820Z"
   },
   {
    "duration": 35,
    "start_time": "2021-07-07T18:14:01.833Z"
   },
   {
    "duration": 31,
    "start_time": "2021-07-07T18:14:01.869Z"
   },
   {
    "duration": 37,
    "start_time": "2021-07-07T18:14:01.902Z"
   },
   {
    "duration": 8,
    "start_time": "2021-07-07T18:14:01.942Z"
   },
   {
    "duration": 16,
    "start_time": "2021-07-07T18:14:01.952Z"
   },
   {
    "duration": 13,
    "start_time": "2021-07-07T18:14:01.970Z"
   },
   {
    "duration": 32,
    "start_time": "2021-07-07T18:14:01.985Z"
   },
   {
    "duration": 11,
    "start_time": "2021-07-07T18:14:02.019Z"
   },
   {
    "duration": 22,
    "start_time": "2021-07-07T18:14:02.031Z"
   },
   {
    "duration": 27,
    "start_time": "2021-07-07T18:14:02.055Z"
   },
   {
    "duration": 18,
    "start_time": "2021-07-07T18:14:02.084Z"
   },
   {
    "duration": 18,
    "start_time": "2021-07-07T18:14:02.106Z"
   },
   {
    "duration": 11,
    "start_time": "2021-07-07T18:14:02.126Z"
   },
   {
    "duration": 21,
    "start_time": "2021-07-07T18:14:02.138Z"
   },
   {
    "duration": 32,
    "start_time": "2021-07-07T18:14:02.161Z"
   },
   {
    "duration": 28,
    "start_time": "2021-07-07T18:14:44.295Z"
   },
   {
    "duration": 6,
    "start_time": "2021-07-07T18:15:05.834Z"
   },
   {
    "duration": 511,
    "start_time": "2021-07-07T18:15:41.541Z"
   },
   {
    "duration": 183,
    "start_time": "2021-07-07T18:15:42.054Z"
   },
   {
    "duration": 50,
    "start_time": "2021-07-07T18:15:42.239Z"
   },
   {
    "duration": 5,
    "start_time": "2021-07-07T18:15:42.291Z"
   },
   {
    "duration": 48,
    "start_time": "2021-07-07T18:15:42.297Z"
   },
   {
    "duration": 8,
    "start_time": "2021-07-07T18:15:42.346Z"
   },
   {
    "duration": 17,
    "start_time": "2021-07-07T18:15:42.356Z"
   },
   {
    "duration": 15,
    "start_time": "2021-07-07T18:15:42.375Z"
   },
   {
    "duration": 12,
    "start_time": "2021-07-07T18:15:42.392Z"
   },
   {
    "duration": 7,
    "start_time": "2021-07-07T18:15:42.406Z"
   },
   {
    "duration": 7,
    "start_time": "2021-07-07T18:15:42.415Z"
   },
   {
    "duration": 29,
    "start_time": "2021-07-07T18:15:42.423Z"
   },
   {
    "duration": 43,
    "start_time": "2021-07-07T18:15:42.453Z"
   },
   {
    "duration": 18,
    "start_time": "2021-07-07T18:15:42.497Z"
   },
   {
    "duration": 6,
    "start_time": "2021-07-07T18:15:42.516Z"
   },
   {
    "duration": 3,
    "start_time": "2021-07-07T18:15:42.523Z"
   },
   {
    "duration": 18,
    "start_time": "2021-07-07T18:15:42.528Z"
   },
   {
    "duration": 10,
    "start_time": "2021-07-07T18:15:42.547Z"
   },
   {
    "duration": 36,
    "start_time": "2021-07-07T18:15:42.559Z"
   },
   {
    "duration": 8,
    "start_time": "2021-07-07T18:15:42.597Z"
   },
   {
    "duration": 28,
    "start_time": "2021-07-07T18:15:42.606Z"
   },
   {
    "duration": 52,
    "start_time": "2021-07-07T18:15:42.635Z"
   },
   {
    "duration": 7,
    "start_time": "2021-07-07T18:15:42.690Z"
   },
   {
    "duration": 10,
    "start_time": "2021-07-07T18:15:42.699Z"
   },
   {
    "duration": 19,
    "start_time": "2021-07-07T18:15:42.711Z"
   },
   {
    "duration": 9,
    "start_time": "2021-07-07T18:15:42.732Z"
   },
   {
    "duration": 5,
    "start_time": "2021-07-07T18:15:42.743Z"
   },
   {
    "duration": 1450,
    "start_time": "2021-07-07T18:15:51.984Z"
   },
   {
    "duration": 161,
    "start_time": "2021-07-07T18:15:53.435Z"
   },
   {
    "duration": 124,
    "start_time": "2021-07-07T18:15:53.598Z"
   },
   {
    "duration": 5,
    "start_time": "2021-07-07T18:15:53.724Z"
   },
   {
    "duration": 34,
    "start_time": "2021-07-07T18:15:53.730Z"
   },
   {
    "duration": 7,
    "start_time": "2021-07-07T18:15:53.765Z"
   },
   {
    "duration": 15,
    "start_time": "2021-07-07T18:15:53.773Z"
   },
   {
    "duration": 5,
    "start_time": "2021-07-07T18:15:53.791Z"
   },
   {
    "duration": 19,
    "start_time": "2021-07-07T18:15:53.798Z"
   },
   {
    "duration": 9,
    "start_time": "2021-07-07T18:15:53.818Z"
   },
   {
    "duration": 19,
    "start_time": "2021-07-07T18:15:53.828Z"
   },
   {
    "duration": 27,
    "start_time": "2021-07-07T18:15:53.848Z"
   },
   {
    "duration": 16,
    "start_time": "2021-07-07T18:15:53.884Z"
   },
   {
    "duration": 29,
    "start_time": "2021-07-07T18:15:53.901Z"
   },
   {
    "duration": 5,
    "start_time": "2021-07-07T18:15:53.932Z"
   },
   {
    "duration": 15,
    "start_time": "2021-07-07T18:15:53.939Z"
   },
   {
    "duration": 13,
    "start_time": "2021-07-07T18:15:53.956Z"
   },
   {
    "duration": 20,
    "start_time": "2021-07-07T18:15:53.971Z"
   },
   {
    "duration": 14,
    "start_time": "2021-07-07T18:15:53.992Z"
   },
   {
    "duration": 9,
    "start_time": "2021-07-07T18:15:54.009Z"
   },
   {
    "duration": 28,
    "start_time": "2021-07-07T18:15:54.020Z"
   },
   {
    "duration": 50,
    "start_time": "2021-07-07T18:15:54.051Z"
   },
   {
    "duration": 8,
    "start_time": "2021-07-07T18:15:54.105Z"
   },
   {
    "duration": 11,
    "start_time": "2021-07-07T18:15:54.115Z"
   },
   {
    "duration": 20,
    "start_time": "2021-07-07T18:15:54.128Z"
   },
   {
    "duration": 13,
    "start_time": "2021-07-07T18:15:54.184Z"
   },
   {
    "duration": 7,
    "start_time": "2021-07-07T18:15:54.199Z"
   },
   {
    "duration": 7,
    "start_time": "2021-07-07T18:17:08.042Z"
   },
   {
    "duration": 8,
    "start_time": "2021-07-07T18:17:21.008Z"
   },
   {
    "duration": 7,
    "start_time": "2021-07-07T18:17:29.003Z"
   },
   {
    "duration": 8,
    "start_time": "2021-07-07T18:17:32.492Z"
   },
   {
    "duration": 9,
    "start_time": "2021-07-07T18:17:41.758Z"
   },
   {
    "duration": 255,
    "start_time": "2021-07-07T18:20:20.897Z"
   },
   {
    "duration": 173,
    "start_time": "2021-07-07T18:20:26.636Z"
   },
   {
    "duration": 7,
    "start_time": "2021-07-07T18:21:47.164Z"
   },
   {
    "duration": 254,
    "start_time": "2021-07-07T18:23:08.703Z"
   },
   {
    "duration": 21,
    "start_time": "2021-07-07T18:23:22.506Z"
   },
   {
    "duration": 315,
    "start_time": "2021-07-07T18:25:54.801Z"
   },
   {
    "duration": 34,
    "start_time": "2021-07-07T18:26:51.817Z"
   },
   {
    "duration": 327,
    "start_time": "2021-07-07T18:26:56.147Z"
   },
   {
    "duration": 342,
    "start_time": "2021-07-07T18:27:15.887Z"
   },
   {
    "duration": 302,
    "start_time": "2021-07-07T18:28:18.569Z"
   },
   {
    "duration": 226,
    "start_time": "2021-07-07T18:29:20.879Z"
   },
   {
    "duration": 207,
    "start_time": "2021-07-07T18:29:58.114Z"
   },
   {
    "duration": 140,
    "start_time": "2021-07-07T18:32:04.372Z"
   },
   {
    "duration": 158,
    "start_time": "2021-07-07T18:32:32.508Z"
   },
   {
    "duration": 145,
    "start_time": "2021-07-07T18:32:41.365Z"
   },
   {
    "duration": 132,
    "start_time": "2021-07-07T18:32:45.199Z"
   },
   {
    "duration": 11,
    "start_time": "2021-07-07T18:35:24.679Z"
   },
   {
    "duration": 268,
    "start_time": "2021-07-07T18:36:16.145Z"
   },
   {
    "duration": 227,
    "start_time": "2021-07-07T18:37:04.918Z"
   },
   {
    "duration": 3,
    "start_time": "2021-07-07T18:37:33.012Z"
   },
   {
    "duration": 671,
    "start_time": "2021-07-07T18:37:38.295Z"
   },
   {
    "duration": 54,
    "start_time": "2021-07-07T18:37:53.406Z"
   },
   {
    "duration": 631,
    "start_time": "2021-07-07T18:37:56.463Z"
   },
   {
    "duration": 19,
    "start_time": "2021-07-07T18:39:40.535Z"
   },
   {
    "duration": 20,
    "start_time": "2021-07-07T18:40:12.236Z"
   },
   {
    "duration": 633,
    "start_time": "2021-07-07T18:42:00.398Z"
   },
   {
    "duration": 218,
    "start_time": "2021-07-07T18:42:01.033Z"
   },
   {
    "duration": 49,
    "start_time": "2021-07-07T18:42:01.253Z"
   },
   {
    "duration": 5,
    "start_time": "2021-07-07T18:42:01.303Z"
   },
   {
    "duration": 27,
    "start_time": "2021-07-07T18:42:01.310Z"
   },
   {
    "duration": 8,
    "start_time": "2021-07-07T18:42:01.339Z"
   },
   {
    "duration": 20,
    "start_time": "2021-07-07T18:42:01.348Z"
   },
   {
    "duration": 6,
    "start_time": "2021-07-07T18:42:01.386Z"
   },
   {
    "duration": 16,
    "start_time": "2021-07-07T18:42:01.394Z"
   },
   {
    "duration": 9,
    "start_time": "2021-07-07T18:42:01.411Z"
   },
   {
    "duration": 11,
    "start_time": "2021-07-07T18:42:01.421Z"
   },
   {
    "duration": 31,
    "start_time": "2021-07-07T18:42:01.434Z"
   },
   {
    "duration": 18,
    "start_time": "2021-07-07T18:42:01.485Z"
   },
   {
    "duration": 23,
    "start_time": "2021-07-07T18:42:01.505Z"
   },
   {
    "duration": 6,
    "start_time": "2021-07-07T18:42:01.530Z"
   },
   {
    "duration": 10,
    "start_time": "2021-07-07T18:42:01.538Z"
   },
   {
    "duration": 13,
    "start_time": "2021-07-07T18:42:01.550Z"
   },
   {
    "duration": 24,
    "start_time": "2021-07-07T18:42:01.564Z"
   },
   {
    "duration": 20,
    "start_time": "2021-07-07T18:42:01.590Z"
   },
   {
    "duration": 8,
    "start_time": "2021-07-07T18:42:01.611Z"
   },
   {
    "duration": 31,
    "start_time": "2021-07-07T18:42:01.620Z"
   },
   {
    "duration": 39,
    "start_time": "2021-07-07T18:42:01.653Z"
   },
   {
    "duration": 8,
    "start_time": "2021-07-07T18:42:01.696Z"
   },
   {
    "duration": 13,
    "start_time": "2021-07-07T18:42:01.705Z"
   },
   {
    "duration": 20,
    "start_time": "2021-07-07T18:42:01.720Z"
   },
   {
    "duration": 12,
    "start_time": "2021-07-07T18:42:01.741Z"
   },
   {
    "duration": 35,
    "start_time": "2021-07-07T18:42:01.755Z"
   },
   {
    "duration": 14,
    "start_time": "2021-07-07T18:42:01.792Z"
   },
   {
    "duration": 188,
    "start_time": "2021-07-07T18:42:01.808Z"
   },
   {
    "duration": 19,
    "start_time": "2021-07-07T18:42:01.998Z"
   },
   {
    "duration": 175,
    "start_time": "2021-07-07T18:42:02.019Z"
   },
   {
    "duration": 134,
    "start_time": "2021-07-07T18:42:02.196Z"
   },
   {
    "duration": 10,
    "start_time": "2021-07-07T18:42:02.331Z"
   },
   {
    "duration": 19,
    "start_time": "2021-07-07T18:42:02.343Z"
   },
   {
    "duration": 628,
    "start_time": "2021-07-07T18:46:30.701Z"
   },
   {
    "duration": 183,
    "start_time": "2021-07-07T18:46:31.331Z"
   },
   {
    "duration": 48,
    "start_time": "2021-07-07T18:46:31.516Z"
   },
   {
    "duration": 5,
    "start_time": "2021-07-07T18:46:31.566Z"
   },
   {
    "duration": 28,
    "start_time": "2021-07-07T18:46:31.572Z"
   },
   {
    "duration": 8,
    "start_time": "2021-07-07T18:46:31.602Z"
   },
   {
    "duration": 19,
    "start_time": "2021-07-07T18:46:31.611Z"
   },
   {
    "duration": 6,
    "start_time": "2021-07-07T18:46:31.633Z"
   },
   {
    "duration": 17,
    "start_time": "2021-07-07T18:46:31.642Z"
   },
   {
    "duration": 10,
    "start_time": "2021-07-07T18:46:31.684Z"
   },
   {
    "duration": 9,
    "start_time": "2021-07-07T18:46:31.695Z"
   },
   {
    "duration": 28,
    "start_time": "2021-07-07T18:46:31.705Z"
   },
   {
    "duration": 18,
    "start_time": "2021-07-07T18:46:31.735Z"
   },
   {
    "duration": 48,
    "start_time": "2021-07-07T18:46:31.755Z"
   },
   {
    "duration": 6,
    "start_time": "2021-07-07T18:46:31.804Z"
   },
   {
    "duration": 4,
    "start_time": "2021-07-07T18:46:31.812Z"
   },
   {
    "duration": 9,
    "start_time": "2021-07-07T18:46:31.817Z"
   },
   {
    "duration": 10,
    "start_time": "2021-07-07T18:46:31.827Z"
   },
   {
    "duration": 12,
    "start_time": "2021-07-07T18:46:31.838Z"
   },
   {
    "duration": 39,
    "start_time": "2021-07-07T18:46:31.851Z"
   },
   {
    "duration": 24,
    "start_time": "2021-07-07T18:46:31.892Z"
   },
   {
    "duration": 15,
    "start_time": "2021-07-07T18:46:31.918Z"
   },
   {
    "duration": 7,
    "start_time": "2021-07-07T18:46:31.936Z"
   },
   {
    "duration": 8,
    "start_time": "2021-07-07T18:46:31.944Z"
   },
   {
    "duration": 19,
    "start_time": "2021-07-07T18:46:31.984Z"
   },
   {
    "duration": 10,
    "start_time": "2021-07-07T18:46:32.004Z"
   },
   {
    "duration": 5,
    "start_time": "2021-07-07T18:46:32.016Z"
   },
   {
    "duration": 9,
    "start_time": "2021-07-07T18:46:32.023Z"
   },
   {
    "duration": 199,
    "start_time": "2021-07-07T18:46:32.033Z"
   },
   {
    "duration": 19,
    "start_time": "2021-07-07T18:46:32.234Z"
   },
   {
    "duration": 159,
    "start_time": "2021-07-07T18:46:32.255Z"
   },
   {
    "duration": 134,
    "start_time": "2021-07-07T18:46:32.416Z"
   },
   {
    "duration": 10,
    "start_time": "2021-07-07T18:46:32.552Z"
   },
   {
    "duration": 34,
    "start_time": "2021-07-07T18:46:32.563Z"
   },
   {
    "duration": 1039,
    "start_time": "2021-07-08T08:41:09.419Z"
   },
   {
    "duration": 333,
    "start_time": "2021-07-08T08:41:10.459Z"
   },
   {
    "duration": 173,
    "start_time": "2021-07-08T08:41:10.794Z"
   },
   {
    "duration": 5,
    "start_time": "2021-07-08T08:41:10.968Z"
   },
   {
    "duration": 25,
    "start_time": "2021-07-08T08:41:10.975Z"
   },
   {
    "duration": 9,
    "start_time": "2021-07-08T08:41:11.002Z"
   },
   {
    "duration": 18,
    "start_time": "2021-07-08T08:41:11.013Z"
   },
   {
    "duration": 6,
    "start_time": "2021-07-08T08:41:11.033Z"
   },
   {
    "duration": 44,
    "start_time": "2021-07-08T08:41:11.042Z"
   },
   {
    "duration": 10,
    "start_time": "2021-07-08T08:41:11.088Z"
   },
   {
    "duration": 9,
    "start_time": "2021-07-08T08:41:11.100Z"
   },
   {
    "duration": 27,
    "start_time": "2021-07-08T08:41:11.111Z"
   },
   {
    "duration": 46,
    "start_time": "2021-07-08T08:41:11.140Z"
   },
   {
    "duration": 17,
    "start_time": "2021-07-08T08:41:11.187Z"
   },
   {
    "duration": 6,
    "start_time": "2021-07-08T08:41:11.206Z"
   },
   {
    "duration": 5,
    "start_time": "2021-07-08T08:41:11.213Z"
   },
   {
    "duration": 10,
    "start_time": "2021-07-08T08:41:11.219Z"
   },
   {
    "duration": 9,
    "start_time": "2021-07-08T08:41:11.230Z"
   },
   {
    "duration": 45,
    "start_time": "2021-07-08T08:41:11.241Z"
   },
   {
    "duration": 7,
    "start_time": "2021-07-08T08:41:11.287Z"
   },
   {
    "duration": 24,
    "start_time": "2021-07-08T08:41:11.296Z"
   },
   {
    "duration": 16,
    "start_time": "2021-07-08T08:41:11.322Z"
   },
   {
    "duration": 7,
    "start_time": "2021-07-08T08:41:11.341Z"
   },
   {
    "duration": 41,
    "start_time": "2021-07-08T08:41:11.349Z"
   },
   {
    "duration": 17,
    "start_time": "2021-07-08T08:41:11.391Z"
   },
   {
    "duration": 9,
    "start_time": "2021-07-08T08:41:11.410Z"
   },
   {
    "duration": 5,
    "start_time": "2021-07-08T08:41:11.421Z"
   },
   {
    "duration": 6,
    "start_time": "2021-07-08T08:41:11.428Z"
   },
   {
    "duration": 198,
    "start_time": "2021-07-08T08:41:11.435Z"
   },
   {
    "duration": 18,
    "start_time": "2021-07-08T08:41:11.635Z"
   },
   {
    "duration": 155,
    "start_time": "2021-07-08T08:41:11.655Z"
   },
   {
    "duration": 138,
    "start_time": "2021-07-08T08:41:11.811Z"
   },
   {
    "duration": 10,
    "start_time": "2021-07-08T08:41:11.950Z"
   },
   {
    "duration": 29,
    "start_time": "2021-07-08T08:41:11.961Z"
   },
   {
    "duration": 171,
    "start_time": "2021-07-08T08:47:44.522Z"
   },
   {
    "duration": 124,
    "start_time": "2021-07-08T08:47:46.872Z"
   },
   {
    "duration": 191,
    "start_time": "2021-07-08T08:47:58.148Z"
   },
   {
    "duration": 191,
    "start_time": "2021-07-08T08:48:07.412Z"
   },
   {
    "duration": 261,
    "start_time": "2021-07-08T08:48:10.385Z"
   },
   {
    "duration": 255,
    "start_time": "2021-07-08T08:48:14.494Z"
   },
   {
    "duration": 219,
    "start_time": "2021-07-08T08:48:22.752Z"
   },
   {
    "duration": 173,
    "start_time": "2021-07-08T08:49:06.395Z"
   },
   {
    "duration": 180,
    "start_time": "2021-07-08T08:49:21.011Z"
   },
   {
    "duration": 6,
    "start_time": "2021-07-08T08:50:31.697Z"
   },
   {
    "duration": 10,
    "start_time": "2021-07-08T08:50:47.394Z"
   },
   {
    "duration": 11,
    "start_time": "2021-07-08T08:53:49.332Z"
   },
   {
    "duration": 171,
    "start_time": "2021-07-08T08:54:28.408Z"
   },
   {
    "duration": 636,
    "start_time": "2021-07-08T09:02:48.385Z"
   },
   {
    "duration": 227,
    "start_time": "2021-07-08T09:02:49.023Z"
   },
   {
    "duration": 104,
    "start_time": "2021-07-08T09:02:49.252Z"
   },
   {
    "duration": 5,
    "start_time": "2021-07-08T09:02:49.358Z"
   },
   {
    "duration": 27,
    "start_time": "2021-07-08T09:02:49.365Z"
   },
   {
    "duration": 8,
    "start_time": "2021-07-08T09:02:49.394Z"
   },
   {
    "duration": 18,
    "start_time": "2021-07-08T09:02:49.404Z"
   },
   {
    "duration": 6,
    "start_time": "2021-07-08T09:02:49.424Z"
   },
   {
    "duration": 11,
    "start_time": "2021-07-08T09:02:49.433Z"
   },
   {
    "duration": 13,
    "start_time": "2021-07-08T09:02:49.485Z"
   },
   {
    "duration": 9,
    "start_time": "2021-07-08T09:02:49.500Z"
   },
   {
    "duration": 38,
    "start_time": "2021-07-08T09:02:49.511Z"
   },
   {
    "duration": 42,
    "start_time": "2021-07-08T09:02:49.551Z"
   },
   {
    "duration": 21,
    "start_time": "2021-07-08T09:02:49.594Z"
   },
   {
    "duration": 6,
    "start_time": "2021-07-08T09:02:49.616Z"
   },
   {
    "duration": 3,
    "start_time": "2021-07-08T09:02:49.623Z"
   },
   {
    "duration": 9,
    "start_time": "2021-07-08T09:02:49.628Z"
   },
   {
    "duration": 52,
    "start_time": "2021-07-08T09:02:49.638Z"
   },
   {
    "duration": 11,
    "start_time": "2021-07-08T09:02:49.692Z"
   },
   {
    "duration": 8,
    "start_time": "2021-07-08T09:02:49.704Z"
   },
   {
    "duration": 27,
    "start_time": "2021-07-08T09:02:49.713Z"
   },
   {
    "duration": 59,
    "start_time": "2021-07-08T09:02:49.741Z"
   },
   {
    "duration": 8,
    "start_time": "2021-07-08T09:02:49.803Z"
   },
   {
    "duration": 14,
    "start_time": "2021-07-08T09:02:49.813Z"
   },
   {
    "duration": 20,
    "start_time": "2021-07-08T09:02:49.829Z"
   },
   {
    "duration": 44,
    "start_time": "2021-07-08T09:02:49.851Z"
   },
   {
    "duration": 14,
    "start_time": "2021-07-08T09:02:49.896Z"
   },
   {
    "duration": 221,
    "start_time": "2021-07-08T09:02:49.912Z"
   },
   {
    "duration": 6,
    "start_time": "2021-07-08T09:02:50.134Z"
   },
   {
    "duration": 206,
    "start_time": "2021-07-08T09:02:50.142Z"
   },
   {
    "duration": 19,
    "start_time": "2021-07-08T09:02:50.350Z"
   },
   {
    "duration": 21,
    "start_time": "2021-07-08T09:02:50.370Z"
   },
   {
    "duration": 20,
    "start_time": "2021-07-08T09:02:50.393Z"
   },
   {
    "duration": 5,
    "start_time": "2021-07-08T09:02:50.414Z"
   },
   {
    "duration": 5,
    "start_time": "2021-07-08T09:03:34.173Z"
   },
   {
    "duration": 6,
    "start_time": "2021-07-08T09:04:49.062Z"
   },
   {
    "duration": 9,
    "start_time": "2021-07-08T09:04:50.118Z"
   },
   {
    "duration": 14,
    "start_time": "2021-07-08T09:04:58.512Z"
   },
   {
    "duration": 9,
    "start_time": "2021-07-08T09:05:10.988Z"
   },
   {
    "duration": 11,
    "start_time": "2021-07-08T09:05:11.743Z"
   },
   {
    "duration": 7,
    "start_time": "2021-07-08T09:05:25.677Z"
   },
   {
    "duration": 13,
    "start_time": "2021-07-08T09:05:47.189Z"
   },
   {
    "duration": 13,
    "start_time": "2021-07-08T09:05:54.755Z"
   },
   {
    "duration": 4,
    "start_time": "2021-07-08T09:06:29.189Z"
   },
   {
    "duration": 244,
    "start_time": "2021-07-08T09:06:29.195Z"
   },
   {
    "duration": 91,
    "start_time": "2021-07-08T09:06:29.441Z"
   },
   {
    "duration": 4,
    "start_time": "2021-07-08T09:06:29.534Z"
   },
   {
    "duration": 28,
    "start_time": "2021-07-08T09:06:29.540Z"
   },
   {
    "duration": 6,
    "start_time": "2021-07-08T09:06:29.570Z"
   },
   {
    "duration": 18,
    "start_time": "2021-07-08T09:06:29.578Z"
   },
   {
    "duration": 5,
    "start_time": "2021-07-08T09:06:29.597Z"
   },
   {
    "duration": 13,
    "start_time": "2021-07-08T09:06:29.605Z"
   },
   {
    "duration": 8,
    "start_time": "2021-07-08T09:06:29.620Z"
   },
   {
    "duration": 7,
    "start_time": "2021-07-08T09:06:29.630Z"
   },
   {
    "duration": 63,
    "start_time": "2021-07-08T09:06:29.639Z"
   },
   {
    "duration": 17,
    "start_time": "2021-07-08T09:06:29.704Z"
   },
   {
    "duration": 20,
    "start_time": "2021-07-08T09:06:29.723Z"
   },
   {
    "duration": 6,
    "start_time": "2021-07-08T09:06:29.745Z"
   },
   {
    "duration": 3,
    "start_time": "2021-07-08T09:06:29.752Z"
   },
   {
    "duration": 7,
    "start_time": "2021-07-08T09:06:29.785Z"
   },
   {
    "duration": 11,
    "start_time": "2021-07-08T09:06:29.794Z"
   },
   {
    "duration": 15,
    "start_time": "2021-07-08T09:06:29.807Z"
   },
   {
    "duration": 8,
    "start_time": "2021-07-08T09:06:29.823Z"
   },
   {
    "duration": 70,
    "start_time": "2021-07-08T09:06:29.832Z"
   },
   {
    "duration": 17,
    "start_time": "2021-07-08T09:06:29.903Z"
   },
   {
    "duration": 9,
    "start_time": "2021-07-08T09:06:29.921Z"
   },
   {
    "duration": 9,
    "start_time": "2021-07-08T09:06:29.932Z"
   },
   {
    "duration": 57,
    "start_time": "2021-07-08T09:06:29.942Z"
   },
   {
    "duration": 11,
    "start_time": "2021-07-08T09:06:30.001Z"
   },
   {
    "duration": 19,
    "start_time": "2021-07-08T09:06:30.016Z"
   },
   {
    "duration": 217,
    "start_time": "2021-07-08T09:06:30.037Z"
   },
   {
    "duration": 6,
    "start_time": "2021-07-08T09:06:30.255Z"
   },
   {
    "duration": 205,
    "start_time": "2021-07-08T09:06:30.263Z"
   },
   {
    "duration": 27,
    "start_time": "2021-07-08T09:06:30.470Z"
   },
   {
    "duration": 11,
    "start_time": "2021-07-08T09:06:30.500Z"
   },
   {
    "duration": 31,
    "start_time": "2021-07-08T09:06:30.513Z"
   },
   {
    "duration": 18,
    "start_time": "2021-07-08T09:06:30.546Z"
   },
   {
    "duration": 11,
    "start_time": "2021-07-08T09:06:30.566Z"
   },
   {
    "duration": 19,
    "start_time": "2021-07-08T09:06:30.579Z"
   },
   {
    "duration": 20,
    "start_time": "2021-07-08T09:06:49.466Z"
   },
   {
    "duration": 9,
    "start_time": "2021-07-08T09:06:51.994Z"
   },
   {
    "duration": 20,
    "start_time": "2021-07-08T09:06:52.273Z"
   },
   {
    "duration": 246,
    "start_time": "2021-07-08T09:10:21.272Z"
   },
   {
    "duration": 84,
    "start_time": "2021-07-08T09:10:21.436Z"
   },
   {
    "duration": 7,
    "start_time": "2021-07-08T09:10:37.608Z"
   },
   {
    "duration": 189,
    "start_time": "2021-07-08T09:10:38.573Z"
   },
   {
    "duration": 185,
    "start_time": "2021-07-08T09:10:53.181Z"
   },
   {
    "duration": 11,
    "start_time": "2021-07-08T09:10:59.549Z"
   },
   {
    "duration": 42,
    "start_time": "2021-07-08T09:10:59.709Z"
   },
   {
    "duration": 12,
    "start_time": "2021-07-08T09:11:02.857Z"
   },
   {
    "duration": 28,
    "start_time": "2021-07-08T09:11:10.062Z"
   },
   {
    "duration": 249,
    "start_time": "2021-07-08T09:11:37.388Z"
   },
   {
    "duration": 232,
    "start_time": "2021-07-08T09:11:49.485Z"
   },
   {
    "duration": 453,
    "start_time": "2021-07-08T09:12:01.546Z"
   },
   {
    "duration": 440,
    "start_time": "2021-07-08T09:12:12.347Z"
   },
   {
    "duration": 213,
    "start_time": "2021-07-08T09:13:32.196Z"
   },
   {
    "duration": 172,
    "start_time": "2021-07-08T09:14:07.400Z"
   },
   {
    "duration": 185,
    "start_time": "2021-07-08T09:14:14.905Z"
   },
   {
    "duration": 209,
    "start_time": "2021-07-08T09:14:40.109Z"
   },
   {
    "duration": 201,
    "start_time": "2021-07-08T09:14:54.506Z"
   },
   {
    "duration": 622,
    "start_time": "2021-07-08T09:18:14.497Z"
   },
   {
    "duration": 220,
    "start_time": "2021-07-08T09:18:15.121Z"
   },
   {
    "duration": 79,
    "start_time": "2021-07-08T09:18:15.343Z"
   },
   {
    "duration": 4,
    "start_time": "2021-07-08T09:18:15.425Z"
   },
   {
    "duration": 24,
    "start_time": "2021-07-08T09:18:15.431Z"
   },
   {
    "duration": 8,
    "start_time": "2021-07-08T09:18:15.457Z"
   },
   {
    "duration": 16,
    "start_time": "2021-07-08T09:18:15.466Z"
   },
   {
    "duration": 5,
    "start_time": "2021-07-08T09:18:15.484Z"
   },
   {
    "duration": 10,
    "start_time": "2021-07-08T09:18:15.493Z"
   },
   {
    "duration": 8,
    "start_time": "2021-07-08T09:18:15.504Z"
   },
   {
    "duration": 7,
    "start_time": "2021-07-08T09:18:15.513Z"
   },
   {
    "duration": 26,
    "start_time": "2021-07-08T09:18:15.522Z"
   },
   {
    "duration": 49,
    "start_time": "2021-07-08T09:18:15.550Z"
   },
   {
    "duration": 21,
    "start_time": "2021-07-08T09:18:15.601Z"
   },
   {
    "duration": 8,
    "start_time": "2021-07-08T09:18:15.624Z"
   },
   {
    "duration": 3,
    "start_time": "2021-07-08T09:18:15.634Z"
   },
   {
    "duration": 8,
    "start_time": "2021-07-08T09:18:15.639Z"
   },
   {
    "duration": 45,
    "start_time": "2021-07-08T09:18:15.649Z"
   },
   {
    "duration": 13,
    "start_time": "2021-07-08T09:18:15.696Z"
   },
   {
    "duration": 10,
    "start_time": "2021-07-08T09:18:15.711Z"
   },
   {
    "duration": 64,
    "start_time": "2021-07-08T09:18:15.722Z"
   },
   {
    "duration": 19,
    "start_time": "2021-07-08T09:18:15.788Z"
   },
   {
    "duration": 9,
    "start_time": "2021-07-08T09:18:15.809Z"
   },
   {
    "duration": 9,
    "start_time": "2021-07-08T09:18:15.820Z"
   },
   {
    "duration": 18,
    "start_time": "2021-07-08T09:18:15.831Z"
   },
   {
    "duration": 43,
    "start_time": "2021-07-08T09:18:15.851Z"
   },
   {
    "duration": 12,
    "start_time": "2021-07-08T09:18:15.897Z"
   },
   {
    "duration": 219,
    "start_time": "2021-07-08T09:18:15.911Z"
   },
   {
    "duration": 8,
    "start_time": "2021-07-08T09:18:16.132Z"
   },
   {
    "duration": 199,
    "start_time": "2021-07-08T09:18:16.141Z"
   },
   {
    "duration": 18,
    "start_time": "2021-07-08T09:18:16.341Z"
   },
   {
    "duration": 24,
    "start_time": "2021-07-08T09:18:16.361Z"
   },
   {
    "duration": 24,
    "start_time": "2021-07-08T09:18:16.387Z"
   },
   {
    "duration": 211,
    "start_time": "2021-07-08T09:18:16.413Z"
   },
   {
    "duration": 18,
    "start_time": "2021-07-08T09:18:16.626Z"
   },
   {
    "duration": 596,
    "start_time": "2021-07-08T10:06:33.623Z"
   },
   {
    "duration": 181,
    "start_time": "2021-07-08T10:06:34.221Z"
   },
   {
    "duration": 176,
    "start_time": "2021-07-08T10:06:34.635Z"
   },
   {
    "duration": 239,
    "start_time": "2021-07-08T10:06:55.572Z"
   },
   {
    "duration": 6,
    "start_time": "2021-07-08T10:06:57.687Z"
   },
   {
    "duration": 4,
    "start_time": "2021-07-08T10:07:03.956Z"
   },
   {
    "duration": 4,
    "start_time": "2021-07-08T10:07:10.376Z"
   },
   {
    "duration": 4,
    "start_time": "2021-07-08T10:17:19.889Z"
   },
   {
    "duration": 3,
    "start_time": "2021-07-08T10:19:19.407Z"
   },
   {
    "duration": 197,
    "start_time": "2021-07-08T10:19:19.412Z"
   },
   {
    "duration": 127,
    "start_time": "2021-07-08T10:19:19.611Z"
   },
   {
    "duration": 4,
    "start_time": "2021-07-08T10:19:19.740Z"
   },
   {
    "duration": 27,
    "start_time": "2021-07-08T10:19:19.746Z"
   },
   {
    "duration": 7,
    "start_time": "2021-07-08T10:19:19.775Z"
   },
   {
    "duration": 30,
    "start_time": "2021-07-08T10:19:19.784Z"
   },
   {
    "duration": 7,
    "start_time": "2021-07-08T10:19:19.817Z"
   },
   {
    "duration": 26,
    "start_time": "2021-07-08T10:19:19.826Z"
   },
   {
    "duration": 18,
    "start_time": "2021-07-08T10:19:19.854Z"
   },
   {
    "duration": 14,
    "start_time": "2021-07-08T10:19:19.874Z"
   },
   {
    "duration": 48,
    "start_time": "2021-07-08T10:19:19.890Z"
   },
   {
    "duration": 17,
    "start_time": "2021-07-08T10:19:19.940Z"
   },
   {
    "duration": 38,
    "start_time": "2021-07-08T10:19:19.959Z"
   },
   {
    "duration": 8,
    "start_time": "2021-07-08T10:19:19.999Z"
   },
   {
    "duration": 15,
    "start_time": "2021-07-08T10:19:20.009Z"
   },
   {
    "duration": 22,
    "start_time": "2021-07-08T10:19:20.026Z"
   },
   {
    "duration": 10,
    "start_time": "2021-07-08T10:19:20.050Z"
   },
   {
    "duration": 10,
    "start_time": "2021-07-08T10:19:20.062Z"
   },
   {
    "duration": 20,
    "start_time": "2021-07-08T10:19:20.073Z"
   },
   {
    "duration": 29,
    "start_time": "2021-07-08T10:19:20.095Z"
   },
   {
    "duration": 17,
    "start_time": "2021-07-08T10:19:20.126Z"
   },
   {
    "duration": 40,
    "start_time": "2021-07-08T10:19:20.146Z"
   },
   {
    "duration": 15,
    "start_time": "2021-07-08T10:19:20.189Z"
   },
   {
    "duration": 19,
    "start_time": "2021-07-08T10:19:20.206Z"
   },
   {
    "duration": 10,
    "start_time": "2021-07-08T10:19:20.226Z"
   },
   {
    "duration": 11,
    "start_time": "2021-07-08T10:19:20.238Z"
   },
   {
    "duration": 297,
    "start_time": "2021-07-08T10:19:20.250Z"
   },
   {
    "duration": 6,
    "start_time": "2021-07-08T10:19:20.549Z"
   },
   {
    "duration": 191,
    "start_time": "2021-07-08T10:19:20.557Z"
   },
   {
    "duration": 19,
    "start_time": "2021-07-08T10:19:20.750Z"
   },
   {
    "duration": 20,
    "start_time": "2021-07-08T10:19:20.771Z"
   },
   {
    "duration": 15,
    "start_time": "2021-07-08T10:19:20.793Z"
   },
   {
    "duration": 222,
    "start_time": "2021-07-08T10:19:20.809Z"
   },
   {
    "duration": 20,
    "start_time": "2021-07-08T10:19:21.033Z"
   },
   {
    "duration": 27,
    "start_time": "2021-07-08T10:45:04.055Z"
   },
   {
    "duration": 8,
    "start_time": "2021-07-08T10:45:08.478Z"
   },
   {
    "duration": 8,
    "start_time": "2021-07-08T10:45:31.982Z"
   },
   {
    "duration": 10,
    "start_time": "2021-07-08T10:46:01.221Z"
   },
   {
    "duration": 17,
    "start_time": "2021-07-08T10:46:40.011Z"
   },
   {
    "duration": 193,
    "start_time": "2021-07-08T10:48:19.471Z"
   },
   {
    "duration": 225,
    "start_time": "2021-07-08T10:49:26.480Z"
   },
   {
    "duration": 204,
    "start_time": "2021-07-08T10:49:59.992Z"
   },
   {
    "duration": 435,
    "start_time": "2021-07-08T10:50:06.779Z"
   },
   {
    "duration": 199,
    "start_time": "2021-07-08T10:50:14.891Z"
   },
   {
    "duration": 204,
    "start_time": "2021-07-08T10:50:18.501Z"
   },
   {
    "duration": 244,
    "start_time": "2021-07-08T10:50:23.359Z"
   },
   {
    "duration": 192,
    "start_time": "2021-07-08T10:50:29.135Z"
   },
   {
    "duration": 218,
    "start_time": "2021-07-08T10:50:33.092Z"
   },
   {
    "duration": 207,
    "start_time": "2021-07-08T10:52:45.381Z"
   },
   {
    "duration": 5,
    "start_time": "2021-07-08T10:53:34.641Z"
   },
   {
    "duration": 196,
    "start_time": "2021-07-08T10:53:41.478Z"
   },
   {
    "duration": 43,
    "start_time": "2021-07-08T10:53:50.335Z"
   },
   {
    "duration": 32,
    "start_time": "2021-07-08T10:53:55.294Z"
   },
   {
    "duration": 55,
    "start_time": "2021-07-08T10:54:09.675Z"
   },
   {
    "duration": 16,
    "start_time": "2021-07-08T10:54:12.260Z"
   },
   {
    "duration": 15,
    "start_time": "2021-07-08T10:54:49.150Z"
   },
   {
    "duration": 20,
    "start_time": "2021-07-08T10:56:07.596Z"
   },
   {
    "duration": 16,
    "start_time": "2021-07-08T10:58:26.276Z"
   },
   {
    "duration": 22,
    "start_time": "2021-07-08T10:59:00.486Z"
   },
   {
    "duration": 18,
    "start_time": "2021-07-08T11:02:09.653Z"
   },
   {
    "duration": 10,
    "start_time": "2021-07-08T11:03:44.331Z"
   },
   {
    "duration": 10,
    "start_time": "2021-07-08T11:03:54.055Z"
   },
   {
    "duration": 12,
    "start_time": "2021-07-08T11:04:41.967Z"
   },
   {
    "duration": 24,
    "start_time": "2021-07-08T11:07:30.732Z"
   },
   {
    "duration": 6,
    "start_time": "2021-07-08T11:07:37.364Z"
   },
   {
    "duration": 16,
    "start_time": "2021-07-08T11:08:01.819Z"
   },
   {
    "duration": 17,
    "start_time": "2021-07-08T11:09:47.488Z"
   },
   {
    "duration": 246,
    "start_time": "2021-07-08T11:10:00.830Z"
   },
   {
    "duration": 18,
    "start_time": "2021-07-08T11:13:55.195Z"
   },
   {
    "duration": 204,
    "start_time": "2021-07-08T11:14:04.951Z"
   },
   {
    "duration": 19,
    "start_time": "2021-07-08T11:15:10.613Z"
   },
   {
    "duration": 680,
    "start_time": "2021-07-08T11:16:25.793Z"
   },
   {
    "duration": 451,
    "start_time": "2021-07-08T11:16:40.313Z"
   },
   {
    "duration": 469,
    "start_time": "2021-07-08T11:17:21.286Z"
   },
   {
    "duration": 20,
    "start_time": "2021-07-08T11:19:12.554Z"
   },
   {
    "duration": 35,
    "start_time": "2021-07-08T11:20:05.484Z"
   },
   {
    "duration": 53,
    "start_time": "2021-07-08T11:21:40.050Z"
   },
   {
    "duration": 13,
    "start_time": "2021-07-08T11:22:26.059Z"
   },
   {
    "duration": 19,
    "start_time": "2021-07-08T11:22:47.419Z"
   },
   {
    "duration": 25,
    "start_time": "2021-07-08T11:23:19.958Z"
   },
   {
    "duration": 29,
    "start_time": "2021-07-08T11:23:25.415Z"
   },
   {
    "duration": 10,
    "start_time": "2021-07-08T11:24:45.138Z"
   },
   {
    "duration": 19,
    "start_time": "2021-07-08T11:24:54.498Z"
   },
   {
    "duration": 12,
    "start_time": "2021-07-08T11:25:32.225Z"
   },
   {
    "duration": 19,
    "start_time": "2021-07-08T11:25:37.092Z"
   },
   {
    "duration": 17,
    "start_time": "2021-07-08T11:25:58.116Z"
   },
   {
    "duration": 15,
    "start_time": "2021-07-08T11:26:02.258Z"
   },
   {
    "duration": 8,
    "start_time": "2021-07-08T11:26:59.682Z"
   },
   {
    "duration": 184,
    "start_time": "2021-07-08T11:27:21.894Z"
   },
   {
    "duration": 8,
    "start_time": "2021-07-08T11:27:23.824Z"
   },
   {
    "duration": 202,
    "start_time": "2021-07-08T11:27:23.962Z"
   },
   {
    "duration": 360,
    "start_time": "2021-07-08T11:28:33.215Z"
   },
   {
    "duration": 231,
    "start_time": "2021-07-08T11:32:05.542Z"
   },
   {
    "duration": 607,
    "start_time": "2021-07-08T11:36:27.854Z"
   },
   {
    "duration": 241,
    "start_time": "2021-07-08T11:36:28.463Z"
   },
   {
    "duration": 67,
    "start_time": "2021-07-08T11:36:28.709Z"
   },
   {
    "duration": 5,
    "start_time": "2021-07-08T11:36:28.778Z"
   },
   {
    "duration": 32,
    "start_time": "2021-07-08T11:36:28.784Z"
   },
   {
    "duration": 11,
    "start_time": "2021-07-08T11:36:28.819Z"
   },
   {
    "duration": 20,
    "start_time": "2021-07-08T11:36:28.834Z"
   },
   {
    "duration": 36,
    "start_time": "2021-07-08T11:36:28.857Z"
   },
   {
    "duration": 16,
    "start_time": "2021-07-08T11:36:28.895Z"
   },
   {
    "duration": 14,
    "start_time": "2021-07-08T11:36:28.913Z"
   },
   {
    "duration": 9,
    "start_time": "2021-07-08T11:36:28.930Z"
   },
   {
    "duration": 55,
    "start_time": "2021-07-08T11:36:28.941Z"
   },
   {
    "duration": 27,
    "start_time": "2021-07-08T11:36:28.999Z"
   },
   {
    "duration": 30,
    "start_time": "2021-07-08T11:36:29.028Z"
   },
   {
    "duration": 31,
    "start_time": "2021-07-08T11:36:29.060Z"
   },
   {
    "duration": 3,
    "start_time": "2021-07-08T11:36:29.093Z"
   },
   {
    "duration": 12,
    "start_time": "2021-07-08T11:36:29.099Z"
   },
   {
    "duration": 11,
    "start_time": "2021-07-08T11:36:29.112Z"
   },
   {
    "duration": 12,
    "start_time": "2021-07-08T11:36:29.125Z"
   },
   {
    "duration": 9,
    "start_time": "2021-07-08T11:36:29.139Z"
   },
   {
    "duration": 31,
    "start_time": "2021-07-08T11:36:29.191Z"
   },
   {
    "duration": 17,
    "start_time": "2021-07-08T11:36:29.226Z"
   },
   {
    "duration": 7,
    "start_time": "2021-07-08T11:36:29.245Z"
   },
   {
    "duration": 10,
    "start_time": "2021-07-08T11:36:29.254Z"
   },
   {
    "duration": 30,
    "start_time": "2021-07-08T11:36:29.292Z"
   },
   {
    "duration": 11,
    "start_time": "2021-07-08T11:36:29.324Z"
   },
   {
    "duration": 11,
    "start_time": "2021-07-08T11:36:29.337Z"
   },
   {
    "duration": 230,
    "start_time": "2021-07-08T11:36:29.349Z"
   },
   {
    "duration": 13,
    "start_time": "2021-07-08T11:36:29.588Z"
   },
   {
    "duration": 205,
    "start_time": "2021-07-08T11:36:29.603Z"
   },
   {
    "duration": 20,
    "start_time": "2021-07-08T11:36:29.810Z"
   },
   {
    "duration": 9,
    "start_time": "2021-07-08T11:36:29.832Z"
   },
   {
    "duration": 16,
    "start_time": "2021-07-08T11:36:29.843Z"
   },
   {
    "duration": 283,
    "start_time": "2021-07-08T11:36:29.861Z"
   },
   {
    "duration": 50,
    "start_time": "2021-07-08T11:36:30.146Z"
   },
   {
    "duration": 14,
    "start_time": "2021-07-08T11:36:30.198Z"
   },
   {
    "duration": 11,
    "start_time": "2021-07-08T11:36:30.214Z"
   },
   {
    "duration": 245,
    "start_time": "2021-07-08T11:36:30.227Z"
   },
   {
    "duration": 439,
    "start_time": "2021-07-08T11:36:30.474Z"
   },
   {
    "duration": 210,
    "start_time": "2021-07-08T11:36:30.915Z"
   },
   {
    "duration": 15,
    "start_time": "2021-07-08T11:36:31.127Z"
   },
   {
    "duration": 17,
    "start_time": "2021-07-08T11:38:20.451Z"
   },
   {
    "duration": 642,
    "start_time": "2021-07-08T11:46:17.881Z"
   },
   {
    "duration": 210,
    "start_time": "2021-07-08T11:46:18.525Z"
   },
   {
    "duration": 104,
    "start_time": "2021-07-08T11:46:18.741Z"
   },
   {
    "duration": 8,
    "start_time": "2021-07-08T11:46:18.847Z"
   },
   {
    "duration": 25,
    "start_time": "2021-07-08T11:46:18.857Z"
   },
   {
    "duration": 14,
    "start_time": "2021-07-08T11:46:18.884Z"
   },
   {
    "duration": 22,
    "start_time": "2021-07-08T11:46:18.900Z"
   },
   {
    "duration": 5,
    "start_time": "2021-07-08T11:46:18.924Z"
   },
   {
    "duration": 13,
    "start_time": "2021-07-08T11:46:18.931Z"
   },
   {
    "duration": 45,
    "start_time": "2021-07-08T11:46:18.946Z"
   },
   {
    "duration": 12,
    "start_time": "2021-07-08T11:46:18.993Z"
   },
   {
    "duration": 38,
    "start_time": "2021-07-08T11:46:19.006Z"
   },
   {
    "duration": 50,
    "start_time": "2021-07-08T11:46:19.046Z"
   },
   {
    "duration": 29,
    "start_time": "2021-07-08T11:46:19.099Z"
   },
   {
    "duration": 7,
    "start_time": "2021-07-08T11:46:19.130Z"
   },
   {
    "duration": 3,
    "start_time": "2021-07-08T11:46:19.139Z"
   },
   {
    "duration": 11,
    "start_time": "2021-07-08T11:46:19.144Z"
   },
   {
    "duration": 40,
    "start_time": "2021-07-08T11:46:19.157Z"
   },
   {
    "duration": 15,
    "start_time": "2021-07-08T11:46:19.199Z"
   },
   {
    "duration": 10,
    "start_time": "2021-07-08T11:46:19.217Z"
   },
   {
    "duration": 68,
    "start_time": "2021-07-08T11:46:19.230Z"
   },
   {
    "duration": 17,
    "start_time": "2021-07-08T11:46:19.301Z"
   },
   {
    "duration": 7,
    "start_time": "2021-07-08T11:46:19.321Z"
   },
   {
    "duration": 11,
    "start_time": "2021-07-08T11:46:19.330Z"
   },
   {
    "duration": 59,
    "start_time": "2021-07-08T11:46:19.343Z"
   },
   {
    "duration": 17,
    "start_time": "2021-07-08T11:46:19.405Z"
   },
   {
    "duration": 16,
    "start_time": "2021-07-08T11:46:19.424Z"
   },
   {
    "duration": 252,
    "start_time": "2021-07-08T11:46:19.443Z"
   },
   {
    "duration": 9,
    "start_time": "2021-07-08T11:46:19.697Z"
   },
   {
    "duration": 224,
    "start_time": "2021-07-08T11:46:19.708Z"
   },
   {
    "duration": 21,
    "start_time": "2021-07-08T11:46:19.934Z"
   },
   {
    "duration": 9,
    "start_time": "2021-07-08T11:46:19.956Z"
   },
   {
    "duration": 32,
    "start_time": "2021-07-08T11:46:19.967Z"
   },
   {
    "duration": 288,
    "start_time": "2021-07-08T11:46:20.004Z"
   },
   {
    "duration": 23,
    "start_time": "2021-07-08T11:46:20.300Z"
   },
   {
    "duration": 11,
    "start_time": "2021-07-08T11:46:20.325Z"
   },
   {
    "duration": 11,
    "start_time": "2021-07-08T11:46:20.339Z"
   },
   {
    "duration": 259,
    "start_time": "2021-07-08T11:46:20.352Z"
   },
   {
    "duration": 438,
    "start_time": "2021-07-08T11:46:20.613Z"
   },
   {
    "duration": 207,
    "start_time": "2021-07-08T11:46:21.054Z"
   },
   {
    "duration": 27,
    "start_time": "2021-07-08T11:46:21.262Z"
   },
   {
    "duration": 19,
    "start_time": "2021-07-08T11:46:21.291Z"
   },
   {
    "duration": 820,
    "start_time": "2021-07-08T11:49:01.655Z"
   },
   {
    "duration": 372,
    "start_time": "2021-07-08T11:49:02.478Z"
   },
   {
    "duration": 98,
    "start_time": "2021-07-08T11:49:02.853Z"
   },
   {
    "duration": 6,
    "start_time": "2021-07-08T11:49:02.953Z"
   },
   {
    "duration": 39,
    "start_time": "2021-07-08T11:49:02.960Z"
   },
   {
    "duration": 9,
    "start_time": "2021-07-08T11:49:03.003Z"
   },
   {
    "duration": 23,
    "start_time": "2021-07-08T11:49:03.014Z"
   },
   {
    "duration": 6,
    "start_time": "2021-07-08T11:49:03.041Z"
   },
   {
    "duration": 20,
    "start_time": "2021-07-08T11:49:03.049Z"
   },
   {
    "duration": 18,
    "start_time": "2021-07-08T11:49:03.084Z"
   },
   {
    "duration": 14,
    "start_time": "2021-07-08T11:49:03.104Z"
   },
   {
    "duration": 39,
    "start_time": "2021-07-08T11:49:03.119Z"
   },
   {
    "duration": 38,
    "start_time": "2021-07-08T11:49:03.160Z"
   },
   {
    "duration": 26,
    "start_time": "2021-07-08T11:49:03.200Z"
   },
   {
    "duration": 7,
    "start_time": "2021-07-08T11:49:03.227Z"
   },
   {
    "duration": 4,
    "start_time": "2021-07-08T11:49:03.236Z"
   },
   {
    "duration": 15,
    "start_time": "2021-07-08T11:49:03.243Z"
   },
   {
    "duration": 21,
    "start_time": "2021-07-08T11:49:03.285Z"
   },
   {
    "duration": 17,
    "start_time": "2021-07-08T11:49:03.309Z"
   },
   {
    "duration": 10,
    "start_time": "2021-07-08T11:49:03.328Z"
   },
   {
    "duration": 65,
    "start_time": "2021-07-08T11:49:03.340Z"
   },
   {
    "duration": 18,
    "start_time": "2021-07-08T11:49:03.407Z"
   },
   {
    "duration": 8,
    "start_time": "2021-07-08T11:49:03.428Z"
   },
   {
    "duration": 15,
    "start_time": "2021-07-08T11:49:03.438Z"
   },
   {
    "duration": 40,
    "start_time": "2021-07-08T11:49:03.455Z"
   },
   {
    "duration": 12,
    "start_time": "2021-07-08T11:49:03.497Z"
   },
   {
    "duration": 29,
    "start_time": "2021-07-08T11:49:03.511Z"
   },
   {
    "duration": 285,
    "start_time": "2021-07-08T11:49:03.542Z"
   },
   {
    "duration": 8,
    "start_time": "2021-07-08T11:49:03.829Z"
   },
   {
    "duration": 227,
    "start_time": "2021-07-08T11:49:03.838Z"
   },
   {
    "duration": 40,
    "start_time": "2021-07-08T11:49:04.066Z"
   },
   {
    "duration": 10,
    "start_time": "2021-07-08T11:49:04.108Z"
   },
   {
    "duration": 26,
    "start_time": "2021-07-08T11:49:04.121Z"
   },
   {
    "duration": 290,
    "start_time": "2021-07-08T11:49:04.149Z"
   },
   {
    "duration": 26,
    "start_time": "2021-07-08T11:49:04.441Z"
   },
   {
    "duration": 31,
    "start_time": "2021-07-08T11:49:04.470Z"
   },
   {
    "duration": 14,
    "start_time": "2021-07-08T11:49:04.503Z"
   },
   {
    "duration": 259,
    "start_time": "2021-07-08T11:49:04.521Z"
   },
   {
    "duration": 480,
    "start_time": "2021-07-08T11:49:04.782Z"
   },
   {
    "duration": 225,
    "start_time": "2021-07-08T11:49:05.264Z"
   },
   {
    "duration": 22,
    "start_time": "2021-07-08T11:49:05.491Z"
   },
   {
    "duration": 24,
    "start_time": "2021-07-08T11:49:05.515Z"
   },
   {
    "duration": 634,
    "start_time": "2021-07-08T11:52:24.960Z"
   },
   {
    "duration": 199,
    "start_time": "2021-07-08T11:52:25.599Z"
   },
   {
    "duration": 106,
    "start_time": "2021-07-08T11:52:25.803Z"
   },
   {
    "duration": 7,
    "start_time": "2021-07-08T11:52:25.911Z"
   },
   {
    "duration": 29,
    "start_time": "2021-07-08T11:52:25.920Z"
   },
   {
    "duration": 7,
    "start_time": "2021-07-08T11:52:25.951Z"
   },
   {
    "duration": 26,
    "start_time": "2021-07-08T11:52:25.961Z"
   },
   {
    "duration": 11,
    "start_time": "2021-07-08T11:52:25.990Z"
   },
   {
    "duration": 29,
    "start_time": "2021-07-08T11:52:26.005Z"
   },
   {
    "duration": 9,
    "start_time": "2021-07-08T11:52:26.036Z"
   },
   {
    "duration": 8,
    "start_time": "2021-07-08T11:52:26.047Z"
   },
   {
    "duration": 63,
    "start_time": "2021-07-08T11:52:26.057Z"
   },
   {
    "duration": 17,
    "start_time": "2021-07-08T11:52:26.122Z"
   },
   {
    "duration": 43,
    "start_time": "2021-07-08T11:52:26.142Z"
   },
   {
    "duration": 17,
    "start_time": "2021-07-08T11:52:26.187Z"
   },
   {
    "duration": 5,
    "start_time": "2021-07-08T11:52:26.206Z"
   },
   {
    "duration": 12,
    "start_time": "2021-07-08T11:52:26.212Z"
   },
   {
    "duration": 11,
    "start_time": "2021-07-08T11:52:26.226Z"
   },
   {
    "duration": 12,
    "start_time": "2021-07-08T11:52:26.238Z"
   },
   {
    "duration": 38,
    "start_time": "2021-07-08T11:52:26.252Z"
   },
   {
    "duration": 40,
    "start_time": "2021-07-08T11:52:26.292Z"
   },
   {
    "duration": 17,
    "start_time": "2021-07-08T11:52:26.336Z"
   },
   {
    "duration": 39,
    "start_time": "2021-07-08T11:52:26.355Z"
   },
   {
    "duration": 11,
    "start_time": "2021-07-08T11:52:26.395Z"
   },
   {
    "duration": 23,
    "start_time": "2021-07-08T11:52:26.408Z"
   },
   {
    "duration": 12,
    "start_time": "2021-07-08T11:52:26.432Z"
   },
   {
    "duration": 41,
    "start_time": "2021-07-08T11:52:26.446Z"
   },
   {
    "duration": 215,
    "start_time": "2021-07-08T11:52:26.493Z"
   },
   {
    "duration": 8,
    "start_time": "2021-07-08T11:52:26.710Z"
   },
   {
    "duration": 228,
    "start_time": "2021-07-08T11:52:26.720Z"
   },
   {
    "duration": 18,
    "start_time": "2021-07-08T11:52:26.950Z"
   },
   {
    "duration": 35,
    "start_time": "2021-07-08T11:52:26.969Z"
   },
   {
    "duration": 23,
    "start_time": "2021-07-08T11:52:27.006Z"
   },
   {
    "duration": 258,
    "start_time": "2021-07-08T11:52:27.030Z"
   },
   {
    "duration": 24,
    "start_time": "2021-07-08T11:52:27.290Z"
   },
   {
    "duration": 12,
    "start_time": "2021-07-08T11:52:27.316Z"
   },
   {
    "duration": 10,
    "start_time": "2021-07-08T11:52:27.329Z"
   },
   {
    "duration": 298,
    "start_time": "2021-07-08T11:52:27.341Z"
   },
   {
    "duration": 436,
    "start_time": "2021-07-08T11:52:27.641Z"
   },
   {
    "duration": 216,
    "start_time": "2021-07-08T11:52:28.079Z"
   },
   {
    "duration": 20,
    "start_time": "2021-07-08T11:52:28.297Z"
   },
   {
    "duration": 17,
    "start_time": "2021-07-08T11:52:28.319Z"
   },
   {
    "duration": 50,
    "start_time": "2022-09-05T09:28:57.765Z"
   },
   {
    "duration": 397,
    "start_time": "2022-09-05T09:29:04.910Z"
   },
   {
    "duration": 227,
    "start_time": "2022-09-05T09:29:07.013Z"
   },
   {
    "duration": 108,
    "start_time": "2022-09-05T09:30:19.044Z"
   },
   {
    "duration": 17,
    "start_time": "2022-09-05T09:33:41.217Z"
   },
   {
    "duration": 11,
    "start_time": "2022-09-05T09:34:04.117Z"
   },
   {
    "duration": 103,
    "start_time": "2022-09-05T09:40:37.087Z"
   },
   {
    "duration": 27,
    "start_time": "2022-09-05T09:43:43.636Z"
   },
   {
    "duration": 192,
    "start_time": "2022-09-05T09:43:57.944Z"
   },
   {
    "duration": 6,
    "start_time": "2022-09-05T09:45:21.202Z"
   },
   {
    "duration": 196,
    "start_time": "2022-09-05T09:47:35.609Z"
   },
   {
    "duration": 278,
    "start_time": "2022-09-05T09:48:40.307Z"
   },
   {
    "duration": 5,
    "start_time": "2022-09-05T09:53:19.258Z"
   },
   {
    "duration": 12,
    "start_time": "2022-09-05T09:54:18.564Z"
   },
   {
    "duration": 3,
    "start_time": "2022-09-05T09:57:19.662Z"
   },
   {
    "duration": 7,
    "start_time": "2022-09-05T09:57:24.495Z"
   },
   {
    "duration": 15,
    "start_time": "2022-09-05T09:57:36.208Z"
   },
   {
    "duration": 4,
    "start_time": "2022-09-05T10:02:17.408Z"
   },
   {
    "duration": 3,
    "start_time": "2022-09-05T10:02:31.852Z"
   },
   {
    "duration": 116,
    "start_time": "2022-09-05T10:02:31.857Z"
   },
   {
    "duration": 44,
    "start_time": "2022-09-05T10:02:31.976Z"
   },
   {
    "duration": 0,
    "start_time": "2022-09-05T10:02:32.022Z"
   },
   {
    "duration": 0,
    "start_time": "2022-09-05T10:02:32.023Z"
   },
   {
    "duration": 0,
    "start_time": "2022-09-05T10:02:32.023Z"
   },
   {
    "duration": 0,
    "start_time": "2022-09-05T10:02:32.025Z"
   },
   {
    "duration": 56,
    "start_time": "2022-09-05T10:02:42.633Z"
   },
   {
    "duration": 13,
    "start_time": "2022-09-05T10:02:47.708Z"
   },
   {
    "duration": 9,
    "start_time": "2022-09-05T10:02:50.126Z"
   },
   {
    "duration": 5,
    "start_time": "2022-09-05T10:02:52.525Z"
   },
   {
    "duration": 15,
    "start_time": "2022-09-05T10:03:40.214Z"
   },
   {
    "duration": 20,
    "start_time": "2022-09-05T10:06:36.793Z"
   },
   {
    "duration": 5,
    "start_time": "2022-09-05T10:11:56.182Z"
   },
   {
    "duration": 8,
    "start_time": "2022-09-05T10:13:34.141Z"
   },
   {
    "duration": 19,
    "start_time": "2022-09-05T10:13:45.017Z"
   },
   {
    "duration": 27,
    "start_time": "2022-09-05T10:14:51.217Z"
   },
   {
    "duration": 12,
    "start_time": "2022-09-05T10:15:14.226Z"
   },
   {
    "duration": 2,
    "start_time": "2022-09-05T10:15:17.887Z"
   },
   {
    "duration": 98,
    "start_time": "2022-09-05T10:15:17.891Z"
   },
   {
    "duration": 44,
    "start_time": "2022-09-05T10:15:17.991Z"
   },
   {
    "duration": 12,
    "start_time": "2022-09-05T10:15:18.036Z"
   },
   {
    "duration": 10,
    "start_time": "2022-09-05T10:15:18.050Z"
   },
   {
    "duration": 23,
    "start_time": "2022-09-05T10:15:18.062Z"
   },
   {
    "duration": 31,
    "start_time": "2022-09-05T10:15:34.389Z"
   },
   {
    "duration": 22,
    "start_time": "2022-09-05T10:16:00.496Z"
   },
   {
    "duration": 12,
    "start_time": "2022-09-05T10:16:07.504Z"
   },
   {
    "duration": 22,
    "start_time": "2022-09-05T10:16:12.833Z"
   },
   {
    "duration": 25,
    "start_time": "2022-09-05T10:16:49.654Z"
   },
   {
    "duration": 17,
    "start_time": "2022-09-05T10:17:03.676Z"
   },
   {
    "duration": 14,
    "start_time": "2022-09-05T10:18:19.657Z"
   },
   {
    "duration": 24,
    "start_time": "2022-09-05T10:22:28.985Z"
   },
   {
    "duration": 19,
    "start_time": "2022-09-05T10:22:49.501Z"
   },
   {
    "duration": 14,
    "start_time": "2022-09-05T11:06:53.154Z"
   },
   {
    "duration": 30,
    "start_time": "2022-09-05T11:06:58.896Z"
   },
   {
    "duration": 13,
    "start_time": "2022-09-05T12:21:02.809Z"
   },
   {
    "duration": 397,
    "start_time": "2022-09-05T12:21:32.896Z"
   },
   {
    "duration": 97,
    "start_time": "2022-09-05T12:21:33.295Z"
   },
   {
    "duration": 44,
    "start_time": "2022-09-05T12:21:33.393Z"
   },
   {
    "duration": 14,
    "start_time": "2022-09-05T12:21:33.439Z"
   },
   {
    "duration": 11,
    "start_time": "2022-09-05T12:21:33.454Z"
   },
   {
    "duration": 29,
    "start_time": "2022-09-05T12:21:33.467Z"
   },
   {
    "duration": 16,
    "start_time": "2022-09-05T12:21:33.497Z"
   },
   {
    "duration": 17,
    "start_time": "2022-09-05T12:21:33.515Z"
   },
   {
    "duration": 79,
    "start_time": "2022-09-05T12:21:33.533Z"
   },
   {
    "duration": 21,
    "start_time": "2022-09-05T12:22:29.242Z"
   },
   {
    "duration": 11,
    "start_time": "2022-09-05T12:28:31.286Z"
   },
   {
    "duration": 20,
    "start_time": "2022-09-05T12:28:38.021Z"
   },
   {
    "duration": 435,
    "start_time": "2022-09-05T12:30:04.384Z"
   },
   {
    "duration": 100,
    "start_time": "2022-09-05T12:30:04.821Z"
   },
   {
    "duration": 44,
    "start_time": "2022-09-05T12:30:04.922Z"
   },
   {
    "duration": 13,
    "start_time": "2022-09-05T12:30:04.969Z"
   },
   {
    "duration": 8,
    "start_time": "2022-09-05T12:30:04.984Z"
   },
   {
    "duration": 27,
    "start_time": "2022-09-05T12:30:04.994Z"
   },
   {
    "duration": 65,
    "start_time": "2022-09-05T12:30:05.023Z"
   },
   {
    "duration": 0,
    "start_time": "2022-09-05T12:30:05.098Z"
   },
   {
    "duration": 0,
    "start_time": "2022-09-05T12:30:05.099Z"
   },
   {
    "duration": 24,
    "start_time": "2022-09-05T12:30:21.660Z"
   },
   {
    "duration": 364,
    "start_time": "2022-09-05T12:30:31.034Z"
   },
   {
    "duration": 98,
    "start_time": "2022-09-05T12:30:31.400Z"
   },
   {
    "duration": 44,
    "start_time": "2022-09-05T12:30:31.500Z"
   },
   {
    "duration": 12,
    "start_time": "2022-09-05T12:30:31.546Z"
   },
   {
    "duration": 18,
    "start_time": "2022-09-05T12:30:31.559Z"
   },
   {
    "duration": 37,
    "start_time": "2022-09-05T12:30:31.579Z"
   },
   {
    "duration": 15,
    "start_time": "2022-09-05T12:30:31.618Z"
   },
   {
    "duration": 72,
    "start_time": "2022-09-05T12:30:31.634Z"
   },
   {
    "duration": 0,
    "start_time": "2022-09-05T12:30:31.708Z"
   },
   {
    "duration": 15,
    "start_time": "2022-09-05T12:30:48.989Z"
   },
   {
    "duration": 19,
    "start_time": "2022-09-05T12:30:52.842Z"
   },
   {
    "duration": 30,
    "start_time": "2022-09-05T12:33:12.562Z"
   },
   {
    "duration": 4,
    "start_time": "2022-09-05T12:37:46.940Z"
   },
   {
    "duration": 9,
    "start_time": "2022-09-05T12:38:10.795Z"
   },
   {
    "duration": 24,
    "start_time": "2022-09-05T12:44:23.756Z"
   },
   {
    "duration": 30,
    "start_time": "2022-09-05T12:45:12.868Z"
   },
   {
    "duration": 48,
    "start_time": "2022-09-05T12:45:43.064Z"
   },
   {
    "duration": 32,
    "start_time": "2022-09-05T12:46:00.270Z"
   },
   {
    "duration": 9,
    "start_time": "2022-09-05T12:52:14.555Z"
   },
   {
    "duration": 17,
    "start_time": "2022-09-05T12:52:58.890Z"
   },
   {
    "duration": 5,
    "start_time": "2022-09-05T12:54:36.513Z"
   },
   {
    "duration": 21,
    "start_time": "2022-09-05T13:04:47.283Z"
   },
   {
    "duration": 5,
    "start_time": "2022-09-05T13:06:10.154Z"
   },
   {
    "duration": 4,
    "start_time": "2022-09-05T13:10:08.784Z"
   },
   {
    "duration": 14,
    "start_time": "2022-09-05T13:12:21.638Z"
   },
   {
    "duration": 5,
    "start_time": "2022-09-05T13:13:45.353Z"
   },
   {
    "duration": 9,
    "start_time": "2022-09-05T13:22:32.185Z"
   },
   {
    "duration": 5,
    "start_time": "2022-09-05T13:29:27.393Z"
   },
   {
    "duration": 5,
    "start_time": "2022-09-05T13:30:00.189Z"
   },
   {
    "duration": 8,
    "start_time": "2022-09-05T13:34:51.075Z"
   },
   {
    "duration": 12,
    "start_time": "2022-09-05T13:36:20.529Z"
   },
   {
    "duration": 11,
    "start_time": "2022-09-05T13:36:30.046Z"
   },
   {
    "duration": 11,
    "start_time": "2022-09-05T13:39:46.702Z"
   },
   {
    "duration": 15,
    "start_time": "2022-09-05T14:04:24.814Z"
   },
   {
    "duration": 12,
    "start_time": "2022-09-05T14:04:40.073Z"
   },
   {
    "duration": 347,
    "start_time": "2022-09-06T06:51:20.254Z"
   },
   {
    "duration": 214,
    "start_time": "2022-09-06T06:51:20.603Z"
   },
   {
    "duration": 92,
    "start_time": "2022-09-06T06:51:20.819Z"
   },
   {
    "duration": 13,
    "start_time": "2022-09-06T06:51:20.913Z"
   },
   {
    "duration": 16,
    "start_time": "2022-09-06T06:51:20.927Z"
   },
   {
    "duration": 44,
    "start_time": "2022-09-06T06:51:20.945Z"
   },
   {
    "duration": 25,
    "start_time": "2022-09-06T06:51:20.990Z"
   },
   {
    "duration": 31,
    "start_time": "2022-09-06T06:51:21.017Z"
   },
   {
    "duration": 36,
    "start_time": "2022-09-06T06:51:21.049Z"
   },
   {
    "duration": 7,
    "start_time": "2022-09-06T06:51:21.088Z"
   },
   {
    "duration": 10,
    "start_time": "2022-09-06T06:51:21.108Z"
   },
   {
    "duration": 35,
    "start_time": "2022-09-06T06:51:21.119Z"
   },
   {
    "duration": 19,
    "start_time": "2022-09-06T06:51:21.157Z"
   },
   {
    "duration": 88,
    "start_time": "2022-09-06T06:51:21.178Z"
   },
   {
    "duration": 18,
    "start_time": "2022-09-06T06:51:21.268Z"
   },
   {
    "duration": 139,
    "start_time": "2022-09-06T06:51:21.288Z"
   },
   {
    "duration": 65,
    "start_time": "2022-09-06T07:08:14.018Z"
   },
   {
    "duration": 53,
    "start_time": "2022-09-06T07:08:30.591Z"
   },
   {
    "duration": 20,
    "start_time": "2022-09-06T07:08:48.541Z"
   },
   {
    "duration": 2,
    "start_time": "2022-09-06T07:09:54.873Z"
   },
   {
    "duration": 2,
    "start_time": "2022-09-06T07:10:45.471Z"
   },
   {
    "duration": 8,
    "start_time": "2022-09-06T07:11:17.397Z"
   },
   {
    "duration": 6,
    "start_time": "2022-09-06T07:12:50.101Z"
   },
   {
    "duration": 12,
    "start_time": "2022-09-06T07:13:00.699Z"
   },
   {
    "duration": 8,
    "start_time": "2022-09-06T07:14:14.831Z"
   },
   {
    "duration": 8,
    "start_time": "2022-09-06T07:14:47.575Z"
   },
   {
    "duration": 14,
    "start_time": "2022-09-06T07:15:40.784Z"
   },
   {
    "duration": 24,
    "start_time": "2022-09-06T07:17:46.521Z"
   },
   {
    "duration": 29,
    "start_time": "2022-09-06T07:21:54.269Z"
   },
   {
    "duration": 30,
    "start_time": "2022-09-06T07:22:26.177Z"
   },
   {
    "duration": 64,
    "start_time": "2022-09-06T07:26:12.840Z"
   },
   {
    "duration": 7,
    "start_time": "2022-09-06T07:29:33.692Z"
   },
   {
    "duration": 941,
    "start_time": "2022-09-06T07:34:52.350Z"
   },
   {
    "duration": 474,
    "start_time": "2022-09-06T07:35:00.203Z"
   },
   {
    "duration": 43,
    "start_time": "2022-09-08T04:39:41.695Z"
   },
   {
    "duration": 6,
    "start_time": "2022-09-08T04:46:24.263Z"
   },
   {
    "duration": 425,
    "start_time": "2022-09-08T04:46:28.664Z"
   },
   {
    "duration": 206,
    "start_time": "2022-09-08T04:46:29.091Z"
   },
   {
    "duration": 89,
    "start_time": "2022-09-08T04:46:29.299Z"
   },
   {
    "duration": 13,
    "start_time": "2022-09-08T04:46:29.389Z"
   },
   {
    "duration": 11,
    "start_time": "2022-09-08T04:46:29.404Z"
   },
   {
    "duration": 28,
    "start_time": "2022-09-08T04:46:29.417Z"
   },
   {
    "duration": 16,
    "start_time": "2022-09-08T04:46:29.447Z"
   },
   {
    "duration": 244,
    "start_time": "2022-09-08T04:46:29.465Z"
   },
   {
    "duration": 0,
    "start_time": "2022-09-08T04:46:29.711Z"
   },
   {
    "duration": 0,
    "start_time": "2022-09-08T04:46:29.712Z"
   },
   {
    "duration": 0,
    "start_time": "2022-09-08T04:46:29.713Z"
   },
   {
    "duration": 0,
    "start_time": "2022-09-08T04:46:29.714Z"
   },
   {
    "duration": 0,
    "start_time": "2022-09-08T04:46:29.715Z"
   },
   {
    "duration": 0,
    "start_time": "2022-09-08T04:46:29.716Z"
   },
   {
    "duration": 0,
    "start_time": "2022-09-08T04:46:29.717Z"
   },
   {
    "duration": 0,
    "start_time": "2022-09-08T04:46:29.718Z"
   },
   {
    "duration": 0,
    "start_time": "2022-09-08T04:46:29.719Z"
   },
   {
    "duration": 0,
    "start_time": "2022-09-08T04:46:29.720Z"
   },
   {
    "duration": 0,
    "start_time": "2022-09-08T04:46:29.721Z"
   },
   {
    "duration": 0,
    "start_time": "2022-09-08T04:46:29.722Z"
   },
   {
    "duration": 0,
    "start_time": "2022-09-08T04:46:29.723Z"
   },
   {
    "duration": 17,
    "start_time": "2022-09-08T04:46:54.698Z"
   },
   {
    "duration": 190,
    "start_time": "2022-09-08T04:46:57.919Z"
   },
   {
    "duration": 17,
    "start_time": "2022-09-08T04:47:14.626Z"
   },
   {
    "duration": 234,
    "start_time": "2022-09-08T04:47:16.952Z"
   },
   {
    "duration": 16,
    "start_time": "2022-09-08T04:47:34.215Z"
   },
   {
    "duration": 188,
    "start_time": "2022-09-08T04:47:38.038Z"
   },
   {
    "duration": 3,
    "start_time": "2022-09-08T04:47:41.249Z"
   },
   {
    "duration": 99,
    "start_time": "2022-09-08T04:47:41.254Z"
   },
   {
    "duration": 45,
    "start_time": "2022-09-08T04:47:41.355Z"
   },
   {
    "duration": 13,
    "start_time": "2022-09-08T04:47:41.402Z"
   },
   {
    "duration": 8,
    "start_time": "2022-09-08T04:47:41.416Z"
   },
   {
    "duration": 28,
    "start_time": "2022-09-08T04:47:41.426Z"
   },
   {
    "duration": 15,
    "start_time": "2022-09-08T04:47:41.455Z"
   },
   {
    "duration": 186,
    "start_time": "2022-09-08T04:47:41.471Z"
   },
   {
    "duration": 0,
    "start_time": "2022-09-08T04:47:41.660Z"
   },
   {
    "duration": 0,
    "start_time": "2022-09-08T04:47:41.661Z"
   },
   {
    "duration": 0,
    "start_time": "2022-09-08T04:47:41.662Z"
   },
   {
    "duration": 0,
    "start_time": "2022-09-08T04:47:41.664Z"
   },
   {
    "duration": 0,
    "start_time": "2022-09-08T04:47:41.665Z"
   },
   {
    "duration": 0,
    "start_time": "2022-09-08T04:47:41.666Z"
   },
   {
    "duration": 0,
    "start_time": "2022-09-08T04:47:41.668Z"
   },
   {
    "duration": 0,
    "start_time": "2022-09-08T04:47:41.669Z"
   },
   {
    "duration": 0,
    "start_time": "2022-09-08T04:47:41.671Z"
   },
   {
    "duration": 0,
    "start_time": "2022-09-08T04:47:41.672Z"
   },
   {
    "duration": 0,
    "start_time": "2022-09-08T04:47:41.673Z"
   },
   {
    "duration": 0,
    "start_time": "2022-09-08T04:47:41.675Z"
   },
   {
    "duration": 0,
    "start_time": "2022-09-08T04:47:41.676Z"
   },
   {
    "duration": 16,
    "start_time": "2022-09-08T04:48:14.449Z"
   },
   {
    "duration": 2,
    "start_time": "2022-09-08T04:48:18.906Z"
   },
   {
    "duration": 96,
    "start_time": "2022-09-08T04:48:18.910Z"
   },
   {
    "duration": 45,
    "start_time": "2022-09-08T04:48:19.008Z"
   },
   {
    "duration": 15,
    "start_time": "2022-09-08T04:48:19.055Z"
   },
   {
    "duration": 9,
    "start_time": "2022-09-08T04:48:19.072Z"
   },
   {
    "duration": 44,
    "start_time": "2022-09-08T04:48:19.083Z"
   },
   {
    "duration": 30,
    "start_time": "2022-09-08T04:48:19.129Z"
   },
   {
    "duration": 24,
    "start_time": "2022-09-08T04:48:19.161Z"
   },
   {
    "duration": 30,
    "start_time": "2022-09-08T04:48:19.187Z"
   },
   {
    "duration": 40,
    "start_time": "2022-09-08T04:48:19.218Z"
   },
   {
    "duration": 11,
    "start_time": "2022-09-08T04:48:19.261Z"
   },
   {
    "duration": 21,
    "start_time": "2022-09-08T04:48:19.273Z"
   },
   {
    "duration": 17,
    "start_time": "2022-09-08T04:48:19.296Z"
   },
   {
    "duration": 2,
    "start_time": "2022-09-08T04:48:19.315Z"
   },
   {
    "duration": 14,
    "start_time": "2022-09-08T04:48:19.319Z"
   },
   {
    "duration": 0,
    "start_time": "2022-09-08T04:48:19.357Z"
   },
   {
    "duration": 0,
    "start_time": "2022-09-08T04:48:19.358Z"
   },
   {
    "duration": 0,
    "start_time": "2022-09-08T04:48:19.360Z"
   },
   {
    "duration": 0,
    "start_time": "2022-09-08T04:48:19.361Z"
   },
   {
    "duration": 0,
    "start_time": "2022-09-08T04:48:19.362Z"
   },
   {
    "duration": 0,
    "start_time": "2022-09-08T04:48:19.363Z"
   },
   {
    "duration": 4,
    "start_time": "2022-09-08T04:57:40.388Z"
   },
   {
    "duration": 54,
    "start_time": "2022-09-08T04:58:56.387Z"
   },
   {
    "duration": 3,
    "start_time": "2022-09-08T04:59:02.720Z"
   },
   {
    "duration": 86,
    "start_time": "2022-09-08T04:59:02.781Z"
   },
   {
    "duration": 44,
    "start_time": "2022-09-08T04:59:02.869Z"
   },
   {
    "duration": 13,
    "start_time": "2022-09-08T04:59:02.915Z"
   },
   {
    "duration": 15,
    "start_time": "2022-09-08T04:59:02.930Z"
   },
   {
    "duration": 39,
    "start_time": "2022-09-08T04:59:02.947Z"
   },
   {
    "duration": 16,
    "start_time": "2022-09-08T04:59:02.988Z"
   },
   {
    "duration": 23,
    "start_time": "2022-09-08T04:59:03.006Z"
   },
   {
    "duration": 46,
    "start_time": "2022-09-08T04:59:03.031Z"
   },
   {
    "duration": 16,
    "start_time": "2022-09-08T04:59:03.078Z"
   },
   {
    "duration": 8,
    "start_time": "2022-09-08T04:59:03.096Z"
   },
   {
    "duration": 17,
    "start_time": "2022-09-08T04:59:03.106Z"
   },
   {
    "duration": 38,
    "start_time": "2022-09-08T04:59:03.125Z"
   },
   {
    "duration": 2,
    "start_time": "2022-09-08T04:59:03.165Z"
   },
   {
    "duration": 9,
    "start_time": "2022-09-08T04:59:03.169Z"
   },
   {
    "duration": 8,
    "start_time": "2022-09-08T04:59:03.180Z"
   },
   {
    "duration": 20,
    "start_time": "2022-09-08T04:59:03.189Z"
   },
   {
    "duration": 24,
    "start_time": "2022-09-08T04:59:03.210Z"
   },
   {
    "duration": 10,
    "start_time": "2022-09-08T04:59:03.235Z"
   },
   {
    "duration": 9,
    "start_time": "2022-09-08T04:59:03.246Z"
   },
   {
    "duration": 1342,
    "start_time": "2022-09-08T04:59:03.256Z"
   },
   {
    "duration": 8,
    "start_time": "2022-09-08T05:01:17.424Z"
   },
   {
    "duration": 14,
    "start_time": "2022-09-08T05:02:11.923Z"
   },
   {
    "duration": 10,
    "start_time": "2022-09-08T05:41:24.157Z"
   },
   {
    "duration": 29,
    "start_time": "2022-09-08T05:42:11.648Z"
   },
   {
    "duration": 27,
    "start_time": "2022-09-08T05:42:28.703Z"
   },
   {
    "duration": 28,
    "start_time": "2022-09-08T05:50:44.599Z"
   },
   {
    "duration": 8,
    "start_time": "2022-09-08T05:56:07.692Z"
   },
   {
    "duration": 3,
    "start_time": "2022-09-08T05:56:42.882Z"
   },
   {
    "duration": 104,
    "start_time": "2022-09-08T05:56:42.887Z"
   },
   {
    "duration": 44,
    "start_time": "2022-09-08T05:56:42.993Z"
   },
   {
    "duration": 14,
    "start_time": "2022-09-08T05:56:43.038Z"
   },
   {
    "duration": 19,
    "start_time": "2022-09-08T05:56:43.054Z"
   },
   {
    "duration": 29,
    "start_time": "2022-09-08T05:56:43.075Z"
   },
   {
    "duration": 16,
    "start_time": "2022-09-08T05:56:43.106Z"
   },
   {
    "duration": 23,
    "start_time": "2022-09-08T05:56:43.123Z"
   },
   {
    "duration": 45,
    "start_time": "2022-09-08T05:56:43.148Z"
   },
   {
    "duration": 17,
    "start_time": "2022-09-08T05:56:43.195Z"
   },
   {
    "duration": 10,
    "start_time": "2022-09-08T05:56:43.215Z"
   },
   {
    "duration": 47,
    "start_time": "2022-09-08T05:56:43.227Z"
   },
   {
    "duration": 17,
    "start_time": "2022-09-08T05:56:43.276Z"
   },
   {
    "duration": 2,
    "start_time": "2022-09-08T05:56:43.295Z"
   },
   {
    "duration": 15,
    "start_time": "2022-09-08T05:56:43.299Z"
   },
   {
    "duration": 3,
    "start_time": "2022-09-08T05:56:43.315Z"
   },
   {
    "duration": 47,
    "start_time": "2022-09-08T05:56:43.320Z"
   },
   {
    "duration": 9,
    "start_time": "2022-09-08T05:56:43.368Z"
   },
   {
    "duration": 11,
    "start_time": "2022-09-08T05:56:43.379Z"
   },
   {
    "duration": 4,
    "start_time": "2022-09-08T05:56:43.392Z"
   },
   {
    "duration": 900,
    "start_time": "2022-09-08T05:56:43.398Z"
   },
   {
    "duration": 30,
    "start_time": "2022-09-08T05:56:44.300Z"
   },
   {
    "duration": 123,
    "start_time": "2022-09-08T05:56:44.331Z"
   },
   {
    "duration": 37,
    "start_time": "2022-09-08T05:56:44.456Z"
   },
   {
    "duration": 106,
    "start_time": "2022-09-08T05:57:31.807Z"
   },
   {
    "duration": 124,
    "start_time": "2022-09-08T05:57:52.884Z"
   },
   {
    "duration": 122,
    "start_time": "2022-09-08T05:58:00.128Z"
   },
   {
    "duration": 139,
    "start_time": "2022-09-08T05:58:10.165Z"
   },
   {
    "duration": 7,
    "start_time": "2022-09-08T06:01:40.611Z"
   },
   {
    "duration": 9,
    "start_time": "2022-09-08T06:04:10.430Z"
   },
   {
    "duration": 33,
    "start_time": "2022-09-08T06:07:28.354Z"
   },
   {
    "duration": 17,
    "start_time": "2022-09-08T06:56:51.456Z"
   },
   {
    "duration": 1012,
    "start_time": "2022-09-08T06:57:00.960Z"
   },
   {
    "duration": 35,
    "start_time": "2022-09-08T06:58:35.336Z"
   },
   {
    "duration": 117,
    "start_time": "2022-09-08T07:05:08.438Z"
   },
   {
    "duration": 125,
    "start_time": "2022-09-08T07:05:23.838Z"
   },
   {
    "duration": 110,
    "start_time": "2022-09-08T07:05:32.899Z"
   },
   {
    "duration": 132,
    "start_time": "2022-09-08T07:05:38.954Z"
   },
   {
    "duration": 115,
    "start_time": "2022-09-08T07:05:44.984Z"
   },
   {
    "duration": 7,
    "start_time": "2022-09-08T07:06:11.323Z"
   },
   {
    "duration": 185,
    "start_time": "2022-09-08T07:06:16.798Z"
   },
   {
    "duration": 110,
    "start_time": "2022-09-08T07:06:23.886Z"
   },
   {
    "duration": 105,
    "start_time": "2022-09-08T07:07:21.826Z"
   },
   {
    "duration": 219,
    "start_time": "2022-09-08T07:07:40.488Z"
   },
   {
    "duration": 141,
    "start_time": "2022-09-08T07:08:13.750Z"
   },
   {
    "duration": 115,
    "start_time": "2022-09-08T07:11:20.118Z"
   },
   {
    "duration": 121,
    "start_time": "2022-09-08T07:12:28.972Z"
   },
   {
    "duration": 105,
    "start_time": "2022-09-08T07:12:33.882Z"
   },
   {
    "duration": 132,
    "start_time": "2022-09-08T07:12:38.918Z"
   },
   {
    "duration": 154,
    "start_time": "2022-09-08T07:12:45.720Z"
   },
   {
    "duration": 142,
    "start_time": "2022-09-08T07:13:19.278Z"
   },
   {
    "duration": 148,
    "start_time": "2022-09-08T07:13:25.395Z"
   },
   {
    "duration": 133,
    "start_time": "2022-09-08T07:13:37.500Z"
   },
   {
    "duration": 1723,
    "start_time": "2022-09-08T07:18:31.877Z"
   },
   {
    "duration": 130,
    "start_time": "2022-09-08T07:22:41.497Z"
   },
   {
    "duration": 131,
    "start_time": "2022-09-08T07:22:56.876Z"
   },
   {
    "duration": 118,
    "start_time": "2022-09-08T07:23:02.321Z"
   },
   {
    "duration": 213,
    "start_time": "2022-09-08T07:23:34.605Z"
   },
   {
    "duration": 29,
    "start_time": "2022-09-08T07:32:37.592Z"
   },
   {
    "duration": 7,
    "start_time": "2022-09-08T07:38:01.631Z"
   },
   {
    "duration": 7,
    "start_time": "2022-09-08T08:19:56.671Z"
   },
   {
    "duration": 8,
    "start_time": "2022-09-08T08:20:47.625Z"
   },
   {
    "duration": 7,
    "start_time": "2022-09-08T08:21:08.151Z"
   },
   {
    "duration": 4,
    "start_time": "2022-09-08T08:30:21.739Z"
   },
   {
    "duration": 4,
    "start_time": "2022-09-08T08:31:30.839Z"
   },
   {
    "duration": 13,
    "start_time": "2022-09-08T08:35:52.210Z"
   },
   {
    "duration": 19,
    "start_time": "2022-09-08T08:36:11.310Z"
   },
   {
    "duration": 35,
    "start_time": "2022-09-08T08:37:45.561Z"
   },
   {
    "duration": 12,
    "start_time": "2022-09-08T08:47:48.927Z"
   },
   {
    "duration": 32,
    "start_time": "2022-09-08T08:48:36.120Z"
   },
   {
    "duration": 13,
    "start_time": "2022-09-08T08:51:14.406Z"
   },
   {
    "duration": 37,
    "start_time": "2022-09-08T08:52:31.932Z"
   },
   {
    "duration": 2,
    "start_time": "2022-09-08T08:54:11.418Z"
   },
   {
    "duration": 113,
    "start_time": "2022-09-08T08:54:11.422Z"
   },
   {
    "duration": 52,
    "start_time": "2022-09-08T08:54:11.537Z"
   },
   {
    "duration": 17,
    "start_time": "2022-09-08T08:54:11.591Z"
   },
   {
    "duration": 24,
    "start_time": "2022-09-08T08:54:11.610Z"
   },
   {
    "duration": 48,
    "start_time": "2022-09-08T08:54:11.636Z"
   },
   {
    "duration": 16,
    "start_time": "2022-09-08T08:54:11.686Z"
   },
   {
    "duration": 20,
    "start_time": "2022-09-08T08:54:11.704Z"
   },
   {
    "duration": 57,
    "start_time": "2022-09-08T08:54:11.725Z"
   },
   {
    "duration": 19,
    "start_time": "2022-09-08T08:54:11.784Z"
   },
   {
    "duration": 32,
    "start_time": "2022-09-08T08:54:11.805Z"
   },
   {
    "duration": 15,
    "start_time": "2022-09-08T08:54:11.839Z"
   },
   {
    "duration": 43,
    "start_time": "2022-09-08T08:54:11.856Z"
   },
   {
    "duration": 6,
    "start_time": "2022-09-08T08:54:11.900Z"
   },
   {
    "duration": 29,
    "start_time": "2022-09-08T08:54:11.908Z"
   },
   {
    "duration": 49,
    "start_time": "2022-09-08T08:54:11.939Z"
   },
   {
    "duration": 54,
    "start_time": "2022-09-08T08:54:11.990Z"
   },
   {
    "duration": 40,
    "start_time": "2022-09-08T08:54:12.045Z"
   },
   {
    "duration": 32,
    "start_time": "2022-09-08T08:54:12.087Z"
   },
   {
    "duration": 27,
    "start_time": "2022-09-08T08:54:12.122Z"
   },
   {
    "duration": 1756,
    "start_time": "2022-09-08T08:54:12.151Z"
   },
   {
    "duration": 28,
    "start_time": "2022-09-08T08:54:13.909Z"
   },
   {
    "duration": 147,
    "start_time": "2022-09-08T08:54:13.938Z"
   },
   {
    "duration": 26,
    "start_time": "2022-09-08T08:54:14.087Z"
   },
   {
    "duration": 50,
    "start_time": "2022-09-08T08:54:14.115Z"
   },
   {
    "duration": 30,
    "start_time": "2022-09-08T08:54:14.168Z"
   },
   {
    "duration": 20,
    "start_time": "2022-09-08T08:54:14.200Z"
   },
   {
    "duration": 81,
    "start_time": "2022-09-08T08:54:14.222Z"
   },
   {
    "duration": 37,
    "start_time": "2022-09-08T08:54:14.306Z"
   },
   {
    "duration": 11,
    "start_time": "2022-09-08T08:55:27.334Z"
   },
   {
    "duration": 5,
    "start_time": "2022-09-08T08:55:44.765Z"
   },
   {
    "duration": 101,
    "start_time": "2022-09-08T08:55:44.772Z"
   },
   {
    "duration": 46,
    "start_time": "2022-09-08T08:55:44.875Z"
   },
   {
    "duration": 14,
    "start_time": "2022-09-08T08:55:44.922Z"
   },
   {
    "duration": 15,
    "start_time": "2022-09-08T08:55:44.938Z"
   },
   {
    "duration": 44,
    "start_time": "2022-09-08T08:55:44.955Z"
   },
   {
    "duration": 22,
    "start_time": "2022-09-08T08:55:45.001Z"
   },
   {
    "duration": 20,
    "start_time": "2022-09-08T08:55:45.025Z"
   },
   {
    "duration": 44,
    "start_time": "2022-09-08T08:55:45.047Z"
   },
   {
    "duration": 18,
    "start_time": "2022-09-08T08:55:45.093Z"
   },
   {
    "duration": 19,
    "start_time": "2022-09-08T08:55:45.114Z"
   },
   {
    "duration": 33,
    "start_time": "2022-09-08T08:55:45.135Z"
   },
   {
    "duration": 40,
    "start_time": "2022-09-08T08:55:45.170Z"
   },
   {
    "duration": 3,
    "start_time": "2022-09-08T08:55:45.211Z"
   },
   {
    "duration": 43,
    "start_time": "2022-09-08T08:55:45.220Z"
   },
   {
    "duration": 26,
    "start_time": "2022-09-08T08:55:45.267Z"
   },
   {
    "duration": 50,
    "start_time": "2022-09-08T08:55:45.295Z"
   },
   {
    "duration": 47,
    "start_time": "2022-09-08T08:55:45.348Z"
   },
   {
    "duration": 9,
    "start_time": "2022-09-08T08:55:45.397Z"
   },
   {
    "duration": 16,
    "start_time": "2022-09-08T08:55:45.408Z"
   },
   {
    "duration": 1718,
    "start_time": "2022-09-08T08:55:45.426Z"
   },
   {
    "duration": 37,
    "start_time": "2022-09-08T08:55:47.145Z"
   },
   {
    "duration": 132,
    "start_time": "2022-09-08T08:55:47.184Z"
   },
   {
    "duration": 27,
    "start_time": "2022-09-08T08:55:47.318Z"
   },
   {
    "duration": 40,
    "start_time": "2022-09-08T08:55:47.357Z"
   },
   {
    "duration": 25,
    "start_time": "2022-09-08T08:55:47.399Z"
   },
   {
    "duration": 6,
    "start_time": "2022-09-08T08:55:47.425Z"
   },
   {
    "duration": 59,
    "start_time": "2022-09-08T08:55:47.432Z"
   },
   {
    "duration": 30,
    "start_time": "2022-09-08T08:55:47.494Z"
   },
   {
    "duration": 3,
    "start_time": "2022-09-08T09:03:48.104Z"
   },
   {
    "duration": 3,
    "start_time": "2022-09-08T09:05:37.987Z"
   },
   {
    "duration": 100,
    "start_time": "2022-09-08T09:05:37.994Z"
   },
   {
    "duration": 44,
    "start_time": "2022-09-08T09:05:38.096Z"
   },
   {
    "duration": 22,
    "start_time": "2022-09-08T09:05:38.142Z"
   },
   {
    "duration": 12,
    "start_time": "2022-09-08T09:05:38.170Z"
   },
   {
    "duration": 29,
    "start_time": "2022-09-08T09:05:38.184Z"
   },
   {
    "duration": 19,
    "start_time": "2022-09-08T09:05:38.215Z"
   },
   {
    "duration": 34,
    "start_time": "2022-09-08T09:05:38.235Z"
   },
   {
    "duration": 34,
    "start_time": "2022-09-08T09:05:38.271Z"
   },
   {
    "duration": 18,
    "start_time": "2022-09-08T09:05:38.307Z"
   },
   {
    "duration": 43,
    "start_time": "2022-09-08T09:05:38.329Z"
   },
   {
    "duration": 2,
    "start_time": "2022-09-08T09:05:38.374Z"
   },
   {
    "duration": 23,
    "start_time": "2022-09-08T09:05:38.378Z"
   },
   {
    "duration": 2,
    "start_time": "2022-09-08T09:05:38.403Z"
   },
   {
    "duration": 17,
    "start_time": "2022-09-08T09:05:38.407Z"
   },
   {
    "duration": 3,
    "start_time": "2022-09-08T09:05:38.426Z"
   },
   {
    "duration": 43,
    "start_time": "2022-09-08T09:05:38.430Z"
   },
   {
    "duration": 9,
    "start_time": "2022-09-08T09:05:38.474Z"
   },
   {
    "duration": 9,
    "start_time": "2022-09-08T09:05:38.484Z"
   },
   {
    "duration": 5,
    "start_time": "2022-09-08T09:05:38.495Z"
   },
   {
    "duration": 1716,
    "start_time": "2022-09-08T09:05:38.501Z"
   },
   {
    "duration": 46,
    "start_time": "2022-09-08T09:05:40.219Z"
   },
   {
    "duration": 144,
    "start_time": "2022-09-08T09:05:40.266Z"
   },
   {
    "duration": 28,
    "start_time": "2022-09-08T09:05:40.411Z"
   },
   {
    "duration": 35,
    "start_time": "2022-09-08T09:05:40.457Z"
   },
   {
    "duration": 27,
    "start_time": "2022-09-08T09:05:40.494Z"
   },
   {
    "duration": 6,
    "start_time": "2022-09-08T09:05:40.522Z"
   },
   {
    "duration": 58,
    "start_time": "2022-09-08T09:05:40.530Z"
   },
   {
    "duration": 40,
    "start_time": "2022-09-08T09:05:40.591Z"
   },
   {
    "duration": 131,
    "start_time": "2022-09-08T09:06:52.971Z"
   },
   {
    "duration": 133,
    "start_time": "2022-09-08T09:07:32.173Z"
   },
   {
    "duration": 164,
    "start_time": "2022-09-08T09:07:38.347Z"
   },
   {
    "duration": 256,
    "start_time": "2022-09-08T09:08:10.031Z"
   },
   {
    "duration": 144,
    "start_time": "2022-09-08T09:08:22.006Z"
   },
   {
    "duration": 40,
    "start_time": "2022-09-08T09:11:23.258Z"
   },
   {
    "duration": 29,
    "start_time": "2022-09-08T09:12:31.736Z"
   },
   {
    "duration": 28,
    "start_time": "2022-09-08T09:12:37.275Z"
   },
   {
    "duration": 15,
    "start_time": "2022-09-08T09:15:34.086Z"
   },
   {
    "duration": 9,
    "start_time": "2022-09-08T09:38:05.627Z"
   },
   {
    "duration": 4,
    "start_time": "2022-09-08T09:38:09.706Z"
   },
   {
    "duration": 162,
    "start_time": "2022-09-08T09:38:09.713Z"
   },
   {
    "duration": 46,
    "start_time": "2022-09-08T09:38:09.877Z"
   },
   {
    "duration": 19,
    "start_time": "2022-09-08T09:38:09.925Z"
   },
   {
    "duration": 10,
    "start_time": "2022-09-08T09:38:09.945Z"
   },
   {
    "duration": 31,
    "start_time": "2022-09-08T09:38:09.957Z"
   },
   {
    "duration": 16,
    "start_time": "2022-09-08T09:38:09.990Z"
   },
   {
    "duration": 16,
    "start_time": "2022-09-08T09:38:10.007Z"
   },
   {
    "duration": 64,
    "start_time": "2022-09-08T09:38:10.025Z"
   },
   {
    "duration": 19,
    "start_time": "2022-09-08T09:38:10.090Z"
   },
   {
    "duration": 9,
    "start_time": "2022-09-08T09:38:10.112Z"
   },
   {
    "duration": 3,
    "start_time": "2022-09-08T09:38:10.123Z"
   },
   {
    "duration": 47,
    "start_time": "2022-09-08T09:38:10.129Z"
   },
   {
    "duration": 3,
    "start_time": "2022-09-08T09:38:10.178Z"
   },
   {
    "duration": 26,
    "start_time": "2022-09-08T09:38:10.182Z"
   },
   {
    "duration": 3,
    "start_time": "2022-09-08T09:38:10.210Z"
   },
   {
    "duration": 51,
    "start_time": "2022-09-08T09:38:10.215Z"
   },
   {
    "duration": 10,
    "start_time": "2022-09-08T09:38:10.270Z"
   },
   {
    "duration": 3,
    "start_time": "2022-09-08T09:38:10.281Z"
   },
   {
    "duration": 5,
    "start_time": "2022-09-08T09:38:10.285Z"
   },
   {
    "duration": 1626,
    "start_time": "2022-09-08T09:38:10.291Z"
   },
   {
    "duration": 47,
    "start_time": "2022-09-08T09:38:11.919Z"
   },
   {
    "duration": 261,
    "start_time": "2022-09-08T09:38:11.970Z"
   },
   {
    "duration": 40,
    "start_time": "2022-09-08T09:38:12.233Z"
   },
   {
    "duration": 41,
    "start_time": "2022-09-08T09:38:12.275Z"
   },
   {
    "duration": 26,
    "start_time": "2022-09-08T09:38:12.318Z"
   },
   {
    "duration": 21,
    "start_time": "2022-09-08T09:38:12.346Z"
   },
   {
    "duration": 38,
    "start_time": "2022-09-08T09:38:12.368Z"
   },
   {
    "duration": 20,
    "start_time": "2022-09-08T09:38:12.409Z"
   },
   {
    "duration": 39,
    "start_time": "2022-09-08T09:38:12.431Z"
   },
   {
    "duration": 25,
    "start_time": "2022-09-08T09:38:39.060Z"
   },
   {
    "duration": 339,
    "start_time": "2022-09-08T09:40:32.939Z"
   },
   {
    "duration": 237,
    "start_time": "2022-09-08T09:40:44.825Z"
   },
   {
    "duration": 407,
    "start_time": "2022-09-08T09:41:27.679Z"
   },
   {
    "duration": 158,
    "start_time": "2022-09-08T09:41:46.045Z"
   },
   {
    "duration": 205,
    "start_time": "2022-09-08T09:42:11.238Z"
   },
   {
    "duration": 165,
    "start_time": "2022-09-08T09:42:19.954Z"
   },
   {
    "duration": 349,
    "start_time": "2022-09-08T09:42:28.042Z"
   },
   {
    "duration": 287,
    "start_time": "2022-09-08T09:42:41.380Z"
   },
   {
    "duration": 269,
    "start_time": "2022-09-08T09:42:49.874Z"
   },
   {
    "duration": 279,
    "start_time": "2022-09-08T09:42:56.255Z"
   },
   {
    "duration": 259,
    "start_time": "2022-09-08T09:43:16.013Z"
   },
   {
    "duration": 274,
    "start_time": "2022-09-08T09:43:41.673Z"
   },
   {
    "duration": 375,
    "start_time": "2022-09-08T09:44:15.375Z"
   },
   {
    "duration": 8,
    "start_time": "2022-09-08T09:44:50.703Z"
   },
   {
    "duration": 16,
    "start_time": "2022-09-08T09:45:02.505Z"
   },
   {
    "duration": 274,
    "start_time": "2022-09-08T09:45:11.372Z"
   },
   {
    "duration": 287,
    "start_time": "2022-09-08T09:47:19.393Z"
   },
   {
    "duration": 915,
    "start_time": "2022-09-08T09:48:04.835Z"
   },
   {
    "duration": 292,
    "start_time": "2022-09-08T09:48:42.092Z"
   },
   {
    "duration": 266,
    "start_time": "2022-09-08T09:49:08.374Z"
   },
   {
    "duration": 23,
    "start_time": "2022-09-08T09:49:40.550Z"
   },
   {
    "duration": 13,
    "start_time": "2022-09-08T09:57:35.738Z"
   },
   {
    "duration": 7,
    "start_time": "2022-09-08T09:58:58.380Z"
   },
   {
    "duration": 6,
    "start_time": "2022-09-08T09:59:46.816Z"
   },
   {
    "duration": 8,
    "start_time": "2022-09-08T10:02:30.946Z"
   },
   {
    "duration": 8,
    "start_time": "2022-09-08T10:05:03.384Z"
   },
   {
    "duration": 9,
    "start_time": "2022-09-08T10:08:18.534Z"
   },
   {
    "duration": 8,
    "start_time": "2022-09-08T10:08:32.734Z"
   },
   {
    "duration": 9,
    "start_time": "2022-09-08T10:08:58.933Z"
   },
   {
    "duration": 9,
    "start_time": "2022-09-08T10:13:02.062Z"
   },
   {
    "duration": 11,
    "start_time": "2022-09-08T10:13:17.079Z"
   },
   {
    "duration": 4,
    "start_time": "2022-09-08T10:13:32.773Z"
   },
   {
    "duration": 3,
    "start_time": "2022-09-08T10:15:17.694Z"
   },
   {
    "duration": 6,
    "start_time": "2022-09-08T10:15:49.373Z"
   },
   {
    "duration": 8,
    "start_time": "2022-09-08T10:16:05.830Z"
   },
   {
    "duration": 158,
    "start_time": "2022-09-08T10:16:41.828Z"
   },
   {
    "duration": 857,
    "start_time": "2022-09-08T10:17:33.454Z"
   },
   {
    "duration": 251,
    "start_time": "2022-09-08T10:17:54.154Z"
   },
   {
    "duration": 164,
    "start_time": "2022-09-08T10:18:04.890Z"
   },
   {
    "duration": 12,
    "start_time": "2022-09-08T10:22:03.388Z"
   },
   {
    "duration": 12,
    "start_time": "2022-09-08T10:22:13.237Z"
   },
   {
    "duration": 153,
    "start_time": "2022-09-08T10:22:21.009Z"
   },
   {
    "duration": 7,
    "start_time": "2022-09-08T10:25:24.970Z"
   },
   {
    "duration": 13,
    "start_time": "2022-09-08T10:27:09.793Z"
   },
   {
    "duration": 14,
    "start_time": "2022-09-08T10:27:21.563Z"
   },
   {
    "duration": 13,
    "start_time": "2022-09-08T10:28:46.320Z"
   },
   {
    "duration": 18,
    "start_time": "2022-09-08T10:30:17.861Z"
   },
   {
    "duration": 16,
    "start_time": "2022-09-08T10:30:54.235Z"
   },
   {
    "duration": 14,
    "start_time": "2022-09-08T10:31:18.059Z"
   },
   {
    "duration": 168,
    "start_time": "2022-09-08T10:48:21.410Z"
   },
   {
    "duration": 163,
    "start_time": "2022-09-08T10:49:00.815Z"
   },
   {
    "duration": 146,
    "start_time": "2022-09-08T10:49:20.296Z"
   },
   {
    "duration": 164,
    "start_time": "2022-09-08T10:49:33.888Z"
   },
   {
    "duration": 175,
    "start_time": "2022-09-08T10:50:12.817Z"
   },
   {
    "duration": 153,
    "start_time": "2022-09-08T10:50:21.645Z"
   },
   {
    "duration": 203,
    "start_time": "2022-09-08T10:50:39.579Z"
   },
   {
    "duration": 201,
    "start_time": "2022-09-08T11:53:51.685Z"
   },
   {
    "duration": 207,
    "start_time": "2022-09-08T11:54:07.146Z"
   },
   {
    "duration": 167,
    "start_time": "2022-09-08T11:56:52.738Z"
   },
   {
    "duration": 23,
    "start_time": "2022-09-08T12:01:26.716Z"
   },
   {
    "duration": 208,
    "start_time": "2022-09-08T12:01:39.329Z"
   },
   {
    "duration": 217,
    "start_time": "2022-09-08T12:02:39.532Z"
   },
   {
    "duration": 322,
    "start_time": "2022-09-08T12:03:17.725Z"
   },
   {
    "duration": 188,
    "start_time": "2022-09-08T12:04:18.554Z"
   },
   {
    "duration": 216,
    "start_time": "2022-09-08T12:05:00.730Z"
   },
   {
    "duration": 15,
    "start_time": "2022-09-08T12:23:54.851Z"
   },
   {
    "duration": 166,
    "start_time": "2022-09-08T12:26:21.480Z"
   },
   {
    "duration": 162,
    "start_time": "2022-09-08T12:27:04.866Z"
   },
   {
    "duration": 50,
    "start_time": "2022-09-09T08:32:21.688Z"
   },
   {
    "duration": 884,
    "start_time": "2022-09-09T08:32:26.512Z"
   },
   {
    "duration": 301,
    "start_time": "2022-09-09T08:32:27.399Z"
   },
   {
    "duration": 93,
    "start_time": "2022-09-09T08:32:27.701Z"
   },
   {
    "duration": 20,
    "start_time": "2022-09-09T08:32:27.797Z"
   },
   {
    "duration": 17,
    "start_time": "2022-09-09T08:32:27.819Z"
   },
   {
    "duration": 53,
    "start_time": "2022-09-09T08:32:27.839Z"
   },
   {
    "duration": 28,
    "start_time": "2022-09-09T08:32:27.894Z"
   },
   {
    "duration": 24,
    "start_time": "2022-09-09T08:32:27.924Z"
   },
   {
    "duration": 40,
    "start_time": "2022-09-09T08:32:27.969Z"
   },
   {
    "duration": 556,
    "start_time": "2022-09-09T08:32:28.011Z"
   },
   {
    "duration": 22,
    "start_time": "2022-09-09T08:32:28.569Z"
   },
   {
    "duration": 12,
    "start_time": "2022-09-09T08:32:28.593Z"
   },
   {
    "duration": 3,
    "start_time": "2022-09-09T08:32:28.607Z"
   },
   {
    "duration": 58,
    "start_time": "2022-09-09T08:32:28.613Z"
   },
   {
    "duration": 4,
    "start_time": "2022-09-09T08:32:28.673Z"
   },
   {
    "duration": 22,
    "start_time": "2022-09-09T08:32:28.679Z"
   },
   {
    "duration": 2,
    "start_time": "2022-09-09T08:32:28.704Z"
   },
   {
    "duration": 31,
    "start_time": "2022-09-09T08:32:28.709Z"
   },
   {
    "duration": 9,
    "start_time": "2022-09-09T08:32:28.768Z"
   },
   {
    "duration": 13,
    "start_time": "2022-09-09T08:32:28.779Z"
   },
   {
    "duration": 6,
    "start_time": "2022-09-09T08:32:28.794Z"
   },
   {
    "duration": 1853,
    "start_time": "2022-09-09T08:32:28.802Z"
   },
   {
    "duration": 36,
    "start_time": "2022-09-09T08:32:30.657Z"
   },
   {
    "duration": 151,
    "start_time": "2022-09-09T08:32:30.695Z"
   },
   {
    "duration": 38,
    "start_time": "2022-09-09T08:32:30.847Z"
   },
   {
    "duration": 32,
    "start_time": "2022-09-09T08:32:30.887Z"
   },
   {
    "duration": 45,
    "start_time": "2022-09-09T08:32:30.921Z"
   },
   {
    "duration": 5,
    "start_time": "2022-09-09T08:32:30.970Z"
   },
   {
    "duration": 163,
    "start_time": "2022-09-09T08:32:30.977Z"
   },
   {
    "duration": 29,
    "start_time": "2022-09-09T08:32:31.142Z"
   },
   {
    "duration": 13,
    "start_time": "2022-09-09T08:32:31.173Z"
   },
   {
    "duration": 40,
    "start_time": "2022-09-09T08:32:31.188Z"
   },
   {
    "duration": 61,
    "start_time": "2022-09-09T08:32:31.230Z"
   },
   {
    "duration": 65,
    "start_time": "2022-09-09T08:32:31.294Z"
   },
   {
    "duration": 25,
    "start_time": "2022-09-09T08:32:31.362Z"
   },
   {
    "duration": 234,
    "start_time": "2022-09-09T08:32:31.389Z"
   },
   {
    "duration": 228,
    "start_time": "2022-09-09T08:32:31.626Z"
   },
   {
    "duration": 214,
    "start_time": "2022-09-09T08:32:31.856Z"
   },
   {
    "duration": 199,
    "start_time": "2022-09-09T08:32:32.072Z"
   },
   {
    "duration": 218,
    "start_time": "2022-09-09T08:32:32.273Z"
   },
   {
    "duration": 205,
    "start_time": "2022-09-09T08:32:32.493Z"
   },
   {
    "duration": 185,
    "start_time": "2022-09-09T08:32:32.699Z"
   },
   {
    "duration": 126,
    "start_time": "2022-09-09T08:40:32.443Z"
   },
   {
    "duration": 24,
    "start_time": "2022-09-09T08:40:53.479Z"
   },
   {
    "duration": 14,
    "start_time": "2022-09-09T08:41:35.664Z"
   },
   {
    "duration": 62,
    "start_time": "2022-09-09T08:42:03.270Z"
   },
   {
    "duration": 21,
    "start_time": "2022-09-09T08:42:23.469Z"
   },
   {
    "duration": 208,
    "start_time": "2022-09-09T08:43:41.691Z"
   },
   {
    "duration": 212,
    "start_time": "2022-09-09T08:45:09.392Z"
   },
   {
    "duration": 229,
    "start_time": "2022-09-09T08:46:32.298Z"
   },
   {
    "duration": 293,
    "start_time": "2022-09-09T08:47:12.725Z"
   },
   {
    "duration": 222,
    "start_time": "2022-09-09T08:48:07.307Z"
   },
   {
    "duration": 202,
    "start_time": "2022-09-09T08:48:49.185Z"
   },
   {
    "duration": 1164,
    "start_time": "2022-09-09T09:21:38.751Z"
   },
   {
    "duration": 1159,
    "start_time": "2022-09-09T09:21:58.141Z"
   },
   {
    "duration": 1171,
    "start_time": "2022-09-09T09:22:07.242Z"
   },
   {
    "duration": 1169,
    "start_time": "2022-09-09T09:22:36.893Z"
   },
   {
    "duration": 307,
    "start_time": "2022-09-09T09:22:55.383Z"
   },
   {
    "duration": 1194,
    "start_time": "2022-09-09T09:23:00.782Z"
   },
   {
    "duration": 278,
    "start_time": "2022-09-09T09:23:53.768Z"
   },
   {
    "duration": 33,
    "start_time": "2022-09-09T09:26:06.154Z"
   },
   {
    "duration": 799,
    "start_time": "2022-09-09T09:27:08.728Z"
   },
   {
    "duration": 896,
    "start_time": "2022-09-09T09:27:24.467Z"
   },
   {
    "duration": 859,
    "start_time": "2022-09-09T09:27:36.305Z"
   },
   {
    "duration": 6,
    "start_time": "2022-09-09T09:30:09.098Z"
   },
   {
    "duration": 416,
    "start_time": "2022-09-09T10:59:20.800Z"
   },
   {
    "duration": 447,
    "start_time": "2022-09-09T11:08:10.347Z"
   },
   {
    "duration": 395,
    "start_time": "2022-09-09T11:12:18.357Z"
   },
   {
    "duration": 339,
    "start_time": "2022-09-09T11:14:11.812Z"
   },
   {
    "duration": 7,
    "start_time": "2022-09-09T11:14:28.553Z"
   },
   {
    "duration": 19,
    "start_time": "2022-09-09T11:14:44.464Z"
   },
   {
    "duration": 375,
    "start_time": "2022-09-09T11:15:35.759Z"
   },
   {
    "duration": 407,
    "start_time": "2022-09-09T11:15:59.446Z"
   },
   {
    "duration": 443,
    "start_time": "2022-09-09T11:18:03.847Z"
   },
   {
    "duration": 15,
    "start_time": "2022-09-09T11:18:12.277Z"
   },
   {
    "duration": 392,
    "start_time": "2022-09-09T11:19:42.790Z"
   },
   {
    "duration": 8,
    "start_time": "2022-09-09T11:20:03.147Z"
   },
   {
    "duration": 18,
    "start_time": "2022-09-09T11:21:11.596Z"
   },
   {
    "duration": 13,
    "start_time": "2022-09-09T11:21:23.433Z"
   },
   {
    "duration": 10,
    "start_time": "2022-09-09T11:21:29.494Z"
   },
   {
    "duration": 388,
    "start_time": "2022-09-09T11:22:30.743Z"
   },
   {
    "duration": 8,
    "start_time": "2022-09-09T11:23:58.550Z"
   },
   {
    "duration": 8,
    "start_time": "2022-09-09T11:24:30.689Z"
   },
   {
    "duration": 4,
    "start_time": "2022-09-09T11:25:01.335Z"
   },
   {
    "duration": 130,
    "start_time": "2022-09-09T11:25:01.360Z"
   },
   {
    "duration": 60,
    "start_time": "2022-09-09T11:25:01.492Z"
   },
   {
    "duration": 21,
    "start_time": "2022-09-09T11:25:01.553Z"
   },
   {
    "duration": 39,
    "start_time": "2022-09-09T11:25:01.577Z"
   },
   {
    "duration": 46,
    "start_time": "2022-09-09T11:25:01.620Z"
   },
   {
    "duration": 29,
    "start_time": "2022-09-09T11:25:01.668Z"
   },
   {
    "duration": 25,
    "start_time": "2022-09-09T11:25:01.699Z"
   },
   {
    "duration": 70,
    "start_time": "2022-09-09T11:25:01.726Z"
   },
   {
    "duration": 507,
    "start_time": "2022-09-09T11:25:01.798Z"
   },
   {
    "duration": 17,
    "start_time": "2022-09-09T11:25:02.307Z"
   },
   {
    "duration": 0,
    "start_time": "2022-09-09T11:25:02.326Z"
   },
   {
    "duration": 0,
    "start_time": "2022-09-09T11:25:02.328Z"
   },
   {
    "duration": 0,
    "start_time": "2022-09-09T11:25:02.329Z"
   },
   {
    "duration": 0,
    "start_time": "2022-09-09T11:25:02.330Z"
   },
   {
    "duration": 0,
    "start_time": "2022-09-09T11:25:02.332Z"
   },
   {
    "duration": 0,
    "start_time": "2022-09-09T11:25:02.333Z"
   },
   {
    "duration": 0,
    "start_time": "2022-09-09T11:25:02.334Z"
   },
   {
    "duration": 0,
    "start_time": "2022-09-09T11:25:02.335Z"
   },
   {
    "duration": 0,
    "start_time": "2022-09-09T11:25:02.336Z"
   },
   {
    "duration": 0,
    "start_time": "2022-09-09T11:25:02.337Z"
   },
   {
    "duration": 0,
    "start_time": "2022-09-09T11:25:02.338Z"
   },
   {
    "duration": 1,
    "start_time": "2022-09-09T11:25:02.338Z"
   },
   {
    "duration": 0,
    "start_time": "2022-09-09T11:25:02.367Z"
   },
   {
    "duration": 1,
    "start_time": "2022-09-09T11:25:02.368Z"
   },
   {
    "duration": 0,
    "start_time": "2022-09-09T11:25:02.369Z"
   },
   {
    "duration": 0,
    "start_time": "2022-09-09T11:25:02.370Z"
   },
   {
    "duration": 0,
    "start_time": "2022-09-09T11:25:02.371Z"
   },
   {
    "duration": 0,
    "start_time": "2022-09-09T11:25:02.371Z"
   },
   {
    "duration": 0,
    "start_time": "2022-09-09T11:25:02.372Z"
   },
   {
    "duration": 0,
    "start_time": "2022-09-09T11:25:02.373Z"
   },
   {
    "duration": 0,
    "start_time": "2022-09-09T11:25:02.373Z"
   },
   {
    "duration": 0,
    "start_time": "2022-09-09T11:25:02.374Z"
   },
   {
    "duration": 0,
    "start_time": "2022-09-09T11:25:02.375Z"
   },
   {
    "duration": 0,
    "start_time": "2022-09-09T11:25:02.376Z"
   },
   {
    "duration": 0,
    "start_time": "2022-09-09T11:25:02.376Z"
   },
   {
    "duration": 0,
    "start_time": "2022-09-09T11:25:02.377Z"
   },
   {
    "duration": 0,
    "start_time": "2022-09-09T11:25:02.378Z"
   },
   {
    "duration": 0,
    "start_time": "2022-09-09T11:25:02.381Z"
   },
   {
    "duration": 0,
    "start_time": "2022-09-09T11:25:02.382Z"
   },
   {
    "duration": 0,
    "start_time": "2022-09-09T11:25:02.384Z"
   },
   {
    "duration": 0,
    "start_time": "2022-09-09T11:25:02.384Z"
   },
   {
    "duration": 0,
    "start_time": "2022-09-09T11:25:02.385Z"
   },
   {
    "duration": 0,
    "start_time": "2022-09-09T11:25:02.386Z"
   },
   {
    "duration": 0,
    "start_time": "2022-09-09T11:25:02.387Z"
   },
   {
    "duration": 0,
    "start_time": "2022-09-09T11:25:02.389Z"
   },
   {
    "duration": 0,
    "start_time": "2022-09-09T11:25:02.393Z"
   },
   {
    "duration": 0,
    "start_time": "2022-09-09T11:25:02.394Z"
   },
   {
    "duration": 0,
    "start_time": "2022-09-09T11:25:02.395Z"
   },
   {
    "duration": 0,
    "start_time": "2022-09-09T11:25:02.397Z"
   },
   {
    "duration": 0,
    "start_time": "2022-09-09T11:25:02.398Z"
   },
   {
    "duration": 0,
    "start_time": "2022-09-09T11:25:02.399Z"
   },
   {
    "duration": 27,
    "start_time": "2022-09-09T11:25:32.757Z"
   },
   {
    "duration": 3,
    "start_time": "2022-09-09T11:25:38.496Z"
   },
   {
    "duration": 6,
    "start_time": "2022-09-09T11:25:43.588Z"
   },
   {
    "duration": 19,
    "start_time": "2022-09-09T11:25:43.596Z"
   },
   {
    "duration": 7,
    "start_time": "2022-09-09T11:25:43.616Z"
   },
   {
    "duration": 29,
    "start_time": "2022-09-09T11:25:43.625Z"
   },
   {
    "duration": 15,
    "start_time": "2022-09-09T11:25:43.656Z"
   },
   {
    "duration": 24,
    "start_time": "2022-09-09T11:25:43.676Z"
   },
   {
    "duration": 3,
    "start_time": "2022-09-09T11:25:43.702Z"
   },
   {
    "duration": 31,
    "start_time": "2022-09-09T11:25:43.707Z"
   },
   {
    "duration": 44,
    "start_time": "2022-09-09T11:25:43.740Z"
   },
   {
    "duration": 6,
    "start_time": "2022-09-09T11:25:43.788Z"
   },
   {
    "duration": 7,
    "start_time": "2022-09-09T11:25:43.796Z"
   },
   {
    "duration": 1821,
    "start_time": "2022-09-09T11:25:43.805Z"
   },
   {
    "duration": 49,
    "start_time": "2022-09-09T11:25:45.629Z"
   },
   {
    "duration": 154,
    "start_time": "2022-09-09T11:25:45.684Z"
   },
   {
    "duration": 50,
    "start_time": "2022-09-09T11:25:45.840Z"
   },
   {
    "duration": 29,
    "start_time": "2022-09-09T11:25:45.891Z"
   },
   {
    "duration": 51,
    "start_time": "2022-09-09T11:25:45.922Z"
   },
   {
    "duration": 8,
    "start_time": "2022-09-09T11:25:45.975Z"
   },
   {
    "duration": 51,
    "start_time": "2022-09-09T11:25:45.988Z"
   },
   {
    "duration": 47,
    "start_time": "2022-09-09T11:25:46.041Z"
   },
   {
    "duration": 15,
    "start_time": "2022-09-09T11:25:46.091Z"
   },
   {
    "duration": 9,
    "start_time": "2022-09-09T11:25:46.108Z"
   },
   {
    "duration": 13,
    "start_time": "2022-09-09T11:25:46.119Z"
   },
   {
    "duration": 42,
    "start_time": "2022-09-09T11:25:46.134Z"
   },
   {
    "duration": 20,
    "start_time": "2022-09-09T11:25:46.177Z"
   },
   {
    "duration": 427,
    "start_time": "2022-09-09T11:25:46.198Z"
   },
   {
    "duration": 291,
    "start_time": "2022-09-09T11:25:46.627Z"
   },
   {
    "duration": 258,
    "start_time": "2022-09-09T11:25:46.924Z"
   },
   {
    "duration": 219,
    "start_time": "2022-09-09T11:25:47.186Z"
   },
   {
    "duration": 235,
    "start_time": "2022-09-09T11:25:47.406Z"
   },
   {
    "duration": 214,
    "start_time": "2022-09-09T11:25:47.644Z"
   },
   {
    "duration": 212,
    "start_time": "2022-09-09T11:25:47.860Z"
   },
   {
    "duration": 230,
    "start_time": "2022-09-09T11:25:48.078Z"
   },
   {
    "duration": 232,
    "start_time": "2022-09-09T11:25:48.311Z"
   },
   {
    "duration": 239,
    "start_time": "2022-09-09T11:25:48.545Z"
   },
   {
    "duration": 224,
    "start_time": "2022-09-09T11:25:48.785Z"
   },
   {
    "duration": 335,
    "start_time": "2022-09-09T11:25:49.012Z"
   },
   {
    "duration": 253,
    "start_time": "2022-09-09T11:25:49.349Z"
   },
   {
    "duration": 1249,
    "start_time": "2022-09-09T11:25:49.604Z"
   },
   {
    "duration": 294,
    "start_time": "2022-09-09T11:25:50.854Z"
   },
   {
    "duration": 10,
    "start_time": "2022-09-09T11:26:06.228Z"
   },
   {
    "duration": 14,
    "start_time": "2022-09-09T11:26:31.393Z"
   },
   {
    "duration": 17,
    "start_time": "2022-09-09T11:27:08.892Z"
   },
   {
    "duration": 435,
    "start_time": "2022-09-09T11:32:45.002Z"
   },
   {
    "duration": 222,
    "start_time": "2022-09-09T11:47:17.740Z"
   },
   {
    "duration": 5,
    "start_time": "2022-09-09T11:48:19.707Z"
   },
   {
    "duration": 194,
    "start_time": "2022-09-09T11:52:29.985Z"
   },
   {
    "duration": 5,
    "start_time": "2022-09-09T11:52:34.713Z"
   },
   {
    "duration": 12,
    "start_time": "2022-09-09T12:01:31.117Z"
   },
   {
    "duration": 30,
    "start_time": "2022-09-09T12:02:27.499Z"
   },
   {
    "duration": 26,
    "start_time": "2022-09-09T12:03:13.028Z"
   },
   {
    "duration": 41,
    "start_time": "2022-09-09T12:03:34.754Z"
   },
   {
    "duration": 44,
    "start_time": "2022-09-09T12:03:47.629Z"
   },
   {
    "duration": 27,
    "start_time": "2022-09-09T12:04:00.894Z"
   },
   {
    "duration": 83,
    "start_time": "2022-09-09T12:06:34.584Z"
   },
   {
    "duration": 93,
    "start_time": "2022-09-09T12:06:39.848Z"
   },
   {
    "duration": 199,
    "start_time": "2022-09-09T12:06:43.788Z"
   },
   {
    "duration": 205,
    "start_time": "2022-09-09T12:06:51.954Z"
   },
   {
    "duration": 12,
    "start_time": "2022-09-09T12:09:17.422Z"
   },
   {
    "duration": 13,
    "start_time": "2022-09-09T12:09:23.785Z"
   },
   {
    "duration": 203,
    "start_time": "2022-09-09T12:10:20.647Z"
   },
   {
    "duration": 202,
    "start_time": "2022-09-09T12:11:32.724Z"
   },
   {
    "duration": 5,
    "start_time": "2022-09-09T12:12:48.943Z"
   },
   {
    "duration": 207,
    "start_time": "2022-09-09T12:29:54.697Z"
   },
   {
    "duration": 299,
    "start_time": "2022-09-09T12:30:05.443Z"
   },
   {
    "duration": 213,
    "start_time": "2022-09-09T12:30:21.226Z"
   },
   {
    "duration": 202,
    "start_time": "2022-09-09T12:30:35.642Z"
   },
   {
    "duration": 817,
    "start_time": "2022-09-10T14:06:44.706Z"
   },
   {
    "duration": 281,
    "start_time": "2022-09-10T14:06:45.527Z"
   },
   {
    "duration": 97,
    "start_time": "2022-09-10T14:06:45.810Z"
   },
   {
    "duration": 16,
    "start_time": "2022-09-10T14:06:45.909Z"
   },
   {
    "duration": 10,
    "start_time": "2022-09-10T14:06:45.927Z"
   },
   {
    "duration": 30,
    "start_time": "2022-09-10T14:06:45.939Z"
   },
   {
    "duration": 16,
    "start_time": "2022-09-10T14:06:45.971Z"
   },
   {
    "duration": 19,
    "start_time": "2022-09-10T14:06:45.988Z"
   },
   {
    "duration": 33,
    "start_time": "2022-09-10T14:06:46.009Z"
   },
   {
    "duration": 487,
    "start_time": "2022-09-10T14:06:46.044Z"
   },
   {
    "duration": 37,
    "start_time": "2022-09-10T14:06:46.533Z"
   },
   {
    "duration": 3,
    "start_time": "2022-09-10T14:06:46.572Z"
   },
   {
    "duration": 120,
    "start_time": "2022-09-10T14:06:46.577Z"
   },
   {
    "duration": 0,
    "start_time": "2022-09-10T14:06:46.700Z"
   },
   {
    "duration": 0,
    "start_time": "2022-09-10T14:06:46.703Z"
   },
   {
    "duration": 0,
    "start_time": "2022-09-10T14:06:46.704Z"
   },
   {
    "duration": 0,
    "start_time": "2022-09-10T14:06:46.706Z"
   },
   {
    "duration": 0,
    "start_time": "2022-09-10T14:06:46.708Z"
   },
   {
    "duration": 0,
    "start_time": "2022-09-10T14:06:46.709Z"
   },
   {
    "duration": 0,
    "start_time": "2022-09-10T14:06:46.711Z"
   },
   {
    "duration": 0,
    "start_time": "2022-09-10T14:06:46.713Z"
   },
   {
    "duration": 0,
    "start_time": "2022-09-10T14:06:46.715Z"
   },
   {
    "duration": 0,
    "start_time": "2022-09-10T14:06:46.716Z"
   },
   {
    "duration": 0,
    "start_time": "2022-09-10T14:06:46.718Z"
   },
   {
    "duration": 0,
    "start_time": "2022-09-10T14:06:46.719Z"
   },
   {
    "duration": 0,
    "start_time": "2022-09-10T14:06:46.720Z"
   },
   {
    "duration": 0,
    "start_time": "2022-09-10T14:06:46.722Z"
   },
   {
    "duration": 0,
    "start_time": "2022-09-10T14:06:46.767Z"
   },
   {
    "duration": 0,
    "start_time": "2022-09-10T14:06:46.768Z"
   },
   {
    "duration": 0,
    "start_time": "2022-09-10T14:06:46.770Z"
   },
   {
    "duration": 0,
    "start_time": "2022-09-10T14:06:46.771Z"
   },
   {
    "duration": 0,
    "start_time": "2022-09-10T14:06:46.773Z"
   },
   {
    "duration": 0,
    "start_time": "2022-09-10T14:06:46.775Z"
   },
   {
    "duration": 0,
    "start_time": "2022-09-10T14:06:46.778Z"
   },
   {
    "duration": 0,
    "start_time": "2022-09-10T14:06:46.780Z"
   },
   {
    "duration": 0,
    "start_time": "2022-09-10T14:06:46.781Z"
   },
   {
    "duration": 0,
    "start_time": "2022-09-10T14:06:46.782Z"
   },
   {
    "duration": 0,
    "start_time": "2022-09-10T14:06:46.785Z"
   },
   {
    "duration": 0,
    "start_time": "2022-09-10T14:06:46.787Z"
   },
   {
    "duration": 0,
    "start_time": "2022-09-10T14:06:46.789Z"
   },
   {
    "duration": 0,
    "start_time": "2022-09-10T14:06:46.789Z"
   },
   {
    "duration": 0,
    "start_time": "2022-09-10T14:06:46.791Z"
   },
   {
    "duration": 0,
    "start_time": "2022-09-10T14:06:46.792Z"
   },
   {
    "duration": 0,
    "start_time": "2022-09-10T14:06:46.793Z"
   },
   {
    "duration": 0,
    "start_time": "2022-09-10T14:06:46.794Z"
   },
   {
    "duration": 0,
    "start_time": "2022-09-10T14:06:46.795Z"
   },
   {
    "duration": 0,
    "start_time": "2022-09-10T14:06:46.797Z"
   },
   {
    "duration": 0,
    "start_time": "2022-09-10T14:06:46.797Z"
   },
   {
    "duration": 0,
    "start_time": "2022-09-10T14:06:46.799Z"
   },
   {
    "duration": 0,
    "start_time": "2022-09-10T14:06:46.800Z"
   },
   {
    "duration": 0,
    "start_time": "2022-09-10T14:06:46.801Z"
   },
   {
    "duration": 0,
    "start_time": "2022-09-10T14:06:46.802Z"
   },
   {
    "duration": 0,
    "start_time": "2022-09-10T14:06:46.803Z"
   },
   {
    "duration": 0,
    "start_time": "2022-09-10T14:06:46.805Z"
   },
   {
    "duration": 0,
    "start_time": "2022-09-10T14:06:46.806Z"
   },
   {
    "duration": 0,
    "start_time": "2022-09-10T14:06:46.806Z"
   },
   {
    "duration": 0,
    "start_time": "2022-09-10T14:06:46.808Z"
   },
   {
    "duration": 4,
    "start_time": "2022-09-10T14:07:52.588Z"
   },
   {
    "duration": 98,
    "start_time": "2022-09-10T14:07:52.593Z"
   },
   {
    "duration": 45,
    "start_time": "2022-09-10T14:07:52.693Z"
   },
   {
    "duration": 14,
    "start_time": "2022-09-10T14:07:52.739Z"
   },
   {
    "duration": 13,
    "start_time": "2022-09-10T14:07:52.755Z"
   },
   {
    "duration": 32,
    "start_time": "2022-09-10T14:07:52.770Z"
   },
   {
    "duration": 17,
    "start_time": "2022-09-10T14:07:52.804Z"
   },
   {
    "duration": 17,
    "start_time": "2022-09-10T14:07:52.823Z"
   },
   {
    "duration": 34,
    "start_time": "2022-09-10T14:07:52.867Z"
   },
   {
    "duration": 504,
    "start_time": "2022-09-10T14:07:52.903Z"
   },
   {
    "duration": 18,
    "start_time": "2022-09-10T14:07:53.409Z"
   },
   {
    "duration": 2,
    "start_time": "2022-09-10T14:07:53.429Z"
   },
   {
    "duration": 15,
    "start_time": "2022-09-10T14:07:53.432Z"
   },
   {
    "duration": 0,
    "start_time": "2022-09-10T14:07:53.468Z"
   },
   {
    "duration": 0,
    "start_time": "2022-09-10T14:07:53.469Z"
   },
   {
    "duration": 0,
    "start_time": "2022-09-10T14:07:53.471Z"
   },
   {
    "duration": 0,
    "start_time": "2022-09-10T14:07:53.472Z"
   },
   {
    "duration": 0,
    "start_time": "2022-09-10T14:07:53.473Z"
   },
   {
    "duration": 0,
    "start_time": "2022-09-10T14:07:53.474Z"
   },
   {
    "duration": 0,
    "start_time": "2022-09-10T14:07:53.475Z"
   },
   {
    "duration": 0,
    "start_time": "2022-09-10T14:07:53.476Z"
   },
   {
    "duration": 0,
    "start_time": "2022-09-10T14:07:53.477Z"
   },
   {
    "duration": 0,
    "start_time": "2022-09-10T14:07:53.478Z"
   },
   {
    "duration": 0,
    "start_time": "2022-09-10T14:07:53.479Z"
   },
   {
    "duration": 0,
    "start_time": "2022-09-10T14:07:53.480Z"
   },
   {
    "duration": 0,
    "start_time": "2022-09-10T14:07:53.481Z"
   },
   {
    "duration": 0,
    "start_time": "2022-09-10T14:07:53.482Z"
   },
   {
    "duration": 0,
    "start_time": "2022-09-10T14:07:53.483Z"
   },
   {
    "duration": 0,
    "start_time": "2022-09-10T14:07:53.485Z"
   },
   {
    "duration": 0,
    "start_time": "2022-09-10T14:07:53.486Z"
   },
   {
    "duration": 0,
    "start_time": "2022-09-10T14:07:53.487Z"
   },
   {
    "duration": 0,
    "start_time": "2022-09-10T14:07:53.488Z"
   },
   {
    "duration": 0,
    "start_time": "2022-09-10T14:07:53.490Z"
   },
   {
    "duration": 0,
    "start_time": "2022-09-10T14:07:53.491Z"
   },
   {
    "duration": 0,
    "start_time": "2022-09-10T14:07:53.492Z"
   },
   {
    "duration": 0,
    "start_time": "2022-09-10T14:07:53.493Z"
   },
   {
    "duration": 0,
    "start_time": "2022-09-10T14:07:53.493Z"
   },
   {
    "duration": 0,
    "start_time": "2022-09-10T14:07:53.494Z"
   },
   {
    "duration": 0,
    "start_time": "2022-09-10T14:07:53.495Z"
   },
   {
    "duration": 0,
    "start_time": "2022-09-10T14:07:53.497Z"
   },
   {
    "duration": 0,
    "start_time": "2022-09-10T14:07:53.498Z"
   },
   {
    "duration": 0,
    "start_time": "2022-09-10T14:07:53.499Z"
   },
   {
    "duration": 0,
    "start_time": "2022-09-10T14:07:53.500Z"
   },
   {
    "duration": 0,
    "start_time": "2022-09-10T14:07:53.501Z"
   },
   {
    "duration": 0,
    "start_time": "2022-09-10T14:07:53.502Z"
   },
   {
    "duration": 0,
    "start_time": "2022-09-10T14:07:53.503Z"
   },
   {
    "duration": 0,
    "start_time": "2022-09-10T14:07:53.504Z"
   },
   {
    "duration": 0,
    "start_time": "2022-09-10T14:07:53.505Z"
   },
   {
    "duration": 0,
    "start_time": "2022-09-10T14:07:53.506Z"
   },
   {
    "duration": 0,
    "start_time": "2022-09-10T14:07:53.568Z"
   },
   {
    "duration": 0,
    "start_time": "2022-09-10T14:07:53.569Z"
   },
   {
    "duration": 0,
    "start_time": "2022-09-10T14:07:53.570Z"
   },
   {
    "duration": 0,
    "start_time": "2022-09-10T14:07:53.571Z"
   },
   {
    "duration": 0,
    "start_time": "2022-09-10T14:07:53.572Z"
   },
   {
    "duration": 0,
    "start_time": "2022-09-10T14:07:53.573Z"
   },
   {
    "duration": 0,
    "start_time": "2022-09-10T14:07:53.574Z"
   },
   {
    "duration": 0,
    "start_time": "2022-09-10T14:07:53.575Z"
   },
   {
    "duration": 0,
    "start_time": "2022-09-10T14:07:53.577Z"
   },
   {
    "duration": 9,
    "start_time": "2022-09-10T14:08:16.009Z"
   },
   {
    "duration": 8,
    "start_time": "2022-09-10T14:08:21.463Z"
   },
   {
    "duration": 3,
    "start_time": "2022-09-10T14:08:42.706Z"
   },
   {
    "duration": 97,
    "start_time": "2022-09-10T14:08:42.927Z"
   },
   {
    "duration": 43,
    "start_time": "2022-09-10T14:08:43.026Z"
   },
   {
    "duration": 15,
    "start_time": "2022-09-10T14:08:43.070Z"
   },
   {
    "duration": 12,
    "start_time": "2022-09-10T14:08:43.087Z"
   },
   {
    "duration": 30,
    "start_time": "2022-09-10T14:08:43.100Z"
   },
   {
    "duration": 43,
    "start_time": "2022-09-10T14:08:43.131Z"
   },
   {
    "duration": 17,
    "start_time": "2022-09-10T14:08:43.176Z"
   },
   {
    "duration": 33,
    "start_time": "2022-09-10T14:08:43.195Z"
   },
   {
    "duration": 481,
    "start_time": "2022-09-10T14:08:43.230Z"
   },
   {
    "duration": 19,
    "start_time": "2022-09-10T14:08:43.713Z"
   },
   {
    "duration": 7,
    "start_time": "2022-09-10T14:08:43.734Z"
   },
   {
    "duration": 651,
    "start_time": "2022-09-10T14:10:55.148Z"
   },
   {
    "duration": 102,
    "start_time": "2022-09-10T14:10:55.801Z"
   },
   {
    "duration": 44,
    "start_time": "2022-09-10T14:10:55.904Z"
   },
   {
    "duration": 14,
    "start_time": "2022-09-10T14:10:55.950Z"
   },
   {
    "duration": 9,
    "start_time": "2022-09-10T14:10:55.966Z"
   },
   {
    "duration": 30,
    "start_time": "2022-09-10T14:10:56.000Z"
   },
   {
    "duration": 16,
    "start_time": "2022-09-10T14:10:56.036Z"
   },
   {
    "duration": 16,
    "start_time": "2022-09-10T14:10:56.077Z"
   },
   {
    "duration": 43,
    "start_time": "2022-09-10T14:10:56.596Z"
   },
   {
    "duration": 483,
    "start_time": "2022-09-10T14:10:56.799Z"
   },
   {
    "duration": 19,
    "start_time": "2022-09-10T14:10:57.284Z"
   },
   {
    "duration": 8,
    "start_time": "2022-09-10T14:10:57.305Z"
   },
   {
    "duration": 10,
    "start_time": "2022-09-10T14:10:57.315Z"
   },
   {
    "duration": 12,
    "start_time": "2022-09-10T14:10:57.327Z"
   },
   {
    "duration": 28,
    "start_time": "2022-09-10T14:10:57.340Z"
   },
   {
    "duration": 24,
    "start_time": "2022-09-10T14:10:57.370Z"
   },
   {
    "duration": 3,
    "start_time": "2022-09-10T14:10:57.395Z"
   },
   {
    "duration": 17,
    "start_time": "2022-09-10T14:10:57.399Z"
   },
   {
    "duration": 2,
    "start_time": "2022-09-10T14:10:57.418Z"
   },
   {
    "duration": 47,
    "start_time": "2022-09-10T14:10:57.422Z"
   },
   {
    "duration": 19,
    "start_time": "2022-09-10T14:10:57.470Z"
   },
   {
    "duration": 5,
    "start_time": "2022-09-10T14:10:57.491Z"
   },
   {
    "duration": 8,
    "start_time": "2022-09-10T14:10:57.498Z"
   },
   {
    "duration": 1903,
    "start_time": "2022-09-10T14:10:57.508Z"
   },
   {
    "duration": 131,
    "start_time": "2022-09-10T14:10:59.413Z"
   },
   {
    "duration": 145,
    "start_time": "2022-09-10T14:10:59.546Z"
   },
   {
    "duration": 30,
    "start_time": "2022-09-10T14:10:59.693Z"
   },
   {
    "duration": 52,
    "start_time": "2022-09-10T14:10:59.724Z"
   },
   {
    "duration": 34,
    "start_time": "2022-09-10T14:10:59.778Z"
   },
   {
    "duration": 6,
    "start_time": "2022-09-10T14:10:59.814Z"
   },
   {
    "duration": 54,
    "start_time": "2022-09-10T14:10:59.822Z"
   },
   {
    "duration": 19,
    "start_time": "2022-09-10T14:10:59.878Z"
   },
   {
    "duration": 26,
    "start_time": "2022-09-10T14:10:59.899Z"
   },
   {
    "duration": 12,
    "start_time": "2022-09-10T14:10:59.927Z"
   },
   {
    "duration": 8,
    "start_time": "2022-09-10T14:10:59.967Z"
   },
   {
    "duration": 7,
    "start_time": "2022-09-10T14:10:59.977Z"
   },
   {
    "duration": 18,
    "start_time": "2022-09-10T14:10:59.987Z"
   },
   {
    "duration": 16,
    "start_time": "2022-09-10T14:11:00.007Z"
   },
   {
    "duration": 225,
    "start_time": "2022-09-10T14:11:00.025Z"
   },
   {
    "duration": 208,
    "start_time": "2022-09-10T14:11:00.252Z"
   },
   {
    "duration": 200,
    "start_time": "2022-09-10T14:11:00.462Z"
   },
   {
    "duration": 191,
    "start_time": "2022-09-10T14:11:00.668Z"
   },
   {
    "duration": 190,
    "start_time": "2022-09-10T14:11:00.867Z"
   },
   {
    "duration": 206,
    "start_time": "2022-09-10T14:11:01.059Z"
   },
   {
    "duration": 200,
    "start_time": "2022-09-10T14:11:01.267Z"
   },
   {
    "duration": 242,
    "start_time": "2022-09-10T14:11:01.469Z"
   },
   {
    "duration": 298,
    "start_time": "2022-09-10T14:11:01.713Z"
   },
   {
    "duration": 237,
    "start_time": "2022-09-10T14:11:02.013Z"
   },
   {
    "duration": 223,
    "start_time": "2022-09-10T14:11:02.252Z"
   },
   {
    "duration": 233,
    "start_time": "2022-09-10T14:11:02.477Z"
   },
   {
    "duration": 219,
    "start_time": "2022-09-10T14:11:02.712Z"
   },
   {
    "duration": 194,
    "start_time": "2022-09-10T14:11:02.933Z"
   },
   {
    "duration": 2,
    "start_time": "2022-09-10T14:11:03.129Z"
   },
   {
    "duration": 200,
    "start_time": "2022-09-10T14:11:03.133Z"
   },
   {
    "duration": 4,
    "start_time": "2022-09-10T14:11:03.335Z"
   },
   {
    "duration": 204,
    "start_time": "2022-09-10T14:11:03.341Z"
   },
   {
    "duration": 5,
    "start_time": "2022-09-10T14:11:03.547Z"
   },
   {
    "duration": 44,
    "start_time": "2022-09-11T01:45:17.011Z"
   },
   {
    "duration": 767,
    "start_time": "2022-09-11T01:45:25.512Z"
   },
   {
    "duration": 202,
    "start_time": "2022-09-11T01:45:26.281Z"
   },
   {
    "duration": 90,
    "start_time": "2022-09-11T01:45:26.484Z"
   },
   {
    "duration": 14,
    "start_time": "2022-09-11T01:45:26.576Z"
   },
   {
    "duration": 8,
    "start_time": "2022-09-11T01:45:26.592Z"
   },
   {
    "duration": 31,
    "start_time": "2022-09-11T01:45:26.601Z"
   },
   {
    "duration": 16,
    "start_time": "2022-09-11T01:45:26.634Z"
   },
   {
    "duration": 19,
    "start_time": "2022-09-11T01:45:26.651Z"
   },
   {
    "duration": 51,
    "start_time": "2022-09-11T01:45:26.671Z"
   },
   {
    "duration": 406,
    "start_time": "2022-09-11T01:45:26.725Z"
   },
   {
    "duration": 18,
    "start_time": "2022-09-11T01:45:27.133Z"
   },
   {
    "duration": 7,
    "start_time": "2022-09-11T01:45:27.152Z"
   },
   {
    "duration": 9,
    "start_time": "2022-09-11T01:45:27.161Z"
   },
   {
    "duration": 9,
    "start_time": "2022-09-11T01:45:27.171Z"
   },
   {
    "duration": 2,
    "start_time": "2022-09-11T01:45:27.182Z"
   },
   {
    "duration": 49,
    "start_time": "2022-09-11T01:45:27.186Z"
   },
   {
    "duration": 2,
    "start_time": "2022-09-11T01:45:27.237Z"
   },
   {
    "duration": 17,
    "start_time": "2022-09-11T01:45:27.241Z"
   },
   {
    "duration": 2,
    "start_time": "2022-09-11T01:45:27.260Z"
   },
   {
    "duration": 18,
    "start_time": "2022-09-11T01:45:27.264Z"
   },
   {
    "duration": 10,
    "start_time": "2022-09-11T01:45:27.283Z"
   },
   {
    "duration": 2,
    "start_time": "2022-09-11T01:45:27.323Z"
   },
   {
    "duration": 5,
    "start_time": "2022-09-11T01:45:27.327Z"
   },
   {
    "duration": 1772,
    "start_time": "2022-09-11T01:45:27.333Z"
   },
   {
    "duration": 131,
    "start_time": "2022-09-11T01:45:29.107Z"
   },
   {
    "duration": 126,
    "start_time": "2022-09-11T01:45:29.240Z"
   },
   {
    "duration": 27,
    "start_time": "2022-09-11T01:45:29.368Z"
   },
   {
    "duration": 44,
    "start_time": "2022-09-11T01:45:29.398Z"
   },
   {
    "duration": 27,
    "start_time": "2022-09-11T01:45:29.443Z"
   },
   {
    "duration": 6,
    "start_time": "2022-09-11T01:45:29.471Z"
   },
   {
    "duration": 51,
    "start_time": "2022-09-11T01:45:29.478Z"
   },
   {
    "duration": 19,
    "start_time": "2022-09-11T01:45:29.531Z"
   },
   {
    "duration": 22,
    "start_time": "2022-09-11T01:45:29.551Z"
   },
   {
    "duration": 11,
    "start_time": "2022-09-11T01:45:29.575Z"
   },
   {
    "duration": 35,
    "start_time": "2022-09-11T01:45:29.587Z"
   },
   {
    "duration": 6,
    "start_time": "2022-09-11T01:45:29.624Z"
   },
   {
    "duration": 17,
    "start_time": "2022-09-11T01:45:29.631Z"
   },
   {
    "duration": 13,
    "start_time": "2022-09-11T01:45:29.649Z"
   },
   {
    "duration": 190,
    "start_time": "2022-09-11T01:45:29.663Z"
   },
   {
    "duration": 185,
    "start_time": "2022-09-11T01:45:29.854Z"
   },
   {
    "duration": 196,
    "start_time": "2022-09-11T01:45:30.041Z"
   },
   {
    "duration": 176,
    "start_time": "2022-09-11T01:45:30.238Z"
   },
   {
    "duration": 179,
    "start_time": "2022-09-11T01:45:30.415Z"
   },
   {
    "duration": 178,
    "start_time": "2022-09-11T01:45:30.596Z"
   },
   {
    "duration": 163,
    "start_time": "2022-09-11T01:45:30.775Z"
   },
   {
    "duration": 197,
    "start_time": "2022-09-11T01:45:30.940Z"
   },
   {
    "duration": 258,
    "start_time": "2022-09-11T01:45:31.138Z"
   },
   {
    "duration": 198,
    "start_time": "2022-09-11T01:45:31.398Z"
   },
   {
    "duration": 203,
    "start_time": "2022-09-11T01:45:31.597Z"
   },
   {
    "duration": 198,
    "start_time": "2022-09-11T01:45:31.801Z"
   },
   {
    "duration": 197,
    "start_time": "2022-09-11T01:45:32.000Z"
   },
   {
    "duration": 174,
    "start_time": "2022-09-11T01:45:32.198Z"
   },
   {
    "duration": 4,
    "start_time": "2022-09-11T01:45:32.373Z"
   },
   {
    "duration": 170,
    "start_time": "2022-09-11T01:45:32.379Z"
   },
   {
    "duration": 4,
    "start_time": "2022-09-11T01:45:32.551Z"
   },
   {
    "duration": 165,
    "start_time": "2022-09-11T01:45:32.557Z"
   },
   {
    "duration": 4,
    "start_time": "2022-09-11T01:45:32.724Z"
   },
   {
    "duration": 200,
    "start_time": "2022-09-11T01:58:15.840Z"
   },
   {
    "duration": 77,
    "start_time": "2022-09-11T01:59:59.572Z"
   },
   {
    "duration": 200,
    "start_time": "2022-09-11T02:00:10.522Z"
   },
   {
    "duration": 144,
    "start_time": "2022-09-11T02:00:25.500Z"
   },
   {
    "duration": 32,
    "start_time": "2022-09-11T02:01:17.333Z"
   },
   {
    "duration": 97,
    "start_time": "2022-09-11T02:04:04.857Z"
   },
   {
    "duration": 825,
    "start_time": "2022-09-11T02:06:53.017Z"
   },
   {
    "duration": 188,
    "start_time": "2022-09-11T02:07:44.645Z"
   },
   {
    "duration": 198,
    "start_time": "2022-09-11T02:08:37.189Z"
   },
   {
    "duration": 199,
    "start_time": "2022-09-11T02:08:47.971Z"
   },
   {
    "duration": 199,
    "start_time": "2022-09-11T02:09:04.195Z"
   },
   {
    "duration": 203,
    "start_time": "2022-09-11T02:10:14.833Z"
   },
   {
    "duration": 55,
    "start_time": "2022-09-11T02:11:12.715Z"
   },
   {
    "duration": 164,
    "start_time": "2022-09-11T02:11:24.458Z"
   },
   {
    "duration": 258,
    "start_time": "2022-09-11T02:12:16.847Z"
   },
   {
    "duration": 193,
    "start_time": "2022-09-11T02:12:30.488Z"
   },
   {
    "duration": 13,
    "start_time": "2022-09-11T02:20:26.235Z"
   },
   {
    "duration": 155,
    "start_time": "2022-09-11T02:23:06.869Z"
   },
   {
    "duration": 164,
    "start_time": "2022-09-11T02:24:58.162Z"
   },
   {
    "duration": 173,
    "start_time": "2022-09-11T02:25:10.090Z"
   },
   {
    "duration": 152,
    "start_time": "2022-09-11T02:25:17.061Z"
   },
   {
    "duration": 26,
    "start_time": "2022-09-11T02:36:48.868Z"
   },
   {
    "duration": 21,
    "start_time": "2022-09-11T02:37:32.227Z"
   },
   {
    "duration": 22,
    "start_time": "2022-09-11T02:37:44.398Z"
   },
   {
    "duration": 20,
    "start_time": "2022-09-11T02:38:12.335Z"
   },
   {
    "duration": 20,
    "start_time": "2022-09-11T02:39:26.899Z"
   },
   {
    "duration": 23,
    "start_time": "2022-09-11T02:40:17.063Z"
   },
   {
    "duration": 21,
    "start_time": "2022-09-11T02:41:13.487Z"
   },
   {
    "duration": 15,
    "start_time": "2022-09-11T02:42:12.586Z"
   },
   {
    "duration": 23,
    "start_time": "2022-09-11T02:43:09.010Z"
   },
   {
    "duration": 22,
    "start_time": "2022-09-11T02:44:15.001Z"
   },
   {
    "duration": 581,
    "start_time": "2022-09-11T02:59:57.343Z"
   },
   {
    "duration": 97,
    "start_time": "2022-09-11T02:59:57.925Z"
   },
   {
    "duration": 45,
    "start_time": "2022-09-11T02:59:58.024Z"
   },
   {
    "duration": 15,
    "start_time": "2022-09-11T02:59:58.070Z"
   },
   {
    "duration": 10,
    "start_time": "2022-09-11T02:59:58.086Z"
   },
   {
    "duration": 29,
    "start_time": "2022-09-11T02:59:58.098Z"
   },
   {
    "duration": 15,
    "start_time": "2022-09-11T02:59:58.128Z"
   },
   {
    "duration": 16,
    "start_time": "2022-09-11T02:59:58.145Z"
   },
   {
    "duration": 31,
    "start_time": "2022-09-11T02:59:58.162Z"
   },
   {
    "duration": 412,
    "start_time": "2022-09-11T02:59:58.195Z"
   },
   {
    "duration": 24,
    "start_time": "2022-09-11T02:59:58.609Z"
   },
   {
    "duration": 8,
    "start_time": "2022-09-11T02:59:58.634Z"
   },
   {
    "duration": 7,
    "start_time": "2022-09-11T02:59:58.644Z"
   },
   {
    "duration": 9,
    "start_time": "2022-09-11T02:59:58.653Z"
   },
   {
    "duration": 2,
    "start_time": "2022-09-11T02:59:58.664Z"
   },
   {
    "duration": 21,
    "start_time": "2022-09-11T02:59:58.667Z"
   },
   {
    "duration": 2,
    "start_time": "2022-09-11T02:59:58.690Z"
   },
   {
    "duration": 13,
    "start_time": "2022-09-11T02:59:58.722Z"
   },
   {
    "duration": 2,
    "start_time": "2022-09-11T02:59:58.737Z"
   },
   {
    "duration": 19,
    "start_time": "2022-09-11T02:59:58.740Z"
   },
   {
    "duration": 13,
    "start_time": "2022-09-11T02:59:58.761Z"
   },
   {
    "duration": 6,
    "start_time": "2022-09-11T02:59:58.775Z"
   },
   {
    "duration": 7,
    "start_time": "2022-09-11T02:59:58.783Z"
   },
   {
    "duration": 1758,
    "start_time": "2022-09-11T02:59:58.791Z"
   },
   {
    "duration": 124,
    "start_time": "2022-09-11T03:00:00.550Z"
   },
   {
    "duration": 132,
    "start_time": "2022-09-11T03:00:00.676Z"
   },
   {
    "duration": 33,
    "start_time": "2022-09-11T03:00:00.809Z"
   },
   {
    "duration": 190,
    "start_time": "2022-09-11T03:00:00.846Z"
   },
   {
    "duration": 206,
    "start_time": "2022-09-11T03:00:01.037Z"
   },
   {
    "duration": 6,
    "start_time": "2022-09-11T03:00:01.245Z"
   },
   {
    "duration": 42,
    "start_time": "2022-09-11T03:00:01.253Z"
   },
   {
    "duration": 38,
    "start_time": "2022-09-11T03:00:01.296Z"
   },
   {
    "duration": 29,
    "start_time": "2022-09-11T03:00:01.336Z"
   },
   {
    "duration": 15,
    "start_time": "2022-09-11T03:00:01.366Z"
   },
   {
    "duration": 32,
    "start_time": "2022-09-11T03:00:01.383Z"
   },
   {
    "duration": 28,
    "start_time": "2022-09-11T03:00:01.417Z"
   },
   {
    "duration": 184,
    "start_time": "2022-09-11T03:00:01.447Z"
   },
   {
    "duration": 181,
    "start_time": "2022-09-11T03:00:01.633Z"
   },
   {
    "duration": 179,
    "start_time": "2022-09-11T03:00:01.815Z"
   },
   {
    "duration": 199,
    "start_time": "2022-09-11T03:00:01.996Z"
   },
   {
    "duration": 205,
    "start_time": "2022-09-11T03:00:02.197Z"
   },
   {
    "duration": 175,
    "start_time": "2022-09-11T03:00:02.405Z"
   },
   {
    "duration": 255,
    "start_time": "2022-09-11T03:00:02.582Z"
   },
   {
    "duration": 186,
    "start_time": "2022-09-11T03:00:02.839Z"
   },
   {
    "duration": 171,
    "start_time": "2022-09-11T03:00:03.027Z"
   },
   {
    "duration": 211,
    "start_time": "2022-09-11T03:00:03.199Z"
   },
   {
    "duration": 217,
    "start_time": "2022-09-11T03:00:03.412Z"
   },
   {
    "duration": 209,
    "start_time": "2022-09-11T03:00:03.631Z"
   },
   {
    "duration": 198,
    "start_time": "2022-09-11T03:00:03.842Z"
   },
   {
    "duration": 209,
    "start_time": "2022-09-11T03:00:04.042Z"
   },
   {
    "duration": 204,
    "start_time": "2022-09-11T03:00:04.253Z"
   },
   {
    "duration": 178,
    "start_time": "2022-09-11T03:00:04.458Z"
   },
   {
    "duration": 4,
    "start_time": "2022-09-11T03:00:04.637Z"
   },
   {
    "duration": 171,
    "start_time": "2022-09-11T03:00:04.643Z"
   },
   {
    "duration": 4,
    "start_time": "2022-09-11T03:00:04.822Z"
   },
   {
    "duration": 233,
    "start_time": "2022-09-11T03:00:04.827Z"
   },
   {
    "duration": 4,
    "start_time": "2022-09-11T03:00:05.062Z"
   },
   {
    "duration": 28,
    "start_time": "2022-09-11T03:00:05.068Z"
   },
   {
    "duration": 45,
    "start_time": "2022-09-11T03:02:05.844Z"
   },
   {
    "duration": 23,
    "start_time": "2022-09-11T03:02:52.092Z"
   },
   {
    "duration": 171,
    "start_time": "2022-09-11T03:03:01.466Z"
   },
   {
    "duration": 21,
    "start_time": "2022-09-11T03:14:10.781Z"
   },
   {
    "duration": 25,
    "start_time": "2022-09-11T03:14:22.230Z"
   },
   {
    "duration": 12,
    "start_time": "2022-09-11T03:15:36.729Z"
   },
   {
    "duration": 13,
    "start_time": "2022-09-11T03:15:56.323Z"
   },
   {
    "duration": 135,
    "start_time": "2022-09-11T03:16:17.887Z"
   },
   {
    "duration": 1140,
    "start_time": "2022-09-11T03:17:07.250Z"
   },
   {
    "duration": 792,
    "start_time": "2022-09-11T03:17:26.182Z"
   },
   {
    "duration": 138,
    "start_time": "2022-09-11T03:17:37.555Z"
   },
   {
    "duration": 997,
    "start_time": "2022-09-11T03:17:45.952Z"
   },
   {
    "duration": 19,
    "start_time": "2022-09-11T03:18:04.334Z"
   },
   {
    "duration": 352,
    "start_time": "2022-09-11T03:24:48.387Z"
   },
   {
    "duration": 233,
    "start_time": "2022-09-11T03:26:31.756Z"
   },
   {
    "duration": 335,
    "start_time": "2022-09-11T03:27:50.659Z"
   },
   {
    "duration": 206,
    "start_time": "2022-09-11T03:28:06.327Z"
   },
   {
    "duration": 198,
    "start_time": "2022-09-11T03:28:31.091Z"
   },
   {
    "duration": 169,
    "start_time": "2022-09-11T03:34:42.599Z"
   },
   {
    "duration": 625,
    "start_time": "2022-09-11T03:43:25.337Z"
   },
   {
    "duration": 100,
    "start_time": "2022-09-11T03:43:25.963Z"
   },
   {
    "duration": 46,
    "start_time": "2022-09-11T03:43:26.064Z"
   },
   {
    "duration": 15,
    "start_time": "2022-09-11T03:43:26.111Z"
   },
   {
    "duration": 10,
    "start_time": "2022-09-11T03:43:26.127Z"
   },
   {
    "duration": 33,
    "start_time": "2022-09-11T03:43:26.138Z"
   },
   {
    "duration": 15,
    "start_time": "2022-09-11T03:43:26.173Z"
   },
   {
    "duration": 37,
    "start_time": "2022-09-11T03:43:26.190Z"
   },
   {
    "duration": 35,
    "start_time": "2022-09-11T03:43:26.229Z"
   },
   {
    "duration": 414,
    "start_time": "2022-09-11T03:43:26.267Z"
   },
   {
    "duration": 24,
    "start_time": "2022-09-11T03:43:26.683Z"
   },
   {
    "duration": 20,
    "start_time": "2022-09-11T03:43:26.709Z"
   },
   {
    "duration": 13,
    "start_time": "2022-09-11T03:43:26.730Z"
   },
   {
    "duration": 12,
    "start_time": "2022-09-11T03:43:26.745Z"
   },
   {
    "duration": 3,
    "start_time": "2022-09-11T03:43:26.759Z"
   },
   {
    "duration": 28,
    "start_time": "2022-09-11T03:43:26.764Z"
   },
   {
    "duration": 29,
    "start_time": "2022-09-11T03:43:26.793Z"
   },
   {
    "duration": 20,
    "start_time": "2022-09-11T03:43:26.824Z"
   },
   {
    "duration": 7,
    "start_time": "2022-09-11T03:43:26.845Z"
   },
   {
    "duration": 21,
    "start_time": "2022-09-11T03:43:26.854Z"
   },
   {
    "duration": 12,
    "start_time": "2022-09-11T03:43:26.877Z"
   },
   {
    "duration": 12,
    "start_time": "2022-09-11T03:43:26.891Z"
   },
   {
    "duration": 18,
    "start_time": "2022-09-11T03:43:26.905Z"
   },
   {
    "duration": 1747,
    "start_time": "2022-09-11T03:43:26.924Z"
   },
   {
    "duration": 121,
    "start_time": "2022-09-11T03:43:28.672Z"
   },
   {
    "duration": 164,
    "start_time": "2022-09-11T03:43:28.795Z"
   },
   {
    "duration": 35,
    "start_time": "2022-09-11T03:43:28.960Z"
   },
   {
    "duration": 254,
    "start_time": "2022-09-11T03:43:29.000Z"
   },
   {
    "duration": 197,
    "start_time": "2022-09-11T03:43:29.256Z"
   },
   {
    "duration": 7,
    "start_time": "2022-09-11T03:43:29.455Z"
   },
   {
    "duration": 32,
    "start_time": "2022-09-11T03:43:29.464Z"
   },
   {
    "duration": 43,
    "start_time": "2022-09-11T03:43:29.498Z"
   },
   {
    "duration": 24,
    "start_time": "2022-09-11T03:43:29.542Z"
   },
   {
    "duration": 13,
    "start_time": "2022-09-11T03:43:29.568Z"
   },
   {
    "duration": 7,
    "start_time": "2022-09-11T03:43:29.582Z"
   },
   {
    "duration": 8,
    "start_time": "2022-09-11T03:43:29.621Z"
   },
   {
    "duration": 168,
    "start_time": "2022-09-11T03:43:29.630Z"
   },
   {
    "duration": 163,
    "start_time": "2022-09-11T03:43:29.800Z"
   },
   {
    "duration": 185,
    "start_time": "2022-09-11T03:43:29.965Z"
   },
   {
    "duration": 190,
    "start_time": "2022-09-11T03:43:30.152Z"
   },
   {
    "duration": 184,
    "start_time": "2022-09-11T03:43:30.344Z"
   },
   {
    "duration": 177,
    "start_time": "2022-09-11T03:43:30.530Z"
   },
   {
    "duration": 255,
    "start_time": "2022-09-11T03:43:30.709Z"
   },
   {
    "duration": 198,
    "start_time": "2022-09-11T03:43:30.966Z"
   },
   {
    "duration": 185,
    "start_time": "2022-09-11T03:43:31.165Z"
   },
   {
    "duration": 197,
    "start_time": "2022-09-11T03:43:31.351Z"
   },
   {
    "duration": 198,
    "start_time": "2022-09-11T03:43:31.550Z"
   },
   {
    "duration": 200,
    "start_time": "2022-09-11T03:43:31.749Z"
   },
   {
    "duration": 187,
    "start_time": "2022-09-11T03:43:31.950Z"
   },
   {
    "duration": 219,
    "start_time": "2022-09-11T03:43:32.139Z"
   },
   {
    "duration": 189,
    "start_time": "2022-09-11T03:43:32.360Z"
   },
   {
    "duration": 170,
    "start_time": "2022-09-11T03:43:32.551Z"
   },
   {
    "duration": 5,
    "start_time": "2022-09-11T03:43:32.722Z"
   },
   {
    "duration": 167,
    "start_time": "2022-09-11T03:43:32.728Z"
   },
   {
    "duration": 5,
    "start_time": "2022-09-11T03:43:32.897Z"
   },
   {
    "duration": 243,
    "start_time": "2022-09-11T03:43:32.903Z"
   },
   {
    "duration": 4,
    "start_time": "2022-09-11T03:43:33.148Z"
   },
   {
    "duration": 38,
    "start_time": "2022-09-11T03:43:33.154Z"
   },
   {
    "duration": 792,
    "start_time": "2022-09-11T12:33:23.435Z"
   },
   {
    "duration": 217,
    "start_time": "2022-09-11T12:33:24.230Z"
   },
   {
    "duration": 139,
    "start_time": "2022-09-11T12:33:24.449Z"
   },
   {
    "duration": 14,
    "start_time": "2022-09-11T12:33:24.591Z"
   },
   {
    "duration": 8,
    "start_time": "2022-09-11T12:33:24.607Z"
   },
   {
    "duration": 34,
    "start_time": "2022-09-11T12:33:24.617Z"
   },
   {
    "duration": 16,
    "start_time": "2022-09-11T12:33:24.653Z"
   },
   {
    "duration": 14,
    "start_time": "2022-09-11T12:33:24.670Z"
   },
   {
    "duration": 51,
    "start_time": "2022-09-11T12:33:24.686Z"
   },
   {
    "duration": 428,
    "start_time": "2022-09-11T12:33:24.741Z"
   },
   {
    "duration": 20,
    "start_time": "2022-09-11T12:33:25.172Z"
   },
   {
    "duration": 8,
    "start_time": "2022-09-11T12:33:25.193Z"
   },
   {
    "duration": 14,
    "start_time": "2022-09-11T12:33:25.202Z"
   },
   {
    "duration": 27,
    "start_time": "2022-09-11T12:33:25.218Z"
   },
   {
    "duration": 10,
    "start_time": "2022-09-11T12:33:25.249Z"
   },
   {
    "duration": 22,
    "start_time": "2022-09-11T12:33:25.260Z"
   },
   {
    "duration": 3,
    "start_time": "2022-09-11T12:33:25.284Z"
   },
   {
    "duration": 21,
    "start_time": "2022-09-11T12:33:25.288Z"
   },
   {
    "duration": 2,
    "start_time": "2022-09-11T12:33:25.311Z"
   },
   {
    "duration": 41,
    "start_time": "2022-09-11T12:33:25.314Z"
   },
   {
    "duration": 9,
    "start_time": "2022-09-11T12:33:25.357Z"
   },
   {
    "duration": 7,
    "start_time": "2022-09-11T12:33:25.367Z"
   },
   {
    "duration": 6,
    "start_time": "2022-09-11T12:33:25.375Z"
   },
   {
    "duration": 1877,
    "start_time": "2022-09-11T12:33:25.383Z"
   },
   {
    "duration": 158,
    "start_time": "2022-09-11T12:33:27.262Z"
   },
   {
    "duration": 170,
    "start_time": "2022-09-11T12:33:27.422Z"
   },
   {
    "duration": 24,
    "start_time": "2022-09-11T12:33:27.593Z"
   },
   {
    "duration": 254,
    "start_time": "2022-09-11T12:33:27.621Z"
   },
   {
    "duration": 215,
    "start_time": "2022-09-11T12:33:27.876Z"
   },
   {
    "duration": 6,
    "start_time": "2022-09-11T12:33:28.093Z"
   },
   {
    "duration": 66,
    "start_time": "2022-09-11T12:33:28.101Z"
   },
   {
    "duration": 18,
    "start_time": "2022-09-11T12:33:28.168Z"
   },
   {
    "duration": 26,
    "start_time": "2022-09-11T12:33:28.188Z"
   },
   {
    "duration": 40,
    "start_time": "2022-09-11T12:33:28.216Z"
   },
   {
    "duration": 14,
    "start_time": "2022-09-11T12:33:28.258Z"
   },
   {
    "duration": 9,
    "start_time": "2022-09-11T12:33:28.274Z"
   },
   {
    "duration": 189,
    "start_time": "2022-09-11T12:33:28.285Z"
   },
   {
    "duration": 176,
    "start_time": "2022-09-11T12:33:28.475Z"
   },
   {
    "duration": 198,
    "start_time": "2022-09-11T12:33:28.652Z"
   },
   {
    "duration": 209,
    "start_time": "2022-09-11T12:33:28.851Z"
   },
   {
    "duration": 204,
    "start_time": "2022-09-11T12:33:29.061Z"
   },
   {
    "duration": 191,
    "start_time": "2022-09-11T12:33:29.267Z"
   },
   {
    "duration": 252,
    "start_time": "2022-09-11T12:33:29.460Z"
   },
   {
    "duration": 195,
    "start_time": "2022-09-11T12:33:29.714Z"
   },
   {
    "duration": 174,
    "start_time": "2022-09-11T12:33:29.911Z"
   },
   {
    "duration": 203,
    "start_time": "2022-09-11T12:33:30.087Z"
   },
   {
    "duration": 202,
    "start_time": "2022-09-11T12:33:30.292Z"
   },
   {
    "duration": 206,
    "start_time": "2022-09-11T12:33:30.496Z"
   },
   {
    "duration": 198,
    "start_time": "2022-09-11T12:33:30.705Z"
   },
   {
    "duration": 217,
    "start_time": "2022-09-11T12:33:30.905Z"
   },
   {
    "duration": 228,
    "start_time": "2022-09-11T12:33:31.124Z"
   },
   {
    "duration": 196,
    "start_time": "2022-09-11T12:33:31.353Z"
   },
   {
    "duration": 5,
    "start_time": "2022-09-11T12:33:31.551Z"
   },
   {
    "duration": 218,
    "start_time": "2022-09-11T12:33:31.558Z"
   },
   {
    "duration": 5,
    "start_time": "2022-09-11T12:33:31.778Z"
   },
   {
    "duration": 255,
    "start_time": "2022-09-11T12:33:31.784Z"
   },
   {
    "duration": 4,
    "start_time": "2022-09-11T12:33:32.042Z"
   },
   {
    "duration": 30,
    "start_time": "2022-09-11T12:33:32.048Z"
   },
   {
    "duration": 51,
    "start_time": "2022-09-11T12:34:39.744Z"
   },
   {
    "duration": 6,
    "start_time": "2022-09-11T12:41:12.712Z"
   },
   {
    "duration": 10,
    "start_time": "2022-09-11T12:43:40.400Z"
   },
   {
    "duration": 228,
    "start_time": "2022-09-11T12:58:41.092Z"
   },
   {
    "duration": 226,
    "start_time": "2022-09-11T12:59:22.555Z"
   },
   {
    "duration": 228,
    "start_time": "2022-09-11T12:59:34.860Z"
   },
   {
    "duration": 223,
    "start_time": "2022-09-11T13:00:12.462Z"
   },
   {
    "duration": 225,
    "start_time": "2022-09-11T13:00:18.604Z"
   },
   {
    "duration": 303,
    "start_time": "2022-09-11T13:00:32.065Z"
   },
   {
    "duration": 226,
    "start_time": "2022-09-11T13:00:49.891Z"
   },
   {
    "duration": 224,
    "start_time": "2022-09-11T13:01:30.406Z"
   },
   {
    "duration": 243,
    "start_time": "2022-09-11T13:03:15.594Z"
   },
   {
    "duration": 248,
    "start_time": "2022-09-11T13:03:50.034Z"
   },
   {
    "duration": 71,
    "start_time": "2022-09-11T13:04:25.803Z"
   },
   {
    "duration": 390,
    "start_time": "2022-09-11T13:04:37.335Z"
   },
   {
    "duration": 241,
    "start_time": "2022-09-11T13:04:48.275Z"
   },
   {
    "duration": 9,
    "start_time": "2022-09-11T13:06:40.080Z"
   },
   {
    "duration": 46,
    "start_time": "2022-09-11T13:14:29.300Z"
   },
   {
    "duration": 5,
    "start_time": "2022-09-11T13:26:12.626Z"
   },
   {
    "duration": 9,
    "start_time": "2022-09-11T13:26:29.811Z"
   },
   {
    "duration": 47,
    "start_time": "2022-09-11T15:00:42.140Z"
   },
   {
    "duration": 944,
    "start_time": "2022-09-11T15:00:46.813Z"
   },
   {
    "duration": 203,
    "start_time": "2022-09-11T15:00:47.759Z"
   },
   {
    "duration": 103,
    "start_time": "2022-09-11T15:00:47.964Z"
   },
   {
    "duration": 15,
    "start_time": "2022-09-11T15:00:48.069Z"
   },
   {
    "duration": 9,
    "start_time": "2022-09-11T15:00:48.086Z"
   },
   {
    "duration": 29,
    "start_time": "2022-09-11T15:00:48.096Z"
   },
   {
    "duration": 16,
    "start_time": "2022-09-11T15:00:48.126Z"
   },
   {
    "duration": 18,
    "start_time": "2022-09-11T15:00:48.143Z"
   },
   {
    "duration": 30,
    "start_time": "2022-09-11T15:00:48.163Z"
   },
   {
    "duration": 421,
    "start_time": "2022-09-11T15:00:48.196Z"
   },
   {
    "duration": 20,
    "start_time": "2022-09-11T15:00:48.618Z"
   },
   {
    "duration": 7,
    "start_time": "2022-09-11T15:00:48.640Z"
   },
   {
    "duration": 10,
    "start_time": "2022-09-11T15:00:48.649Z"
   },
   {
    "duration": 12,
    "start_time": "2022-09-11T15:00:48.660Z"
   },
   {
    "duration": 3,
    "start_time": "2022-09-11T15:00:48.673Z"
   },
   {
    "duration": 96,
    "start_time": "2022-09-11T15:00:48.677Z"
   },
   {
    "duration": 2,
    "start_time": "2022-09-11T15:00:48.775Z"
   },
   {
    "duration": 17,
    "start_time": "2022-09-11T15:00:48.778Z"
   },
   {
    "duration": 2,
    "start_time": "2022-09-11T15:00:48.797Z"
   },
   {
    "duration": 40,
    "start_time": "2022-09-11T15:00:48.801Z"
   },
   {
    "duration": 15,
    "start_time": "2022-09-11T15:00:48.843Z"
   },
   {
    "duration": 23,
    "start_time": "2022-09-11T15:00:48.860Z"
   },
   {
    "duration": 10,
    "start_time": "2022-09-11T15:00:48.886Z"
   },
   {
    "duration": 1837,
    "start_time": "2022-09-11T15:00:48.898Z"
   },
   {
    "duration": 28,
    "start_time": "2022-09-11T15:00:50.737Z"
   },
   {
    "duration": 135,
    "start_time": "2022-09-11T15:00:50.767Z"
   },
   {
    "duration": 34,
    "start_time": "2022-09-11T15:00:50.904Z"
   },
   {
    "duration": 220,
    "start_time": "2022-09-11T15:00:50.943Z"
   },
   {
    "duration": 199,
    "start_time": "2022-09-11T15:00:51.164Z"
   },
   {
    "duration": 244,
    "start_time": "2022-09-11T15:00:51.365Z"
   },
   {
    "duration": 12,
    "start_time": "2022-09-11T15:00:51.611Z"
   },
   {
    "duration": 40,
    "start_time": "2022-09-11T15:00:51.625Z"
   },
   {
    "duration": 20,
    "start_time": "2022-09-11T15:00:51.666Z"
   },
   {
    "duration": 51,
    "start_time": "2022-09-11T15:00:51.688Z"
   },
   {
    "duration": 12,
    "start_time": "2022-09-11T15:00:51.741Z"
   },
   {
    "duration": 7,
    "start_time": "2022-09-11T15:00:51.756Z"
   },
   {
    "duration": 8,
    "start_time": "2022-09-11T15:00:51.765Z"
   },
   {
    "duration": 183,
    "start_time": "2022-09-11T15:00:51.775Z"
   },
   {
    "duration": 168,
    "start_time": "2022-09-11T15:00:51.960Z"
   },
   {
    "duration": 183,
    "start_time": "2022-09-11T15:00:52.130Z"
   },
   {
    "duration": 317,
    "start_time": "2022-09-11T15:00:52.315Z"
   },
   {
    "duration": 187,
    "start_time": "2022-09-11T15:00:52.633Z"
   },
   {
    "duration": 179,
    "start_time": "2022-09-11T15:00:52.821Z"
   },
   {
    "duration": 196,
    "start_time": "2022-09-11T15:00:53.002Z"
   },
   {
    "duration": 223,
    "start_time": "2022-09-11T15:00:53.200Z"
   },
   {
    "duration": 174,
    "start_time": "2022-09-11T15:00:53.424Z"
   },
   {
    "duration": 195,
    "start_time": "2022-09-11T15:00:53.600Z"
   },
   {
    "duration": 223,
    "start_time": "2022-09-11T15:00:53.796Z"
   },
   {
    "duration": 196,
    "start_time": "2022-09-11T15:00:54.022Z"
   },
   {
    "duration": 203,
    "start_time": "2022-09-11T15:00:54.222Z"
   },
   {
    "duration": 228,
    "start_time": "2022-09-11T15:00:54.427Z"
   },
   {
    "duration": 276,
    "start_time": "2022-09-11T15:00:54.657Z"
   },
   {
    "duration": 195,
    "start_time": "2022-09-11T15:00:54.934Z"
   },
   {
    "duration": 4,
    "start_time": "2022-09-11T15:00:55.131Z"
   },
   {
    "duration": 15,
    "start_time": "2022-09-11T15:00:55.136Z"
   },
   {
    "duration": 191,
    "start_time": "2022-09-11T15:00:55.153Z"
   },
   {
    "duration": 5,
    "start_time": "2022-09-11T15:00:55.345Z"
   },
   {
    "duration": 184,
    "start_time": "2022-09-11T15:00:55.351Z"
   },
   {
    "duration": 5,
    "start_time": "2022-09-11T15:00:55.536Z"
   },
   {
    "duration": 30,
    "start_time": "2022-09-11T15:00:55.542Z"
   },
   {
    "duration": 21,
    "start_time": "2022-09-11T15:00:55.574Z"
   },
   {
    "duration": 47,
    "start_time": "2022-09-12T04:00:44.382Z"
   },
   {
    "duration": 822,
    "start_time": "2022-09-12T04:00:52.817Z"
   },
   {
    "duration": 211,
    "start_time": "2022-09-12T04:00:53.646Z"
   },
   {
    "duration": 89,
    "start_time": "2022-09-12T04:00:53.860Z"
   },
   {
    "duration": 19,
    "start_time": "2022-09-12T04:00:53.951Z"
   },
   {
    "duration": 13,
    "start_time": "2022-09-12T04:00:53.973Z"
   },
   {
    "duration": 38,
    "start_time": "2022-09-12T04:00:53.988Z"
   },
   {
    "duration": 18,
    "start_time": "2022-09-12T04:00:54.047Z"
   },
   {
    "duration": 17,
    "start_time": "2022-09-12T04:00:54.066Z"
   },
   {
    "duration": 34,
    "start_time": "2022-09-12T04:00:54.084Z"
   },
   {
    "duration": 439,
    "start_time": "2022-09-12T04:00:54.120Z"
   },
   {
    "duration": 26,
    "start_time": "2022-09-12T04:00:54.561Z"
   },
   {
    "duration": 12,
    "start_time": "2022-09-12T04:00:54.589Z"
   },
   {
    "duration": 14,
    "start_time": "2022-09-12T04:00:54.602Z"
   },
   {
    "duration": 34,
    "start_time": "2022-09-12T04:00:54.618Z"
   },
   {
    "duration": 2,
    "start_time": "2022-09-12T04:00:54.654Z"
   },
   {
    "duration": 49,
    "start_time": "2022-09-12T04:00:58.733Z"
   },
   {
    "duration": 6,
    "start_time": "2022-09-12T04:01:44.700Z"
   },
   {
    "duration": 7,
    "start_time": "2022-09-12T04:01:59.056Z"
   },
   {
    "duration": 7,
    "start_time": "2022-09-12T04:02:18.956Z"
   },
   {
    "duration": 6,
    "start_time": "2022-09-12T04:09:16.682Z"
   },
   {
    "duration": 16,
    "start_time": "2022-09-12T04:09:28.884Z"
   },
   {
    "duration": 171,
    "start_time": "2022-09-12T04:25:25.035Z"
   },
   {
    "duration": 7,
    "start_time": "2022-09-12T04:33:19.700Z"
   },
   {
    "duration": 7,
    "start_time": "2022-09-12T04:33:59.361Z"
   },
   {
    "duration": 15,
    "start_time": "2022-09-12T04:36:46.310Z"
   },
   {
    "duration": 6,
    "start_time": "2022-09-12T04:37:10.568Z"
   },
   {
    "duration": 5,
    "start_time": "2022-09-12T04:37:34.600Z"
   },
   {
    "duration": 2023,
    "start_time": "2022-09-12T05:10:00.509Z"
   },
   {
    "duration": 305,
    "start_time": "2022-09-12T05:10:20.557Z"
   },
   {
    "duration": 255,
    "start_time": "2022-09-12T05:10:31.949Z"
   },
   {
    "duration": 265,
    "start_time": "2022-09-12T05:10:39.793Z"
   },
   {
    "duration": 3,
    "start_time": "2022-09-12T05:10:59.699Z"
   },
   {
    "duration": 1817,
    "start_time": "2022-09-12T05:11:02.388Z"
   },
   {
    "duration": 378,
    "start_time": "2022-09-12T05:13:30.921Z"
   },
   {
    "duration": 260,
    "start_time": "2022-09-12T05:14:58.627Z"
   },
   {
    "duration": 234,
    "start_time": "2022-09-12T05:17:45.533Z"
   },
   {
    "duration": 242,
    "start_time": "2022-09-12T05:17:53.047Z"
   },
   {
    "duration": 1584,
    "start_time": "2022-09-12T05:18:37.499Z"
   },
   {
    "duration": 73,
    "start_time": "2022-09-12T05:19:12.240Z"
   },
   {
    "duration": 1619,
    "start_time": "2022-09-12T05:19:20.200Z"
   },
   {
    "duration": 249,
    "start_time": "2022-09-12T05:19:34.914Z"
   },
   {
    "duration": 380,
    "start_time": "2022-09-12T05:25:37.916Z"
   },
   {
    "duration": 308,
    "start_time": "2022-09-12T05:25:46.346Z"
   },
   {
    "duration": 247,
    "start_time": "2022-09-12T05:25:50.784Z"
   },
   {
    "duration": 280,
    "start_time": "2022-09-12T05:26:21.948Z"
   },
   {
    "duration": 232,
    "start_time": "2022-09-12T05:26:43.029Z"
   },
   {
    "duration": 349,
    "start_time": "2022-09-12T05:27:37.180Z"
   },
   {
    "duration": 242,
    "start_time": "2022-09-12T05:28:25.923Z"
   },
   {
    "duration": 294,
    "start_time": "2022-09-12T05:28:56.268Z"
   },
   {
    "duration": 302,
    "start_time": "2022-09-12T06:08:46.310Z"
   },
   {
    "duration": 270,
    "start_time": "2022-09-12T06:55:32.648Z"
   },
   {
    "duration": 269,
    "start_time": "2022-09-12T06:59:59.092Z"
   },
   {
    "duration": 384,
    "start_time": "2022-09-12T07:04:23.278Z"
   },
   {
    "duration": 133,
    "start_time": "2022-09-12T07:04:33.919Z"
   },
   {
    "duration": 288,
    "start_time": "2022-09-12T07:08:15.280Z"
   },
   {
    "duration": 302,
    "start_time": "2022-09-12T07:09:37.187Z"
   },
   {
    "duration": 262,
    "start_time": "2022-09-12T07:13:24.971Z"
   },
   {
    "duration": 276,
    "start_time": "2022-09-12T07:14:34.385Z"
   },
   {
    "duration": 439,
    "start_time": "2022-09-12T07:14:49.325Z"
   },
   {
    "duration": 271,
    "start_time": "2022-09-12T07:14:55.614Z"
   },
   {
    "duration": 395,
    "start_time": "2022-09-12T07:16:18.428Z"
   },
   {
    "duration": 265,
    "start_time": "2022-09-12T07:16:32.206Z"
   },
   {
    "duration": 387,
    "start_time": "2022-09-12T07:19:04.511Z"
   },
   {
    "duration": 417,
    "start_time": "2022-09-12T07:19:12.434Z"
   },
   {
    "duration": 25,
    "start_time": "2022-09-12T08:35:05.245Z"
   },
   {
    "duration": 54,
    "start_time": "2022-09-12T08:44:01.896Z"
   },
   {
    "duration": 72,
    "start_time": "2022-09-12T08:44:17.466Z"
   },
   {
    "duration": 95,
    "start_time": "2022-09-12T08:45:01.369Z"
   },
   {
    "duration": 54,
    "start_time": "2022-09-12T08:45:39.366Z"
   },
   {
    "duration": 52,
    "start_time": "2022-09-12T08:45:44.760Z"
   },
   {
    "duration": 92,
    "start_time": "2022-09-12T08:47:10.244Z"
   },
   {
    "duration": 4,
    "start_time": "2022-09-12T08:57:10.932Z"
   },
   {
    "duration": 14,
    "start_time": "2022-09-12T09:06:19.695Z"
   },
   {
    "duration": 3,
    "start_time": "2022-09-12T09:06:47.825Z"
   },
   {
    "duration": 158,
    "start_time": "2022-09-12T09:06:47.832Z"
   },
   {
    "duration": 44,
    "start_time": "2022-09-12T09:06:47.992Z"
   },
   {
    "duration": 17,
    "start_time": "2022-09-12T09:06:48.038Z"
   },
   {
    "duration": 39,
    "start_time": "2022-09-12T09:06:48.057Z"
   },
   {
    "duration": 36,
    "start_time": "2022-09-12T09:06:48.098Z"
   },
   {
    "duration": 24,
    "start_time": "2022-09-12T09:06:48.135Z"
   },
   {
    "duration": 27,
    "start_time": "2022-09-12T09:06:48.161Z"
   },
   {
    "duration": 30,
    "start_time": "2022-09-12T09:06:48.190Z"
   },
   {
    "duration": 459,
    "start_time": "2022-09-12T09:06:48.222Z"
   },
   {
    "duration": 17,
    "start_time": "2022-09-12T09:06:48.683Z"
   },
   {
    "duration": 7,
    "start_time": "2022-09-12T09:06:48.701Z"
   },
   {
    "duration": 8,
    "start_time": "2022-09-12T09:06:48.710Z"
   },
   {
    "duration": 39,
    "start_time": "2022-09-12T09:06:48.720Z"
   },
   {
    "duration": 21,
    "start_time": "2022-09-12T09:06:48.765Z"
   },
   {
    "duration": 38,
    "start_time": "2022-09-12T09:06:48.788Z"
   },
   {
    "duration": 9,
    "start_time": "2022-09-12T09:06:48.827Z"
   },
   {
    "duration": 45,
    "start_time": "2022-09-12T09:06:48.838Z"
   },
   {
    "duration": 12,
    "start_time": "2022-09-12T09:06:48.885Z"
   },
   {
    "duration": 26,
    "start_time": "2022-09-12T09:06:48.899Z"
   },
   {
    "duration": 26,
    "start_time": "2022-09-12T09:06:48.927Z"
   },
   {
    "duration": 29,
    "start_time": "2022-09-12T09:06:48.955Z"
   },
   {
    "duration": 29,
    "start_time": "2022-09-12T09:06:48.985Z"
   },
   {
    "duration": 318,
    "start_time": "2022-09-12T09:06:49.015Z"
   },
   {
    "duration": 285,
    "start_time": "2022-09-12T09:06:49.334Z"
   },
   {
    "duration": 294,
    "start_time": "2022-09-12T09:06:49.620Z"
   },
   {
    "duration": 286,
    "start_time": "2022-09-12T09:06:49.916Z"
   },
   {
    "duration": 485,
    "start_time": "2022-09-12T09:06:50.203Z"
   },
   {
    "duration": 299,
    "start_time": "2022-09-12T09:06:50.691Z"
   },
   {
    "duration": 24,
    "start_time": "2022-09-12T09:06:50.991Z"
   },
   {
    "duration": 153,
    "start_time": "2022-09-12T09:06:51.017Z"
   },
   {
    "duration": 25,
    "start_time": "2022-09-12T09:06:51.173Z"
   },
   {
    "duration": 241,
    "start_time": "2022-09-12T09:06:51.200Z"
   },
   {
    "duration": 235,
    "start_time": "2022-09-12T09:06:51.443Z"
   },
   {
    "duration": 288,
    "start_time": "2022-09-12T09:06:51.680Z"
   },
   {
    "duration": 23,
    "start_time": "2022-09-12T09:06:51.970Z"
   },
   {
    "duration": 78,
    "start_time": "2022-09-12T09:06:51.994Z"
   },
   {
    "duration": 0,
    "start_time": "2022-09-12T09:06:52.074Z"
   },
   {
    "duration": 0,
    "start_time": "2022-09-12T09:06:52.075Z"
   },
   {
    "duration": 0,
    "start_time": "2022-09-12T09:06:52.076Z"
   },
   {
    "duration": 0,
    "start_time": "2022-09-12T09:06:52.078Z"
   },
   {
    "duration": 0,
    "start_time": "2022-09-12T09:06:52.079Z"
   },
   {
    "duration": 0,
    "start_time": "2022-09-12T09:06:52.080Z"
   },
   {
    "duration": 13,
    "start_time": "2022-09-12T09:06:54.268Z"
   },
   {
    "duration": 659,
    "start_time": "2022-09-12T09:07:32.253Z"
   },
   {
    "duration": 105,
    "start_time": "2022-09-12T09:07:32.914Z"
   },
   {
    "duration": 53,
    "start_time": "2022-09-12T09:07:33.020Z"
   },
   {
    "duration": 16,
    "start_time": "2022-09-12T09:07:33.075Z"
   },
   {
    "duration": 21,
    "start_time": "2022-09-12T09:07:33.093Z"
   },
   {
    "duration": 65,
    "start_time": "2022-09-12T09:07:33.116Z"
   },
   {
    "duration": 17,
    "start_time": "2022-09-12T09:07:33.183Z"
   },
   {
    "duration": 21,
    "start_time": "2022-09-12T09:07:33.201Z"
   },
   {
    "duration": 54,
    "start_time": "2022-09-12T09:07:33.224Z"
   },
   {
    "duration": 457,
    "start_time": "2022-09-12T09:07:33.282Z"
   },
   {
    "duration": 27,
    "start_time": "2022-09-12T09:07:33.741Z"
   },
   {
    "duration": 24,
    "start_time": "2022-09-12T09:07:33.769Z"
   },
   {
    "duration": 16,
    "start_time": "2022-09-12T09:07:33.795Z"
   },
   {
    "duration": 27,
    "start_time": "2022-09-12T09:07:33.812Z"
   },
   {
    "duration": 24,
    "start_time": "2022-09-12T09:07:33.840Z"
   },
   {
    "duration": 39,
    "start_time": "2022-09-12T09:07:33.866Z"
   },
   {
    "duration": 15,
    "start_time": "2022-09-12T09:07:33.907Z"
   },
   {
    "duration": 49,
    "start_time": "2022-09-12T09:07:33.924Z"
   },
   {
    "duration": 16,
    "start_time": "2022-09-12T09:07:33.976Z"
   },
   {
    "duration": 39,
    "start_time": "2022-09-12T09:07:33.994Z"
   },
   {
    "duration": 25,
    "start_time": "2022-09-12T09:07:34.035Z"
   },
   {
    "duration": 43,
    "start_time": "2022-09-12T09:07:34.062Z"
   },
   {
    "duration": 21,
    "start_time": "2022-09-12T09:07:34.107Z"
   },
   {
    "duration": 404,
    "start_time": "2022-09-12T09:07:34.130Z"
   },
   {
    "duration": 276,
    "start_time": "2022-09-12T09:07:34.536Z"
   },
   {
    "duration": 301,
    "start_time": "2022-09-12T09:07:34.813Z"
   },
   {
    "duration": 269,
    "start_time": "2022-09-12T09:07:35.116Z"
   },
   {
    "duration": 291,
    "start_time": "2022-09-12T09:07:35.391Z"
   },
   {
    "duration": 361,
    "start_time": "2022-09-12T09:07:35.684Z"
   },
   {
    "duration": 34,
    "start_time": "2022-09-12T09:07:36.049Z"
   },
   {
    "duration": 142,
    "start_time": "2022-09-12T09:07:36.084Z"
   },
   {
    "duration": 40,
    "start_time": "2022-09-12T09:07:36.228Z"
   },
   {
    "duration": 272,
    "start_time": "2022-09-12T09:07:36.270Z"
   },
   {
    "duration": 244,
    "start_time": "2022-09-12T09:07:36.544Z"
   },
   {
    "duration": 269,
    "start_time": "2022-09-12T09:07:36.790Z"
   },
   {
    "duration": 21,
    "start_time": "2022-09-12T09:07:37.066Z"
   },
   {
    "duration": 55,
    "start_time": "2022-09-12T09:07:37.088Z"
   },
   {
    "duration": 0,
    "start_time": "2022-09-12T09:07:37.145Z"
   },
   {
    "duration": 0,
    "start_time": "2022-09-12T09:07:37.146Z"
   },
   {
    "duration": 0,
    "start_time": "2022-09-12T09:07:37.150Z"
   },
   {
    "duration": 0,
    "start_time": "2022-09-12T09:07:37.151Z"
   },
   {
    "duration": 0,
    "start_time": "2022-09-12T09:07:37.151Z"
   },
   {
    "duration": 0,
    "start_time": "2022-09-12T09:07:37.153Z"
   },
   {
    "duration": 0,
    "start_time": "2022-09-12T09:07:37.155Z"
   },
   {
    "duration": 0,
    "start_time": "2022-09-12T09:07:37.157Z"
   },
   {
    "duration": 0,
    "start_time": "2022-09-12T09:07:37.160Z"
   },
   {
    "duration": 0,
    "start_time": "2022-09-12T09:07:37.160Z"
   },
   {
    "duration": 0,
    "start_time": "2022-09-12T09:07:37.161Z"
   },
   {
    "duration": 0,
    "start_time": "2022-09-12T09:07:37.162Z"
   },
   {
    "duration": 0,
    "start_time": "2022-09-12T09:07:37.164Z"
   },
   {
    "duration": 0,
    "start_time": "2022-09-12T09:07:37.166Z"
   },
   {
    "duration": 0,
    "start_time": "2022-09-12T09:07:37.169Z"
   },
   {
    "duration": 0,
    "start_time": "2022-09-12T09:07:37.175Z"
   },
   {
    "duration": 0,
    "start_time": "2022-09-12T09:07:37.177Z"
   },
   {
    "duration": 0,
    "start_time": "2022-09-12T09:07:37.179Z"
   },
   {
    "duration": 0,
    "start_time": "2022-09-12T09:07:37.180Z"
   },
   {
    "duration": 0,
    "start_time": "2022-09-12T09:07:37.182Z"
   },
   {
    "duration": 0,
    "start_time": "2022-09-12T09:07:37.182Z"
   },
   {
    "duration": 0,
    "start_time": "2022-09-12T09:07:37.184Z"
   },
   {
    "duration": 0,
    "start_time": "2022-09-12T09:07:37.185Z"
   },
   {
    "duration": 0,
    "start_time": "2022-09-12T09:07:37.186Z"
   },
   {
    "duration": 0,
    "start_time": "2022-09-12T09:07:37.187Z"
   },
   {
    "duration": 1,
    "start_time": "2022-09-12T09:07:37.188Z"
   },
   {
    "duration": 0,
    "start_time": "2022-09-12T09:07:37.189Z"
   },
   {
    "duration": 0,
    "start_time": "2022-09-12T09:07:37.190Z"
   },
   {
    "duration": 0,
    "start_time": "2022-09-12T09:07:37.191Z"
   },
   {
    "duration": 0,
    "start_time": "2022-09-12T09:07:37.192Z"
   },
   {
    "duration": 0,
    "start_time": "2022-09-12T09:07:37.193Z"
   },
   {
    "duration": 0,
    "start_time": "2022-09-12T09:07:37.194Z"
   },
   {
    "duration": 8,
    "start_time": "2022-09-12T09:08:05.463Z"
   },
   {
    "duration": 48,
    "start_time": "2022-09-12T09:08:07.990Z"
   },
   {
    "duration": 37,
    "start_time": "2022-09-12T09:08:12.257Z"
   },
   {
    "duration": 20,
    "start_time": "2022-09-12T09:08:12.296Z"
   },
   {
    "duration": 41,
    "start_time": "2022-09-12T09:08:12.317Z"
   },
   {
    "duration": 15,
    "start_time": "2022-09-12T09:08:12.364Z"
   },
   {
    "duration": 33,
    "start_time": "2022-09-12T09:08:12.381Z"
   },
   {
    "duration": 85,
    "start_time": "2022-09-12T09:08:12.416Z"
   },
   {
    "duration": 0,
    "start_time": "2022-09-12T09:08:12.505Z"
   },
   {
    "duration": 0,
    "start_time": "2022-09-12T09:08:12.506Z"
   },
   {
    "duration": 0,
    "start_time": "2022-09-12T09:08:12.507Z"
   },
   {
    "duration": 0,
    "start_time": "2022-09-12T09:08:12.508Z"
   },
   {
    "duration": 0,
    "start_time": "2022-09-12T09:08:12.509Z"
   },
   {
    "duration": 0,
    "start_time": "2022-09-12T09:08:12.510Z"
   },
   {
    "duration": 0,
    "start_time": "2022-09-12T09:08:12.511Z"
   },
   {
    "duration": 0,
    "start_time": "2022-09-12T09:08:12.512Z"
   },
   {
    "duration": 0,
    "start_time": "2022-09-12T09:08:12.513Z"
   },
   {
    "duration": 0,
    "start_time": "2022-09-12T09:08:12.514Z"
   },
   {
    "duration": 0,
    "start_time": "2022-09-12T09:08:12.516Z"
   },
   {
    "duration": 0,
    "start_time": "2022-09-12T09:08:12.517Z"
   },
   {
    "duration": 0,
    "start_time": "2022-09-12T09:08:12.518Z"
   },
   {
    "duration": 0,
    "start_time": "2022-09-12T09:08:12.519Z"
   },
   {
    "duration": 0,
    "start_time": "2022-09-12T09:08:12.520Z"
   },
   {
    "duration": 0,
    "start_time": "2022-09-12T09:08:12.550Z"
   },
   {
    "duration": 0,
    "start_time": "2022-09-12T09:08:12.552Z"
   },
   {
    "duration": 0,
    "start_time": "2022-09-12T09:08:12.555Z"
   },
   {
    "duration": 0,
    "start_time": "2022-09-12T09:08:12.556Z"
   },
   {
    "duration": 0,
    "start_time": "2022-09-12T09:08:12.560Z"
   },
   {
    "duration": 0,
    "start_time": "2022-09-12T09:08:12.561Z"
   },
   {
    "duration": 0,
    "start_time": "2022-09-12T09:08:12.562Z"
   },
   {
    "duration": 0,
    "start_time": "2022-09-12T09:08:12.563Z"
   },
   {
    "duration": 0,
    "start_time": "2022-09-12T09:08:12.564Z"
   },
   {
    "duration": 0,
    "start_time": "2022-09-12T09:08:12.565Z"
   },
   {
    "duration": 8,
    "start_time": "2022-09-12T09:08:39.677Z"
   },
   {
    "duration": 7,
    "start_time": "2022-09-12T09:08:48.171Z"
   },
   {
    "duration": 8,
    "start_time": "2022-09-12T09:09:45.195Z"
   },
   {
    "duration": 16,
    "start_time": "2022-09-12T09:12:07.814Z"
   },
   {
    "duration": 7,
    "start_time": "2022-09-12T09:12:37.806Z"
   },
   {
    "duration": 12,
    "start_time": "2022-09-12T09:13:04.687Z"
   },
   {
    "duration": 247,
    "start_time": "2022-09-12T09:21:12.163Z"
   },
   {
    "duration": 280,
    "start_time": "2022-09-12T09:21:56.915Z"
   },
   {
    "duration": 226,
    "start_time": "2022-09-12T09:22:37.225Z"
   },
   {
    "duration": 698,
    "start_time": "2022-09-12T09:23:00.768Z"
   },
   {
    "duration": 110,
    "start_time": "2022-09-12T09:23:01.468Z"
   },
   {
    "duration": 47,
    "start_time": "2022-09-12T09:23:01.580Z"
   },
   {
    "duration": 46,
    "start_time": "2022-09-12T09:23:01.630Z"
   },
   {
    "duration": 38,
    "start_time": "2022-09-12T09:23:01.678Z"
   },
   {
    "duration": 56,
    "start_time": "2022-09-12T09:23:01.718Z"
   },
   {
    "duration": 22,
    "start_time": "2022-09-12T09:23:01.776Z"
   },
   {
    "duration": 39,
    "start_time": "2022-09-12T09:23:01.800Z"
   },
   {
    "duration": 43,
    "start_time": "2022-09-12T09:23:01.840Z"
   },
   {
    "duration": 458,
    "start_time": "2022-09-12T09:23:01.885Z"
   },
   {
    "duration": 34,
    "start_time": "2022-09-12T09:23:02.344Z"
   },
   {
    "duration": 10,
    "start_time": "2022-09-12T09:23:02.380Z"
   },
   {
    "duration": 16,
    "start_time": "2022-09-12T09:23:02.391Z"
   },
   {
    "duration": 18,
    "start_time": "2022-09-12T09:23:02.408Z"
   },
   {
    "duration": 76,
    "start_time": "2022-09-12T09:23:02.428Z"
   },
   {
    "duration": 33,
    "start_time": "2022-09-12T09:23:02.506Z"
   },
   {
    "duration": 15,
    "start_time": "2022-09-12T09:23:02.541Z"
   },
   {
    "duration": 23,
    "start_time": "2022-09-12T09:23:02.558Z"
   },
   {
    "duration": 8,
    "start_time": "2022-09-12T09:23:02.583Z"
   },
   {
    "duration": 26,
    "start_time": "2022-09-12T09:23:02.592Z"
   },
   {
    "duration": 18,
    "start_time": "2022-09-12T09:23:02.620Z"
   },
   {
    "duration": 13,
    "start_time": "2022-09-12T09:23:02.640Z"
   },
   {
    "duration": 11,
    "start_time": "2022-09-12T09:23:02.654Z"
   },
   {
    "duration": 421,
    "start_time": "2022-09-12T09:23:02.666Z"
   },
   {
    "duration": 320,
    "start_time": "2022-09-12T09:23:03.089Z"
   },
   {
    "duration": 307,
    "start_time": "2022-09-12T09:23:03.411Z"
   },
   {
    "duration": 277,
    "start_time": "2022-09-12T09:23:03.719Z"
   },
   {
    "duration": 301,
    "start_time": "2022-09-12T09:23:04.000Z"
   },
   {
    "duration": 368,
    "start_time": "2022-09-12T09:23:04.302Z"
   },
   {
    "duration": 27,
    "start_time": "2022-09-12T09:23:04.671Z"
   },
   {
    "duration": 154,
    "start_time": "2022-09-12T09:23:04.699Z"
   },
   {
    "duration": 28,
    "start_time": "2022-09-12T09:23:04.856Z"
   },
   {
    "duration": 229,
    "start_time": "2022-09-12T09:23:04.886Z"
   },
   {
    "duration": 222,
    "start_time": "2022-09-12T09:23:05.117Z"
   },
   {
    "duration": 277,
    "start_time": "2022-09-12T09:23:05.348Z"
   },
   {
    "duration": 40,
    "start_time": "2022-09-12T09:23:05.627Z"
   },
   {
    "duration": 449,
    "start_time": "2022-09-12T09:23:05.669Z"
   },
   {
    "duration": 0,
    "start_time": "2022-09-12T09:23:06.120Z"
   },
   {
    "duration": 0,
    "start_time": "2022-09-12T09:23:06.121Z"
   },
   {
    "duration": 0,
    "start_time": "2022-09-12T09:23:06.122Z"
   },
   {
    "duration": 0,
    "start_time": "2022-09-12T09:23:06.124Z"
   },
   {
    "duration": 0,
    "start_time": "2022-09-12T09:23:06.126Z"
   },
   {
    "duration": 0,
    "start_time": "2022-09-12T09:23:06.128Z"
   },
   {
    "duration": 0,
    "start_time": "2022-09-12T09:23:06.129Z"
   },
   {
    "duration": 0,
    "start_time": "2022-09-12T09:23:06.131Z"
   },
   {
    "duration": 0,
    "start_time": "2022-09-12T09:23:06.132Z"
   },
   {
    "duration": 0,
    "start_time": "2022-09-12T09:23:06.133Z"
   },
   {
    "duration": 0,
    "start_time": "2022-09-12T09:23:06.135Z"
   },
   {
    "duration": 0,
    "start_time": "2022-09-12T09:23:06.137Z"
   },
   {
    "duration": 0,
    "start_time": "2022-09-12T09:23:06.138Z"
   },
   {
    "duration": 1,
    "start_time": "2022-09-12T09:23:06.139Z"
   },
   {
    "duration": 0,
    "start_time": "2022-09-12T09:23:06.141Z"
   },
   {
    "duration": 0,
    "start_time": "2022-09-12T09:23:06.142Z"
   },
   {
    "duration": 0,
    "start_time": "2022-09-12T09:23:06.143Z"
   },
   {
    "duration": 0,
    "start_time": "2022-09-12T09:23:06.145Z"
   },
   {
    "duration": 0,
    "start_time": "2022-09-12T09:23:06.147Z"
   },
   {
    "duration": 0,
    "start_time": "2022-09-12T09:23:06.159Z"
   },
   {
    "duration": 0,
    "start_time": "2022-09-12T09:23:06.160Z"
   },
   {
    "duration": 0,
    "start_time": "2022-09-12T09:23:06.161Z"
   },
   {
    "duration": 0,
    "start_time": "2022-09-12T09:23:06.162Z"
   },
   {
    "duration": 0,
    "start_time": "2022-09-12T09:23:06.163Z"
   },
   {
    "duration": 0,
    "start_time": "2022-09-12T09:23:06.164Z"
   },
   {
    "duration": 0,
    "start_time": "2022-09-12T09:23:06.165Z"
   },
   {
    "duration": 0,
    "start_time": "2022-09-12T09:23:06.167Z"
   },
   {
    "duration": 0,
    "start_time": "2022-09-12T09:23:06.170Z"
   },
   {
    "duration": 0,
    "start_time": "2022-09-12T09:23:06.171Z"
   },
   {
    "duration": 0,
    "start_time": "2022-09-12T09:23:06.172Z"
   },
   {
    "duration": 0,
    "start_time": "2022-09-12T09:23:06.174Z"
   },
   {
    "duration": 0,
    "start_time": "2022-09-12T09:23:06.175Z"
   },
   {
    "duration": 223,
    "start_time": "2022-09-12T09:23:58.938Z"
   },
   {
    "duration": 388,
    "start_time": "2022-09-12T09:28:12.743Z"
   },
   {
    "duration": 376,
    "start_time": "2022-09-12T09:36:21.463Z"
   },
   {
    "duration": 285,
    "start_time": "2022-09-12T09:36:52.387Z"
   },
   {
    "duration": 270,
    "start_time": "2022-09-12T09:37:27.529Z"
   },
   {
    "duration": 255,
    "start_time": "2022-09-12T09:39:05.713Z"
   },
   {
    "duration": 64,
    "start_time": "2022-09-12T09:43:46.462Z"
   },
   {
    "duration": 3,
    "start_time": "2022-09-12T09:44:26.055Z"
   },
   {
    "duration": 3,
    "start_time": "2022-09-12T09:44:44.627Z"
   },
   {
    "duration": 106,
    "start_time": "2022-09-12T09:44:44.634Z"
   },
   {
    "duration": 48,
    "start_time": "2022-09-12T09:44:44.742Z"
   },
   {
    "duration": 15,
    "start_time": "2022-09-12T09:44:44.792Z"
   },
   {
    "duration": 12,
    "start_time": "2022-09-12T09:44:44.809Z"
   },
   {
    "duration": 29,
    "start_time": "2022-09-12T09:44:44.822Z"
   },
   {
    "duration": 20,
    "start_time": "2022-09-12T09:44:44.853Z"
   },
   {
    "duration": 18,
    "start_time": "2022-09-12T09:44:44.875Z"
   },
   {
    "duration": 71,
    "start_time": "2022-09-12T09:44:44.894Z"
   },
   {
    "duration": 441,
    "start_time": "2022-09-12T09:44:44.967Z"
   },
   {
    "duration": 18,
    "start_time": "2022-09-12T09:44:45.411Z"
   },
   {
    "duration": 22,
    "start_time": "2022-09-12T09:44:45.431Z"
   },
   {
    "duration": 22,
    "start_time": "2022-09-12T09:44:45.454Z"
   },
   {
    "duration": 11,
    "start_time": "2022-09-12T09:44:45.478Z"
   },
   {
    "duration": 3,
    "start_time": "2022-09-12T09:44:45.490Z"
   },
   {
    "duration": 30,
    "start_time": "2022-09-12T09:44:45.494Z"
   },
   {
    "duration": 6,
    "start_time": "2022-09-12T09:44:45.526Z"
   },
   {
    "duration": 26,
    "start_time": "2022-09-12T09:44:45.534Z"
   },
   {
    "duration": 14,
    "start_time": "2022-09-12T09:44:45.562Z"
   },
   {
    "duration": 17,
    "start_time": "2022-09-12T09:44:45.578Z"
   },
   {
    "duration": 13,
    "start_time": "2022-09-12T09:44:45.597Z"
   },
   {
    "duration": 7,
    "start_time": "2022-09-12T09:44:45.612Z"
   },
   {
    "duration": 7,
    "start_time": "2022-09-12T09:44:45.621Z"
   },
   {
    "duration": 312,
    "start_time": "2022-09-12T09:44:45.630Z"
   },
   {
    "duration": 395,
    "start_time": "2022-09-12T09:44:45.946Z"
   },
   {
    "duration": 345,
    "start_time": "2022-09-12T09:44:46.343Z"
   },
   {
    "duration": 272,
    "start_time": "2022-09-12T09:44:46.690Z"
   },
   {
    "duration": 270,
    "start_time": "2022-09-12T09:44:46.964Z"
   },
   {
    "duration": 292,
    "start_time": "2022-09-12T09:44:47.239Z"
   },
   {
    "duration": 35,
    "start_time": "2022-09-12T09:44:47.533Z"
   },
   {
    "duration": 134,
    "start_time": "2022-09-12T09:44:47.570Z"
   },
   {
    "duration": 25,
    "start_time": "2022-09-12T09:44:47.706Z"
   },
   {
    "duration": 318,
    "start_time": "2022-09-12T09:44:47.746Z"
   },
   {
    "duration": 207,
    "start_time": "2022-09-12T09:44:48.065Z"
   },
   {
    "duration": 253,
    "start_time": "2022-09-12T09:44:48.274Z"
   },
   {
    "duration": 33,
    "start_time": "2022-09-12T09:44:48.528Z"
   },
   {
    "duration": 3,
    "start_time": "2022-09-12T09:44:48.563Z"
   },
   {
    "duration": 11,
    "start_time": "2022-09-12T09:44:48.567Z"
   },
   {
    "duration": 38,
    "start_time": "2022-09-12T09:44:48.580Z"
   },
   {
    "duration": 48,
    "start_time": "2022-09-12T09:44:48.620Z"
   },
   {
    "duration": 20,
    "start_time": "2022-09-12T09:44:48.670Z"
   },
   {
    "duration": 13,
    "start_time": "2022-09-12T09:44:48.691Z"
   },
   {
    "duration": 6,
    "start_time": "2022-09-12T09:44:48.706Z"
   },
   {
    "duration": 43,
    "start_time": "2022-09-12T09:44:48.714Z"
   },
   {
    "duration": 0,
    "start_time": "2022-09-12T09:44:48.762Z"
   },
   {
    "duration": 0,
    "start_time": "2022-09-12T09:44:48.763Z"
   },
   {
    "duration": 0,
    "start_time": "2022-09-12T09:44:48.764Z"
   },
   {
    "duration": 0,
    "start_time": "2022-09-12T09:44:48.765Z"
   },
   {
    "duration": 0,
    "start_time": "2022-09-12T09:44:48.766Z"
   },
   {
    "duration": 0,
    "start_time": "2022-09-12T09:44:48.767Z"
   },
   {
    "duration": 0,
    "start_time": "2022-09-12T09:44:48.768Z"
   },
   {
    "duration": 0,
    "start_time": "2022-09-12T09:44:48.769Z"
   },
   {
    "duration": 0,
    "start_time": "2022-09-12T09:44:48.770Z"
   },
   {
    "duration": 0,
    "start_time": "2022-09-12T09:44:48.772Z"
   },
   {
    "duration": 0,
    "start_time": "2022-09-12T09:44:48.772Z"
   },
   {
    "duration": 0,
    "start_time": "2022-09-12T09:44:48.773Z"
   },
   {
    "duration": 0,
    "start_time": "2022-09-12T09:44:48.774Z"
   },
   {
    "duration": 0,
    "start_time": "2022-09-12T09:44:48.775Z"
   },
   {
    "duration": 0,
    "start_time": "2022-09-12T09:44:48.776Z"
   },
   {
    "duration": 0,
    "start_time": "2022-09-12T09:44:48.777Z"
   },
   {
    "duration": 0,
    "start_time": "2022-09-12T09:44:48.778Z"
   },
   {
    "duration": 0,
    "start_time": "2022-09-12T09:44:48.779Z"
   },
   {
    "duration": 0,
    "start_time": "2022-09-12T09:44:48.780Z"
   },
   {
    "duration": 0,
    "start_time": "2022-09-12T09:44:48.781Z"
   },
   {
    "duration": 0,
    "start_time": "2022-09-12T09:44:48.782Z"
   },
   {
    "duration": 0,
    "start_time": "2022-09-12T09:44:48.783Z"
   },
   {
    "duration": 0,
    "start_time": "2022-09-12T09:44:48.783Z"
   },
   {
    "duration": 0,
    "start_time": "2022-09-12T09:44:48.785Z"
   },
   {
    "duration": 0,
    "start_time": "2022-09-12T09:44:48.785Z"
   },
   {
    "duration": 9,
    "start_time": "2022-09-12T09:45:23.975Z"
   },
   {
    "duration": 7,
    "start_time": "2022-09-12T09:45:41.015Z"
   },
   {
    "duration": 5,
    "start_time": "2022-09-12T09:59:46.214Z"
   },
   {
    "duration": 158,
    "start_time": "2022-09-12T09:59:46.221Z"
   },
   {
    "duration": 49,
    "start_time": "2022-09-12T09:59:46.382Z"
   },
   {
    "duration": 23,
    "start_time": "2022-09-12T09:59:46.433Z"
   },
   {
    "duration": 32,
    "start_time": "2022-09-12T09:59:46.459Z"
   },
   {
    "duration": 58,
    "start_time": "2022-09-12T09:59:46.493Z"
   },
   {
    "duration": 33,
    "start_time": "2022-09-12T09:59:46.553Z"
   },
   {
    "duration": 29,
    "start_time": "2022-09-12T09:59:46.588Z"
   },
   {
    "duration": 45,
    "start_time": "2022-09-12T09:59:46.619Z"
   },
   {
    "duration": 430,
    "start_time": "2022-09-12T09:59:46.665Z"
   },
   {
    "duration": 30,
    "start_time": "2022-09-12T09:59:47.099Z"
   },
   {
    "duration": 29,
    "start_time": "2022-09-12T09:59:47.131Z"
   },
   {
    "duration": 17,
    "start_time": "2022-09-12T09:59:47.163Z"
   },
   {
    "duration": 26,
    "start_time": "2022-09-12T09:59:47.182Z"
   },
   {
    "duration": 2,
    "start_time": "2022-09-12T09:59:47.210Z"
   },
   {
    "duration": 22,
    "start_time": "2022-09-12T09:59:47.214Z"
   },
   {
    "duration": 20,
    "start_time": "2022-09-12T09:59:47.246Z"
   },
   {
    "duration": 15,
    "start_time": "2022-09-12T09:59:47.268Z"
   },
   {
    "duration": 7,
    "start_time": "2022-09-12T09:59:47.285Z"
   },
   {
    "duration": 21,
    "start_time": "2022-09-12T09:59:47.293Z"
   },
   {
    "duration": 12,
    "start_time": "2022-09-12T09:59:47.315Z"
   },
   {
    "duration": 32,
    "start_time": "2022-09-12T09:59:47.328Z"
   },
   {
    "duration": 32,
    "start_time": "2022-09-12T09:59:47.362Z"
   },
   {
    "duration": 292,
    "start_time": "2022-09-12T09:59:47.395Z"
   },
   {
    "duration": 412,
    "start_time": "2022-09-12T09:59:47.688Z"
   },
   {
    "duration": 335,
    "start_time": "2022-09-12T09:59:48.102Z"
   },
   {
    "duration": 264,
    "start_time": "2022-09-12T09:59:48.438Z"
   },
   {
    "duration": 306,
    "start_time": "2022-09-12T09:59:48.704Z"
   },
   {
    "duration": 290,
    "start_time": "2022-09-12T09:59:49.015Z"
   },
   {
    "duration": 29,
    "start_time": "2022-09-12T09:59:49.306Z"
   },
   {
    "duration": 157,
    "start_time": "2022-09-12T09:59:49.350Z"
   },
   {
    "duration": 24,
    "start_time": "2022-09-12T09:59:49.509Z"
   },
   {
    "duration": 329,
    "start_time": "2022-09-12T09:59:49.535Z"
   },
   {
    "duration": 220,
    "start_time": "2022-09-12T09:59:49.866Z"
   },
   {
    "duration": 297,
    "start_time": "2022-09-12T09:59:50.088Z"
   },
   {
    "duration": 20,
    "start_time": "2022-09-12T09:59:50.388Z"
   },
   {
    "duration": 29,
    "start_time": "2022-09-12T09:59:50.410Z"
   },
   {
    "duration": 48,
    "start_time": "2022-09-12T09:59:50.440Z"
   },
   {
    "duration": 52,
    "start_time": "2022-09-12T09:59:50.489Z"
   },
   {
    "duration": 21,
    "start_time": "2022-09-12T09:59:50.543Z"
   },
   {
    "duration": 25,
    "start_time": "2022-09-12T09:59:50.566Z"
   },
   {
    "duration": 14,
    "start_time": "2022-09-12T09:59:50.593Z"
   },
   {
    "duration": 10,
    "start_time": "2022-09-12T09:59:50.609Z"
   },
   {
    "duration": 39,
    "start_time": "2022-09-12T09:59:50.620Z"
   },
   {
    "duration": 9,
    "start_time": "2022-09-12T09:59:50.660Z"
   },
   {
    "duration": 184,
    "start_time": "2022-09-12T09:59:50.671Z"
   },
   {
    "duration": 190,
    "start_time": "2022-09-12T09:59:50.860Z"
   },
   {
    "duration": 208,
    "start_time": "2022-09-12T09:59:51.058Z"
   },
   {
    "duration": 214,
    "start_time": "2022-09-12T09:59:51.269Z"
   },
   {
    "duration": 216,
    "start_time": "2022-09-12T09:59:51.484Z"
   },
   {
    "duration": 199,
    "start_time": "2022-09-12T09:59:51.702Z"
   },
   {
    "duration": 216,
    "start_time": "2022-09-12T09:59:51.903Z"
   },
   {
    "duration": 197,
    "start_time": "2022-09-12T09:59:52.120Z"
   },
   {
    "duration": 182,
    "start_time": "2022-09-12T09:59:52.319Z"
   },
   {
    "duration": 215,
    "start_time": "2022-09-12T09:59:52.502Z"
   },
   {
    "duration": 212,
    "start_time": "2022-09-12T09:59:52.718Z"
   },
   {
    "duration": 219,
    "start_time": "2022-09-12T09:59:52.931Z"
   },
   {
    "duration": 207,
    "start_time": "2022-09-12T09:59:53.152Z"
   },
   {
    "duration": 365,
    "start_time": "2022-09-12T09:59:53.362Z"
   },
   {
    "duration": 212,
    "start_time": "2022-09-12T09:59:53.729Z"
   },
   {
    "duration": 184,
    "start_time": "2022-09-12T09:59:53.947Z"
   },
   {
    "duration": 4,
    "start_time": "2022-09-12T09:59:54.133Z"
   },
   {
    "duration": 37,
    "start_time": "2022-09-12T09:59:54.139Z"
   },
   {
    "duration": 192,
    "start_time": "2022-09-12T09:59:54.178Z"
   },
   {
    "duration": 5,
    "start_time": "2022-09-12T09:59:54.372Z"
   },
   {
    "duration": 196,
    "start_time": "2022-09-12T09:59:54.379Z"
   },
   {
    "duration": 4,
    "start_time": "2022-09-12T09:59:54.576Z"
   },
   {
    "duration": 23,
    "start_time": "2022-09-12T09:59:54.582Z"
   },
   {
    "duration": 18,
    "start_time": "2022-09-12T09:59:54.607Z"
   },
   {
    "duration": 11,
    "start_time": "2022-09-12T10:06:17.906Z"
   },
   {
    "duration": 13,
    "start_time": "2022-09-12T10:13:59.618Z"
   },
   {
    "duration": 12,
    "start_time": "2022-09-12T10:18:01.063Z"
   },
   {
    "duration": 13,
    "start_time": "2022-09-12T10:18:32.158Z"
   },
   {
    "duration": 233,
    "start_time": "2022-09-12T10:23:51.407Z"
   },
   {
    "duration": 346,
    "start_time": "2022-09-12T10:28:23.555Z"
   },
   {
    "duration": 238,
    "start_time": "2022-09-12T10:28:51.259Z"
   },
   {
    "duration": 161,
    "start_time": "2022-09-12T10:30:10.878Z"
   },
   {
    "duration": 124,
    "start_time": "2022-09-12T10:30:21.215Z"
   },
   {
    "duration": 35,
    "start_time": "2022-09-12T10:31:25.964Z"
   },
   {
    "duration": 35,
    "start_time": "2022-09-12T10:31:38.819Z"
   },
   {
    "duration": 31,
    "start_time": "2022-09-12T10:31:58.301Z"
   },
   {
    "duration": 33,
    "start_time": "2022-09-12T10:33:21.998Z"
   },
   {
    "duration": 4,
    "start_time": "2022-09-12T10:35:38.156Z"
   },
   {
    "duration": 108,
    "start_time": "2022-09-12T10:35:38.162Z"
   },
   {
    "duration": 44,
    "start_time": "2022-09-12T10:35:38.271Z"
   },
   {
    "duration": 15,
    "start_time": "2022-09-12T10:35:38.317Z"
   },
   {
    "duration": 9,
    "start_time": "2022-09-12T10:35:38.334Z"
   },
   {
    "duration": 44,
    "start_time": "2022-09-12T10:35:38.345Z"
   },
   {
    "duration": 16,
    "start_time": "2022-09-12T10:35:38.390Z"
   },
   {
    "duration": 20,
    "start_time": "2022-09-12T10:35:38.407Z"
   },
   {
    "duration": 48,
    "start_time": "2022-09-12T10:35:38.429Z"
   },
   {
    "duration": 438,
    "start_time": "2022-09-12T10:35:38.479Z"
   },
   {
    "duration": 28,
    "start_time": "2022-09-12T10:35:38.919Z"
   },
   {
    "duration": 16,
    "start_time": "2022-09-12T10:35:38.948Z"
   },
   {
    "duration": 13,
    "start_time": "2022-09-12T10:35:38.966Z"
   },
   {
    "duration": 15,
    "start_time": "2022-09-12T10:35:38.981Z"
   },
   {
    "duration": 5,
    "start_time": "2022-09-12T10:35:38.998Z"
   },
   {
    "duration": 23,
    "start_time": "2022-09-12T10:35:39.005Z"
   },
   {
    "duration": 28,
    "start_time": "2022-09-12T10:35:39.030Z"
   },
   {
    "duration": 21,
    "start_time": "2022-09-12T10:35:39.060Z"
   },
   {
    "duration": 8,
    "start_time": "2022-09-12T10:35:39.082Z"
   },
   {
    "duration": 18,
    "start_time": "2022-09-12T10:35:39.091Z"
   },
   {
    "duration": 12,
    "start_time": "2022-09-12T10:35:39.110Z"
   },
   {
    "duration": 30,
    "start_time": "2022-09-12T10:35:39.123Z"
   },
   {
    "duration": 133,
    "start_time": "2022-09-12T10:35:39.155Z"
   },
   {
    "duration": 298,
    "start_time": "2022-09-12T10:35:39.292Z"
   },
   {
    "duration": 288,
    "start_time": "2022-09-12T10:35:39.592Z"
   },
   {
    "duration": 290,
    "start_time": "2022-09-12T10:35:39.882Z"
   },
   {
    "duration": 265,
    "start_time": "2022-09-12T10:35:40.175Z"
   },
   {
    "duration": 281,
    "start_time": "2022-09-12T10:35:40.441Z"
   },
   {
    "duration": 413,
    "start_time": "2022-09-12T10:35:40.724Z"
   },
   {
    "duration": 36,
    "start_time": "2022-09-12T10:35:41.138Z"
   },
   {
    "duration": 136,
    "start_time": "2022-09-12T10:35:41.175Z"
   },
   {
    "duration": 41,
    "start_time": "2022-09-12T10:35:41.313Z"
   },
   {
    "duration": 220,
    "start_time": "2022-09-12T10:35:41.363Z"
   },
   {
    "duration": 256,
    "start_time": "2022-09-12T10:35:41.584Z"
   },
   {
    "duration": 272,
    "start_time": "2022-09-12T10:35:41.841Z"
   },
   {
    "duration": 20,
    "start_time": "2022-09-12T10:35:42.115Z"
   },
   {
    "duration": 103,
    "start_time": "2022-09-12T10:35:46.760Z"
   },
   {
    "duration": 114,
    "start_time": "2022-09-12T10:36:02.463Z"
   },
   {
    "duration": 18,
    "start_time": "2022-09-12T10:36:37.973Z"
   },
   {
    "duration": 13,
    "start_time": "2022-09-12T10:37:09.404Z"
   },
   {
    "duration": 32,
    "start_time": "2022-09-12T10:37:12.860Z"
   },
   {
    "duration": 4,
    "start_time": "2022-09-12T10:37:17.068Z"
   },
   {
    "duration": 112,
    "start_time": "2022-09-12T10:37:17.075Z"
   },
   {
    "duration": 46,
    "start_time": "2022-09-12T10:37:17.189Z"
   },
   {
    "duration": 19,
    "start_time": "2022-09-12T10:37:17.236Z"
   },
   {
    "duration": 18,
    "start_time": "2022-09-12T10:37:17.261Z"
   },
   {
    "duration": 30,
    "start_time": "2022-09-12T10:37:17.281Z"
   },
   {
    "duration": 16,
    "start_time": "2022-09-12T10:37:17.313Z"
   },
   {
    "duration": 35,
    "start_time": "2022-09-12T10:37:17.330Z"
   },
   {
    "duration": 47,
    "start_time": "2022-09-12T10:37:17.369Z"
   },
   {
    "duration": 449,
    "start_time": "2022-09-12T10:37:17.418Z"
   },
   {
    "duration": 27,
    "start_time": "2022-09-12T10:37:17.871Z"
   },
   {
    "duration": 16,
    "start_time": "2022-09-12T10:37:17.899Z"
   },
   {
    "duration": 45,
    "start_time": "2022-09-12T10:37:17.917Z"
   },
   {
    "duration": 13,
    "start_time": "2022-09-12T10:37:17.964Z"
   },
   {
    "duration": 3,
    "start_time": "2022-09-12T10:37:17.979Z"
   },
   {
    "duration": 32,
    "start_time": "2022-09-12T10:37:17.983Z"
   },
   {
    "duration": 7,
    "start_time": "2022-09-12T10:37:18.016Z"
   },
   {
    "duration": 41,
    "start_time": "2022-09-12T10:37:18.024Z"
   },
   {
    "duration": 7,
    "start_time": "2022-09-12T10:37:18.067Z"
   },
   {
    "duration": 19,
    "start_time": "2022-09-12T10:37:18.076Z"
   },
   {
    "duration": 15,
    "start_time": "2022-09-12T10:37:18.097Z"
   },
   {
    "duration": 9,
    "start_time": "2022-09-12T10:37:18.114Z"
   },
   {
    "duration": 15,
    "start_time": "2022-09-12T10:37:18.125Z"
   },
   {
    "duration": 296,
    "start_time": "2022-09-12T10:37:18.142Z"
   },
   {
    "duration": 281,
    "start_time": "2022-09-12T10:37:18.440Z"
   },
   {
    "duration": 479,
    "start_time": "2022-09-12T10:37:18.722Z"
   },
   {
    "duration": 305,
    "start_time": "2022-09-12T10:37:19.202Z"
   },
   {
    "duration": 303,
    "start_time": "2022-09-12T10:37:19.508Z"
   },
   {
    "duration": 285,
    "start_time": "2022-09-12T10:37:19.815Z"
   },
   {
    "duration": 26,
    "start_time": "2022-09-12T10:37:20.101Z"
   },
   {
    "duration": 160,
    "start_time": "2022-09-12T10:37:20.129Z"
   },
   {
    "duration": 23,
    "start_time": "2022-09-12T10:37:20.290Z"
   },
   {
    "duration": 223,
    "start_time": "2022-09-12T10:37:20.314Z"
   },
   {
    "duration": 238,
    "start_time": "2022-09-12T10:37:20.539Z"
   },
   {
    "duration": 272,
    "start_time": "2022-09-12T10:37:20.779Z"
   },
   {
    "duration": 26,
    "start_time": "2022-09-12T10:37:21.053Z"
   },
   {
    "duration": 105,
    "start_time": "2022-09-12T10:37:23.960Z"
   },
   {
    "duration": 12,
    "start_time": "2022-09-12T10:37:28.207Z"
   },
   {
    "duration": 15,
    "start_time": "2022-09-12T10:39:05.827Z"
   },
   {
    "duration": 17,
    "start_time": "2022-09-12T11:45:07.575Z"
   },
   {
    "duration": 720,
    "start_time": "2022-09-12T11:45:45.882Z"
   },
   {
    "duration": 105,
    "start_time": "2022-09-12T11:45:46.605Z"
   },
   {
    "duration": 44,
    "start_time": "2022-09-12T11:45:46.712Z"
   },
   {
    "duration": 17,
    "start_time": "2022-09-12T11:45:46.759Z"
   },
   {
    "duration": 9,
    "start_time": "2022-09-12T11:45:46.778Z"
   },
   {
    "duration": 32,
    "start_time": "2022-09-12T11:45:46.789Z"
   },
   {
    "duration": 37,
    "start_time": "2022-09-12T11:45:46.823Z"
   },
   {
    "duration": 25,
    "start_time": "2022-09-12T11:45:46.863Z"
   },
   {
    "duration": 32,
    "start_time": "2022-09-12T11:45:46.890Z"
   },
   {
    "duration": 448,
    "start_time": "2022-09-12T11:45:46.926Z"
   },
   {
    "duration": 24,
    "start_time": "2022-09-12T11:45:47.380Z"
   },
   {
    "duration": 10,
    "start_time": "2022-09-12T11:45:47.406Z"
   },
   {
    "duration": 16,
    "start_time": "2022-09-12T11:45:47.418Z"
   },
   {
    "duration": 10,
    "start_time": "2022-09-12T11:45:47.447Z"
   },
   {
    "duration": 12,
    "start_time": "2022-09-12T11:45:47.459Z"
   },
   {
    "duration": 24,
    "start_time": "2022-09-12T11:45:47.472Z"
   },
   {
    "duration": 6,
    "start_time": "2022-09-12T11:45:47.498Z"
   },
   {
    "duration": 17,
    "start_time": "2022-09-12T11:45:47.506Z"
   },
   {
    "duration": 27,
    "start_time": "2022-09-12T11:45:47.524Z"
   },
   {
    "duration": 22,
    "start_time": "2022-09-12T11:45:47.553Z"
   },
   {
    "duration": 15,
    "start_time": "2022-09-12T11:45:47.577Z"
   },
   {
    "duration": 13,
    "start_time": "2022-09-12T11:45:47.594Z"
   },
   {
    "duration": 8,
    "start_time": "2022-09-12T11:45:47.609Z"
   },
   {
    "duration": 459,
    "start_time": "2022-09-12T11:45:47.619Z"
   },
   {
    "duration": 269,
    "start_time": "2022-09-12T11:45:48.080Z"
   },
   {
    "duration": 296,
    "start_time": "2022-09-12T11:45:48.351Z"
   },
   {
    "duration": 280,
    "start_time": "2022-09-12T11:45:48.650Z"
   },
   {
    "duration": 296,
    "start_time": "2022-09-12T11:45:48.934Z"
   },
   {
    "duration": 353,
    "start_time": "2022-09-12T11:45:49.232Z"
   },
   {
    "duration": 27,
    "start_time": "2022-09-12T11:45:49.587Z"
   },
   {
    "duration": 146,
    "start_time": "2022-09-12T11:45:49.615Z"
   },
   {
    "duration": 23,
    "start_time": "2022-09-12T11:45:49.762Z"
   },
   {
    "duration": 218,
    "start_time": "2022-09-12T11:45:49.786Z"
   },
   {
    "duration": 215,
    "start_time": "2022-09-12T11:45:50.006Z"
   },
   {
    "duration": 259,
    "start_time": "2022-09-12T11:45:50.222Z"
   },
   {
    "duration": 19,
    "start_time": "2022-09-12T11:45:50.483Z"
   },
   {
    "duration": 124,
    "start_time": "2022-09-12T11:45:50.504Z"
   },
   {
    "duration": 13,
    "start_time": "2022-09-12T11:45:50.630Z"
   },
   {
    "duration": 18,
    "start_time": "2022-09-12T11:45:50.645Z"
   },
   {
    "duration": 51,
    "start_time": "2022-09-12T11:45:50.665Z"
   },
   {
    "duration": 29,
    "start_time": "2022-09-12T11:45:50.718Z"
   },
   {
    "duration": 32,
    "start_time": "2022-09-12T11:45:50.749Z"
   },
   {
    "duration": 21,
    "start_time": "2022-09-12T11:45:50.783Z"
   },
   {
    "duration": 29,
    "start_time": "2022-09-12T11:45:50.806Z"
   },
   {
    "duration": 20,
    "start_time": "2022-09-12T11:45:50.837Z"
   },
   {
    "duration": 33,
    "start_time": "2022-09-12T11:45:50.859Z"
   },
   {
    "duration": 36,
    "start_time": "2022-09-12T11:45:50.894Z"
   },
   {
    "duration": 198,
    "start_time": "2022-09-12T11:45:50.933Z"
   },
   {
    "duration": 15,
    "start_time": "2022-09-12T11:45:51.133Z"
   },
   {
    "duration": 212,
    "start_time": "2022-09-12T11:45:51.150Z"
   },
   {
    "duration": 208,
    "start_time": "2022-09-12T11:45:51.364Z"
   },
   {
    "duration": 288,
    "start_time": "2022-09-12T11:45:51.574Z"
   },
   {
    "duration": 204,
    "start_time": "2022-09-12T11:45:51.864Z"
   },
   {
    "duration": 204,
    "start_time": "2022-09-12T11:45:52.070Z"
   },
   {
    "duration": 193,
    "start_time": "2022-09-12T11:45:52.276Z"
   },
   {
    "duration": 179,
    "start_time": "2022-09-12T11:45:52.471Z"
   },
   {
    "duration": 212,
    "start_time": "2022-09-12T11:45:52.651Z"
   },
   {
    "duration": 207,
    "start_time": "2022-09-12T11:45:52.866Z"
   },
   {
    "duration": 211,
    "start_time": "2022-09-12T11:45:53.075Z"
   },
   {
    "duration": 219,
    "start_time": "2022-09-12T11:45:53.287Z"
   },
   {
    "duration": 209,
    "start_time": "2022-09-12T11:45:53.508Z"
   },
   {
    "duration": 210,
    "start_time": "2022-09-12T11:45:53.719Z"
   },
   {
    "duration": 193,
    "start_time": "2022-09-12T11:45:53.931Z"
   },
   {
    "duration": 5,
    "start_time": "2022-09-12T11:45:54.126Z"
   },
   {
    "duration": 20,
    "start_time": "2022-09-12T11:45:54.132Z"
   },
   {
    "duration": 277,
    "start_time": "2022-09-12T11:45:54.154Z"
   },
   {
    "duration": 14,
    "start_time": "2022-09-12T11:45:54.434Z"
   },
   {
    "duration": 185,
    "start_time": "2022-09-12T11:45:54.450Z"
   },
   {
    "duration": 12,
    "start_time": "2022-09-12T11:45:54.636Z"
   },
   {
    "duration": 28,
    "start_time": "2022-09-12T11:45:54.649Z"
   },
   {
    "duration": 17,
    "start_time": "2022-09-12T11:45:54.679Z"
   },
   {
    "duration": 201,
    "start_time": "2022-09-12T11:53:23.311Z"
   },
   {
    "duration": 183,
    "start_time": "2022-09-12T11:53:44.426Z"
   },
   {
    "duration": 190,
    "start_time": "2022-09-12T11:54:10.183Z"
   },
   {
    "duration": 56,
    "start_time": "2022-09-12T12:01:04.569Z"
   },
   {
    "duration": 54,
    "start_time": "2022-09-12T12:01:21.675Z"
   },
   {
    "duration": 917,
    "start_time": "2022-09-12T12:02:30.580Z"
   },
   {
    "duration": 103,
    "start_time": "2022-09-12T12:02:31.498Z"
   },
   {
    "duration": 49,
    "start_time": "2022-09-12T12:02:31.602Z"
   },
   {
    "duration": 17,
    "start_time": "2022-09-12T12:02:31.653Z"
   },
   {
    "duration": 27,
    "start_time": "2022-09-12T12:02:31.672Z"
   },
   {
    "duration": 49,
    "start_time": "2022-09-12T12:02:31.700Z"
   },
   {
    "duration": 16,
    "start_time": "2022-09-12T12:02:31.751Z"
   },
   {
    "duration": 38,
    "start_time": "2022-09-12T12:02:31.768Z"
   },
   {
    "duration": 55,
    "start_time": "2022-09-12T12:02:31.808Z"
   },
   {
    "duration": 453,
    "start_time": "2022-09-12T12:02:31.867Z"
   },
   {
    "duration": 17,
    "start_time": "2022-09-12T12:02:32.322Z"
   },
   {
    "duration": 33,
    "start_time": "2022-09-12T12:02:32.347Z"
   },
   {
    "duration": 29,
    "start_time": "2022-09-12T12:02:32.382Z"
   },
   {
    "duration": 28,
    "start_time": "2022-09-12T12:02:32.413Z"
   },
   {
    "duration": 22,
    "start_time": "2022-09-12T12:02:32.443Z"
   },
   {
    "duration": 71,
    "start_time": "2022-09-12T12:02:32.466Z"
   },
   {
    "duration": 14,
    "start_time": "2022-09-12T12:02:32.539Z"
   },
   {
    "duration": 39,
    "start_time": "2022-09-12T12:02:32.555Z"
   },
   {
    "duration": 10,
    "start_time": "2022-09-12T12:02:32.596Z"
   },
   {
    "duration": 38,
    "start_time": "2022-09-12T12:02:32.608Z"
   },
   {
    "duration": 53,
    "start_time": "2022-09-12T12:02:32.648Z"
   },
   {
    "duration": 40,
    "start_time": "2022-09-12T12:02:32.703Z"
   },
   {
    "duration": 25,
    "start_time": "2022-09-12T12:02:32.744Z"
   },
   {
    "duration": 445,
    "start_time": "2022-09-12T12:02:32.771Z"
   },
   {
    "duration": 279,
    "start_time": "2022-09-12T12:02:33.218Z"
   },
   {
    "duration": 276,
    "start_time": "2022-09-12T12:02:33.498Z"
   },
   {
    "duration": 264,
    "start_time": "2022-09-12T12:02:33.776Z"
   },
   {
    "duration": 282,
    "start_time": "2022-09-12T12:02:34.046Z"
   },
   {
    "duration": 357,
    "start_time": "2022-09-12T12:02:34.330Z"
   },
   {
    "duration": 27,
    "start_time": "2022-09-12T12:02:34.689Z"
   },
   {
    "duration": 142,
    "start_time": "2022-09-12T12:02:34.718Z"
   },
   {
    "duration": 25,
    "start_time": "2022-09-12T12:02:34.862Z"
   },
   {
    "duration": 220,
    "start_time": "2022-09-12T12:02:34.889Z"
   },
   {
    "duration": 207,
    "start_time": "2022-09-12T12:02:35.111Z"
   },
   {
    "duration": 287,
    "start_time": "2022-09-12T12:02:35.320Z"
   },
   {
    "duration": 42,
    "start_time": "2022-09-12T12:02:35.609Z"
   },
   {
    "duration": 110,
    "start_time": "2022-09-12T12:02:35.653Z"
   },
   {
    "duration": 14,
    "start_time": "2022-09-12T12:02:35.764Z"
   },
   {
    "duration": 19,
    "start_time": "2022-09-12T12:02:35.781Z"
   },
   {
    "duration": 56,
    "start_time": "2022-09-12T12:02:35.803Z"
   },
   {
    "duration": 17,
    "start_time": "2022-09-12T12:02:35.860Z"
   },
   {
    "duration": 21,
    "start_time": "2022-09-12T12:02:35.879Z"
   },
   {
    "duration": 14,
    "start_time": "2022-09-12T12:02:35.901Z"
   },
   {
    "duration": 33,
    "start_time": "2022-09-12T12:02:35.917Z"
   },
   {
    "duration": 11,
    "start_time": "2022-09-12T12:02:35.952Z"
   },
   {
    "duration": 8,
    "start_time": "2022-09-12T12:02:35.964Z"
   },
   {
    "duration": 14,
    "start_time": "2022-09-12T12:02:35.974Z"
   },
   {
    "duration": 205,
    "start_time": "2022-09-12T12:02:35.990Z"
   },
   {
    "duration": 17,
    "start_time": "2022-09-12T12:02:36.197Z"
   },
   {
    "duration": 255,
    "start_time": "2022-09-12T12:02:36.216Z"
   },
   {
    "duration": 102,
    "start_time": "2022-09-12T12:02:36.472Z"
   },
   {
    "duration": 0,
    "start_time": "2022-09-12T12:02:36.576Z"
   },
   {
    "duration": 0,
    "start_time": "2022-09-12T12:02:36.577Z"
   },
   {
    "duration": 0,
    "start_time": "2022-09-12T12:02:36.579Z"
   },
   {
    "duration": 0,
    "start_time": "2022-09-12T12:02:36.580Z"
   },
   {
    "duration": 0,
    "start_time": "2022-09-12T12:02:36.582Z"
   },
   {
    "duration": 0,
    "start_time": "2022-09-12T12:02:36.583Z"
   },
   {
    "duration": 0,
    "start_time": "2022-09-12T12:02:36.584Z"
   },
   {
    "duration": 0,
    "start_time": "2022-09-12T12:02:36.585Z"
   },
   {
    "duration": 0,
    "start_time": "2022-09-12T12:02:36.586Z"
   },
   {
    "duration": 0,
    "start_time": "2022-09-12T12:02:36.587Z"
   },
   {
    "duration": 0,
    "start_time": "2022-09-12T12:02:36.589Z"
   },
   {
    "duration": 0,
    "start_time": "2022-09-12T12:02:36.590Z"
   },
   {
    "duration": 0,
    "start_time": "2022-09-12T12:02:36.591Z"
   },
   {
    "duration": 0,
    "start_time": "2022-09-12T12:02:36.592Z"
   },
   {
    "duration": 0,
    "start_time": "2022-09-12T12:02:36.593Z"
   },
   {
    "duration": 0,
    "start_time": "2022-09-12T12:02:36.594Z"
   },
   {
    "duration": 0,
    "start_time": "2022-09-12T12:02:36.595Z"
   },
   {
    "duration": 0,
    "start_time": "2022-09-12T12:02:36.596Z"
   },
   {
    "duration": 0,
    "start_time": "2022-09-12T12:02:36.597Z"
   },
   {
    "duration": 0,
    "start_time": "2022-09-12T12:02:36.598Z"
   },
   {
    "duration": 96,
    "start_time": "2022-09-12T12:03:33.840Z"
   },
   {
    "duration": 77,
    "start_time": "2022-09-12T12:03:51.430Z"
   },
   {
    "duration": 208,
    "start_time": "2022-09-12T12:05:23.226Z"
   },
   {
    "duration": 51,
    "start_time": "2022-09-12T12:05:44.467Z"
   },
   {
    "duration": 109,
    "start_time": "2022-09-12T12:09:06.597Z"
   },
   {
    "duration": 284,
    "start_time": "2022-09-12T12:09:32.932Z"
   },
   {
    "duration": 225,
    "start_time": "2022-09-12T12:09:38.717Z"
   },
   {
    "duration": 186,
    "start_time": "2022-09-12T12:17:04.130Z"
   },
   {
    "duration": 190,
    "start_time": "2022-09-12T12:17:22.335Z"
   },
   {
    "duration": 181,
    "start_time": "2022-09-12T12:18:39.697Z"
   },
   {
    "duration": 245,
    "start_time": "2022-09-12T12:18:46.350Z"
   },
   {
    "duration": 212,
    "start_time": "2022-09-12T12:20:31.903Z"
   },
   {
    "duration": 177,
    "start_time": "2022-09-12T12:21:30.222Z"
   },
   {
    "duration": 4,
    "start_time": "2022-09-12T12:26:25.194Z"
   },
   {
    "duration": 106,
    "start_time": "2022-09-12T12:26:25.199Z"
   },
   {
    "duration": 45,
    "start_time": "2022-09-12T12:26:25.307Z"
   },
   {
    "duration": 18,
    "start_time": "2022-09-12T12:26:25.355Z"
   },
   {
    "duration": 18,
    "start_time": "2022-09-12T12:26:25.376Z"
   },
   {
    "duration": 65,
    "start_time": "2022-09-12T12:26:25.396Z"
   },
   {
    "duration": 15,
    "start_time": "2022-09-12T12:26:25.462Z"
   },
   {
    "duration": 21,
    "start_time": "2022-09-12T12:26:25.479Z"
   },
   {
    "duration": 32,
    "start_time": "2022-09-12T12:26:25.502Z"
   },
   {
    "duration": 435,
    "start_time": "2022-09-12T12:26:25.553Z"
   },
   {
    "duration": 17,
    "start_time": "2022-09-12T12:26:25.991Z"
   },
   {
    "duration": 8,
    "start_time": "2022-09-12T12:26:26.009Z"
   },
   {
    "duration": 10,
    "start_time": "2022-09-12T12:26:26.018Z"
   },
   {
    "duration": 12,
    "start_time": "2022-09-12T12:26:26.057Z"
   },
   {
    "duration": 3,
    "start_time": "2022-09-12T12:26:26.071Z"
   },
   {
    "duration": 121,
    "start_time": "2022-09-12T12:26:26.075Z"
   },
   {
    "duration": 9,
    "start_time": "2022-09-12T12:26:26.200Z"
   },
   {
    "duration": 30,
    "start_time": "2022-09-12T12:26:26.210Z"
   },
   {
    "duration": 16,
    "start_time": "2022-09-12T12:26:26.242Z"
   },
   {
    "duration": 38,
    "start_time": "2022-09-12T12:26:26.260Z"
   },
   {
    "duration": 17,
    "start_time": "2022-09-12T12:26:26.300Z"
   },
   {
    "duration": 11,
    "start_time": "2022-09-12T12:26:26.319Z"
   },
   {
    "duration": 9,
    "start_time": "2022-09-12T12:26:26.332Z"
   },
   {
    "duration": 339,
    "start_time": "2022-09-12T12:26:26.343Z"
   },
   {
    "duration": 274,
    "start_time": "2022-09-12T12:26:26.683Z"
   },
   {
    "duration": 271,
    "start_time": "2022-09-12T12:26:26.959Z"
   },
   {
    "duration": 275,
    "start_time": "2022-09-12T12:26:27.231Z"
   },
   {
    "duration": 273,
    "start_time": "2022-09-12T12:26:27.508Z"
   },
   {
    "duration": 389,
    "start_time": "2022-09-12T12:26:27.785Z"
   },
   {
    "duration": 24,
    "start_time": "2022-09-12T12:26:28.176Z"
   },
   {
    "duration": 153,
    "start_time": "2022-09-12T12:26:28.202Z"
   },
   {
    "duration": 24,
    "start_time": "2022-09-12T12:26:28.359Z"
   },
   {
    "duration": 204,
    "start_time": "2022-09-12T12:26:28.384Z"
   },
   {
    "duration": 213,
    "start_time": "2022-09-12T12:26:28.590Z"
   },
   {
    "duration": 274,
    "start_time": "2022-09-12T12:26:28.805Z"
   },
   {
    "duration": 19,
    "start_time": "2022-09-12T12:26:29.081Z"
   },
   {
    "duration": 131,
    "start_time": "2022-09-12T12:26:29.102Z"
   },
   {
    "duration": 16,
    "start_time": "2022-09-12T12:26:29.234Z"
   },
   {
    "duration": 24,
    "start_time": "2022-09-12T12:26:29.251Z"
   },
   {
    "duration": 31,
    "start_time": "2022-09-12T12:26:29.276Z"
   },
   {
    "duration": 19,
    "start_time": "2022-09-12T12:26:29.309Z"
   },
   {
    "duration": 34,
    "start_time": "2022-09-12T12:26:29.330Z"
   },
   {
    "duration": 17,
    "start_time": "2022-09-12T12:26:29.366Z"
   },
   {
    "duration": 9,
    "start_time": "2022-09-12T12:26:29.384Z"
   },
   {
    "duration": 10,
    "start_time": "2022-09-12T12:26:29.395Z"
   },
   {
    "duration": 8,
    "start_time": "2022-09-12T12:26:29.406Z"
   },
   {
    "duration": 46,
    "start_time": "2022-09-12T12:26:29.416Z"
   },
   {
    "duration": 204,
    "start_time": "2022-09-12T12:26:29.463Z"
   },
   {
    "duration": 11,
    "start_time": "2022-09-12T12:26:29.669Z"
   },
   {
    "duration": 203,
    "start_time": "2022-09-12T12:26:29.681Z"
   },
   {
    "duration": 204,
    "start_time": "2022-09-12T12:26:29.885Z"
   },
   {
    "duration": 201,
    "start_time": "2022-09-12T12:26:30.090Z"
   },
   {
    "duration": 191,
    "start_time": "2022-09-12T12:26:30.292Z"
   },
   {
    "duration": 191,
    "start_time": "2022-09-12T12:26:30.485Z"
   },
   {
    "duration": 175,
    "start_time": "2022-09-12T12:26:30.677Z"
   },
   {
    "duration": 305,
    "start_time": "2022-09-12T12:26:30.854Z"
   },
   {
    "duration": 207,
    "start_time": "2022-09-12T12:26:31.161Z"
   },
   {
    "duration": 208,
    "start_time": "2022-09-12T12:26:31.370Z"
   },
   {
    "duration": 219,
    "start_time": "2022-09-12T12:26:31.580Z"
   },
   {
    "duration": 199,
    "start_time": "2022-09-12T12:26:31.800Z"
   },
   {
    "duration": 207,
    "start_time": "2022-09-12T12:26:32.001Z"
   },
   {
    "duration": 229,
    "start_time": "2022-09-12T12:26:32.210Z"
   },
   {
    "duration": 201,
    "start_time": "2022-09-12T12:26:32.441Z"
   },
   {
    "duration": 15,
    "start_time": "2022-09-12T12:26:32.643Z"
   },
   {
    "duration": 12,
    "start_time": "2022-09-12T12:26:32.660Z"
   },
   {
    "duration": 184,
    "start_time": "2022-09-12T12:26:32.674Z"
   },
   {
    "duration": 5,
    "start_time": "2022-09-12T12:26:32.860Z"
   },
   {
    "duration": 174,
    "start_time": "2022-09-12T12:26:32.866Z"
   },
   {
    "duration": 15,
    "start_time": "2022-09-12T12:26:33.047Z"
   },
   {
    "duration": 31,
    "start_time": "2022-09-12T12:26:33.063Z"
   },
   {
    "duration": 17,
    "start_time": "2022-09-12T12:26:33.096Z"
   },
   {
    "duration": 885,
    "start_time": "2022-09-12T14:14:01.588Z"
   },
   {
    "duration": 378,
    "start_time": "2022-09-12T14:14:02.475Z"
   },
   {
    "duration": 95,
    "start_time": "2022-09-12T14:14:02.854Z"
   },
   {
    "duration": 15,
    "start_time": "2022-09-12T14:14:02.952Z"
   },
   {
    "duration": 12,
    "start_time": "2022-09-12T14:14:02.968Z"
   },
   {
    "duration": 38,
    "start_time": "2022-09-12T14:14:02.981Z"
   },
   {
    "duration": 15,
    "start_time": "2022-09-12T14:14:03.022Z"
   },
   {
    "duration": 24,
    "start_time": "2022-09-12T14:14:03.039Z"
   },
   {
    "duration": 30,
    "start_time": "2022-09-12T14:14:03.065Z"
   },
   {
    "duration": 392,
    "start_time": "2022-09-12T14:14:03.108Z"
   },
   {
    "duration": 19,
    "start_time": "2022-09-12T14:14:03.502Z"
   },
   {
    "duration": 7,
    "start_time": "2022-09-12T14:14:03.523Z"
   },
   {
    "duration": 8,
    "start_time": "2022-09-12T14:14:03.532Z"
   },
   {
    "duration": 7,
    "start_time": "2022-09-12T14:14:03.542Z"
   },
   {
    "duration": 2,
    "start_time": "2022-09-12T14:14:03.550Z"
   },
   {
    "duration": 19,
    "start_time": "2022-09-12T14:14:03.553Z"
   },
   {
    "duration": 48,
    "start_time": "2022-09-12T14:14:03.574Z"
   },
   {
    "duration": 28,
    "start_time": "2022-09-12T14:14:03.624Z"
   },
   {
    "duration": 5,
    "start_time": "2022-09-12T14:14:03.654Z"
   },
   {
    "duration": 24,
    "start_time": "2022-09-12T14:14:03.660Z"
   },
   {
    "duration": 17,
    "start_time": "2022-09-12T14:14:03.685Z"
   },
   {
    "duration": 22,
    "start_time": "2022-09-12T14:14:03.704Z"
   },
   {
    "duration": 7,
    "start_time": "2022-09-12T14:14:03.727Z"
   },
   {
    "duration": 370,
    "start_time": "2022-09-12T14:14:03.735Z"
   },
   {
    "duration": 246,
    "start_time": "2022-09-12T14:14:04.114Z"
   },
   {
    "duration": 299,
    "start_time": "2022-09-12T14:14:04.361Z"
   },
   {
    "duration": 259,
    "start_time": "2022-09-12T14:14:04.662Z"
   },
   {
    "duration": 255,
    "start_time": "2022-09-12T14:14:04.926Z"
   },
   {
    "duration": 326,
    "start_time": "2022-09-12T14:14:05.183Z"
   },
   {
    "duration": 30,
    "start_time": "2022-09-12T14:14:05.511Z"
   },
   {
    "duration": 163,
    "start_time": "2022-09-12T14:14:05.542Z"
   },
   {
    "duration": 28,
    "start_time": "2022-09-12T14:14:05.706Z"
   },
   {
    "duration": 212,
    "start_time": "2022-09-12T14:14:05.735Z"
   },
   {
    "duration": 219,
    "start_time": "2022-09-12T14:14:05.949Z"
   },
   {
    "duration": 292,
    "start_time": "2022-09-12T14:14:06.170Z"
   },
   {
    "duration": 29,
    "start_time": "2022-09-12T14:14:06.465Z"
   },
   {
    "duration": 153,
    "start_time": "2022-09-12T14:14:06.496Z"
   },
   {
    "duration": 13,
    "start_time": "2022-09-12T14:14:06.651Z"
   },
   {
    "duration": 10,
    "start_time": "2022-09-12T14:14:06.665Z"
   },
   {
    "duration": 51,
    "start_time": "2022-09-12T14:14:06.676Z"
   },
   {
    "duration": 18,
    "start_time": "2022-09-12T14:14:06.730Z"
   },
   {
    "duration": 22,
    "start_time": "2022-09-12T14:14:06.749Z"
   },
   {
    "duration": 20,
    "start_time": "2022-09-12T14:14:06.772Z"
   },
   {
    "duration": 34,
    "start_time": "2022-09-12T14:14:06.793Z"
   },
   {
    "duration": 13,
    "start_time": "2022-09-12T14:14:06.829Z"
   },
   {
    "duration": 7,
    "start_time": "2022-09-12T14:14:06.844Z"
   },
   {
    "duration": 15,
    "start_time": "2022-09-12T14:14:06.854Z"
   },
   {
    "duration": 212,
    "start_time": "2022-09-12T14:14:06.871Z"
   },
   {
    "duration": 11,
    "start_time": "2022-09-12T14:14:07.085Z"
   },
   {
    "duration": 209,
    "start_time": "2022-09-12T14:14:07.097Z"
   },
   {
    "duration": 214,
    "start_time": "2022-09-12T14:14:07.309Z"
   },
   {
    "duration": 244,
    "start_time": "2022-09-12T14:14:07.525Z"
   },
   {
    "duration": 200,
    "start_time": "2022-09-12T14:14:07.771Z"
   },
   {
    "duration": 207,
    "start_time": "2022-09-12T14:14:07.973Z"
   },
   {
    "duration": 184,
    "start_time": "2022-09-12T14:14:08.182Z"
   },
   {
    "duration": 178,
    "start_time": "2022-09-12T14:14:08.367Z"
   },
   {
    "duration": 210,
    "start_time": "2022-09-12T14:14:08.546Z"
   },
   {
    "duration": 210,
    "start_time": "2022-09-12T14:14:08.758Z"
   },
   {
    "duration": 201,
    "start_time": "2022-09-12T14:14:08.970Z"
   },
   {
    "duration": 209,
    "start_time": "2022-09-12T14:14:09.173Z"
   },
   {
    "duration": 215,
    "start_time": "2022-09-12T14:14:09.384Z"
   },
   {
    "duration": 199,
    "start_time": "2022-09-12T14:14:09.602Z"
   },
   {
    "duration": 180,
    "start_time": "2022-09-12T14:14:09.802Z"
   },
   {
    "duration": 4,
    "start_time": "2022-09-12T14:14:09.984Z"
   },
   {
    "duration": 8,
    "start_time": "2022-09-12T14:14:09.989Z"
   },
   {
    "duration": 257,
    "start_time": "2022-09-12T14:14:10.008Z"
   },
   {
    "duration": 4,
    "start_time": "2022-09-12T14:14:10.267Z"
   },
   {
    "duration": 180,
    "start_time": "2022-09-12T14:14:10.273Z"
   },
   {
    "duration": 4,
    "start_time": "2022-09-12T14:14:10.454Z"
   },
   {
    "duration": 27,
    "start_time": "2022-09-12T14:14:10.460Z"
   },
   {
    "duration": 39,
    "start_time": "2022-09-12T14:14:10.489Z"
   },
   {
    "duration": 4,
    "start_time": "2022-09-12T14:30:09.625Z"
   },
   {
    "duration": 95,
    "start_time": "2022-09-12T14:30:09.632Z"
   },
   {
    "duration": 41,
    "start_time": "2022-09-12T14:30:09.729Z"
   },
   {
    "duration": 13,
    "start_time": "2022-09-12T14:30:09.772Z"
   },
   {
    "duration": 12,
    "start_time": "2022-09-12T14:30:09.787Z"
   },
   {
    "duration": 27,
    "start_time": "2022-09-12T14:30:09.800Z"
   },
   {
    "duration": 15,
    "start_time": "2022-09-12T14:30:09.829Z"
   },
   {
    "duration": 16,
    "start_time": "2022-09-12T14:30:09.846Z"
   },
   {
    "duration": 50,
    "start_time": "2022-09-12T14:30:09.864Z"
   },
   {
    "duration": 386,
    "start_time": "2022-09-12T14:30:09.916Z"
   },
   {
    "duration": 18,
    "start_time": "2022-09-12T14:30:10.308Z"
   },
   {
    "duration": 7,
    "start_time": "2022-09-12T14:30:10.329Z"
   },
   {
    "duration": 10,
    "start_time": "2022-09-12T14:30:10.338Z"
   },
   {
    "duration": 9,
    "start_time": "2022-09-12T14:30:10.349Z"
   },
   {
    "duration": 3,
    "start_time": "2022-09-12T14:30:10.359Z"
   },
   {
    "duration": 49,
    "start_time": "2022-09-12T14:30:10.364Z"
   },
   {
    "duration": 7,
    "start_time": "2022-09-12T14:30:10.415Z"
   },
   {
    "duration": 28,
    "start_time": "2022-09-12T14:30:10.423Z"
   },
   {
    "duration": 6,
    "start_time": "2022-09-12T14:30:10.453Z"
   },
   {
    "duration": 22,
    "start_time": "2022-09-12T14:30:10.460Z"
   },
   {
    "duration": 33,
    "start_time": "2022-09-12T14:30:10.483Z"
   },
   {
    "duration": 6,
    "start_time": "2022-09-12T14:30:10.518Z"
   },
   {
    "duration": 17,
    "start_time": "2022-09-12T14:30:10.526Z"
   },
   {
    "duration": 303,
    "start_time": "2022-09-12T14:30:10.544Z"
   },
   {
    "duration": 240,
    "start_time": "2022-09-12T14:30:10.848Z"
   },
   {
    "duration": 242,
    "start_time": "2022-09-12T14:30:11.089Z"
   },
   {
    "duration": 315,
    "start_time": "2022-09-12T14:30:11.332Z"
   },
   {
    "duration": 245,
    "start_time": "2022-09-12T14:30:11.649Z"
   },
   {
    "duration": 239,
    "start_time": "2022-09-12T14:30:11.899Z"
   },
   {
    "duration": 23,
    "start_time": "2022-09-12T14:30:12.139Z"
   },
   {
    "duration": 124,
    "start_time": "2022-09-12T14:30:12.163Z"
   },
   {
    "duration": 30,
    "start_time": "2022-09-12T14:30:12.289Z"
   },
   {
    "duration": 189,
    "start_time": "2022-09-12T14:30:12.320Z"
   },
   {
    "duration": 193,
    "start_time": "2022-09-12T14:30:12.510Z"
   },
   {
    "duration": 236,
    "start_time": "2022-09-12T14:30:12.704Z"
   },
   {
    "duration": 18,
    "start_time": "2022-09-12T14:30:12.941Z"
   },
   {
    "duration": 190,
    "start_time": "2022-09-12T14:30:12.961Z"
   },
   {
    "duration": 12,
    "start_time": "2022-09-12T14:30:13.152Z"
   },
   {
    "duration": 8,
    "start_time": "2022-09-12T14:30:13.165Z"
   },
   {
    "duration": 47,
    "start_time": "2022-09-12T14:30:13.174Z"
   },
   {
    "duration": 17,
    "start_time": "2022-09-12T14:30:13.222Z"
   },
   {
    "duration": 21,
    "start_time": "2022-09-12T14:30:13.240Z"
   },
   {
    "duration": 15,
    "start_time": "2022-09-12T14:30:13.262Z"
   },
   {
    "duration": 9,
    "start_time": "2022-09-12T14:30:13.309Z"
   },
   {
    "duration": 14,
    "start_time": "2022-09-12T14:30:13.320Z"
   },
   {
    "duration": 28,
    "start_time": "2022-09-12T14:30:13.335Z"
   },
   {
    "duration": 13,
    "start_time": "2022-09-12T14:30:13.364Z"
   },
   {
    "duration": 175,
    "start_time": "2022-09-12T14:30:13.379Z"
   },
   {
    "duration": 10,
    "start_time": "2022-09-12T14:30:13.555Z"
   },
   {
    "duration": 204,
    "start_time": "2022-09-12T14:30:13.566Z"
   },
   {
    "duration": 192,
    "start_time": "2022-09-12T14:30:13.772Z"
   },
   {
    "duration": 183,
    "start_time": "2022-09-12T14:30:13.965Z"
   },
   {
    "duration": 184,
    "start_time": "2022-09-12T14:30:14.149Z"
   },
   {
    "duration": 247,
    "start_time": "2022-09-12T14:30:14.335Z"
   },
   {
    "duration": 189,
    "start_time": "2022-09-12T14:30:14.584Z"
   },
   {
    "duration": 170,
    "start_time": "2022-09-12T14:30:14.775Z"
   },
   {
    "duration": 203,
    "start_time": "2022-09-12T14:30:14.946Z"
   },
   {
    "duration": 179,
    "start_time": "2022-09-12T14:30:15.150Z"
   },
   {
    "duration": 4,
    "start_time": "2022-09-12T14:30:15.330Z"
   },
   {
    "duration": 12,
    "start_time": "2022-09-12T14:30:15.336Z"
   },
   {
    "duration": 184,
    "start_time": "2022-09-12T14:30:15.350Z"
   },
   {
    "duration": 4,
    "start_time": "2022-09-12T14:30:15.536Z"
   },
   {
    "duration": 186,
    "start_time": "2022-09-12T14:30:15.542Z"
   },
   {
    "duration": 4,
    "start_time": "2022-09-12T14:30:15.730Z"
   },
   {
    "duration": 34,
    "start_time": "2022-09-12T14:30:15.735Z"
   },
   {
    "duration": 21,
    "start_time": "2022-09-12T14:30:15.771Z"
   },
   {
    "duration": 32,
    "start_time": "2022-09-12T14:40:23.871Z"
   },
   {
    "duration": 3,
    "start_time": "2022-09-12T14:44:19.615Z"
   },
   {
    "duration": 34,
    "start_time": "2022-09-12T14:44:43.129Z"
   },
   {
    "duration": 4,
    "start_time": "2022-09-12T14:44:55.450Z"
   },
   {
    "duration": 103,
    "start_time": "2022-09-12T14:44:55.456Z"
   },
   {
    "duration": 43,
    "start_time": "2022-09-12T14:44:55.561Z"
   },
   {
    "duration": 14,
    "start_time": "2022-09-12T14:44:55.605Z"
   },
   {
    "duration": 10,
    "start_time": "2022-09-12T14:44:55.621Z"
   },
   {
    "duration": 28,
    "start_time": "2022-09-12T14:44:55.632Z"
   },
   {
    "duration": 16,
    "start_time": "2022-09-12T14:44:55.662Z"
   },
   {
    "duration": 45,
    "start_time": "2022-09-12T14:44:55.679Z"
   },
   {
    "duration": 30,
    "start_time": "2022-09-12T14:44:55.726Z"
   },
   {
    "duration": 511,
    "start_time": "2022-09-12T14:44:55.758Z"
   },
   {
    "duration": 19,
    "start_time": "2022-09-12T14:44:56.272Z"
   },
   {
    "duration": 25,
    "start_time": "2022-09-12T14:44:56.293Z"
   },
   {
    "duration": 9,
    "start_time": "2022-09-12T14:44:56.319Z"
   },
   {
    "duration": 13,
    "start_time": "2022-09-12T14:44:56.329Z"
   },
   {
    "duration": 4,
    "start_time": "2022-09-12T14:44:56.344Z"
   },
   {
    "duration": 31,
    "start_time": "2022-09-12T14:44:56.350Z"
   },
   {
    "duration": 5,
    "start_time": "2022-09-12T14:44:56.383Z"
   },
   {
    "duration": 20,
    "start_time": "2022-09-12T14:44:56.390Z"
   },
   {
    "duration": 6,
    "start_time": "2022-09-12T14:44:56.411Z"
   },
   {
    "duration": 18,
    "start_time": "2022-09-12T14:44:56.418Z"
   },
   {
    "duration": 11,
    "start_time": "2022-09-12T14:44:56.437Z"
   },
   {
    "duration": 7,
    "start_time": "2022-09-12T14:44:56.449Z"
   },
   {
    "duration": 6,
    "start_time": "2022-09-12T14:44:56.458Z"
   },
   {
    "duration": 283,
    "start_time": "2022-09-12T14:44:56.466Z"
   },
   {
    "duration": 242,
    "start_time": "2022-09-12T14:44:56.751Z"
   },
   {
    "duration": 256,
    "start_time": "2022-09-12T14:44:56.995Z"
   },
   {
    "duration": 244,
    "start_time": "2022-09-12T14:44:57.252Z"
   },
   {
    "duration": 349,
    "start_time": "2022-09-12T14:44:57.498Z"
   },
   {
    "duration": 259,
    "start_time": "2022-09-12T14:44:57.850Z"
   },
   {
    "duration": 24,
    "start_time": "2022-09-12T14:44:58.111Z"
   },
   {
    "duration": 133,
    "start_time": "2022-09-12T14:44:58.137Z"
   },
   {
    "duration": 22,
    "start_time": "2022-09-12T14:44:58.271Z"
   },
   {
    "duration": 200,
    "start_time": "2022-09-12T14:44:58.309Z"
   },
   {
    "duration": 199,
    "start_time": "2022-09-12T14:44:58.510Z"
   },
   {
    "duration": 245,
    "start_time": "2022-09-12T14:44:58.711Z"
   },
   {
    "duration": 19,
    "start_time": "2022-09-12T14:44:58.957Z"
   },
   {
    "duration": 118,
    "start_time": "2022-09-12T14:44:58.978Z"
   },
   {
    "duration": 15,
    "start_time": "2022-09-12T14:44:59.097Z"
   },
   {
    "duration": 19,
    "start_time": "2022-09-12T14:44:59.114Z"
   },
   {
    "duration": 39,
    "start_time": "2022-09-12T14:44:59.135Z"
   },
   {
    "duration": 16,
    "start_time": "2022-09-12T14:44:59.175Z"
   },
   {
    "duration": 34,
    "start_time": "2022-09-12T14:44:59.192Z"
   },
   {
    "duration": 13,
    "start_time": "2022-09-12T14:44:59.227Z"
   },
   {
    "duration": 26,
    "start_time": "2022-09-12T14:44:59.241Z"
   },
   {
    "duration": 28,
    "start_time": "2022-09-12T14:44:59.270Z"
   },
   {
    "duration": 8,
    "start_time": "2022-09-12T14:44:59.300Z"
   },
   {
    "duration": 15,
    "start_time": "2022-09-12T14:44:59.310Z"
   },
   {
    "duration": 185,
    "start_time": "2022-09-12T14:44:59.326Z"
   },
   {
    "duration": 11,
    "start_time": "2022-09-12T14:44:59.513Z"
   },
   {
    "duration": 196,
    "start_time": "2022-09-12T14:44:59.525Z"
   },
   {
    "duration": 188,
    "start_time": "2022-09-12T14:44:59.722Z"
   },
   {
    "duration": 183,
    "start_time": "2022-09-12T14:44:59.912Z"
   },
   {
    "duration": 198,
    "start_time": "2022-09-12T14:45:00.097Z"
   },
   {
    "duration": 309,
    "start_time": "2022-09-12T14:45:00.297Z"
   },
   {
    "duration": 179,
    "start_time": "2022-09-12T14:45:00.609Z"
   },
   {
    "duration": 177,
    "start_time": "2022-09-12T14:45:00.789Z"
   },
   {
    "duration": 210,
    "start_time": "2022-09-12T14:45:00.968Z"
   },
   {
    "duration": 191,
    "start_time": "2022-09-12T14:45:01.180Z"
   },
   {
    "duration": 4,
    "start_time": "2022-09-12T14:45:01.372Z"
   },
   {
    "duration": 35,
    "start_time": "2022-09-12T14:45:01.378Z"
   },
   {
    "duration": 192,
    "start_time": "2022-09-12T14:45:01.415Z"
   },
   {
    "duration": 4,
    "start_time": "2022-09-12T14:45:01.609Z"
   },
   {
    "duration": 194,
    "start_time": "2022-09-12T14:45:01.615Z"
   },
   {
    "duration": 4,
    "start_time": "2022-09-12T14:45:01.811Z"
   },
   {
    "duration": 36,
    "start_time": "2022-09-12T14:45:01.816Z"
   },
   {
    "duration": 19,
    "start_time": "2022-09-12T14:45:01.854Z"
   },
   {
    "duration": 41,
    "start_time": "2022-09-12T14:45:01.874Z"
   },
   {
    "duration": 673,
    "start_time": "2022-09-12T14:45:25.987Z"
   },
   {
    "duration": 98,
    "start_time": "2022-09-12T14:45:26.662Z"
   },
   {
    "duration": 43,
    "start_time": "2022-09-12T14:45:26.761Z"
   },
   {
    "duration": 15,
    "start_time": "2022-09-12T14:45:26.806Z"
   },
   {
    "duration": 20,
    "start_time": "2022-09-12T14:45:26.822Z"
   },
   {
    "duration": 31,
    "start_time": "2022-09-12T14:45:26.843Z"
   },
   {
    "duration": 15,
    "start_time": "2022-09-12T14:45:26.875Z"
   },
   {
    "duration": 26,
    "start_time": "2022-09-12T14:45:26.892Z"
   },
   {
    "duration": 28,
    "start_time": "2022-09-12T14:45:26.920Z"
   },
   {
    "duration": 429,
    "start_time": "2022-09-12T14:45:26.951Z"
   },
   {
    "duration": 17,
    "start_time": "2022-09-12T14:45:27.382Z"
   },
   {
    "duration": 7,
    "start_time": "2022-09-12T14:45:27.409Z"
   },
   {
    "duration": 10,
    "start_time": "2022-09-12T14:45:27.417Z"
   },
   {
    "duration": 20,
    "start_time": "2022-09-12T14:45:27.429Z"
   },
   {
    "duration": 3,
    "start_time": "2022-09-12T14:45:27.451Z"
   },
   {
    "duration": 22,
    "start_time": "2022-09-12T14:45:27.455Z"
   },
   {
    "duration": 6,
    "start_time": "2022-09-12T14:45:27.478Z"
   },
   {
    "duration": 34,
    "start_time": "2022-09-12T14:45:27.485Z"
   },
   {
    "duration": 8,
    "start_time": "2022-09-12T14:45:27.520Z"
   },
   {
    "duration": 29,
    "start_time": "2022-09-12T14:45:27.530Z"
   },
   {
    "duration": 18,
    "start_time": "2022-09-12T14:45:27.560Z"
   },
   {
    "duration": 43,
    "start_time": "2022-09-12T14:45:27.580Z"
   },
   {
    "duration": 57,
    "start_time": "2022-09-12T14:45:27.625Z"
   },
   {
    "duration": 389,
    "start_time": "2022-09-12T14:45:27.684Z"
   },
   {
    "duration": 252,
    "start_time": "2022-09-12T14:45:28.075Z"
   },
   {
    "duration": 263,
    "start_time": "2022-09-12T14:45:28.329Z"
   },
   {
    "duration": 238,
    "start_time": "2022-09-12T14:45:28.593Z"
   },
   {
    "duration": 256,
    "start_time": "2022-09-12T14:45:28.835Z"
   },
   {
    "duration": 318,
    "start_time": "2022-09-12T14:45:29.093Z"
   },
   {
    "duration": 25,
    "start_time": "2022-09-12T14:45:29.413Z"
   },
   {
    "duration": 129,
    "start_time": "2022-09-12T14:45:29.439Z"
   },
   {
    "duration": 21,
    "start_time": "2022-09-12T14:45:29.569Z"
   },
   {
    "duration": 193,
    "start_time": "2022-09-12T14:45:29.592Z"
   },
   {
    "duration": 193,
    "start_time": "2022-09-12T14:45:29.787Z"
   },
   {
    "duration": 250,
    "start_time": "2022-09-12T14:45:29.981Z"
   },
   {
    "duration": 19,
    "start_time": "2022-09-12T14:45:30.232Z"
   },
   {
    "duration": 120,
    "start_time": "2022-09-12T14:45:30.253Z"
   },
   {
    "duration": 12,
    "start_time": "2022-09-12T14:45:30.374Z"
   },
   {
    "duration": 22,
    "start_time": "2022-09-12T14:45:30.388Z"
   },
   {
    "duration": 37,
    "start_time": "2022-09-12T14:45:30.411Z"
   },
   {
    "duration": 22,
    "start_time": "2022-09-12T14:45:30.450Z"
   },
   {
    "duration": 30,
    "start_time": "2022-09-12T14:45:30.473Z"
   },
   {
    "duration": 13,
    "start_time": "2022-09-12T14:45:30.509Z"
   },
   {
    "duration": 54,
    "start_time": "2022-09-12T14:45:30.523Z"
   },
   {
    "duration": 31,
    "start_time": "2022-09-12T14:45:30.578Z"
   },
   {
    "duration": 26,
    "start_time": "2022-09-12T14:45:30.611Z"
   },
   {
    "duration": 76,
    "start_time": "2022-09-12T14:45:30.638Z"
   },
   {
    "duration": 190,
    "start_time": "2022-09-12T14:45:30.715Z"
   },
   {
    "duration": 11,
    "start_time": "2022-09-12T14:45:30.907Z"
   },
   {
    "duration": 207,
    "start_time": "2022-09-12T14:45:30.920Z"
   },
   {
    "duration": 204,
    "start_time": "2022-09-12T14:45:31.129Z"
   },
   {
    "duration": 241,
    "start_time": "2022-09-12T14:45:31.334Z"
   },
   {
    "duration": 184,
    "start_time": "2022-09-12T14:45:31.576Z"
   },
   {
    "duration": 188,
    "start_time": "2022-09-12T14:45:31.762Z"
   },
   {
    "duration": 177,
    "start_time": "2022-09-12T14:45:31.952Z"
   },
   {
    "duration": 170,
    "start_time": "2022-09-12T14:45:32.131Z"
   },
   {
    "duration": 218,
    "start_time": "2022-09-12T14:45:32.303Z"
   },
   {
    "duration": 188,
    "start_time": "2022-09-12T14:45:32.522Z"
   },
   {
    "duration": 5,
    "start_time": "2022-09-12T14:45:32.712Z"
   },
   {
    "duration": 15,
    "start_time": "2022-09-12T14:45:32.719Z"
   },
   {
    "duration": 182,
    "start_time": "2022-09-12T14:45:32.735Z"
   },
   {
    "duration": 3,
    "start_time": "2022-09-12T14:45:32.919Z"
   },
   {
    "duration": 186,
    "start_time": "2022-09-12T14:45:32.924Z"
   },
   {
    "duration": 4,
    "start_time": "2022-09-12T14:45:33.112Z"
   },
   {
    "duration": 36,
    "start_time": "2022-09-12T14:45:33.117Z"
   },
   {
    "duration": 18,
    "start_time": "2022-09-12T14:45:33.155Z"
   },
   {
    "duration": 39,
    "start_time": "2022-09-12T14:45:33.174Z"
   },
   {
    "duration": 11,
    "start_time": "2022-09-12T14:46:01.371Z"
   },
   {
    "duration": 29,
    "start_time": "2022-09-12T14:47:26.764Z"
   },
   {
    "duration": 599,
    "start_time": "2022-09-12T14:47:51.174Z"
   },
   {
    "duration": 97,
    "start_time": "2022-09-12T14:47:51.774Z"
   },
   {
    "duration": 41,
    "start_time": "2022-09-12T14:47:51.873Z"
   },
   {
    "duration": 14,
    "start_time": "2022-09-12T14:47:51.916Z"
   },
   {
    "duration": 8,
    "start_time": "2022-09-12T14:47:51.932Z"
   },
   {
    "duration": 25,
    "start_time": "2022-09-12T14:47:51.942Z"
   },
   {
    "duration": 14,
    "start_time": "2022-09-12T14:47:51.969Z"
   },
   {
    "duration": 15,
    "start_time": "2022-09-12T14:47:52.009Z"
   },
   {
    "duration": 28,
    "start_time": "2022-09-12T14:47:52.025Z"
   },
   {
    "duration": 394,
    "start_time": "2022-09-12T14:47:52.055Z"
   },
   {
    "duration": 17,
    "start_time": "2022-09-12T14:47:52.451Z"
   },
   {
    "duration": 7,
    "start_time": "2022-09-12T14:47:52.469Z"
   },
   {
    "duration": 8,
    "start_time": "2022-09-12T14:47:52.478Z"
   },
   {
    "duration": 27,
    "start_time": "2022-09-12T14:47:52.487Z"
   },
   {
    "duration": 8,
    "start_time": "2022-09-12T14:47:52.516Z"
   },
   {
    "duration": 21,
    "start_time": "2022-09-12T14:47:52.525Z"
   },
   {
    "duration": 6,
    "start_time": "2022-09-12T14:47:52.547Z"
   },
   {
    "duration": 23,
    "start_time": "2022-09-12T14:47:52.554Z"
   },
   {
    "duration": 5,
    "start_time": "2022-09-12T14:47:52.579Z"
   },
   {
    "duration": 42,
    "start_time": "2022-09-12T14:47:52.585Z"
   },
   {
    "duration": 17,
    "start_time": "2022-09-12T14:47:52.629Z"
   },
   {
    "duration": 13,
    "start_time": "2022-09-12T14:47:52.648Z"
   },
   {
    "duration": 8,
    "start_time": "2022-09-12T14:47:52.663Z"
   },
   {
    "duration": 368,
    "start_time": "2022-09-12T14:47:52.673Z"
   },
   {
    "duration": 243,
    "start_time": "2022-09-12T14:47:53.042Z"
   },
   {
    "duration": 244,
    "start_time": "2022-09-12T14:47:53.287Z"
   },
   {
    "duration": 255,
    "start_time": "2022-09-12T14:47:53.532Z"
   },
   {
    "duration": 254,
    "start_time": "2022-09-12T14:47:53.791Z"
   },
   {
    "duration": 309,
    "start_time": "2022-09-12T14:47:54.047Z"
   },
   {
    "duration": 30,
    "start_time": "2022-09-12T14:47:54.357Z"
   },
   {
    "duration": 160,
    "start_time": "2022-09-12T14:47:54.389Z"
   },
   {
    "duration": 28,
    "start_time": "2022-09-12T14:47:54.551Z"
   },
   {
    "duration": 221,
    "start_time": "2022-09-12T14:47:54.581Z"
   },
   {
    "duration": 190,
    "start_time": "2022-09-12T14:47:54.808Z"
   },
   {
    "duration": 240,
    "start_time": "2022-09-12T14:47:55.009Z"
   },
   {
    "duration": 26,
    "start_time": "2022-09-12T14:47:55.251Z"
   },
   {
    "duration": 124,
    "start_time": "2022-09-12T14:47:55.280Z"
   },
   {
    "duration": 14,
    "start_time": "2022-09-12T14:47:55.406Z"
   },
   {
    "duration": 7,
    "start_time": "2022-09-12T14:47:55.421Z"
   },
   {
    "duration": 32,
    "start_time": "2022-09-12T14:47:55.430Z"
   },
   {
    "duration": 46,
    "start_time": "2022-09-12T14:47:55.464Z"
   },
   {
    "duration": 28,
    "start_time": "2022-09-12T14:47:55.512Z"
   },
   {
    "duration": 18,
    "start_time": "2022-09-12T14:47:55.541Z"
   },
   {
    "duration": 8,
    "start_time": "2022-09-12T14:47:55.561Z"
   },
   {
    "duration": 9,
    "start_time": "2022-09-12T14:47:55.570Z"
   },
   {
    "duration": 33,
    "start_time": "2022-09-12T14:47:55.581Z"
   },
   {
    "duration": 15,
    "start_time": "2022-09-12T14:47:55.616Z"
   },
   {
    "duration": 195,
    "start_time": "2022-09-12T14:47:55.633Z"
   },
   {
    "duration": 11,
    "start_time": "2022-09-12T14:47:55.829Z"
   },
   {
    "duration": 202,
    "start_time": "2022-09-12T14:47:55.842Z"
   },
   {
    "duration": 201,
    "start_time": "2022-09-12T14:47:56.046Z"
   },
   {
    "duration": 260,
    "start_time": "2022-09-12T14:47:56.250Z"
   },
   {
    "duration": 211,
    "start_time": "2022-09-12T14:47:56.511Z"
   },
   {
    "duration": 203,
    "start_time": "2022-09-12T14:47:56.723Z"
   },
   {
    "duration": 189,
    "start_time": "2022-09-12T14:47:56.927Z"
   },
   {
    "duration": 175,
    "start_time": "2022-09-12T14:47:57.118Z"
   },
   {
    "duration": 210,
    "start_time": "2022-09-12T14:47:57.295Z"
   },
   {
    "duration": 180,
    "start_time": "2022-09-12T14:47:57.509Z"
   },
   {
    "duration": 4,
    "start_time": "2022-09-12T14:47:57.691Z"
   },
   {
    "duration": 6,
    "start_time": "2022-09-12T14:47:57.709Z"
   },
   {
    "duration": 192,
    "start_time": "2022-09-12T14:47:57.717Z"
   },
   {
    "duration": 4,
    "start_time": "2022-09-12T14:47:57.910Z"
   },
   {
    "duration": 187,
    "start_time": "2022-09-12T14:47:57.916Z"
   },
   {
    "duration": 7,
    "start_time": "2022-09-12T14:47:58.104Z"
   },
   {
    "duration": 33,
    "start_time": "2022-09-12T14:47:58.113Z"
   },
   {
    "duration": 27,
    "start_time": "2022-09-12T14:47:58.148Z"
   },
   {
    "duration": 47,
    "start_time": "2022-09-12T14:47:58.177Z"
   },
   {
    "duration": 242,
    "start_time": "2022-09-12T14:54:55.959Z"
   },
   {
    "duration": 10,
    "start_time": "2022-09-12T14:55:58.819Z"
   },
   {
    "duration": 16,
    "start_time": "2022-09-12T14:56:21.551Z"
   },
   {
    "duration": 11,
    "start_time": "2022-09-12T14:56:38.098Z"
   },
   {
    "duration": 3,
    "start_time": "2022-09-12T14:56:53.706Z"
   },
   {
    "duration": 97,
    "start_time": "2022-09-12T14:56:53.711Z"
   },
   {
    "duration": 40,
    "start_time": "2022-09-12T14:56:53.810Z"
   },
   {
    "duration": 14,
    "start_time": "2022-09-12T14:56:53.852Z"
   },
   {
    "duration": 10,
    "start_time": "2022-09-12T14:56:53.869Z"
   },
   {
    "duration": 47,
    "start_time": "2022-09-12T14:56:53.881Z"
   },
   {
    "duration": 18,
    "start_time": "2022-09-12T14:56:53.930Z"
   },
   {
    "duration": 27,
    "start_time": "2022-09-12T14:56:53.950Z"
   },
   {
    "duration": 112,
    "start_time": "2022-09-12T14:56:53.979Z"
   },
   {
    "duration": 421,
    "start_time": "2022-09-12T14:56:54.092Z"
   },
   {
    "duration": 25,
    "start_time": "2022-09-12T14:56:54.516Z"
   },
   {
    "duration": 22,
    "start_time": "2022-09-12T14:56:54.542Z"
   },
   {
    "duration": 15,
    "start_time": "2022-09-12T14:56:54.566Z"
   },
   {
    "duration": 42,
    "start_time": "2022-09-12T14:56:54.583Z"
   },
   {
    "duration": 25,
    "start_time": "2022-09-12T14:56:54.627Z"
   },
   {
    "duration": 33,
    "start_time": "2022-09-12T14:56:54.654Z"
   },
   {
    "duration": 8,
    "start_time": "2022-09-12T14:56:54.688Z"
   },
   {
    "duration": 35,
    "start_time": "2022-09-12T14:56:54.698Z"
   },
   {
    "duration": 20,
    "start_time": "2022-09-12T14:56:54.734Z"
   },
   {
    "duration": 27,
    "start_time": "2022-09-12T14:56:54.756Z"
   },
   {
    "duration": 31,
    "start_time": "2022-09-12T14:56:54.785Z"
   },
   {
    "duration": 37,
    "start_time": "2022-09-12T14:56:54.817Z"
   },
   {
    "duration": 37,
    "start_time": "2022-09-12T14:56:54.856Z"
   },
   {
    "duration": 279,
    "start_time": "2022-09-12T14:56:54.895Z"
   },
   {
    "duration": 247,
    "start_time": "2022-09-12T14:56:55.175Z"
   },
   {
    "duration": 257,
    "start_time": "2022-09-12T14:56:55.424Z"
   },
   {
    "duration": 269,
    "start_time": "2022-09-12T14:56:55.683Z"
   },
   {
    "duration": 399,
    "start_time": "2022-09-12T14:56:55.953Z"
   },
   {
    "duration": 270,
    "start_time": "2022-09-12T14:56:56.357Z"
   },
   {
    "duration": 26,
    "start_time": "2022-09-12T14:56:56.629Z"
   },
   {
    "duration": 136,
    "start_time": "2022-09-12T14:56:56.656Z"
   },
   {
    "duration": 34,
    "start_time": "2022-09-12T14:56:56.794Z"
   },
   {
    "duration": 200,
    "start_time": "2022-09-12T14:56:56.830Z"
   },
   {
    "duration": 204,
    "start_time": "2022-09-12T14:56:57.032Z"
   },
   {
    "duration": 261,
    "start_time": "2022-09-12T14:56:57.238Z"
   },
   {
    "duration": 26,
    "start_time": "2022-09-12T14:56:57.501Z"
   },
   {
    "duration": 118,
    "start_time": "2022-09-12T14:56:57.529Z"
   },
   {
    "duration": 13,
    "start_time": "2022-09-12T14:56:57.649Z"
   },
   {
    "duration": 12,
    "start_time": "2022-09-12T14:56:57.663Z"
   },
   {
    "duration": 128,
    "start_time": "2022-09-12T14:56:57.676Z"
   },
   {
    "duration": 16,
    "start_time": "2022-09-12T14:56:57.808Z"
   },
   {
    "duration": 36,
    "start_time": "2022-09-12T14:56:57.826Z"
   },
   {
    "duration": 36,
    "start_time": "2022-09-12T14:56:57.864Z"
   },
   {
    "duration": 11,
    "start_time": "2022-09-12T14:56:57.901Z"
   },
   {
    "duration": 32,
    "start_time": "2022-09-12T14:56:57.913Z"
   },
   {
    "duration": 15,
    "start_time": "2022-09-12T14:56:57.947Z"
   },
   {
    "duration": 32,
    "start_time": "2022-09-12T14:56:57.963Z"
   },
   {
    "duration": 203,
    "start_time": "2022-09-12T14:56:57.996Z"
   },
   {
    "duration": 15,
    "start_time": "2022-09-12T14:56:58.201Z"
   },
   {
    "duration": 209,
    "start_time": "2022-09-12T14:56:58.218Z"
   },
   {
    "duration": 191,
    "start_time": "2022-09-12T14:56:58.428Z"
   },
   {
    "duration": 183,
    "start_time": "2022-09-12T14:56:58.621Z"
   },
   {
    "duration": 187,
    "start_time": "2022-09-12T14:56:58.805Z"
   },
   {
    "duration": 203,
    "start_time": "2022-09-12T14:56:58.994Z"
   },
   {
    "duration": 186,
    "start_time": "2022-09-12T14:56:59.198Z"
   },
   {
    "duration": 168,
    "start_time": "2022-09-12T14:56:59.385Z"
   },
   {
    "duration": 207,
    "start_time": "2022-09-12T14:56:59.554Z"
   },
   {
    "duration": 165,
    "start_time": "2022-09-12T14:56:59.762Z"
   },
   {
    "duration": 3,
    "start_time": "2022-09-12T14:56:59.929Z"
   },
   {
    "duration": 29,
    "start_time": "2022-09-12T14:56:59.933Z"
   },
   {
    "duration": 179,
    "start_time": "2022-09-12T14:56:59.964Z"
   },
   {
    "duration": 4,
    "start_time": "2022-09-12T14:57:00.145Z"
   },
   {
    "duration": 195,
    "start_time": "2022-09-12T14:57:00.150Z"
   },
   {
    "duration": 4,
    "start_time": "2022-09-12T14:57:00.347Z"
   },
   {
    "duration": 80,
    "start_time": "2022-09-12T14:57:00.353Z"
   },
   {
    "duration": 45,
    "start_time": "2022-09-12T14:57:00.435Z"
   },
   {
    "duration": 27,
    "start_time": "2022-09-12T14:57:00.483Z"
   },
   {
    "duration": 697,
    "start_time": "2022-09-12T14:57:09.876Z"
   },
   {
    "duration": 97,
    "start_time": "2022-09-12T14:57:10.575Z"
   },
   {
    "duration": 40,
    "start_time": "2022-09-12T14:57:10.674Z"
   },
   {
    "duration": 13,
    "start_time": "2022-09-12T14:57:10.716Z"
   },
   {
    "duration": 8,
    "start_time": "2022-09-12T14:57:10.731Z"
   },
   {
    "duration": 29,
    "start_time": "2022-09-12T14:57:10.741Z"
   },
   {
    "duration": 14,
    "start_time": "2022-09-12T14:57:10.772Z"
   },
   {
    "duration": 34,
    "start_time": "2022-09-12T14:57:10.787Z"
   },
   {
    "duration": 27,
    "start_time": "2022-09-12T14:57:10.823Z"
   },
   {
    "duration": 410,
    "start_time": "2022-09-12T14:57:10.852Z"
   },
   {
    "duration": 24,
    "start_time": "2022-09-12T14:57:11.264Z"
   },
   {
    "duration": 8,
    "start_time": "2022-09-12T14:57:11.289Z"
   },
   {
    "duration": 7,
    "start_time": "2022-09-12T14:57:11.308Z"
   },
   {
    "duration": 14,
    "start_time": "2022-09-12T14:57:11.316Z"
   },
   {
    "duration": 19,
    "start_time": "2022-09-12T14:57:11.332Z"
   },
   {
    "duration": 17,
    "start_time": "2022-09-12T14:57:11.353Z"
   },
   {
    "duration": 5,
    "start_time": "2022-09-12T14:57:11.371Z"
   },
   {
    "duration": 15,
    "start_time": "2022-09-12T14:57:11.378Z"
   },
   {
    "duration": 16,
    "start_time": "2022-09-12T14:57:11.395Z"
   },
   {
    "duration": 17,
    "start_time": "2022-09-12T14:57:11.413Z"
   },
   {
    "duration": 10,
    "start_time": "2022-09-12T14:57:11.432Z"
   },
   {
    "duration": 9,
    "start_time": "2022-09-12T14:57:11.443Z"
   },
   {
    "duration": 8,
    "start_time": "2022-09-12T14:57:11.454Z"
   },
   {
    "duration": 395,
    "start_time": "2022-09-12T14:57:11.464Z"
   },
   {
    "duration": 237,
    "start_time": "2022-09-12T14:57:11.861Z"
   },
   {
    "duration": 250,
    "start_time": "2022-09-12T14:57:12.099Z"
   },
   {
    "duration": 236,
    "start_time": "2022-09-12T14:57:12.351Z"
   },
   {
    "duration": 249,
    "start_time": "2022-09-12T14:57:12.591Z"
   },
   {
    "duration": 296,
    "start_time": "2022-09-12T14:57:12.842Z"
   },
   {
    "duration": 24,
    "start_time": "2022-09-12T14:57:13.140Z"
   },
   {
    "duration": 128,
    "start_time": "2022-09-12T14:57:13.165Z"
   },
   {
    "duration": 30,
    "start_time": "2022-09-12T14:57:13.295Z"
   },
   {
    "duration": 186,
    "start_time": "2022-09-12T14:57:13.327Z"
   },
   {
    "duration": 196,
    "start_time": "2022-09-12T14:57:13.515Z"
   },
   {
    "duration": 222,
    "start_time": "2022-09-12T14:57:13.712Z"
   },
   {
    "duration": 19,
    "start_time": "2022-09-12T14:57:13.936Z"
   },
   {
    "duration": 121,
    "start_time": "2022-09-12T14:57:13.956Z"
   },
   {
    "duration": 13,
    "start_time": "2022-09-12T14:57:14.079Z"
   },
   {
    "duration": 19,
    "start_time": "2022-09-12T14:57:14.094Z"
   },
   {
    "duration": 32,
    "start_time": "2022-09-12T14:57:14.115Z"
   },
   {
    "duration": 16,
    "start_time": "2022-09-12T14:57:14.149Z"
   },
   {
    "duration": 44,
    "start_time": "2022-09-12T14:57:14.167Z"
   },
   {
    "duration": 13,
    "start_time": "2022-09-12T14:57:14.212Z"
   },
   {
    "duration": 6,
    "start_time": "2022-09-12T14:57:14.226Z"
   },
   {
    "duration": 9,
    "start_time": "2022-09-12T14:57:14.233Z"
   },
   {
    "duration": 7,
    "start_time": "2022-09-12T14:57:14.243Z"
   },
   {
    "duration": 11,
    "start_time": "2022-09-12T14:57:14.251Z"
   },
   {
    "duration": 218,
    "start_time": "2022-09-12T14:57:14.263Z"
   },
   {
    "duration": 12,
    "start_time": "2022-09-12T14:57:14.483Z"
   },
   {
    "duration": 221,
    "start_time": "2022-09-12T14:57:14.497Z"
   },
   {
    "duration": 181,
    "start_time": "2022-09-12T14:57:14.719Z"
   },
   {
    "duration": 247,
    "start_time": "2022-09-12T14:57:14.901Z"
   },
   {
    "duration": 200,
    "start_time": "2022-09-12T14:57:15.150Z"
   },
   {
    "duration": 193,
    "start_time": "2022-09-12T14:57:15.351Z"
   },
   {
    "duration": 188,
    "start_time": "2022-09-12T14:57:15.546Z"
   },
   {
    "duration": 175,
    "start_time": "2022-09-12T14:57:15.736Z"
   },
   {
    "duration": 204,
    "start_time": "2022-09-12T14:57:15.912Z"
   },
   {
    "duration": 193,
    "start_time": "2022-09-12T14:57:16.118Z"
   },
   {
    "duration": 4,
    "start_time": "2022-09-12T14:57:16.312Z"
   },
   {
    "duration": 11,
    "start_time": "2022-09-12T14:57:16.318Z"
   },
   {
    "duration": 195,
    "start_time": "2022-09-12T14:57:16.331Z"
   },
   {
    "duration": 5,
    "start_time": "2022-09-12T14:57:16.527Z"
   },
   {
    "duration": 214,
    "start_time": "2022-09-12T14:57:16.533Z"
   },
   {
    "duration": 4,
    "start_time": "2022-09-12T14:57:16.749Z"
   },
   {
    "duration": 37,
    "start_time": "2022-09-12T14:57:16.755Z"
   },
   {
    "duration": 34,
    "start_time": "2022-09-12T14:57:16.793Z"
   },
   {
    "duration": 18,
    "start_time": "2022-09-12T14:57:16.828Z"
   },
   {
    "duration": 13,
    "start_time": "2022-09-12T14:58:40.693Z"
   },
   {
    "duration": 18,
    "start_time": "2022-09-12T14:58:53.037Z"
   },
   {
    "duration": 12,
    "start_time": "2022-09-12T14:59:18.404Z"
   },
   {
    "duration": 640,
    "start_time": "2022-09-12T15:01:32.390Z"
   },
   {
    "duration": 233,
    "start_time": "2022-09-12T15:01:58.392Z"
   },
   {
    "duration": 732,
    "start_time": "2022-09-12T15:02:08.734Z"
   },
   {
    "duration": 545,
    "start_time": "2022-09-12T15:02:46.555Z"
   },
   {
    "duration": 11,
    "start_time": "2022-09-12T15:05:45.984Z"
   },
   {
    "duration": 22,
    "start_time": "2022-09-12T15:06:15.346Z"
   },
   {
    "duration": 28,
    "start_time": "2022-09-12T15:07:01.640Z"
   },
   {
    "duration": 3,
    "start_time": "2022-09-12T15:07:40.300Z"
   },
   {
    "duration": 98,
    "start_time": "2022-09-12T15:07:40.307Z"
   },
   {
    "duration": 42,
    "start_time": "2022-09-12T15:07:40.408Z"
   },
   {
    "duration": 16,
    "start_time": "2022-09-12T15:07:40.452Z"
   },
   {
    "duration": 10,
    "start_time": "2022-09-12T15:07:40.470Z"
   },
   {
    "duration": 28,
    "start_time": "2022-09-12T15:07:40.482Z"
   },
   {
    "duration": 14,
    "start_time": "2022-09-12T15:07:40.512Z"
   },
   {
    "duration": 26,
    "start_time": "2022-09-12T15:07:40.528Z"
   },
   {
    "duration": 29,
    "start_time": "2022-09-12T15:07:40.555Z"
   },
   {
    "duration": 497,
    "start_time": "2022-09-12T15:07:40.585Z"
   },
   {
    "duration": 27,
    "start_time": "2022-09-12T15:07:41.085Z"
   },
   {
    "duration": 8,
    "start_time": "2022-09-12T15:07:41.114Z"
   },
   {
    "duration": 9,
    "start_time": "2022-09-12T15:07:41.124Z"
   },
   {
    "duration": 9,
    "start_time": "2022-09-12T15:07:41.134Z"
   },
   {
    "duration": 9,
    "start_time": "2022-09-12T15:07:41.144Z"
   },
   {
    "duration": 17,
    "start_time": "2022-09-12T15:07:41.154Z"
   },
   {
    "duration": 5,
    "start_time": "2022-09-12T15:07:41.173Z"
   },
   {
    "duration": 14,
    "start_time": "2022-09-12T15:07:41.209Z"
   },
   {
    "duration": 6,
    "start_time": "2022-09-12T15:07:41.225Z"
   },
   {
    "duration": 16,
    "start_time": "2022-09-12T15:07:41.232Z"
   },
   {
    "duration": 15,
    "start_time": "2022-09-12T15:07:41.249Z"
   },
   {
    "duration": 18,
    "start_time": "2022-09-12T15:07:41.266Z"
   },
   {
    "duration": 23,
    "start_time": "2022-09-12T15:07:41.286Z"
   },
   {
    "duration": 253,
    "start_time": "2022-09-12T15:07:41.310Z"
   },
   {
    "duration": 246,
    "start_time": "2022-09-12T15:07:41.565Z"
   },
   {
    "duration": 243,
    "start_time": "2022-09-12T15:07:41.813Z"
   },
   {
    "duration": 228,
    "start_time": "2022-09-12T15:07:42.057Z"
   },
   {
    "duration": 242,
    "start_time": "2022-09-12T15:07:42.287Z"
   },
   {
    "duration": 319,
    "start_time": "2022-09-12T15:07:42.532Z"
   },
   {
    "duration": 23,
    "start_time": "2022-09-12T15:07:42.852Z"
   },
   {
    "duration": 123,
    "start_time": "2022-09-12T15:07:42.877Z"
   },
   {
    "duration": 26,
    "start_time": "2022-09-12T15:07:43.001Z"
   },
   {
    "duration": 189,
    "start_time": "2022-09-12T15:07:43.028Z"
   },
   {
    "duration": 202,
    "start_time": "2022-09-12T15:07:43.219Z"
   },
   {
    "duration": 230,
    "start_time": "2022-09-12T15:07:43.422Z"
   },
   {
    "duration": 21,
    "start_time": "2022-09-12T15:07:43.654Z"
   },
   {
    "duration": 126,
    "start_time": "2022-09-12T15:07:43.676Z"
   },
   {
    "duration": 15,
    "start_time": "2022-09-12T15:07:43.803Z"
   },
   {
    "duration": 8,
    "start_time": "2022-09-12T15:07:43.819Z"
   },
   {
    "duration": 28,
    "start_time": "2022-09-12T15:07:43.828Z"
   },
   {
    "duration": 15,
    "start_time": "2022-09-12T15:07:43.858Z"
   },
   {
    "duration": 46,
    "start_time": "2022-09-12T15:07:43.875Z"
   },
   {
    "duration": 22,
    "start_time": "2022-09-12T15:07:43.924Z"
   },
   {
    "duration": 7,
    "start_time": "2022-09-12T15:07:43.947Z"
   },
   {
    "duration": 7,
    "start_time": "2022-09-12T15:07:43.955Z"
   },
   {
    "duration": 6,
    "start_time": "2022-09-12T15:07:43.963Z"
   },
   {
    "duration": 16,
    "start_time": "2022-09-12T15:07:43.970Z"
   },
   {
    "duration": 198,
    "start_time": "2022-09-12T15:07:43.987Z"
   },
   {
    "duration": 10,
    "start_time": "2022-09-12T15:07:44.187Z"
   },
   {
    "duration": 202,
    "start_time": "2022-09-12T15:07:44.198Z"
   },
   {
    "duration": 227,
    "start_time": "2022-09-12T15:07:44.401Z"
   },
   {
    "duration": 180,
    "start_time": "2022-09-12T15:07:44.629Z"
   },
   {
    "duration": 274,
    "start_time": "2022-09-12T15:07:44.811Z"
   },
   {
    "duration": 194,
    "start_time": "2022-09-12T15:07:45.087Z"
   },
   {
    "duration": 180,
    "start_time": "2022-09-12T15:07:45.283Z"
   },
   {
    "duration": 181,
    "start_time": "2022-09-12T15:07:45.465Z"
   },
   {
    "duration": 211,
    "start_time": "2022-09-12T15:07:45.647Z"
   },
   {
    "duration": 179,
    "start_time": "2022-09-12T15:07:45.859Z"
   },
   {
    "duration": 4,
    "start_time": "2022-09-12T15:07:46.039Z"
   },
   {
    "duration": 14,
    "start_time": "2022-09-12T15:07:46.044Z"
   },
   {
    "duration": 198,
    "start_time": "2022-09-12T15:07:46.059Z"
   },
   {
    "duration": 4,
    "start_time": "2022-09-12T15:07:46.260Z"
   },
   {
    "duration": 188,
    "start_time": "2022-09-12T15:07:46.266Z"
   },
   {
    "duration": 5,
    "start_time": "2022-09-12T15:07:46.456Z"
   },
   {
    "duration": 22,
    "start_time": "2022-09-12T15:07:46.462Z"
   },
   {
    "duration": 555,
    "start_time": "2022-09-12T15:07:46.486Z"
   },
   {
    "duration": 0,
    "start_time": "2022-09-12T15:07:47.042Z"
   },
   {
    "duration": 0,
    "start_time": "2022-09-12T15:07:47.043Z"
   },
   {
    "duration": 21,
    "start_time": "2022-09-12T15:09:07.943Z"
   },
   {
    "duration": 14,
    "start_time": "2022-09-12T15:10:17.991Z"
   },
   {
    "duration": 9,
    "start_time": "2022-09-12T15:11:02.354Z"
   },
   {
    "duration": 249,
    "start_time": "2022-09-12T15:12:00.888Z"
   },
   {
    "duration": 3,
    "start_time": "2022-09-12T15:12:30.102Z"
   },
   {
    "duration": 4,
    "start_time": "2022-09-12T15:12:33.959Z"
   },
   {
    "duration": 103,
    "start_time": "2022-09-12T15:12:33.964Z"
   },
   {
    "duration": 42,
    "start_time": "2022-09-12T15:12:34.068Z"
   },
   {
    "duration": 14,
    "start_time": "2022-09-12T15:12:34.111Z"
   },
   {
    "duration": 9,
    "start_time": "2022-09-12T15:12:34.127Z"
   },
   {
    "duration": 47,
    "start_time": "2022-09-12T15:12:34.137Z"
   },
   {
    "duration": 25,
    "start_time": "2022-09-12T15:12:34.185Z"
   },
   {
    "duration": 34,
    "start_time": "2022-09-12T15:12:34.211Z"
   },
   {
    "duration": 39,
    "start_time": "2022-09-12T15:12:34.247Z"
   },
   {
    "duration": 573,
    "start_time": "2022-09-12T15:12:34.288Z"
   },
   {
    "duration": 17,
    "start_time": "2022-09-12T15:12:34.864Z"
   },
   {
    "duration": 8,
    "start_time": "2022-09-12T15:12:34.882Z"
   },
   {
    "duration": 10,
    "start_time": "2022-09-12T15:12:34.909Z"
   },
   {
    "duration": 13,
    "start_time": "2022-09-12T15:12:34.921Z"
   },
   {
    "duration": 3,
    "start_time": "2022-09-12T15:12:34.936Z"
   },
   {
    "duration": 10,
    "start_time": "2022-09-12T15:12:34.941Z"
   },
   {
    "duration": 17,
    "start_time": "2022-09-12T15:12:34.952Z"
   },
   {
    "duration": 5,
    "start_time": "2022-09-12T15:12:34.970Z"
   },
   {
    "duration": 45,
    "start_time": "2022-09-12T15:12:34.976Z"
   },
   {
    "duration": 6,
    "start_time": "2022-09-12T15:12:35.023Z"
   },
   {
    "duration": 21,
    "start_time": "2022-09-12T15:12:35.030Z"
   },
   {
    "duration": 11,
    "start_time": "2022-09-12T15:12:35.052Z"
   },
   {
    "duration": 7,
    "start_time": "2022-09-12T15:12:35.064Z"
   },
   {
    "duration": 6,
    "start_time": "2022-09-12T15:12:35.073Z"
   },
   {
    "duration": 280,
    "start_time": "2022-09-12T15:12:35.080Z"
   },
   {
    "duration": 248,
    "start_time": "2022-09-12T15:12:35.362Z"
   },
   {
    "duration": 257,
    "start_time": "2022-09-12T15:12:35.612Z"
   },
   {
    "duration": 246,
    "start_time": "2022-09-12T15:12:35.870Z"
   },
   {
    "duration": 268,
    "start_time": "2022-09-12T15:12:36.120Z"
   },
   {
    "duration": 396,
    "start_time": "2022-09-12T15:12:36.389Z"
   },
   {
    "duration": 31,
    "start_time": "2022-09-12T15:12:36.787Z"
   },
   {
    "duration": 130,
    "start_time": "2022-09-12T15:12:36.819Z"
   },
   {
    "duration": 29,
    "start_time": "2022-09-12T15:12:36.951Z"
   },
   {
    "duration": 232,
    "start_time": "2022-09-12T15:12:36.982Z"
   },
   {
    "duration": 210,
    "start_time": "2022-09-12T15:12:37.216Z"
   },
   {
    "duration": 247,
    "start_time": "2022-09-12T15:12:37.428Z"
   },
   {
    "duration": 20,
    "start_time": "2022-09-12T15:12:37.677Z"
   },
   {
    "duration": 121,
    "start_time": "2022-09-12T15:12:37.699Z"
   },
   {
    "duration": 13,
    "start_time": "2022-09-12T15:12:37.821Z"
   },
   {
    "duration": 9,
    "start_time": "2022-09-12T15:12:37.835Z"
   },
   {
    "duration": 30,
    "start_time": "2022-09-12T15:12:37.845Z"
   },
   {
    "duration": 39,
    "start_time": "2022-09-12T15:12:37.877Z"
   },
   {
    "duration": 30,
    "start_time": "2022-09-12T15:12:37.918Z"
   },
   {
    "duration": 20,
    "start_time": "2022-09-12T15:12:37.950Z"
   },
   {
    "duration": 9,
    "start_time": "2022-09-12T15:12:37.972Z"
   },
   {
    "duration": 11,
    "start_time": "2022-09-12T15:12:38.009Z"
   },
   {
    "duration": 7,
    "start_time": "2022-09-12T15:12:38.022Z"
   },
   {
    "duration": 14,
    "start_time": "2022-09-12T15:12:38.031Z"
   },
   {
    "duration": 205,
    "start_time": "2022-09-12T15:12:38.046Z"
   },
   {
    "duration": 12,
    "start_time": "2022-09-12T15:12:38.253Z"
   },
   {
    "duration": 204,
    "start_time": "2022-09-12T15:12:38.266Z"
   },
   {
    "duration": 190,
    "start_time": "2022-09-12T15:12:38.472Z"
   },
   {
    "duration": 186,
    "start_time": "2022-09-12T15:12:38.664Z"
   },
   {
    "duration": 197,
    "start_time": "2022-09-12T15:12:38.851Z"
   },
   {
    "duration": 199,
    "start_time": "2022-09-12T15:12:39.049Z"
   },
   {
    "duration": 197,
    "start_time": "2022-09-12T15:12:39.250Z"
   },
   {
    "duration": 170,
    "start_time": "2022-09-12T15:12:39.449Z"
   },
   {
    "duration": 311,
    "start_time": "2022-09-12T15:12:39.621Z"
   },
   {
    "duration": 176,
    "start_time": "2022-09-12T15:12:39.933Z"
   },
   {
    "duration": 4,
    "start_time": "2022-09-12T15:12:40.110Z"
   },
   {
    "duration": 8,
    "start_time": "2022-09-12T15:12:40.116Z"
   },
   {
    "duration": 179,
    "start_time": "2022-09-12T15:12:40.125Z"
   },
   {
    "duration": 9,
    "start_time": "2022-09-12T15:12:40.306Z"
   },
   {
    "duration": 199,
    "start_time": "2022-09-12T15:12:40.317Z"
   },
   {
    "duration": 5,
    "start_time": "2022-09-12T15:12:40.517Z"
   },
   {
    "duration": 6,
    "start_time": "2022-09-12T15:12:40.523Z"
   },
   {
    "duration": 670,
    "start_time": "2022-09-12T15:12:40.532Z"
   },
   {
    "duration": 0,
    "start_time": "2022-09-12T15:12:41.204Z"
   },
   {
    "duration": 0,
    "start_time": "2022-09-12T15:12:41.205Z"
   },
   {
    "duration": 11,
    "start_time": "2022-09-12T15:13:01.428Z"
   },
   {
    "duration": 663,
    "start_time": "2022-09-12T15:17:09.205Z"
   },
   {
    "duration": 97,
    "start_time": "2022-09-12T15:17:09.869Z"
   },
   {
    "duration": 41,
    "start_time": "2022-09-12T15:17:09.968Z"
   },
   {
    "duration": 14,
    "start_time": "2022-09-12T15:17:10.011Z"
   },
   {
    "duration": 31,
    "start_time": "2022-09-12T15:17:10.026Z"
   },
   {
    "duration": 31,
    "start_time": "2022-09-12T15:17:10.059Z"
   },
   {
    "duration": 13,
    "start_time": "2022-09-12T15:17:10.092Z"
   },
   {
    "duration": 23,
    "start_time": "2022-09-12T15:17:10.106Z"
   },
   {
    "duration": 28,
    "start_time": "2022-09-12T15:17:10.130Z"
   },
   {
    "duration": 382,
    "start_time": "2022-09-12T15:17:10.160Z"
   },
   {
    "duration": 17,
    "start_time": "2022-09-12T15:17:10.543Z"
   },
   {
    "duration": 7,
    "start_time": "2022-09-12T15:17:10.561Z"
   },
   {
    "duration": 9,
    "start_time": "2022-09-12T15:17:10.569Z"
   },
   {
    "duration": 9,
    "start_time": "2022-09-12T15:17:10.579Z"
   },
   {
    "duration": 20,
    "start_time": "2022-09-12T15:17:10.590Z"
   },
   {
    "duration": 9,
    "start_time": "2022-09-12T15:17:10.611Z"
   },
   {
    "duration": 17,
    "start_time": "2022-09-12T15:17:10.622Z"
   },
   {
    "duration": 4,
    "start_time": "2022-09-12T15:17:10.641Z"
   },
   {
    "duration": 68,
    "start_time": "2022-09-12T15:17:10.646Z"
   },
   {
    "duration": 9,
    "start_time": "2022-09-12T15:17:10.716Z"
   },
   {
    "duration": 20,
    "start_time": "2022-09-12T15:17:10.726Z"
   },
   {
    "duration": 19,
    "start_time": "2022-09-12T15:17:10.747Z"
   },
   {
    "duration": 10,
    "start_time": "2022-09-12T15:17:10.767Z"
   },
   {
    "duration": 10,
    "start_time": "2022-09-12T15:17:10.778Z"
   },
   {
    "duration": 371,
    "start_time": "2022-09-12T15:17:10.789Z"
   },
   {
    "duration": 255,
    "start_time": "2022-09-12T15:17:11.162Z"
   },
   {
    "duration": 270,
    "start_time": "2022-09-12T15:17:11.419Z"
   },
   {
    "duration": 255,
    "start_time": "2022-09-12T15:17:11.694Z"
   },
   {
    "duration": 249,
    "start_time": "2022-09-12T15:17:11.951Z"
   },
   {
    "duration": 289,
    "start_time": "2022-09-12T15:17:12.202Z"
   },
   {
    "duration": 29,
    "start_time": "2022-09-12T15:17:12.492Z"
   },
   {
    "duration": 118,
    "start_time": "2022-09-12T15:17:12.522Z"
   },
   {
    "duration": 21,
    "start_time": "2022-09-12T15:17:12.641Z"
   },
   {
    "duration": 195,
    "start_time": "2022-09-12T15:17:12.664Z"
   },
   {
    "duration": 187,
    "start_time": "2022-09-12T15:17:12.860Z"
   },
   {
    "duration": 229,
    "start_time": "2022-09-12T15:17:13.049Z"
   },
   {
    "duration": 30,
    "start_time": "2022-09-12T15:17:13.279Z"
   },
   {
    "duration": 103,
    "start_time": "2022-09-12T15:17:13.310Z"
   },
   {
    "duration": 12,
    "start_time": "2022-09-12T15:17:13.415Z"
   },
   {
    "duration": 16,
    "start_time": "2022-09-12T15:17:13.428Z"
   },
   {
    "duration": 35,
    "start_time": "2022-09-12T15:17:13.445Z"
   },
   {
    "duration": 28,
    "start_time": "2022-09-12T15:17:13.481Z"
   },
   {
    "duration": 19,
    "start_time": "2022-09-12T15:17:13.510Z"
   },
   {
    "duration": 13,
    "start_time": "2022-09-12T15:17:13.530Z"
   },
   {
    "duration": 6,
    "start_time": "2022-09-12T15:17:13.544Z"
   },
   {
    "duration": 7,
    "start_time": "2022-09-12T15:17:13.552Z"
   },
   {
    "duration": 5,
    "start_time": "2022-09-12T15:17:13.561Z"
   },
   {
    "duration": 45,
    "start_time": "2022-09-12T15:17:13.567Z"
   },
   {
    "duration": 184,
    "start_time": "2022-09-12T15:17:13.613Z"
   },
   {
    "duration": 18,
    "start_time": "2022-09-12T15:17:13.798Z"
   },
   {
    "duration": 188,
    "start_time": "2022-09-12T15:17:13.817Z"
   },
   {
    "duration": 189,
    "start_time": "2022-09-12T15:17:14.008Z"
   },
   {
    "duration": 254,
    "start_time": "2022-09-12T15:17:14.199Z"
   },
   {
    "duration": 221,
    "start_time": "2022-09-12T15:17:14.455Z"
   },
   {
    "duration": 187,
    "start_time": "2022-09-12T15:17:14.677Z"
   },
   {
    "duration": 178,
    "start_time": "2022-09-12T15:17:14.866Z"
   },
   {
    "duration": 169,
    "start_time": "2022-09-12T15:17:15.045Z"
   },
   {
    "duration": 208,
    "start_time": "2022-09-12T15:17:15.216Z"
   },
   {
    "duration": 183,
    "start_time": "2022-09-12T15:17:15.426Z"
   },
   {
    "duration": 4,
    "start_time": "2022-09-12T15:17:15.610Z"
   },
   {
    "duration": 9,
    "start_time": "2022-09-12T15:17:15.615Z"
   },
   {
    "duration": 188,
    "start_time": "2022-09-12T15:17:15.625Z"
   },
   {
    "duration": 3,
    "start_time": "2022-09-12T15:17:15.815Z"
   },
   {
    "duration": 185,
    "start_time": "2022-09-12T15:17:15.820Z"
   },
   {
    "duration": 4,
    "start_time": "2022-09-12T15:17:16.007Z"
   },
   {
    "duration": 12,
    "start_time": "2022-09-12T15:17:16.012Z"
   },
   {
    "duration": 2,
    "start_time": "2022-09-12T15:17:16.026Z"
   },
   {
    "duration": 701,
    "start_time": "2022-09-12T15:17:16.029Z"
   },
   {
    "duration": 0,
    "start_time": "2022-09-12T15:17:16.732Z"
   },
   {
    "duration": 0,
    "start_time": "2022-09-12T15:17:16.733Z"
   },
   {
    "duration": 238,
    "start_time": "2022-09-12T15:17:50.274Z"
   },
   {
    "duration": 839,
    "start_time": "2022-09-13T05:02:34.475Z"
   },
   {
    "duration": 223,
    "start_time": "2022-09-13T05:02:35.316Z"
   },
   {
    "duration": 78,
    "start_time": "2022-09-13T05:02:35.541Z"
   },
   {
    "duration": 23,
    "start_time": "2022-09-13T05:02:35.621Z"
   },
   {
    "duration": 16,
    "start_time": "2022-09-13T05:02:35.646Z"
   },
   {
    "duration": 30,
    "start_time": "2022-09-13T05:02:35.663Z"
   },
   {
    "duration": 32,
    "start_time": "2022-09-13T05:02:35.694Z"
   },
   {
    "duration": 28,
    "start_time": "2022-09-13T05:02:35.728Z"
   },
   {
    "duration": 28,
    "start_time": "2022-09-13T05:02:35.757Z"
   },
   {
    "duration": 421,
    "start_time": "2022-09-13T05:02:35.787Z"
   },
   {
    "duration": 34,
    "start_time": "2022-09-13T05:02:36.209Z"
   },
   {
    "duration": 7,
    "start_time": "2022-09-13T05:02:36.244Z"
   },
   {
    "duration": 10,
    "start_time": "2022-09-13T05:02:36.252Z"
   },
   {
    "duration": 8,
    "start_time": "2022-09-13T05:02:36.264Z"
   },
   {
    "duration": 4,
    "start_time": "2022-09-13T05:02:36.274Z"
   },
   {
    "duration": 10,
    "start_time": "2022-09-13T05:02:36.279Z"
   },
   {
    "duration": 50,
    "start_time": "2022-09-13T05:02:36.291Z"
   },
   {
    "duration": 5,
    "start_time": "2022-09-13T05:02:36.343Z"
   },
   {
    "duration": 17,
    "start_time": "2022-09-13T05:02:36.350Z"
   },
   {
    "duration": 5,
    "start_time": "2022-09-13T05:02:36.368Z"
   },
   {
    "duration": 16,
    "start_time": "2022-09-13T05:02:36.375Z"
   },
   {
    "duration": 30,
    "start_time": "2022-09-13T05:02:36.392Z"
   },
   {
    "duration": 9,
    "start_time": "2022-09-13T05:02:36.424Z"
   },
   {
    "duration": 12,
    "start_time": "2022-09-13T05:02:36.435Z"
   },
   {
    "duration": 390,
    "start_time": "2022-09-13T05:02:36.449Z"
   },
   {
    "duration": 261,
    "start_time": "2022-09-13T05:02:36.841Z"
   },
   {
    "duration": 291,
    "start_time": "2022-09-13T05:02:37.104Z"
   },
   {
    "duration": 264,
    "start_time": "2022-09-13T05:02:37.399Z"
   },
   {
    "duration": 268,
    "start_time": "2022-09-13T05:02:37.665Z"
   },
   {
    "duration": 334,
    "start_time": "2022-09-13T05:02:37.934Z"
   },
   {
    "duration": 25,
    "start_time": "2022-09-13T05:02:38.270Z"
   },
   {
    "duration": 130,
    "start_time": "2022-09-13T05:02:38.296Z"
   },
   {
    "duration": 23,
    "start_time": "2022-09-13T05:02:38.428Z"
   },
   {
    "duration": 208,
    "start_time": "2022-09-13T05:02:38.453Z"
   },
   {
    "duration": 210,
    "start_time": "2022-09-13T05:02:38.663Z"
   },
   {
    "duration": 299,
    "start_time": "2022-09-13T05:02:38.875Z"
   },
   {
    "duration": 21,
    "start_time": "2022-09-13T05:02:39.176Z"
   },
   {
    "duration": 110,
    "start_time": "2022-09-13T05:02:39.199Z"
   },
   {
    "duration": 16,
    "start_time": "2022-09-13T05:02:39.310Z"
   },
   {
    "duration": 12,
    "start_time": "2022-09-13T05:02:39.328Z"
   },
   {
    "duration": 30,
    "start_time": "2022-09-13T05:02:39.341Z"
   },
   {
    "duration": 16,
    "start_time": "2022-09-13T05:02:39.372Z"
   },
   {
    "duration": 41,
    "start_time": "2022-09-13T05:02:39.390Z"
   },
   {
    "duration": 12,
    "start_time": "2022-09-13T05:02:39.433Z"
   },
   {
    "duration": 6,
    "start_time": "2022-09-13T05:02:39.447Z"
   },
   {
    "duration": 7,
    "start_time": "2022-09-13T05:02:39.454Z"
   },
   {
    "duration": 9,
    "start_time": "2022-09-13T05:02:39.462Z"
   },
   {
    "duration": 12,
    "start_time": "2022-09-13T05:02:39.472Z"
   },
   {
    "duration": 200,
    "start_time": "2022-09-13T05:02:39.486Z"
   },
   {
    "duration": 11,
    "start_time": "2022-09-13T05:02:39.688Z"
   },
   {
    "duration": 191,
    "start_time": "2022-09-13T05:02:39.700Z"
   },
   {
    "duration": 190,
    "start_time": "2022-09-13T05:02:39.892Z"
   },
   {
    "duration": 255,
    "start_time": "2022-09-13T05:02:40.083Z"
   },
   {
    "duration": 195,
    "start_time": "2022-09-13T05:02:40.340Z"
   },
   {
    "duration": 187,
    "start_time": "2022-09-13T05:02:40.537Z"
   },
   {
    "duration": 177,
    "start_time": "2022-09-13T05:02:40.726Z"
   },
   {
    "duration": 168,
    "start_time": "2022-09-13T05:02:40.905Z"
   },
   {
    "duration": 199,
    "start_time": "2022-09-13T05:02:41.075Z"
   },
   {
    "duration": 174,
    "start_time": "2022-09-13T05:02:41.275Z"
   },
   {
    "duration": 4,
    "start_time": "2022-09-13T05:02:41.450Z"
   },
   {
    "duration": 19,
    "start_time": "2022-09-13T05:02:41.456Z"
   },
   {
    "duration": 174,
    "start_time": "2022-09-13T05:02:41.477Z"
   },
   {
    "duration": 5,
    "start_time": "2022-09-13T05:02:41.653Z"
   },
   {
    "duration": 194,
    "start_time": "2022-09-13T05:02:41.660Z"
   },
   {
    "duration": 4,
    "start_time": "2022-09-13T05:02:41.856Z"
   },
   {
    "duration": 16,
    "start_time": "2022-09-13T05:02:41.861Z"
   },
   {
    "duration": 3,
    "start_time": "2022-09-13T05:02:41.879Z"
   },
   {
    "duration": 949,
    "start_time": "2022-09-13T05:02:41.884Z"
   },
   {
    "duration": 0,
    "start_time": "2022-09-13T05:02:42.835Z"
   },
   {
    "duration": 0,
    "start_time": "2022-09-13T05:02:42.837Z"
   },
   {
    "duration": 11,
    "start_time": "2022-09-13T05:03:24.098Z"
   },
   {
    "duration": 18,
    "start_time": "2022-09-13T05:03:34.396Z"
   },
   {
    "duration": 22,
    "start_time": "2022-09-13T05:03:36.928Z"
   },
   {
    "duration": 22,
    "start_time": "2022-09-13T05:07:01.105Z"
   },
   {
    "duration": 11,
    "start_time": "2022-09-13T05:07:13.623Z"
   },
   {
    "duration": 9,
    "start_time": "2022-09-13T05:10:30.124Z"
   },
   {
    "duration": 11,
    "start_time": "2022-09-13T05:10:33.242Z"
   },
   {
    "duration": 5,
    "start_time": "2022-09-13T05:10:41.709Z"
   },
   {
    "duration": 109,
    "start_time": "2022-09-13T05:10:41.716Z"
   },
   {
    "duration": 44,
    "start_time": "2022-09-13T05:10:41.827Z"
   },
   {
    "duration": 13,
    "start_time": "2022-09-13T05:10:41.872Z"
   },
   {
    "duration": 22,
    "start_time": "2022-09-13T05:10:41.887Z"
   },
   {
    "duration": 33,
    "start_time": "2022-09-13T05:10:41.911Z"
   },
   {
    "duration": 22,
    "start_time": "2022-09-13T05:10:41.946Z"
   },
   {
    "duration": 17,
    "start_time": "2022-09-13T05:10:41.970Z"
   },
   {
    "duration": 53,
    "start_time": "2022-09-13T05:10:41.988Z"
   },
   {
    "duration": 509,
    "start_time": "2022-09-13T05:10:42.043Z"
   },
   {
    "duration": 17,
    "start_time": "2022-09-13T05:10:42.555Z"
   },
   {
    "duration": 12,
    "start_time": "2022-09-13T05:10:42.574Z"
   },
   {
    "duration": 20,
    "start_time": "2022-09-13T05:10:42.587Z"
   },
   {
    "duration": 23,
    "start_time": "2022-09-13T05:10:42.608Z"
   },
   {
    "duration": 7,
    "start_time": "2022-09-13T05:10:42.632Z"
   },
   {
    "duration": 20,
    "start_time": "2022-09-13T05:10:42.640Z"
   },
   {
    "duration": 36,
    "start_time": "2022-09-13T05:10:42.661Z"
   },
   {
    "duration": 5,
    "start_time": "2022-09-13T05:10:42.699Z"
   },
   {
    "duration": 30,
    "start_time": "2022-09-13T05:10:42.706Z"
   },
   {
    "duration": 8,
    "start_time": "2022-09-13T05:10:42.737Z"
   },
   {
    "duration": 31,
    "start_time": "2022-09-13T05:10:42.746Z"
   },
   {
    "duration": 25,
    "start_time": "2022-09-13T05:10:42.779Z"
   },
   {
    "duration": 14,
    "start_time": "2022-09-13T05:10:42.805Z"
   },
   {
    "duration": 27,
    "start_time": "2022-09-13T05:10:42.820Z"
   },
   {
    "duration": 280,
    "start_time": "2022-09-13T05:10:42.848Z"
   },
   {
    "duration": 287,
    "start_time": "2022-09-13T05:10:43.130Z"
   },
   {
    "duration": 311,
    "start_time": "2022-09-13T05:10:43.418Z"
   },
   {
    "duration": 256,
    "start_time": "2022-09-13T05:10:43.731Z"
   },
   {
    "duration": 281,
    "start_time": "2022-09-13T05:10:43.990Z"
   },
   {
    "duration": 387,
    "start_time": "2022-09-13T05:10:44.273Z"
   },
   {
    "duration": 22,
    "start_time": "2022-09-13T05:10:44.661Z"
   },
   {
    "duration": 130,
    "start_time": "2022-09-13T05:10:44.684Z"
   },
   {
    "duration": 26,
    "start_time": "2022-09-13T05:10:44.822Z"
   },
   {
    "duration": 201,
    "start_time": "2022-09-13T05:10:44.849Z"
   },
   {
    "duration": 219,
    "start_time": "2022-09-13T05:10:45.052Z"
   },
   {
    "duration": 262,
    "start_time": "2022-09-13T05:10:45.273Z"
   },
   {
    "duration": 24,
    "start_time": "2022-09-13T05:10:45.539Z"
   },
   {
    "duration": 119,
    "start_time": "2022-09-13T05:10:45.565Z"
   },
   {
    "duration": 12,
    "start_time": "2022-09-13T05:10:45.686Z"
   },
   {
    "duration": 45,
    "start_time": "2022-09-13T05:10:45.700Z"
   },
   {
    "duration": 42,
    "start_time": "2022-09-13T05:10:45.747Z"
   },
   {
    "duration": 27,
    "start_time": "2022-09-13T05:10:45.791Z"
   },
   {
    "duration": 28,
    "start_time": "2022-09-13T05:10:45.819Z"
   },
   {
    "duration": 24,
    "start_time": "2022-09-13T05:10:45.849Z"
   },
   {
    "duration": 30,
    "start_time": "2022-09-13T05:10:45.874Z"
   },
   {
    "duration": 43,
    "start_time": "2022-09-13T05:10:45.905Z"
   },
   {
    "duration": 19,
    "start_time": "2022-09-13T05:10:45.950Z"
   },
   {
    "duration": 36,
    "start_time": "2022-09-13T05:10:45.971Z"
   },
   {
    "duration": 189,
    "start_time": "2022-09-13T05:10:46.008Z"
   },
   {
    "duration": 10,
    "start_time": "2022-09-13T05:10:46.198Z"
   },
   {
    "duration": 224,
    "start_time": "2022-09-13T05:10:46.209Z"
   },
   {
    "duration": 206,
    "start_time": "2022-09-13T05:10:46.435Z"
   },
   {
    "duration": 195,
    "start_time": "2022-09-13T05:10:46.643Z"
   },
   {
    "duration": 321,
    "start_time": "2022-09-13T05:10:46.840Z"
   },
   {
    "duration": 208,
    "start_time": "2022-09-13T05:10:47.163Z"
   },
   {
    "duration": 209,
    "start_time": "2022-09-13T05:10:47.372Z"
   },
   {
    "duration": 180,
    "start_time": "2022-09-13T05:10:47.583Z"
   },
   {
    "duration": 209,
    "start_time": "2022-09-13T05:10:47.764Z"
   },
   {
    "duration": 188,
    "start_time": "2022-09-13T05:10:47.974Z"
   },
   {
    "duration": 4,
    "start_time": "2022-09-13T05:10:48.164Z"
   },
   {
    "duration": 10,
    "start_time": "2022-09-13T05:10:48.169Z"
   },
   {
    "duration": 193,
    "start_time": "2022-09-13T05:10:48.180Z"
   },
   {
    "duration": 5,
    "start_time": "2022-09-13T05:10:48.375Z"
   },
   {
    "duration": 183,
    "start_time": "2022-09-13T05:10:48.381Z"
   },
   {
    "duration": 4,
    "start_time": "2022-09-13T05:10:48.566Z"
   },
   {
    "duration": 8,
    "start_time": "2022-09-13T05:10:48.571Z"
   },
   {
    "duration": 19,
    "start_time": "2022-09-13T05:10:48.580Z"
   },
   {
    "duration": 38,
    "start_time": "2022-09-13T05:10:48.600Z"
   },
   {
    "duration": 20,
    "start_time": "2022-09-13T05:10:48.639Z"
   },
   {
    "duration": 22,
    "start_time": "2022-09-13T05:11:24.781Z"
   },
   {
    "duration": 7,
    "start_time": "2022-09-13T05:11:35.348Z"
   },
   {
    "duration": 22,
    "start_time": "2022-09-13T05:14:30.680Z"
   },
   {
    "duration": 13,
    "start_time": "2022-09-13T05:24:18.889Z"
   },
   {
    "duration": 22,
    "start_time": "2022-09-13T05:24:59.096Z"
   },
   {
    "duration": 22,
    "start_time": "2022-09-13T05:25:56.190Z"
   },
   {
    "duration": 21,
    "start_time": "2022-09-13T05:26:18.333Z"
   },
   {
    "duration": 11,
    "start_time": "2022-09-13T05:26:51.645Z"
   },
   {
    "duration": 20,
    "start_time": "2022-09-13T05:27:03.004Z"
   },
   {
    "duration": 23,
    "start_time": "2022-09-13T05:27:36.210Z"
   },
   {
    "duration": 23,
    "start_time": "2022-09-13T05:27:59.606Z"
   },
   {
    "duration": 21,
    "start_time": "2022-09-13T05:28:16.310Z"
   },
   {
    "duration": 22,
    "start_time": "2022-09-13T05:28:44.583Z"
   },
   {
    "duration": 7,
    "start_time": "2022-09-13T05:29:00.517Z"
   },
   {
    "duration": 8,
    "start_time": "2022-09-13T05:29:08.388Z"
   },
   {
    "duration": 174,
    "start_time": "2022-09-13T05:32:02.995Z"
   },
   {
    "duration": 7,
    "start_time": "2022-09-13T05:32:26.107Z"
   },
   {
    "duration": 6,
    "start_time": "2022-09-13T05:33:01.039Z"
   },
   {
    "duration": 9,
    "start_time": "2022-09-13T05:35:44.294Z"
   },
   {
    "duration": 167,
    "start_time": "2022-09-13T05:36:36.807Z"
   },
   {
    "duration": 163,
    "start_time": "2022-09-13T05:36:54.748Z"
   },
   {
    "duration": 184,
    "start_time": "2022-09-13T05:39:09.879Z"
   },
   {
    "duration": 18,
    "start_time": "2022-09-13T05:40:21.385Z"
   },
   {
    "duration": 6,
    "start_time": "2022-09-13T05:41:21.793Z"
   },
   {
    "duration": 4,
    "start_time": "2022-09-13T05:41:47.622Z"
   },
   {
    "duration": 23,
    "start_time": "2022-09-13T05:47:10.393Z"
   },
   {
    "duration": 185,
    "start_time": "2022-09-13T05:52:21.136Z"
   },
   {
    "duration": 56,
    "start_time": "2022-09-13T05:52:38.181Z"
   },
   {
    "duration": 183,
    "start_time": "2022-09-13T05:53:28.759Z"
   },
   {
    "duration": 161,
    "start_time": "2022-09-13T05:59:34.670Z"
   },
   {
    "duration": 173,
    "start_time": "2022-09-13T05:59:42.525Z"
   },
   {
    "duration": 773,
    "start_time": "2022-09-13T06:00:46.112Z"
   },
   {
    "duration": 5,
    "start_time": "2022-09-13T06:01:25.012Z"
   },
   {
    "duration": 274,
    "start_time": "2022-09-13T06:09:17.982Z"
   },
   {
    "duration": 4,
    "start_time": "2022-09-13T06:09:48.279Z"
   },
   {
    "duration": 154,
    "start_time": "2022-09-13T06:11:16.820Z"
   },
   {
    "duration": 263,
    "start_time": "2022-09-13T07:10:50.654Z"
   },
   {
    "duration": 268,
    "start_time": "2022-09-13T07:11:00.977Z"
   },
   {
    "duration": 588,
    "start_time": "2022-09-13T15:01:15.342Z"
   },
   {
    "duration": 226,
    "start_time": "2022-09-13T15:01:15.932Z"
   },
   {
    "duration": 70,
    "start_time": "2022-09-13T15:01:16.159Z"
   },
   {
    "duration": 13,
    "start_time": "2022-09-13T15:01:16.231Z"
   },
   {
    "duration": 8,
    "start_time": "2022-09-13T15:01:16.246Z"
   },
   {
    "duration": 33,
    "start_time": "2022-09-13T15:01:16.256Z"
   },
   {
    "duration": 14,
    "start_time": "2022-09-13T15:01:16.290Z"
   },
   {
    "duration": 33,
    "start_time": "2022-09-13T15:01:16.306Z"
   },
   {
    "duration": 29,
    "start_time": "2022-09-13T15:01:16.341Z"
   },
   {
    "duration": 15,
    "start_time": "2022-09-13T15:01:16.371Z"
   },
   {
    "duration": 17,
    "start_time": "2022-09-13T15:01:16.388Z"
   },
   {
    "duration": 14,
    "start_time": "2022-09-13T15:01:16.407Z"
   },
   {
    "duration": 16,
    "start_time": "2022-09-13T15:01:16.422Z"
   },
   {
    "duration": 9,
    "start_time": "2022-09-13T15:01:16.441Z"
   },
   {
    "duration": 26,
    "start_time": "2022-09-13T15:01:16.451Z"
   },
   {
    "duration": 23,
    "start_time": "2022-09-13T15:01:16.478Z"
   },
   {
    "duration": 4,
    "start_time": "2022-09-13T15:01:16.503Z"
   },
   {
    "duration": 16,
    "start_time": "2022-09-13T15:01:16.509Z"
   },
   {
    "duration": 5,
    "start_time": "2022-09-13T15:01:16.526Z"
   },
   {
    "duration": 15,
    "start_time": "2022-09-13T15:01:16.536Z"
   },
   {
    "duration": 16,
    "start_time": "2022-09-13T15:01:16.553Z"
   },
   {
    "duration": 27,
    "start_time": "2022-09-13T15:01:16.570Z"
   },
   {
    "duration": 16,
    "start_time": "2022-09-13T15:01:16.598Z"
   },
   {
    "duration": 327,
    "start_time": "2022-09-13T15:01:16.616Z"
   },
   {
    "duration": 331,
    "start_time": "2022-09-13T15:01:16.945Z"
   },
   {
    "duration": 300,
    "start_time": "2022-09-13T15:01:17.278Z"
   },
   {
    "duration": 285,
    "start_time": "2022-09-13T15:01:17.580Z"
   },
   {
    "duration": 267,
    "start_time": "2022-09-13T15:01:17.867Z"
   },
   {
    "duration": 249,
    "start_time": "2022-09-13T15:01:18.136Z"
   },
   {
    "duration": 24,
    "start_time": "2022-09-13T15:01:18.387Z"
   },
   {
    "duration": 137,
    "start_time": "2022-09-13T15:01:18.412Z"
   },
   {
    "duration": 21,
    "start_time": "2022-09-13T15:01:18.550Z"
   },
   {
    "duration": 200,
    "start_time": "2022-09-13T15:01:18.573Z"
   },
   {
    "duration": 258,
    "start_time": "2022-09-13T15:01:18.774Z"
   },
   {
    "duration": 231,
    "start_time": "2022-09-13T15:01:19.036Z"
   },
   {
    "duration": 20,
    "start_time": "2022-09-13T15:01:19.268Z"
   },
   {
    "duration": 112,
    "start_time": "2022-09-13T15:01:19.289Z"
   },
   {
    "duration": 14,
    "start_time": "2022-09-13T15:01:19.403Z"
   },
   {
    "duration": 20,
    "start_time": "2022-09-13T15:01:19.418Z"
   },
   {
    "duration": 32,
    "start_time": "2022-09-13T15:01:19.439Z"
   },
   {
    "duration": 16,
    "start_time": "2022-09-13T15:01:19.474Z"
   },
   {
    "duration": 22,
    "start_time": "2022-09-13T15:01:19.492Z"
   },
   {
    "duration": 34,
    "start_time": "2022-09-13T15:01:19.515Z"
   },
   {
    "duration": 17,
    "start_time": "2022-09-13T15:01:19.551Z"
   },
   {
    "duration": 11,
    "start_time": "2022-09-13T15:01:19.570Z"
   },
   {
    "duration": 6,
    "start_time": "2022-09-13T15:01:19.583Z"
   },
   {
    "duration": 20,
    "start_time": "2022-09-13T15:01:19.590Z"
   },
   {
    "duration": 178,
    "start_time": "2022-09-13T15:01:19.611Z"
   },
   {
    "duration": 10,
    "start_time": "2022-09-13T15:01:19.790Z"
   },
   {
    "duration": 187,
    "start_time": "2022-09-13T15:01:19.801Z"
   },
   {
    "duration": 186,
    "start_time": "2022-09-13T15:01:19.989Z"
   },
   {
    "duration": 171,
    "start_time": "2022-09-13T15:01:20.176Z"
   },
   {
    "duration": 171,
    "start_time": "2022-09-13T15:01:20.349Z"
   },
   {
    "duration": 178,
    "start_time": "2022-09-13T15:01:20.522Z"
   },
   {
    "duration": 168,
    "start_time": "2022-09-13T15:01:20.701Z"
   },
   {
    "duration": 224,
    "start_time": "2022-09-13T15:01:20.870Z"
   },
   {
    "duration": 186,
    "start_time": "2022-09-13T15:01:21.095Z"
   },
   {
    "duration": 71,
    "start_time": "2022-09-13T15:01:21.282Z"
   },
   {
    "duration": 0,
    "start_time": "2022-09-13T15:01:21.355Z"
   },
   {
    "duration": 0,
    "start_time": "2022-09-13T15:01:21.356Z"
   },
   {
    "duration": 0,
    "start_time": "2022-09-13T15:01:21.357Z"
   },
   {
    "duration": 0,
    "start_time": "2022-09-13T15:01:21.358Z"
   },
   {
    "duration": 0,
    "start_time": "2022-09-13T15:01:21.359Z"
   },
   {
    "duration": 0,
    "start_time": "2022-09-13T15:01:21.360Z"
   },
   {
    "duration": 0,
    "start_time": "2022-09-13T15:01:21.361Z"
   },
   {
    "duration": 0,
    "start_time": "2022-09-13T15:01:21.362Z"
   },
   {
    "duration": 0,
    "start_time": "2022-09-13T15:01:21.363Z"
   },
   {
    "duration": 0,
    "start_time": "2022-09-13T15:01:21.364Z"
   },
   {
    "duration": 17,
    "start_time": "2022-09-13T15:07:35.990Z"
   },
   {
    "duration": 122,
    "start_time": "2022-09-13T15:10:42.881Z"
   },
   {
    "duration": 147,
    "start_time": "2022-09-13T15:10:54.617Z"
   },
   {
    "duration": 131,
    "start_time": "2022-09-13T15:11:10.560Z"
   },
   {
    "duration": 143,
    "start_time": "2022-09-13T15:11:20.698Z"
   },
   {
    "duration": 131,
    "start_time": "2022-09-13T15:11:42.743Z"
   },
   {
    "duration": 147,
    "start_time": "2022-09-13T15:11:54.970Z"
   },
   {
    "duration": 145,
    "start_time": "2022-09-13T15:12:06.172Z"
   },
   {
    "duration": 145,
    "start_time": "2022-09-13T15:12:39.210Z"
   },
   {
    "duration": 143,
    "start_time": "2022-09-13T15:13:02.588Z"
   },
   {
    "duration": 224,
    "start_time": "2022-09-13T15:13:19.864Z"
   },
   {
    "duration": 130,
    "start_time": "2022-09-13T15:13:36.400Z"
   },
   {
    "duration": 143,
    "start_time": "2022-09-13T15:14:29.121Z"
   },
   {
    "duration": 60,
    "start_time": "2022-09-13T15:20:42.210Z"
   },
   {
    "duration": 15,
    "start_time": "2022-09-13T15:22:43.581Z"
   },
   {
    "duration": 14,
    "start_time": "2022-09-13T15:23:12.001Z"
   },
   {
    "duration": 17,
    "start_time": "2022-09-13T15:24:09.210Z"
   },
   {
    "duration": 19,
    "start_time": "2022-09-13T15:24:53.898Z"
   },
   {
    "duration": 8,
    "start_time": "2022-09-13T15:28:44.560Z"
   },
   {
    "duration": 12,
    "start_time": "2022-09-13T15:28:44.570Z"
   },
   {
    "duration": 9,
    "start_time": "2022-09-13T15:28:44.660Z"
   },
   {
    "duration": 10,
    "start_time": "2022-09-13T15:28:44.671Z"
   },
   {
    "duration": 167,
    "start_time": "2022-09-13T15:28:44.682Z"
   },
   {
    "duration": 5,
    "start_time": "2022-09-13T15:28:44.850Z"
   },
   {
    "duration": 176,
    "start_time": "2022-09-13T15:28:44.857Z"
   },
   {
    "duration": 5,
    "start_time": "2022-09-13T15:28:45.035Z"
   },
   {
    "duration": 26,
    "start_time": "2022-09-13T15:28:45.041Z"
   },
   {
    "duration": 17,
    "start_time": "2022-09-13T15:28:45.068Z"
   }
  ],
  "colab": {
   "name": "DA+. Сборный проект 1. Шаблон (1).ipynb",
   "provenance": []
  },
  "kernelspec": {
   "display_name": "Python 3 (ipykernel)",
   "language": "python",
   "name": "python3"
  },
  "language_info": {
   "codemirror_mode": {
    "name": "ipython",
    "version": 3
   },
   "file_extension": ".py",
   "mimetype": "text/x-python",
   "name": "python",
   "nbconvert_exporter": "python",
   "pygments_lexer": "ipython3",
   "version": "3.9.13"
  },
  "toc": {
   "base_numbering": 1,
   "nav_menu": {},
   "number_sections": true,
   "sideBar": true,
   "skip_h1_title": true,
   "title_cell": "Table of Contents",
   "title_sidebar": "Contents",
   "toc_cell": false,
   "toc_position": {
    "height": "calc(100% - 180px)",
    "left": "10px",
    "top": "150px",
    "width": "375.391px"
   },
   "toc_section_display": true,
   "toc_window_display": false
  }
 },
 "nbformat": 4,
 "nbformat_minor": 4
}
